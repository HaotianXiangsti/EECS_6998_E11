{
  "nbformat": 4,
  "nbformat_minor": 0,
  "metadata": {
    "colab": {
      "provenance": [],
      "machine_shape": "hm",
      "gpuType": "T4"
    },
    "kernelspec": {
      "name": "python3",
      "language": "python",
      "display_name": "Python 3 (ipykernel)"
    },
    "language_info": {
      "name": "python"
    },
    "accelerator": "GPU"
  },
  "cells": [
    {
      "cell_type": "code",
      "execution_count": null,
      "metadata": {
        "id": "iXLnfZIKDUBp",
        "ExecuteTime": {
          "end_time": "2023-12-14T18:32:10.768505100Z",
          "start_time": "2023-12-14T18:32:02.299502400Z"
        }
      },
      "outputs": [],
      "source": [
        "import torch\n",
        "import torch.nn as nn\n",
        "import torch.nn.functional as F\n",
        "from torch import nn, optim\n",
        "from torch.utils.data import DataLoader\n",
        "from torchvision import transforms\n",
        "from torchvision.datasets import Omniglot\n",
        "import torchvision.models as models\n",
        "from torchvision.models import resnet18\n",
        "from tqdm import tqdm\n",
        "#from transformers import BertModel, BertConfig\n",
        "device = torch.device('cuda' if torch.cuda.is_available() else 'cpu')\n",
        "import os\n",
        "import pandas as pd\n",
        "from torchvision.io import read_image\n",
        "from torch.utils.data import Dataset\n",
        "from torch.utils.data import ConcatDataset\n",
        "import torchvision.transforms\n",
        "import torch.utils.data as data\n",
        "import torch\n",
        "import torch.nn as nn\n",
        "import torch.optim as optim\n",
        "from torch.utils.data import DataLoader\n",
        "from torchvision.datasets import ImageFolder\n",
        "from torchvision.transforms import transforms\n",
        "from sklearn.metrics import roc_auc_score,average_precision_score, precision_recall_curve\n",
        "import torch\n",
        "from torch import nn, optim\n",
        "from torch.utils.data import DataLoader\n",
        "from torchvision import transforms\n",
        "from torchvision.datasets import Omniglot\n",
        "from torchvision.models import resnet18\n",
        "from tqdm import tqdm\n",
        "import torch.utils.data as data\n",
        "from sklearn.metrics import roc_auc_score, average_precision_score, precision_recall_curve\n",
        "import glob\n",
        "from itertools import chain\n",
        "import os\n",
        "import random\n",
        "import zipfile\n",
        "\n",
        "import matplotlib.pyplot as plt\n",
        "import numpy as np\n",
        "import pandas as pd\n",
        "import torch\n",
        "import torch.nn as nn\n",
        "import torch.nn.functional as F\n",
        "import torch.optim as optim\n",
        "#from linformer import Linformer\n",
        "from PIL import Image\n",
        "from sklearn.model_selection import train_test_split\n",
        "from torch.optim.lr_scheduler import StepLR\n",
        "from torch.utils.data import DataLoader, Dataset\n",
        "from torchvision import datasets, transforms\n",
        "from tqdm.notebook import tqdm\n",
        "\n",
        "import os\n",
        "import torch\n",
        "import torch.nn as nn\n",
        "from matplotlib import pyplot as plt\n",
        "from tqdm import tqdm\n",
        "from torch import optim\n",
        "#from utils import *\n",
        "import logging\n",
        "from torch.utils.tensorboard import SummaryWriter\n",
        "\n",
        "import os\n",
        "import numpy as np\n",
        "import argparse\n",
        "import configparser\n",
        "\n",
        "\n"
      ]
    },
    {
      "cell_type": "code",
      "source": [
        "# Install some libaries for first use of the notebook\n",
        "!pip install rasterio\n",
        "!pip install Shapely==1.8.1.post1\n",
        "!pip install scikit-image\n",
        "!pip install -U efficientnet_pytorch\n",
        "!pip install pytorch-metric-learning\n",
        "!pip install -q timm\n",
        "!pip install tqdm\n",
        "!pip install ipywidgets\n",
        "!pip install torchvision"
      ],
      "metadata": {
        "id": "7PdyWqyJU3ml"
      },
      "execution_count": null,
      "outputs": []
    },
    {
      "cell_type": "code",
      "source": [
        "import warnings\n",
        "from skimage import io, transform\n",
        "from rasterio.features import rasterize # This is use to turn the geo graph into an bianry mask\n",
        "from shapely.ops import cascaded_union, unary_union\n",
        "from shapely.geometry import Polygon\n",
        "from shapely.errors import ShapelyDeprecationWarning\n",
        "import pickle\n",
        "from torchvision import transforms, utils, datasets, models\n",
        "from torch.autograd import Variable\n",
        "from pytorch_metric_learning import losses\n",
        "import copy\n",
        "\n",
        "import albumentations as A\n",
        "from collections import OrderedDict, defaultdict\n",
        "import matplotlib.pyplot as plt\n",
        "from matplotlib.ticker import MaxNLocator\n",
        "import timm\n",
        "from torch.cuda import amp\n",
        "from tqdm import tqdm\n",
        "import torch.optim as optim\n",
        "from time import time\n",
        "\n",
        "warnings.filterwarnings(\"ignore\", category=ShapelyDeprecationWarning)"
      ],
      "metadata": {
        "id": "wFbpJoPTFMKh",
        "ExecuteTime": {
          "end_time": "2023-12-14T18:32:11.823708300Z",
          "start_time": "2023-12-14T18:32:10.768505100Z"
        }
      },
      "execution_count": null,
      "outputs": []
    },
    {
      "cell_type": "code",
      "source": [
        "# Load the Train, Validation, and Test Dataset as Dataframe\n",
        "\n",
        "train_df = pd.read_csv(r'C:\\Users\\haoti\\PycharmProjects\\EECS_6998_E11\\ForestNetDataset\\train.csv')\n",
        "val_df = pd.read_csv(r'C:\\Users\\haoti\\PycharmProjects\\EECS_6998_E11\\ForestNetDataset\\val.csv')\n",
        "test_df = pd.read_csv(r'C:\\Users\\haoti\\PycharmProjects\\EECS_6998_E11\\ForestNetDataset\\test.csv')\n",
        "\n",
        "train_df.head()"
      ],
      "metadata": {
        "colab": {
          "base_uri": "https://localhost:8080/",
          "height": 206
        },
        "id": "ZVxMAXs9FzmS",
        "outputId": "001f6eed-e29e-4b61-b69c-594b5b6b75fe",
        "ExecuteTime": {
          "end_time": "2023-12-14T18:32:11.877695Z",
          "start_time": "2023-12-14T18:32:11.824694400Z"
        }
      },
      "execution_count": null,
      "outputs": [
        {
          "data": {
            "text/plain": "                           label             merged_label  latitude   \n0              Timber plantation               Plantation  4.430849  \\\n1                          Other                    Other  1.332341   \n2            Grassland shrubland      Grassland shrubland -1.720266   \n3        Small-scale agriculture  Smallholder agriculture -2.248346   \n4  Other large-scale plantations               Plantation -2.100800   \n\n    longitude  year                                    example_path  \n0   96.101634  2014     examples/4.430849118860583_96.1016343478138  \n1  109.374229  2012  examples/1.3323406178609702_109.37422873130464  \n2  115.006996  2016  examples/-1.720266384577504_115.00699582064485  \n3  104.135786  2011   examples/-2.248346072674411_104.1357857482906  \n4  113.022376  2008   examples/-2.100800102991412_113.0223763234016  ",
            "text/html": "<div>\n<style scoped>\n    .dataframe tbody tr th:only-of-type {\n        vertical-align: middle;\n    }\n\n    .dataframe tbody tr th {\n        vertical-align: top;\n    }\n\n    .dataframe thead th {\n        text-align: right;\n    }\n</style>\n<table border=\"1\" class=\"dataframe\">\n  <thead>\n    <tr style=\"text-align: right;\">\n      <th></th>\n      <th>label</th>\n      <th>merged_label</th>\n      <th>latitude</th>\n      <th>longitude</th>\n      <th>year</th>\n      <th>example_path</th>\n    </tr>\n  </thead>\n  <tbody>\n    <tr>\n      <th>0</th>\n      <td>Timber plantation</td>\n      <td>Plantation</td>\n      <td>4.430849</td>\n      <td>96.101634</td>\n      <td>2014</td>\n      <td>examples/4.430849118860583_96.1016343478138</td>\n    </tr>\n    <tr>\n      <th>1</th>\n      <td>Other</td>\n      <td>Other</td>\n      <td>1.332341</td>\n      <td>109.374229</td>\n      <td>2012</td>\n      <td>examples/1.3323406178609702_109.37422873130464</td>\n    </tr>\n    <tr>\n      <th>2</th>\n      <td>Grassland shrubland</td>\n      <td>Grassland shrubland</td>\n      <td>-1.720266</td>\n      <td>115.006996</td>\n      <td>2016</td>\n      <td>examples/-1.720266384577504_115.00699582064485</td>\n    </tr>\n    <tr>\n      <th>3</th>\n      <td>Small-scale agriculture</td>\n      <td>Smallholder agriculture</td>\n      <td>-2.248346</td>\n      <td>104.135786</td>\n      <td>2011</td>\n      <td>examples/-2.248346072674411_104.1357857482906</td>\n    </tr>\n    <tr>\n      <th>4</th>\n      <td>Other large-scale plantations</td>\n      <td>Plantation</td>\n      <td>-2.100800</td>\n      <td>113.022376</td>\n      <td>2008</td>\n      <td>examples/-2.100800102991412_113.0223763234016</td>\n    </tr>\n  </tbody>\n</table>\n</div>"
          },
          "execution_count": 3,
          "metadata": {},
          "output_type": "execute_result"
        }
      ]
    },
    {
      "cell_type": "code",
      "source": [
        "# Dataset Specification\n",
        "\n",
        "train_df_class = train_df.groupby(['merged_label']).size().to_frame('train').reset_index()\n",
        "val_df_class = val_df.groupby(['merged_label']).size().to_frame('val').reset_index()\n",
        "test_df_class = test_df.groupby(['merged_label']).size().to_frame('test').reset_index()\n",
        "\n",
        "plt.figure(figsize=(8, 6))\n",
        "x_axis = np.arange(len(train_df_class['merged_label']))\n",
        "index = [[train_df_class,'train',-0.2],[val_df_class,'val',0],[test_df_class,'test',0.2]]\n",
        "for i in index:\n",
        "  df = i[0]\n",
        "  bars = plt.bar(x_axis + i[2], df[i[1]] , width=0.2, label=i[1])\n",
        "  for bar in bars:\n",
        "      yval = bar.get_height()\n",
        "      plt.text(bar.get_x(), yval + .005, yval)\n",
        "plt.xticks(x_axis,train_df_class['merged_label'])\n",
        "plt.legend()\n",
        "plt.show()"
      ],
      "metadata": {
        "colab": {
          "base_uri": "https://localhost:8080/",
          "height": 522
        },
        "id": "yEIs4-u8F4n-",
        "outputId": "4388695b-cef3-4e68-8185-d9315f207ce9",
        "ExecuteTime": {
          "end_time": "2023-12-14T18:32:12.057875900Z",
          "start_time": "2023-12-14T18:32:11.872695200Z"
        }
      },
      "execution_count": null,
      "outputs": [
        {
          "data": {
            "text/plain": "<Figure size 800x600 with 1 Axes>",
            "image/png": "[encoded data removed]"
          },
          "metadata": {},
          "output_type": "display_data"
        }
      ]
    },
    {
      "cell_type": "code",
      "source": [
        "# Torch Dataset\n",
        "\n",
        "class ForestDataset(Dataset):\n",
        "    \"\"\"Forest dataset.\"\"\"\n",
        "\n",
        "    def __init__(self, csv_file_to_df, root_dir=r'C:\\Users\\haoti\\PycharmProjects\\EECS_6998_E11\\ForestNetDataset', transform=None, types=\"classifier\", device = device):\n",
        "        self.csv = csv_file_to_df\n",
        "        self.root_dir = root_dir\n",
        "        self.transform = transform\n",
        "        self.label_to_int = {'Grassland shrubland': torch.asarray([1,0,0,0]), 'Other': torch.asarray([0,1,0,0]), 'Plantation': torch.asarray([0,0,1,0]), 'Smallholder agriculture': torch.asarray([0,0,0,1])}\n",
        "        self.types = types\n",
        "        self.device =device\n",
        "\n",
        "    def __len__(self):\n",
        "        return len(self.csv)\n",
        "\n",
        "    def poly_from_utm(self, polygon):\n",
        "        poly_pts = []\n",
        "\n",
        "        poly = unary_union(polygon)\n",
        "        for i in np.array(poly.exterior.coords):\n",
        "\n",
        "            poly_pts.append(tuple(i))\n",
        "\n",
        "        new_poly = Polygon(poly_pts)\n",
        "        return new_poly\n",
        "\n",
        "    def __getitem__(self, idx):\n",
        "\n",
        "        if torch.is_tensor(idx):\n",
        "            idx = idx.tolist()\n",
        "\n",
        "        label = self.csv.iloc[idx, 0]\n",
        "        merged_label = self.csv.iloc[idx, 1]\n",
        "        lat = self.csv.iloc[idx, 2]\n",
        "        long = self.csv.iloc[idx, 3]\n",
        "        year = self.csv.iloc[idx, 4]\n",
        "        folder = self.csv.iloc[idx, 5]\n",
        "\n",
        "        ## Load the image and auxiliary\n",
        "        image = Image.open(f'{self.root_dir}/{folder}/images/visible/composite.png')#io.imread(f'{self.root_dir}/{folder}/images/visible/composite.png')\n",
        "        image = self.transform(image)\n",
        "        #slope = np.load(f'{self.root_dir}/{folder}/auxiliary/slope.npy')\n",
        "\n",
        "        ## Get the segmentation map\n",
        "        with open(f'{self.root_dir}/{folder}/forest_loss_region.pkl', 'rb') as f:\n",
        "            data = pickle.load(f)\n",
        "\n",
        "        nx, ny = 332, 332\n",
        "        xy_array = np.empty((0,2))\n",
        "        if data.geom_type == 'Polygon':\n",
        "            data = [data]\n",
        "        elif data.geom_type == 'Multipolygon':\n",
        "            data = list(data)\n",
        "\n",
        "        poly_shp = []\n",
        "        for poly_verts in data:\n",
        "            poly_shp.append(self.poly_from_utm(poly_verts))\n",
        "\n",
        "        mask = rasterize(shapes=poly_shp, out_shape=(332,332))\n",
        "        seg = np.array(mask)\n",
        "\n",
        "        '''\n",
        "        if self.transform:\n",
        "            augmented = self.transform(image=image)\n",
        "            image = augmented[\"image\"]\n",
        "        '''\n",
        "\n",
        "\n",
        "        image = image.to(self.device, dtype=torch.float32)#torch.from_numpy(image).to(self.device, dtype=torch.float32)\n",
        "        #image = image.permute(2, 0, 1)\n",
        "        seg = torch.from_numpy(seg).to(self.device, dtype=torch.float32)\n",
        "        #slope = torch.from_numpy(slope).type(torch.float)\n",
        "\n",
        "        two_channel_seg = torch.zeros((2, seg.shape[0], seg.shape[1]), dtype=torch.float).to(self.device, dtype=torch.float32)\n",
        "\n",
        "        # 将单通道掩码映射到两个通道\n",
        "        two_channel_seg[0, :, :] = (seg == 0).float()  # 耕地的像素设为第一个通道的值\n",
        "        two_channel_seg[1, :, :] = (seg == 1).float()  # 森林的像素设为第二个通道的值\n",
        "\n",
        "\n",
        "        merged_label = self.label_to_int[merged_label]\n",
        "\n",
        "        merged_label = merged_label.to(self.device, dtype=torch.float32)\n",
        "\n",
        "\n",
        "\n",
        "        #image = image[:, 86:246, 86:246]\n",
        "        seg = two_channel_seg[:, 52:276, 52:276]#seg[86:246, 86:246]\n",
        "        #slope = slope[86:246, 86:246]\n",
        "        if self.types == \"classifier\":\n",
        "            return image, merged_label, seg\n",
        "        else:\n",
        "            return image, merged_label, seg\n",
        "\n",
        "\n",
        "transform = transforms.Compose([\n",
        "    transforms.Resize((224, 224)),\n",
        "    transforms.ToTensor(),\n",
        "    transforms.Normalize(mean=[0.485, 0.456, 0.406],\n",
        "                                 std=[0.229, 0.224, 0.225]),\n",
        "])"
      ],
      "metadata": {
        "id": "5BEcpN6TGM6l",
        "ExecuteTime": {
          "end_time": "2023-12-14T18:32:12.058875700Z",
          "start_time": "2023-12-14T18:32:12.038858500Z"
        }
      },
      "execution_count": null,
      "outputs": []
    },
    {
      "cell_type": "code",
      "source": [
        "import torch.multiprocessing as mp\n",
        "\n",
        "# Aid the mutliworkers for the dataloader\n",
        "\n",
        "mp.set_start_method('spawn', force=True)\n"
      ],
      "metadata": {
        "id": "xGt1Rsr4sZVz",
        "ExecuteTime": {
          "end_time": "2023-12-14T18:32:56.530272700Z",
          "start_time": "2023-12-14T18:32:56.496074700Z"
        }
      },
      "execution_count": null,
      "outputs": []
    },
    {
      "cell_type": "code",
      "execution_count": null,
      "outputs": [],
      "source": [
        "# F1_Score_Dice Loss\n",
        "\n",
        "def f_score(gt,pr, beta=1, eps=1e-7, threshold=None, activation=\"None\"):\n",
        "    \"\"\"\n",
        "    Args:\n",
        "        pr (torch.Tensor): A list of predicted elements\n",
        "        gt (torch.Tensor):  A list of elements that are to be predicted\n",
        "        eps (float): epsilon to avoid zero division\n",
        "        threshold: threshold for outputs binarization\n",
        "    Returns:\n",
        "        float: IoU (Jaccard) score\n",
        "    \"\"\"\n",
        "\n",
        "\n",
        "\n",
        "    '''\n",
        "    if threshold is not None:\n",
        "        pr = (pr > threshold).float()\n",
        "    '''\n",
        "\n",
        "    beta = 1\n",
        "    gt = torch.argmax(gt, dim =1).float()\n",
        "    pr = torch.argmax(pr, dim = 1).float()\n",
        "    tp = torch.sum(gt * pr)\n",
        "    fp = torch.sum(pr) - tp\n",
        "    fn = torch.sum(gt) - tp\n",
        "\n",
        "    score = ((1 + beta ** 2) * tp + eps) \\\n",
        "            / ((1 + beta ** 2) * tp + beta ** 2 * fn + fp + eps)\n",
        "\n",
        "    return 1 - score\n",
        "\n",
        "\n",
        "class DiceLoss(nn.Module):\n",
        "    __name__ = 'dice_loss'\n",
        "\n",
        "    def __init__(self, eps=1e-7, activation='sigmoid'):\n",
        "        super().__init__()\n",
        "        self.activation = activation\n",
        "        self.eps = eps\n",
        "\n",
        "    def forward(self,y_gt, y_pr):\n",
        "        return 1 - f_score(y_pr, y_gt, beta=1.,\n",
        "                           eps=self.eps, threshold=None,\n",
        "                           activation=self.activation)\n",
        "\n",
        "\n",
        "class BCEDiceLoss(DiceLoss):\n",
        "    __name__ = 'bce_dice_loss'\n",
        "\n",
        "    def __init__(self, eps=1e-7, activation='None', lambda_dice=1.0, lambda_bce=1.0):\n",
        "        super().__init__(eps, activation)\n",
        "        if activation == None:\n",
        "            self.bce = nn.CrossEntropyLoss(reduction='mean')\n",
        "        else:\n",
        "            self.bce = nn.BCEWithLogitsLoss(reduction='mean')\n",
        "        self.lambda_dice=lambda_dice\n",
        "        self.lambda_bce=lambda_bce\n",
        "\n",
        "    def forward(self, y_gt, y_pr):\n",
        "        dice = super().forward(y_pr, y_gt)\n",
        "        bce = self.bce(y_pr, y_gt)\n",
        "        return (self.lambda_dice*dice) + (self.lambda_bce* bce), dice\n",
        "\n",
        "\n",
        "# Mainly used F1_Score and F1 Loss\n",
        "\n",
        "def f1_loss(labels, outputs):\n",
        "    # CalculateTrue Positives (TP)、False Positives (FP)和False Negatives (FN)\n",
        "    TP = torch.sum(outputs[:, 1] * labels[:, 1])  # True Positives\n",
        "    FP = torch.sum(outputs[:, 1] * (1 - labels[:, 1]))  # False Positives\n",
        "    FN = torch.sum((1 - outputs[:, 1]) * labels[:, 1])  # False Negatives\n",
        "\n",
        "    # Precision and Recall\n",
        "    precision = TP / (TP + FP + 1e-6)  # Precision\n",
        "    recall = TP / (TP + FN + 1e-6)  # Recall\n",
        "\n",
        "    # F1 Score\n",
        "    f1 = 2 * (precision * recall) / (precision + recall + 1e-6)  # F1 Score\n",
        "\n",
        "    # F1 Loss\n",
        "    f1_loss = 1 - f1  # F1 Loss\n",
        "\n",
        "    return f1_loss\n",
        "\n",
        "# Calculation of IOU, and IOU Loss\n",
        "\n",
        "SMOOTH = 1e-6\n",
        "\n",
        "def iou_pytorch(labels, outputs):\n",
        "    # You can comment out this line if you are passing tensors of equal shape\n",
        "    # But if you are passing output from UNet or something it will most probably\n",
        "    # be with the BATCH x 1 x H x W shape\n",
        "    outputs = torch.argmax(outputs, dim=1).squeeze(1)\n",
        "    labels = torch.argmax(labels, dim=1).squeeze(1)\n",
        "\n",
        "\n",
        "    intersection = (outputs & labels).float().sum((1, 2))  # Will be zero if Truth=0 or Prediction=0\n",
        "    union = (outputs | labels).float().sum((1, 2))         # Will be zzero if both are 0\n",
        "\n",
        "    iou = (intersection + SMOOTH) / (union + SMOOTH)  # We smooth our devision to avoid 0/0\n",
        "\n",
        "    thresholded = torch.clamp(20 * (iou - 0.5), 0, 10).ceil() / 10  # This is equal to comparing with thresolds\n",
        "\n",
        "    return 1 - iou.mean()\n",
        "\n",
        "\n"
      ],
      "metadata": {
        "ExecuteTime": {
          "end_time": "2023-12-14T18:32:56.919369400Z",
          "start_time": "2023-12-14T18:32:56.884370300Z"
        },
        "id": "xCemkxJUPd-n"
      }
    },
    {
      "cell_type": "code",
      "execution_count": null,
      "outputs": [],
      "source": [
        "# Currently Not Used\n",
        "\n",
        "#from transformers import Mask2FormerConfig, AutoImageProcessor, Mask2FormerForUniversalSegmentation\n",
        "import torchvision.models\n",
        "vgg16 = torchvision.models.vgg16(pretrained=True).to(device).features[:29]\n",
        "vgg16.eval()\n",
        "os.environ['CUDA_LAUNCH_BLOCKING'] = '1'\n",
        "\n",
        "#configuration = Mask2FormerConfig()\n",
        "# load Mask2Former fine-tuned on COCO panoptic segmentation\n",
        "#processor = AutoImageProcessor.from_pretrained(\"facebook/mask2former-swin-base-coco-panoptic\")\n",
        "#Feature_Extraction_Model = Mask2FormerForUniversalSegmentation(configuration).from_pretrained(\"facebook/mask2former-swin-base-coco-panoptic\").to(device)\n",
        "#Feature_Extraction_Model.eval()\n",
        "\n",
        "BATCH_SIZE = 256\n",
        "DEVICE = device = torch.device('cuda' if torch.cuda.is_available() else 'cpu')\n",
        "nbClass = 4\n",
        "\n",
        "train_dataset = ForestDataset(csv_file_to_df=train_df, transform=transform)\n",
        "val_dataset = ForestDataset(csv_file_to_df=val_df, transform=transform)\n",
        "test_dataset = ForestDataset(csv_file_to_df=test_df, transform=transform)\n",
        "trainloader = torch.utils.data.DataLoader(train_dataset, batch_size=BATCH_SIZE,shuffle=True)\n",
        "valloader = torch.utils.data.DataLoader(val_dataset, batch_size=BATCH_SIZE,shuffle=True)\n",
        "testloader = torch.utils.data.DataLoader(test_dataset, batch_size=BATCH_SIZE,shuffle=False)\n",
        "dataloaders = {'train': trainloader, 'val':valloader}\n",
        "\n",
        "class UNetDecoder(nn.Module):\n",
        "    def __init__(self, in_channels, out_channels):\n",
        "        super(UNetDecoder, self).__init__()\n",
        "\n",
        "        # Decoder\n",
        "        self.decoder = nn.Sequential(\n",
        "            nn.Conv2d(in_channels, 256, kernel_size=3, padding=1),\n",
        "            nn.ReLU(inplace=True),\n",
        "            nn.Conv2d(256, 128, kernel_size=3, padding=1),\n",
        "            nn.ReLU(inplace=True),\n",
        "            nn.Conv2d(128, 64, kernel_size=3, padding=1),\n",
        "            nn.ReLU(inplace=True),\n",
        "            nn.ConvTranspose2d(64, 64, kernel_size=4, stride=4),  # Decoder\n",
        "            nn.ReLU(inplace=True),\n",
        "            nn.ConvTranspose2d(64, out_channels, kernel_size=4, stride=4, padding=0),  # 上采样操作\n",
        "            nn.Softmax2d()\n",
        "        )\n",
        "\n",
        "    def forward(self, x):\n",
        "        # 解码器部分\n",
        "        output = self.decoder(x)\n",
        "        return output\n",
        "\n",
        "# 创建模型\n",
        "in_channels = 512\n",
        "out_channels = 2\n",
        "decoder = UNetDecoder(in_channels, out_channels).to(device)\n",
        "\n",
        "optimizer = torch.optim.Adam(decoder.parameters(), lr=1e-3) #, weight_decay=1e-5)\n",
        "criterion = nn.CrossEntropyLoss()#BCEDiceLoss(eps=1e-7, activation=None)#nn.CrossEntropyLoss()\n",
        "scheduler = torch.optim.lr_scheduler.MultiStepLR(optimizer, milestones=[100,200,300,500], gamma=0.1)\n",
        "\n",
        "\n",
        "number_of_epochs = 100\n",
        "\n",
        "best_val_loss = float('inf')\n",
        "\n",
        "runs = \"total_run\"\n",
        "\n",
        "for epoch in range(number_of_epochs):\n",
        "\n",
        "    pbar = tqdm(trainloader)\n",
        "    train_loss = 0\n",
        "    for i, (images, labels, seg) in enumerate(pbar):\n",
        "\n",
        "      #Feature_Extraction_Model.eval()\n",
        "      #inputs = processor(images=images, return_tensors=\"pt\")\n",
        "      vgg16.eval()\n",
        "      with torch.no_grad():\n",
        "          outputs = vgg16(images)\n",
        "\n",
        "      #upsampled_features = outputs#.pixel_decoder_last_hidden_state\n",
        "\n",
        "      optimizer.zero_grad()\n",
        "\n",
        "      output_final = decoder(outputs)\n",
        "\n",
        "      loss = criterion(seg.type(torch.float32), output_final.type(torch.float32))\n",
        "\n",
        "      tp = f1_loss(seg, output_final) #iou_pytorch(seg, output_final)\n",
        "      iou = iou_pytorch(seg, output_final)\n",
        "\n",
        "      loss = loss+tp\n",
        "\n",
        "      pbar.set_postfix(Train_Loss=loss.item(), Train_F1_Loss = tp.item(), IOU =iou.item())\n",
        "\n",
        "      train_loss += loss\n",
        "\n",
        "      loss.backward()\n",
        "\n",
        "      optimizer.step()\n",
        "\n",
        "    with torch.no_grad():\n",
        "\n",
        "        pbar = tqdm(valloader)\n",
        "        val_loss = 0\n",
        "        for i, (images, labels, seg) in enumerate(pbar):\n",
        "\n",
        "            #Feature_Extraction_Model.eval()\n",
        "            #inputs = processor(images=images, return_tensors=\"pt\")\n",
        "            vgg16.eval()\n",
        "            with torch.no_grad():\n",
        "                outputs = vgg16(images)\n",
        "\n",
        "            #upsampled_features = outputs#.pixel_decoder_last_hidden_state\n",
        "\n",
        "\n",
        "            output_final = decoder(outputs)\n",
        "\n",
        "            loss = criterion(seg.type(torch.float32), output_final.type(torch.float32))\n",
        "            tp = f1_loss(seg, output_final)#iou_pytorch(seg, output_final)\n",
        "            iou = iou_pytorch(seg, output_final)\n",
        "\n",
        "            loss = loss+tp\n",
        "\n",
        "            pbar.set_postfix(Val_Loss=loss.item(), VAL_F1_Loss = tp.item(), IOU = iou.item())\n",
        "\n",
        "            val_loss += loss\n",
        "\n",
        "            if val_loss < best_val_loss:\n",
        "\n",
        "                best_val_loss = val_loss\n",
        "                torch.save(decoder.state_dict(), os.path.join(\"Model_Ckpts\",runs+f\"ckpt.pt\"))\n",
        "\n",
        "        plt.imshow(torch.argmax(output_final, dim = 1)[0].detach().cpu().numpy())\n",
        "\n",
        "    scheduler.step()\n",
        "\n",
        "\n"
      ],
      "metadata": {
        "id": "LVgnOVqHPd-o"
      }
    },
    {
      "cell_type": "code",
      "execution_count": null,
      "outputs": [],
      "source": [
        "class double_conv(nn.Module):\n",
        "    \"\"\"(conv => BN => ReLU) * 2\"\"\"\n",
        "\n",
        "    def __init__(self, in_ch, out_ch):\n",
        "        super(double_conv, self).__init__()\n",
        "        self.conv = nn.Sequential(\n",
        "            nn.Conv2d(in_ch, out_ch, 3, padding=1),\n",
        "            nn.BatchNorm2d(out_ch),\n",
        "            nn.ReLU(inplace=True),\n",
        "            nn.Conv2d(out_ch, out_ch, 3, padding=1),\n",
        "            nn.BatchNorm2d(out_ch),\n",
        "            nn.ReLU(inplace=True),\n",
        "        )\n",
        "\n",
        "    def forward(self, x):\n",
        "        x = self.conv(x)\n",
        "        return x\n",
        "\n",
        "\n",
        "class inconv(nn.Module):\n",
        "    def __init__(self, in_ch, out_ch):\n",
        "        super(inconv, self).__init__()\n",
        "        self.conv = double_conv(in_ch, out_ch)\n",
        "\n",
        "    def forward(self, x):\n",
        "        x = self.conv(x)\n",
        "        return x\n",
        "\n",
        "\n",
        "class down(nn.Module):\n",
        "    def __init__(self, in_ch, out_ch):\n",
        "        super(down, self).__init__()\n",
        "        self.mpconv = nn.Sequential(nn.MaxPool2d(2), double_conv(in_ch, out_ch))\n",
        "\n",
        "    def forward(self, x):\n",
        "        x = self.mpconv(x)\n",
        "        return x\n",
        "\n",
        "\n",
        "class up(nn.Module):\n",
        "    def __init__(self, in_ch, out_ch, bilinear=True):\n",
        "        super(up, self).__init__()\n",
        "\n",
        "        if bilinear:\n",
        "            self.up = nn.Upsample(scale_factor=2, mode=\"bilinear\", align_corners=True)\n",
        "        else:\n",
        "            self.up = nn.ConvTranspose2d(in_ch // 2, in_ch // 2, 2, stride=2)\n",
        "\n",
        "        self.conv = double_conv(in_ch, out_ch)\n",
        "\n",
        "    def forward(self, x1, x2):\n",
        "        x1 = self.up(x1)\n",
        "\n",
        "        # input is CHW\n",
        "        diffY = x2.size()[2] - x1.size()[2]\n",
        "        diffX = x2.size()[3] - x1.size()[3]\n",
        "\n",
        "        x1 = F.pad(x1, (diffX // 2, diffX - diffX // 2, diffY // 2, diffY - diffY // 2))\n",
        "\n",
        "        x = torch.cat([x2, x1], dim=1)\n",
        "        return self.conv(x)\n",
        "\n",
        "\n",
        "class outconv(nn.Module):\n",
        "    def __init__(self, in_ch, out_ch):\n",
        "        super(outconv, self).__init__()\n",
        "        self.conv = nn.Conv2d(in_ch, out_ch, 1)\n",
        "\n",
        "    def forward(self, x):\n",
        "        x = self.conv(x)\n",
        "        return x\n",
        "\n",
        "\n",
        "class UNet(nn.Module):\n",
        "    def __init__(self, n_channels, n_classes):\n",
        "        super(UNet, self).__init__()\n",
        "        self.inc = inconv(n_channels, 64)\n",
        "        self.down1 = down(64, 128)\n",
        "        self.down2 = down(128, 256)\n",
        "        self.down3 = down(256, 512)\n",
        "        self.down4 = down(512, 512)\n",
        "        self.up1 = up(1024, 256, False)\n",
        "        self.up2 = up(512, 128, False)\n",
        "        self.up3 = up(256, 64, False)\n",
        "        self.up4 = up(128, 64, False)\n",
        "        self.outc = outconv(64, n_classes)\n",
        "\n",
        "    def forward(self, x):\n",
        "        x1 = self.inc(x)\n",
        "        x2 = self.down1(x1)\n",
        "        x3 = self.down2(x2)\n",
        "        x4 = self.down3(x3)\n",
        "        x5 = self.down4(x4)\n",
        "        x = self.up1(x5, x4)\n",
        "        x = self.up2(x, x3)\n",
        "        x = self.up3(x, x2)\n",
        "        x = self.up4(x, x1)\n",
        "        x = self.outc(x)\n",
        "        return torch.sigmoid(x)\n",
        "\n",
        "model = UNet(n_channels=3, n_classes=2).to(device)"
      ],
      "metadata": {
        "id": "rzn_vOrXPd-p"
      }
    },
    {
      "cell_type": "code",
      "execution_count": null,
      "outputs": [],
      "source": [
        "import torch\n",
        "from torch import nn\n",
        "\n",
        "from einops import rearrange, repeat\n",
        "from einops.layers.torch import Rearrange\n",
        "\n",
        "# helpers\n",
        "\n",
        "def pair(t):\n",
        "    return t if isinstance(t, tuple) else (t, t)\n",
        "\n",
        "# classes\n",
        "\n",
        "class FeedForward(nn.Module):\n",
        "    def __init__(self, dim, hidden_dim, dropout = 0.):\n",
        "        super().__init__()\n",
        "        self.net = nn.Sequential(\n",
        "            nn.LayerNorm(dim),\n",
        "            nn.Linear(dim, hidden_dim),\n",
        "            nn.GELU(),\n",
        "            nn.Dropout(dropout),\n",
        "            nn.Linear(hidden_dim, dim),\n",
        "            nn.Dropout(dropout)\n",
        "        )\n",
        "\n",
        "    def forward(self, x):\n",
        "        return self.net(x)\n",
        "\n",
        "class Attention(nn.Module):\n",
        "    def __init__(self, dim, heads = 8, dim_head = 64, dropout = 0.):\n",
        "        super().__init__()\n",
        "        inner_dim = dim_head *  heads\n",
        "        project_out = not (heads == 1 and dim_head == dim)\n",
        "\n",
        "        self.heads = heads\n",
        "        self.scale = dim_head ** -0.5\n",
        "\n",
        "        self.norm = nn.LayerNorm(dim)\n",
        "\n",
        "        self.attend = nn.Softmax(dim = -1)\n",
        "        self.dropout = nn.Dropout(dropout)\n",
        "\n",
        "        self.to_qkv = nn.Linear(dim, inner_dim * 3, bias = False)\n",
        "\n",
        "        self.to_out = nn.Sequential(\n",
        "            nn.Linear(inner_dim, dim),\n",
        "            nn.Dropout(dropout)\n",
        "        ) if project_out else nn.Identity()\n",
        "\n",
        "    def forward(self, x):\n",
        "        x = self.norm(x)\n",
        "\n",
        "        qkv = self.to_qkv(x).chunk(3, dim = -1)\n",
        "        q, k, v = map(lambda t: rearrange(t, 'b n (h d) -> b h n d', h = self.heads), qkv)\n",
        "\n",
        "        dots = torch.matmul(q, k.transpose(-1, -2)) * self.scale\n",
        "\n",
        "        attn = self.attend(dots)\n",
        "        attn = self.dropout(attn)\n",
        "\n",
        "        out = torch.matmul(attn, v)\n",
        "        out = rearrange(out, 'b h n d -> b n (h d)')\n",
        "        return self.to_out(out)\n",
        "\n",
        "class Transformer(nn.Module):\n",
        "    def __init__(self, dim, depth, heads, dim_head, mlp_dim, dropout = 0.):\n",
        "        super().__init__()\n",
        "        self.norm = nn.LayerNorm(dim)\n",
        "        self.layers = nn.ModuleList([])\n",
        "        for _ in range(depth):\n",
        "            self.layers.append(nn.ModuleList([\n",
        "                Attention(dim, heads = heads, dim_head = dim_head, dropout = dropout),\n",
        "                FeedForward(dim, mlp_dim, dropout = dropout)\n",
        "            ]))\n",
        "\n",
        "    def forward(self, x):\n",
        "        for attn, ff in self.layers:\n",
        "            x = attn(x) + x\n",
        "            x = ff(x) + x\n",
        "\n",
        "        return self.norm(x)\n",
        "\n",
        "class ViT(nn.Module):\n",
        "    def __init__(self, *, image_size, patch_size, num_classes, dim, depth, heads, mlp_dim, pool = 'cls', channels = 3, dim_head = 64, dropout = 0., emb_dropout = 0.):\n",
        "        super().__init__()\n",
        "        image_height, image_width = pair(image_size)\n",
        "        patch_height, patch_width = pair(patch_size)\n",
        "\n",
        "        assert image_height % patch_height == 0 and image_width % patch_width == 0, 'Image dimensions must be divisible by the patch size.'\n",
        "\n",
        "        num_patches = (image_height // patch_height) * (image_width // patch_width)\n",
        "        patch_dim = channels * patch_height * patch_width\n",
        "        assert pool in {'cls', 'mean'}, 'pool type must be either cls (cls token) or mean (mean pooling)'\n",
        "\n",
        "        self.to_patch_embedding = nn.Sequential(\n",
        "            Rearrange('b c (h p1) (w p2) -> b (h w) (p1 p2 c)', p1 = patch_height, p2 = patch_width),\n",
        "            nn.LayerNorm(patch_dim),\n",
        "            nn.Linear(patch_dim, dim),\n",
        "            nn.LayerNorm(dim),\n",
        "        )\n",
        "\n",
        "        self.pos_embedding = nn.Parameter(torch.randn(1, num_patches + 1, dim))\n",
        "        self.cls_token = nn.Parameter(torch.randn(1, 1, dim))\n",
        "        self.dropout = nn.Dropout(emb_dropout)\n",
        "\n",
        "        self.transformer = Transformer(dim, depth, heads, dim_head, mlp_dim, dropout)\n",
        "\n",
        "        self.pool = pool\n",
        "        self.to_latent = nn.Identity()\n",
        "\n",
        "        self.mlp_head = nn.Linear(dim, num_classes)\n",
        "        self.softmax = nn.Softmax(dim = -1)\n",
        "\n",
        "    def forward(self, img):\n",
        "        x = self.to_patch_embedding(img)\n",
        "        b, n, _ = x.shape\n",
        "\n",
        "        cls_tokens = repeat(self.cls_token, '1 1 d -> b 1 d', b = b)\n",
        "        x = torch.cat((cls_tokens, x), dim=1)\n",
        "        x += self.pos_embedding[:, :(n + 1)]\n",
        "        x = self.dropout(x)\n",
        "\n",
        "        x = self.transformer(x)\n",
        "\n",
        "        x = x.mean(dim = 1) if self.pool == 'mean' else x[:, 0]\n",
        "\n",
        "        x = self.to_latent(x)\n",
        "\n",
        "        x = self.mlp_head(x)\n",
        "\n",
        "        x= self.softmax(x)\n",
        "        return x #torch.sigmoid(x)\n",
        "\n",
        "model_vit = ViT(\n",
        "    image_size=(160, 160),\n",
        "    patch_size=(16, 16),\n",
        "    num_classes=4,  # 输出类别数\n",
        "    dim=128,         # 模型维度\n",
        "    depth=6,         # Transformer层的深度\n",
        "    heads=8,         # 注意力头的数量\n",
        "    mlp_dim=256,     # MLP的隐藏层维度\n",
        "    pool='cls',      # 池化方式，可以是'cls'或'mean'\n",
        "    channels=3,  # 输入图像通道数\n",
        "    dim_head=64,     # 注意力头的维度\n",
        "    dropout=0,     # Dropout概率\n",
        "    emb_dropout=0  # 嵌入层的Dropout概率\n",
        ").to(device)"
      ],
      "metadata": {
        "id": "ztxShqp5Pd-p"
      }
    },
    {
      "cell_type": "code",
      "execution_count": null,
      "outputs": [],
      "source": [
        "import torch\n",
        "from torch import nn\n",
        "\n",
        "from einops import rearrange, repeat\n",
        "from einops.layers.torch import Rearrange\n",
        "\n",
        "# helpers\n",
        "\n",
        "def pair(t):\n",
        "    return t if isinstance(t, tuple) else (t, t)\n",
        "\n",
        "# classes\n",
        "\n",
        "class FeedForward(nn.Module):\n",
        "    def __init__(self, dim, hidden_dim, dropout = 0.):\n",
        "        super().__init__()\n",
        "        self.net = nn.Sequential(\n",
        "            nn.LayerNorm(dim),\n",
        "            nn.Linear(dim, hidden_dim),\n",
        "            nn.GELU(),\n",
        "            nn.Dropout(dropout),\n",
        "            nn.Linear(hidden_dim, dim),\n",
        "            nn.Dropout(dropout)\n",
        "        )\n",
        "\n",
        "    def forward(self, x):\n",
        "        return self.net(x)\n",
        "\n",
        "\n",
        "class Attention(nn.Module):\n",
        "    def __init__(self, dim_q=160, dim_k=160, heads=8, dim_head=64, dropout=0.):\n",
        "        super().__init__()\n",
        "        inner_dim = dim_head * heads\n",
        "        project_out = not (heads == 1 and dim_head == inner_dim)\n",
        "\n",
        "        self.heads = heads\n",
        "        self.scale = dim_head ** -0.5\n",
        "\n",
        "        self.norm_q = nn.LayerNorm(dim_q)\n",
        "        self.norm_k = nn.LayerNorm(dim_k)\n",
        "\n",
        "        self.attend = nn.Softmax(dim=-1)\n",
        "        self.dropout = nn.Dropout(dropout)\n",
        "\n",
        "        self.to_q = nn.Linear(dim_q, inner_dim, bias=False)\n",
        "        self.to_k = nn.Linear(dim_k, inner_dim, bias=False)\n",
        "        self.to_v = nn.Linear(dim_k, inner_dim, bias=False)\n",
        "\n",
        "        self.to_out = nn.Sequential(\n",
        "            nn.Linear(inner_dim, dim_q),\n",
        "            nn.Dropout(dropout)\n",
        "        ) if project_out else nn.Identity()\n",
        "\n",
        "    def forward(self, q, k):\n",
        "        q = self.norm_q(q)\n",
        "        k = self.norm_k(k)\n",
        "\n",
        "        q, k, v = self.to_q(q), self.to_k(k), self.to_v(k)\n",
        "\n",
        "        dots = torch.matmul(q, k.transpose(-1, -2)) * self.scale\n",
        "\n",
        "        attn = self.attend(dots)\n",
        "        attn = self.dropout(attn)\n",
        "\n",
        "        out = torch.matmul(attn, v)\n",
        "        return self.to_out(out)\n",
        "\n",
        "class Transformer(nn.Module):\n",
        "    def __init__(self, dim, depth, heads, dim_head, mlp_dim, dropout = 0.):\n",
        "        super().__init__()\n",
        "        self.norm = nn.LayerNorm(dim)\n",
        "        self.layers = nn.ModuleList([])\n",
        "        for _ in range(depth):\n",
        "            self.layers.append(nn.ModuleList([\n",
        "                Attention(dim, heads = heads, dim_head = dim_head, dropout = dropout),\n",
        "                FeedForward(dim, mlp_dim, dropout = dropout)\n",
        "            ]))\n",
        "\n",
        "    def forward(self, x):\n",
        "        for attn, ff in self.layers:\n",
        "            x = attn(x) + x\n",
        "            x = ff(x) + x\n",
        "\n",
        "        return self.norm(x)\n",
        "\n",
        "\n",
        "class ViT(nn.Module):\n",
        "    def __init__(self, *, image_size, patch_size, num_classes, dim, depth, heads, mlp_dim, pool = 'cls', channels = 3, dim_head = 64, dropout = 0., emb_dropout = 0.):\n",
        "        super().__init__()\n",
        "        image_height, image_width = pair(image_size)\n",
        "        patch_height, patch_width = pair(patch_size)\n",
        "\n",
        "        assert image_height % patch_height == 0 and image_width % patch_width == 0, 'Image dimensions must be divisible by the patch size.'\n",
        "\n",
        "        num_patches = (image_height // patch_height) * (image_width // patch_width)\n",
        "        patch_dim = channels * patch_height * patch_width\n",
        "        assert pool in {'cls', 'mean'}, 'pool type must be either cls (cls token) or mean (mean pooling)'\n",
        "\n",
        "        self.to_patch_embedding = nn.Sequential(\n",
        "            Rearrange('b c (h p1) (w p2) -> b (h w) (p1 p2 c)', p1 = patch_height, p2 = patch_width),\n",
        "            nn.LayerNorm(patch_dim),\n",
        "            nn.Linear(patch_dim, dim),\n",
        "            nn.LayerNorm(dim),\n",
        "        )\n",
        "\n",
        "        self.pos_embedding = nn.Parameter(torch.randn(1, num_patches + 1, dim))\n",
        "        self.cls_token = nn.Parameter(torch.randn(1, 1, dim))\n",
        "        self.dropout = nn.Dropout(emb_dropout)\n",
        "\n",
        "        self.transformer = Transformer(dim, depth, heads, dim_head, mlp_dim, dropout)\n",
        "\n",
        "        self.pool = pool\n",
        "        self.to_latent = nn.Identity()\n",
        "\n",
        "        self.mlp_head = nn.Linear(dim, num_classes)\n",
        "        self.softmax = nn.Softmax(dim = -1)\n",
        "\n",
        "    def forward(self, img, info):\n",
        "        x = self.to_patch_embedding(img)\n",
        "        x_k = info\n",
        "        b, n, _ = x.shape\n",
        "\n",
        "        cls_tokens = repeat(self.cls_token, '1 1 d -> b 1 d', b = b)\n",
        "        x = torch.cat((cls_tokens, x), dim=1)\n",
        "        x += self.pos_embedding[:, :(n + 1)]\n",
        "        x = self.dropout(x)\n",
        "\n",
        "        x = self.transformer(x, x_k)\n",
        "\n",
        "        x = x.mean(dim = 1) if self.pool == 'mean' else x[:, 0]\n",
        "\n",
        "        x = self.to_latent(x)\n",
        "\n",
        "        x = self.mlp_head(x)\n",
        "\n",
        "        x= self.softmax(x)\n",
        "        return x #torch.sigmoid(x)\n",
        "\n",
        "model_vit = ViT(\n",
        "    image_size=(160, 160),\n",
        "    patch_size=(16, 16),\n",
        "    num_classes=3,  # 输出类别数\n",
        "    dim=128,         # 模型维度\n",
        "    depth=6,         # Transformer层的深度\n",
        "    heads=8,         # 注意力头的数量\n",
        "    mlp_dim=256,     # MLP的隐藏层维度\n",
        "    pool='cls',      # 池化方式，可以是'cls'或'mean'\n",
        "    channels=3,  # 输入图像通道数\n",
        "    dim_head=64,     # 注意力头的维度\n",
        "    dropout=0,     # Dropout概率\n",
        "    emb_dropout=0  # 嵌入层的Dropout概率\n",
        ").to(device)"
      ],
      "metadata": {
        "id": "I5-gOygXPd-q"
      }
    },
    {
      "cell_type": "code",
      "execution_count": null,
      "outputs": [],
      "source": [
        "class Attention(nn.Module):\n",
        "    def __init__(self, dim_q, dim_k, heads=8, dim_head=64, dropout=0.):\n",
        "        super().__init__()\n",
        "        inner_dim = dim_head * heads\n",
        "        project_out = not (heads == 1 and dim_head == inner_dim)\n",
        "\n",
        "        self.heads = heads\n",
        "        self.scale = dim_head ** -0.5\n",
        "\n",
        "        self.norm_q = nn.LayerNorm(dim_q)\n",
        "        self.norm_k = nn.LayerNorm(dim_k)\n",
        "\n",
        "        self.attend = nn.Softmax(dim=-1)\n",
        "        self.dropout = nn.Dropout(dropout)\n",
        "\n",
        "        self.to_q = nn.Linear(dim_q, inner_dim, bias=False)\n",
        "        self.to_k = nn.Linear(dim_k, inner_dim, bias=False)\n",
        "        self.to_v = nn.Linear(dim_k, inner_dim, bias=False)\n",
        "\n",
        "        self.to_out = nn.Sequential(\n",
        "            nn.Linear(inner_dim, dim_q),\n",
        "            nn.Dropout(dropout)\n",
        "        ) if project_out else nn.Identity()\n",
        "\n",
        "    def forward(self, q, k):\n",
        "        q = self.norm_q(q)\n",
        "        k = self.norm_k(k)\n",
        "\n",
        "        q, k, v = self.to_q(q), self.to_k(k), self.to_v(k)\n",
        "\n",
        "        dots = torch.matmul(q, k.transpose(-1, -2)) * self.scale\n",
        "\n",
        "        attn = self.attend(dots)\n",
        "        attn = self.dropout(attn)\n",
        "\n",
        "        out = torch.matmul(attn, v)\n",
        "        return self.to_out(out)\n"
      ],
      "metadata": {
        "id": "GCQFvIv1Pd-q"
      }
    },
    {
      "cell_type": "code",
      "execution_count": null,
      "outputs": [],
      "source": [
        "import torch\n",
        "import torch.nn as nn\n",
        "\n",
        "class CNNClassifier(nn.Module):\n",
        "    def __init__(self):\n",
        "        super(CNNClassifier, self).__init__()\n",
        "\n",
        "        # 第一个卷积层\n",
        "        self.conv1 = nn.Conv2d(in_channels=3, out_channels=16, kernel_size=3, stride=1, padding=1)\n",
        "        self.relu1 = nn.ReLU()\n",
        "        self.pool1 = nn.MaxPool2d(kernel_size=2, stride=2)\n",
        "\n",
        "        # 第二个卷积层\n",
        "        self.conv2 = nn.Conv2d(in_channels=16, out_channels=32, kernel_size=3, stride=1, padding=1)\n",
        "        self.relu2 = nn.ReLU()\n",
        "        self.pool2 = nn.MaxPool2d(kernel_size=2, stride=2)\n",
        "\n",
        "        # 全连接层\n",
        "        self.fc1 = nn.Linear(32 * 40 * 40, 128)\n",
        "        self.relu3 = nn.ReLU()\n",
        "        self.fc2 = nn.Linear(128, 4)  # 4 是输出类别数量\n",
        "        #self.softmax = nn.Softmax(dim = -1)\n",
        "\n",
        "    def forward(self, x):\n",
        "        x = self.conv1(x)\n",
        "        x = self.relu1(x)\n",
        "        x = self.pool1(x)\n",
        "\n",
        "        x = self.conv2(x)\n",
        "        x = self.relu2(x)\n",
        "        x = self.pool2(x)\n",
        "\n",
        "        x = x.view(x.size(0), -1)  # 展平\n",
        "\n",
        "        x = self.fc1(x)\n",
        "        x = self.relu3(x)\n",
        "        x = self.fc2(x)\n",
        "        x= self.softmax(x)\n",
        "\n",
        "        return x\n",
        "\n",
        "# 创建模型实例\n",
        "cls_model = CNNClassifier().to(device)\n",
        "\n",
        "\n",
        "\n",
        "# 输出形状为 (batch_size, 4)，表示每个样本对应的类别分数\n"
      ],
      "metadata": {
        "id": "YuF1iQgKPd-q"
      }
    },
    {
      "cell_type": "code",
      "execution_count": null,
      "outputs": [],
      "source": [
        "import torch.nn as nn\n",
        "import torchvision.models as models\n",
        "\n",
        "class ModifiedResNet50(nn.Module):\n",
        "    def __init__(self, num_classes):\n",
        "        super(ModifiedResNet50, self).__init__()\n",
        "        self.resnet50 = models.resnet50(pretrained=True)\n",
        "\n",
        "        # 修改第一个卷积层以适应5个输入通道\n",
        "        self.resnet50.conv1 = nn.Conv2d(3, 64, kernel_size=7, stride=2, padding=3, bias=False)\n",
        "\n",
        "        # 更新最后一层以适应你的任务\n",
        "        self.resnet50.fc = nn.Linear(2048, num_classes)\n",
        "\n",
        "    def forward(self, x):\n",
        "        return self.resnet50(x)\n",
        "\n",
        "# 创建一个输入通道为5，输出类别为num_classes的模型\n",
        "num_classes = 4  # 替换为你的类别数量\n",
        "cls_model = ModifiedResNet50(num_classes)\n",
        "\n",
        "cls_model = nn.Sequential(\n",
        "    cls_model,\n",
        "    nn.Softmax(dim = 1)  # 添加 sigmoid 层\n",
        ").to(device)\n",
        "\n",
        "\n"
      ],
      "metadata": {
        "id": "gy7II7HJPd-q"
      }
    },
    {
      "cell_type": "code",
      "execution_count": null,
      "outputs": [],
      "source": [
        "import torch.nn as nn\n",
        "import timm\n",
        "\n",
        "# 使用 timm 创建一个预训练的 ResNet-18 模型\n",
        "cls_model = timm.create_model('resnet50', pretrained=True)\n",
        "\n",
        "# 获取原始模型的分类器中的输入特征数\n",
        "num_ftrs = cls_model.get_classifier().in_features\n",
        "\n",
        "# 修改模型的第一层卷积层，将输入通道数从3更改为5\n",
        "cls_model.conv1 = nn.Conv2d(3, 64, kernel_size=7, stride=2, padding=3, bias=False)\n",
        "\n",
        "# 修改模型的全连接层，以适应你的任务（这里假设输出类别数为4）\n",
        "cls_model.fc = nn.Linear(num_ftrs, 4)\n",
        "\n",
        "cls_model = nn.Sequential(\n",
        "    cls_model,\n",
        "    nn.Softmax(dim = 1)  # 添加 sigmoid 层\n",
        ").to(device)\n",
        "\n",
        "cls_model = cls_model.to(device)\n",
        "\n"
      ],
      "metadata": {
        "id": "wtoIG5yIPd-r"
      }
    },
    {
      "cell_type": "code",
      "execution_count": null,
      "outputs": [],
      "source": [
        "timm.list_models()"
      ],
      "metadata": {
        "id": "jfE660l7Pd-r"
      }
    },
    {
      "cell_type": "code",
      "execution_count": null,
      "outputs": [],
      "source": [
        "import timm\n",
        "import torch\n",
        "\n",
        "# 指定模型名称和预训练权重\n",
        "model_name = 'mobilevitv2_050' #'vit_base_patch16_224'  # 选择适合你任务的模型\n",
        "pretrained = True  # 使用预训练权重\n",
        "\n",
        "# 创建ViT模型\n",
        "timm_vit_model = timm.create_model(model_name, pretrained=pretrained, num_classes=4).to(device)"
      ],
      "metadata": {
        "id": "X7uFRN9VPd-r"
      }
    },
    {
      "cell_type": "code",
      "execution_count": null,
      "outputs": [],
      "source": [
        "# For Drivers Classification\n",
        "\n",
        "from sklearn.metrics import f1_score\n",
        "\n",
        "\n",
        "os.environ['CUDA_LAUNCH_BLOCKING'] = '1'\n",
        "\n",
        "#configuration = Mask2FormerConfig()\n",
        "# load Mask2Former fine-tuned on COCO panoptic segmentation\n",
        "#processor = AutoImageProcessor.from_pretrained(\"facebook/mask2former-swin-base-coco-panoptic\")\n",
        "#Feature_Extraction_Model = Mask2FormerForUniversalSegmentation(configuration).from_pretrained(\"facebook/mask2former-swin-base-coco-panoptic\").to(device)\n",
        "#Feature_Extraction_Model.eval()\n",
        "\n",
        "BATCH_SIZE = 32\n",
        "DEVICE = device = torch.device('cuda' if torch.cuda.is_available() else 'cpu')\n",
        "\n",
        "train_dataset = ForestDataset(csv_file_to_df=train_df, transform=transform)\n",
        "val_dataset = ForestDataset(csv_file_to_df=val_df, transform=transform)\n",
        "test_dataset = ForestDataset(csv_file_to_df=test_df, transform=transform)\n",
        "trainloader = torch.utils.data.DataLoader(train_dataset, batch_size=BATCH_SIZE,shuffle=True)\n",
        "valloader = torch.utils.data.DataLoader(val_dataset, batch_size=BATCH_SIZE,shuffle=True)\n",
        "testloader = torch.utils.data.DataLoader(test_dataset, batch_size=BATCH_SIZE,shuffle=False)\n",
        "dataloaders = {'train': trainloader, 'val':valloader}\n",
        "\n",
        "\n",
        "\n",
        "number_of_epochs = 10000\n",
        "\n",
        "best_val_loss = float('inf')\n",
        "\n",
        "runs = \"Unet_Version\"\n",
        "\n",
        "#ckpt_path = os.path.join(\"Model_Ckpts\",runs+f\"ckpt_2.pt\")\n",
        "\n",
        "ckpt_for_tr = r\"C:\\Users\\haoti\\PycharmProjects\\EECS_6998_E11\\Model_Ckpts\\Unet_Versionckpt_test_less_lr_model_optimizer_scheduler_checkpoint_new.pth\" #os.path.join(\"Model_Ckpts\",runs+f\"ckpt_3_less_lr_model_optimizer_scheduler_checkpoint_tr.pth\")\n",
        "\n",
        "checkpoint = torch.load(ckpt_for_tr)\n",
        "\n",
        "#cls_model.load_state_dict(checkpoint['model_state_dict'])\n",
        "\n",
        "#cls_model.train()\n",
        "\n",
        "#model_vit.load_state_dict(checkpoint['model_state_dict'])\n",
        "\n",
        "\n",
        "\n",
        "optimizer = torch.optim.Adam(timm_vit_model.parameters(), lr=1e-3)#, weight_decay=1e-5)\n",
        "\n",
        "criterion = nn.CrossEntropyLoss()#BCEDiceLoss(eps=1e-7, activation=None)#nn.CrossEntropyLoss()\n",
        "\n",
        "#optimizer.load_state_dict(checkpoint['optimizer_state_dict'])\n",
        "\n",
        "scheduler = torch.optim.lr_scheduler.MultiStepLR(optimizer, milestones=[100,200,300,500], gamma=0.1)\n",
        "\n",
        "#scheduler = torch.optim.lr_scheduler.CosineAnnealingLR(optimizer, 51, eta_min=0, last_epoch=-1, verbose=False)\n",
        "\n",
        "\n",
        "#model.eval()\n",
        "\n",
        "#model.load_state_dict(torch.load(ckpt_path))\n",
        "\n",
        "for epoch in range(number_of_epochs):\n",
        "\n",
        "    pbar = tqdm(trainloader)\n",
        "    train_loss = 0\n",
        "    acc = 0\n",
        "    timm_vit_model.train()\n",
        "\n",
        "    for i, (images, labels, seg) in enumerate(pbar):\n",
        "\n",
        "\n",
        "      optimizer.zero_grad()\n",
        "\n",
        "      zero_input = torch.empty(seg.shape[0], 1, seg.shape[2], seg.shape[-1])\n",
        "\n",
        "      add_zero = torch.zeros_like(zero_input).to(device)\n",
        "\n",
        "      output_seg = torch.concat((seg, add_zero), dim = 1)\n",
        "\n",
        "      output_final = images + output_seg\n",
        "\n",
        "      outputs = timm_vit_model(output_final)#(images, output_seg)#(output_final)\n",
        "\n",
        "      loss = criterion(labels, outputs)\n",
        "\n",
        "      #tp = f1_loss(seg, output_final) #iou_pytorch(seg, output_final)\n",
        "\n",
        "      #iou = iou_pytorch(seg, output_final)\n",
        "\n",
        "      #loss = loss+tp\n",
        "      outputs = torch.nn.functional.softmax(outputs, dim = -1)\n",
        "      outputs = torch.argmax(outputs,dim= -1).squeeze()\n",
        "      labels = torch.argmax(labels,dim= -1).squeeze()\n",
        "\n",
        "      correct = (outputs == labels).sum().item()\n",
        "\n",
        "\n",
        "      total = labels.size(0)\n",
        "\n",
        "\n",
        "      accuracy = correct / total\n",
        "\n",
        "      f1 = f1_score(labels.detach().cpu().numpy(), outputs.detach().cpu().numpy(), average='macro')\n",
        "\n",
        "      pbar.set_postfix(Train_Loss=loss.item(), Train_Accuracy = accuracy, Train_F1_Score = f1)#, Train_F1_Loss = tp.item(), IOU =iou.item())\n",
        "\n",
        "      train_loss += loss\n",
        "\n",
        "\n",
        "\n",
        "      loss.backward()\n",
        "\n",
        "      optimizer.step()\n",
        "      '''\n",
        "      if train_loss < best_val_loss:\n",
        "\n",
        "                best_val_loss = train_loss\n",
        "\n",
        "\n",
        "                checkpoint = {\n",
        "                                'model_state_dict': model.state_dict(),\n",
        "                                'optimizer_state_dict': optimizer.state_dict(),\n",
        "                                'scheduler_state_dict': scheduler.state_dict()\n",
        "                                                                                }\n",
        "\n",
        "\n",
        "                torch.save(checkpoint, os.path.join(\"Model_Ckpts\",runs+f\"ckpt_3_less_lr_model_optimizer_scheduler_checkpoint_tr.pth\"))\n",
        "                #torch.save(model.state_dict(), os.path.join(\"Model_Ckpts\",runs+f\"ckpt_3_less_lr.pt\"))\n",
        "      '''\n",
        "\n",
        "    with torch.no_grad():\n",
        "\n",
        "        pbar = tqdm(valloader)\n",
        "        val_loss = 0\n",
        "        val_acc_mean = 0\n",
        "\n",
        "        #cls_model.eval()\n",
        "\n",
        "        timm_vit_model.eval()\n",
        "\n",
        "        for i, (images, labels, seg) in enumerate(pbar):\n",
        "\n",
        "            zero_input = torch.empty(seg.shape[0], 1, seg.shape[2], seg.shape[-1])\n",
        "\n",
        "            add_zero = torch.zeros_like(zero_input).to(device)\n",
        "\n",
        "            output_seg = torch.concat((seg, add_zero), dim = 1)\n",
        "\n",
        "            output_final = images + output_seg\n",
        "\n",
        "            outputs = timm_vit_model(output_final)#(images, output_seg)#(output_final)\n",
        "\n",
        "            loss = criterion(labels, outputs)\n",
        "\n",
        "            #tp = f1_loss(seg, output_final)#iou_pytorch(seg, output_final)\n",
        "\n",
        "            #iou = iou_pytorch(seg, output_final)\n",
        "\n",
        "            #loss = loss+tp\n",
        "\n",
        "            outputs = torch.nn.functional.softmax(outputs, dim = -1)\n",
        "\n",
        "            outputs = torch.argmax(outputs,dim=-1).squeeze()\n",
        "            labels = torch.argmax(labels,dim=-1).squeeze()\n",
        "\n",
        "            correct = (outputs == labels).sum().item()\n",
        "\n",
        "\n",
        "            total = labels.size(0)\n",
        "\n",
        "\n",
        "\n",
        "            accuracy = correct / total\n",
        "\n",
        "            f1 = f1_score(labels.detach().cpu().numpy(), outputs.detach().cpu().numpy(), average='macro')\n",
        "\n",
        "            pbar.set_postfix(Val_Loss=loss.item(), Val_Accuracy = accuracy, Val_F1_Score = f1) #, VAL_F1_Loss = tp.item(), IOU = iou.item())\n",
        "\n",
        "            val_loss += loss\n",
        "\n",
        "            val_acc_mean += accuracy\n",
        "\n",
        "\n",
        "            if val_loss < best_val_loss:\n",
        "\n",
        "                best_val_loss = val_loss\n",
        "\n",
        "\n",
        "                checkpoint_vit = {\n",
        "                                'model_state_dict': timm_vit_model.state_dict(),\n",
        "                                'optimizer_state_dict': optimizer.state_dict(),\n",
        "                                'scheduler_state_dict': scheduler.state_dict()\n",
        "                                                                                }\n",
        "\n",
        "\n",
        "                torch.save(checkpoint_vit, os.path.join(\"Model_Ckpts\",runs+f\"ckpt_test_less_lr_model_optimizer_scheduler_checkpoint_new_seperate_img_and_seg.pth\"))\n",
        "                #torch.save(model.state_dict(), os.path.join(\"Model_Ckpts\",runs+f\"ckpt_3_less_lr.pt\"))\n",
        "\n",
        "\n",
        "\n",
        "        print(\"###### Epoch: \", epoch,\"_\",val_acc_mean/15,\" ######\")\n",
        "        #plt.imshow(torch.argmax(output_final, dim = 1)[0].detach().cpu().numpy())\n",
        "\n",
        "    scheduler.step()\n",
        "\n",
        "\n"
      ],
      "metadata": {
        "id": "3N8BnW7_Pd-r"
      }
    },
    {
      "cell_type": "code",
      "execution_count": null,
      "outputs": [
        {
          "name": "stderr",
          "output_type": "stream",
          "text": [
            "100%|██████████| 15/15 [00:15<00:00,  1.06s/it, IOU=0.713, Train_F1_Loss=0.84, Train_Loss=0.0209] \n",
            "100%|██████████| 15/15 [00:06<00:00,  2.15it/s, IOU=0.603, VAL_F1_Loss=0.695, Val_Loss=0.0175]\n"
          ]
        },
        {
          "name": "stdout",
          "output_type": "stream",
          "text": [
            "###### Epoch:  0 _ 0.0  ######\n"
          ]
        },
        {
          "name": "stderr",
          "output_type": "stream",
          "text": [
            "100%|██████████| 15/15 [00:08<00:00,  1.75it/s, IOU=0.748, Train_F1_Loss=0.758, Train_Loss=0.026] \n",
            "100%|██████████| 15/15 [00:06<00:00,  2.19it/s, IOU=0.604, VAL_F1_Loss=0.606, Val_Loss=0.0252]\n"
          ]
        },
        {
          "name": "stdout",
          "output_type": "stream",
          "text": [
            "###### Epoch:  1 _ 0.0  ######\n"
          ]
        },
        {
          "name": "stderr",
          "output_type": "stream",
          "text": [
            "100%|██████████| 15/15 [00:08<00:00,  1.74it/s, IOU=0.771, Train_F1_Loss=0.725, Train_Loss=0.0305]\n",
            "100%|██████████| 15/15 [00:07<00:00,  1.94it/s, IOU=0.626, VAL_F1_Loss=0.765, Val_Loss=0.0193]\n"
          ]
        },
        {
          "name": "stdout",
          "output_type": "stream",
          "text": [
            "###### Epoch:  2 _ 0.0  ######\n"
          ]
        },
        {
          "name": "stderr",
          "output_type": "stream",
          "text": [
            "100%|██████████| 15/15 [00:08<00:00,  1.71it/s, IOU=0.603, Train_F1_Loss=0.688, Train_Loss=0.0262]\n",
            "100%|██████████| 15/15 [00:07<00:00,  2.04it/s, IOU=0.636, VAL_F1_Loss=0.828, Val_Loss=0.0138]\n"
          ]
        },
        {
          "name": "stdout",
          "output_type": "stream",
          "text": [
            "###### Epoch:  3 _ 0.0  ######\n"
          ]
        },
        {
          "name": "stderr",
          "output_type": "stream",
          "text": [
            "100%|██████████| 15/15 [00:08<00:00,  1.71it/s, IOU=0.68, Train_F1_Loss=0.75, Train_Loss=0.0183]  \n",
            "100%|██████████| 15/15 [00:06<00:00,  2.19it/s, IOU=0.543, VAL_F1_Loss=0.686, Val_Loss=0.0231]\n"
          ]
        },
        {
          "name": "stdout",
          "output_type": "stream",
          "text": [
            "###### Epoch:  4 _ 0.0  ######\n"
          ]
        },
        {
          "name": "stderr",
          "output_type": "stream",
          "text": [
            "100%|██████████| 15/15 [00:08<00:00,  1.71it/s, IOU=0.725, Train_F1_Loss=0.792, Train_Loss=0.02]  \n",
            "100%|██████████| 15/15 [00:10<00:00,  1.49it/s, IOU=0.72, VAL_F1_Loss=0.693, Val_Loss=0.0181] \n"
          ]
        },
        {
          "name": "stdout",
          "output_type": "stream",
          "text": [
            "###### Epoch:  5 _ 0.0  ######\n"
          ]
        },
        {
          "name": "stderr",
          "output_type": "stream",
          "text": [
            "100%|██████████| 15/15 [00:08<00:00,  1.73it/s, IOU=0.687, Train_F1_Loss=0.791, Train_Loss=0.0221]\n",
            "100%|██████████| 15/15 [00:06<00:00,  2.19it/s, IOU=0.453, VAL_F1_Loss=0.619, Val_Loss=0.0274]\n"
          ]
        },
        {
          "name": "stdout",
          "output_type": "stream",
          "text": [
            "###### Epoch:  6 _ 0.0  ######\n"
          ]
        },
        {
          "name": "stderr",
          "output_type": "stream",
          "text": [
            "100%|██████████| 15/15 [00:08<00:00,  1.71it/s, IOU=0.7, Train_F1_Loss=0.72, Train_Loss=0.0237]   \n",
            "100%|██████████| 15/15 [00:06<00:00,  2.17it/s, IOU=0.695, VAL_F1_Loss=0.86, Val_Loss=0.0155] \n"
          ]
        },
        {
          "name": "stdout",
          "output_type": "stream",
          "text": [
            "###### Epoch:  7 _ 0.0  ######\n"
          ]
        },
        {
          "name": "stderr",
          "output_type": "stream",
          "text": [
            "100%|██████████| 15/15 [00:08<00:00,  1.73it/s, IOU=0.655, Train_F1_Loss=0.74, Train_Loss=0.0204] \n",
            "100%|██████████| 15/15 [00:06<00:00,  2.17it/s, IOU=0.514, VAL_F1_Loss=0.584, Val_Loss=0.0256]\n"
          ]
        },
        {
          "name": "stdout",
          "output_type": "stream",
          "text": [
            "###### Epoch:  8 _ 0.0  ######\n"
          ]
        },
        {
          "name": "stderr",
          "output_type": "stream",
          "text": [
            "100%|██████████| 15/15 [00:08<00:00,  1.74it/s, IOU=0.665, Train_F1_Loss=0.689, Train_Loss=0.0155]\n",
            "100%|██████████| 15/15 [00:06<00:00,  2.26it/s, IOU=0.49, VAL_F1_Loss=0.695, Val_Loss=0.0296] \n"
          ]
        },
        {
          "name": "stdout",
          "output_type": "stream",
          "text": [
            "###### Epoch:  9 _ 0.0  ######\n"
          ]
        },
        {
          "name": "stderr",
          "output_type": "stream",
          "text": [
            "100%|██████████| 15/15 [00:08<00:00,  1.74it/s, IOU=0.683, Train_F1_Loss=0.67, Train_Loss=0.0248] \n",
            "100%|██████████| 15/15 [00:06<00:00,  2.29it/s, IOU=0.587, VAL_F1_Loss=0.793, Val_Loss=0.0156]\n"
          ]
        },
        {
          "name": "stdout",
          "output_type": "stream",
          "text": [
            "###### Epoch:  10 _ 0.0  ######\n"
          ]
        },
        {
          "name": "stderr",
          "output_type": "stream",
          "text": [
            "100%|██████████| 15/15 [00:08<00:00,  1.80it/s, IOU=0.692, Train_F1_Loss=0.778, Train_Loss=0.0224]\n",
            "100%|██████████| 15/15 [00:06<00:00,  2.30it/s, IOU=0.651, VAL_F1_Loss=0.765, Val_Loss=0.0176]\n"
          ]
        },
        {
          "name": "stdout",
          "output_type": "stream",
          "text": [
            "###### Epoch:  11 _ 0.0  ######\n"
          ]
        },
        {
          "name": "stderr",
          "output_type": "stream",
          "text": [
            "100%|██████████| 15/15 [00:08<00:00,  1.80it/s, IOU=0.739, Train_F1_Loss=0.814, Train_Loss=0.0277]\n",
            "100%|██████████| 15/15 [00:06<00:00,  2.29it/s, IOU=0.552, VAL_F1_Loss=0.643, Val_Loss=0.0212]\n"
          ]
        },
        {
          "name": "stdout",
          "output_type": "stream",
          "text": [
            "###### Epoch:  12 _ 0.0  ######\n"
          ]
        },
        {
          "name": "stderr",
          "output_type": "stream",
          "text": [
            "100%|██████████| 15/15 [00:08<00:00,  1.80it/s, IOU=0.698, Train_F1_Loss=0.68, Train_Loss=0.0243] \n",
            "100%|██████████| 15/15 [00:06<00:00,  2.31it/s, IOU=0.69, VAL_F1_Loss=0.702, Val_Loss=0.0151] \n"
          ]
        },
        {
          "name": "stdout",
          "output_type": "stream",
          "text": [
            "###### Epoch:  13 _ 0.0  ######\n"
          ]
        },
        {
          "name": "stderr",
          "output_type": "stream",
          "text": [
            "100%|██████████| 15/15 [00:08<00:00,  1.76it/s, IOU=0.676, Train_F1_Loss=0.795, Train_Loss=0.0146]\n",
            "100%|██████████| 15/15 [00:06<00:00,  2.34it/s, IOU=0.553, VAL_F1_Loss=0.768, Val_Loss=0.0177]\n"
          ]
        },
        {
          "name": "stdout",
          "output_type": "stream",
          "text": [
            "###### Epoch:  14 _ 0.0  ######\n"
          ]
        },
        {
          "name": "stderr",
          "output_type": "stream",
          "text": [
            "100%|██████████| 15/15 [00:08<00:00,  1.79it/s, IOU=0.694, Train_F1_Loss=0.683, Train_Loss=0.0364]\n",
            "100%|██████████| 15/15 [00:06<00:00,  2.24it/s, IOU=0.615, VAL_F1_Loss=0.881, Val_Loss=0.014] \n"
          ]
        },
        {
          "name": "stdout",
          "output_type": "stream",
          "text": [
            "###### Epoch:  15 _ 0.0  ######\n"
          ]
        },
        {
          "name": "stderr",
          "output_type": "stream",
          "text": [
            "100%|██████████| 15/15 [00:08<00:00,  1.72it/s, IOU=0.697, Train_F1_Loss=0.7, Train_Loss=0.0197]  \n",
            "100%|██████████| 15/15 [00:06<00:00,  2.23it/s, IOU=0.495, VAL_F1_Loss=0.667, Val_Loss=0.0264]\n"
          ]
        },
        {
          "name": "stdout",
          "output_type": "stream",
          "text": [
            "###### Epoch:  16 _ 0.0  ######\n"
          ]
        },
        {
          "name": "stderr",
          "output_type": "stream",
          "text": [
            "100%|██████████| 15/15 [00:08<00:00,  1.74it/s, IOU=0.708, Train_F1_Loss=0.808, Train_Loss=0.0184]\n",
            "100%|██████████| 15/15 [00:06<00:00,  2.29it/s, IOU=0.635, VAL_F1_Loss=0.771, Val_Loss=0.0238]\n"
          ]
        },
        {
          "name": "stdout",
          "output_type": "stream",
          "text": [
            "###### Epoch:  17 _ 0.0  ######\n"
          ]
        },
        {
          "name": "stderr",
          "output_type": "stream",
          "text": [
            "100%|██████████| 15/15 [00:08<00:00,  1.79it/s, IOU=0.808, Train_F1_Loss=0.892, Train_Loss=0.0153]\n",
            "100%|██████████| 15/15 [00:06<00:00,  2.32it/s, IOU=0.643, VAL_F1_Loss=0.921, Val_Loss=0.01]  \n"
          ]
        },
        {
          "name": "stdout",
          "output_type": "stream",
          "text": [
            "###### Epoch:  18 _ 0.0  ######\n"
          ]
        },
        {
          "name": "stderr",
          "output_type": "stream",
          "text": [
            "100%|██████████| 15/15 [00:08<00:00,  1.79it/s, IOU=0.619, Train_F1_Loss=0.719, Train_Loss=0.0269]\n",
            "100%|██████████| 15/15 [00:06<00:00,  2.33it/s, IOU=0.46, VAL_F1_Loss=0.623, Val_Loss=0.0228] \n"
          ]
        },
        {
          "name": "stdout",
          "output_type": "stream",
          "text": [
            "###### Epoch:  19 _ 0.0  ######\n"
          ]
        },
        {
          "name": "stderr",
          "output_type": "stream",
          "text": [
            "100%|██████████| 15/15 [00:08<00:00,  1.79it/s, IOU=0.656, Train_F1_Loss=0.799, Train_Loss=0.0173]\n",
            "100%|██████████| 15/15 [00:06<00:00,  2.33it/s, IOU=0.768, VAL_F1_Loss=0.906, Val_Loss=0.00956]\n"
          ]
        },
        {
          "name": "stdout",
          "output_type": "stream",
          "text": [
            "###### Epoch:  20 _ 0.0  ######\n"
          ]
        },
        {
          "name": "stderr",
          "output_type": "stream",
          "text": [
            "100%|██████████| 15/15 [00:08<00:00,  1.79it/s, IOU=0.616, Train_F1_Loss=0.696, Train_Loss=0.0222]\n",
            "100%|██████████| 15/15 [00:06<00:00,  2.32it/s, IOU=0.682, VAL_F1_Loss=0.806, Val_Loss=0.0151]\n"
          ]
        },
        {
          "name": "stdout",
          "output_type": "stream",
          "text": [
            "###### Epoch:  21 _ 0.0  ######\n"
          ]
        },
        {
          "name": "stderr",
          "output_type": "stream",
          "text": [
            "100%|██████████| 15/15 [00:08<00:00,  1.78it/s, IOU=0.691, Train_F1_Loss=0.821, Train_Loss=0.019] \n",
            "100%|██████████| 15/15 [00:06<00:00,  2.30it/s, IOU=0.477, VAL_F1_Loss=0.664, Val_Loss=0.0228]\n"
          ]
        },
        {
          "name": "stdout",
          "output_type": "stream",
          "text": [
            "###### Epoch:  22 _ 0.0  ######\n"
          ]
        },
        {
          "name": "stderr",
          "output_type": "stream",
          "text": [
            "100%|██████████| 15/15 [00:08<00:00,  1.76it/s, IOU=0.735, Train_F1_Loss=0.789, Train_Loss=0.0242]\n",
            "100%|██████████| 15/15 [00:06<00:00,  2.22it/s, IOU=0.57, VAL_F1_Loss=0.772, Val_Loss=0.0184] \n"
          ]
        },
        {
          "name": "stdout",
          "output_type": "stream",
          "text": [
            "###### Epoch:  23 _ 0.0  ######\n"
          ]
        },
        {
          "name": "stderr",
          "output_type": "stream",
          "text": [
            "100%|██████████| 15/15 [00:08<00:00,  1.70it/s, IOU=0.706, Train_F1_Loss=0.752, Train_Loss=0.0238]\n",
            "100%|██████████| 15/15 [00:06<00:00,  2.31it/s, IOU=0.683, VAL_F1_Loss=0.655, Val_Loss=0.0226]\n"
          ]
        },
        {
          "name": "stdout",
          "output_type": "stream",
          "text": [
            "###### Epoch:  24 _ 0.0  ######\n"
          ]
        },
        {
          "name": "stderr",
          "output_type": "stream",
          "text": [
            "100%|██████████| 15/15 [00:08<00:00,  1.78it/s, IOU=0.672, Train_F1_Loss=0.748, Train_Loss=0.0212]\n",
            "100%|██████████| 15/15 [00:06<00:00,  2.32it/s, IOU=0.567, VAL_F1_Loss=0.683, Val_Loss=0.0194]\n"
          ]
        },
        {
          "name": "stdout",
          "output_type": "stream",
          "text": [
            "###### Epoch:  25 _ 0.0  ######\n"
          ]
        },
        {
          "name": "stderr",
          "output_type": "stream",
          "text": [
            "100%|██████████| 15/15 [00:08<00:00,  1.80it/s, IOU=0.657, Train_F1_Loss=0.713, Train_Loss=0.0258]\n",
            "100%|██████████| 15/15 [00:06<00:00,  2.24it/s, IOU=0.681, VAL_F1_Loss=0.836, Val_Loss=0.0118]\n"
          ]
        },
        {
          "name": "stdout",
          "output_type": "stream",
          "text": [
            "###### Epoch:  26 _ 0.0  ######\n"
          ]
        },
        {
          "name": "stderr",
          "output_type": "stream",
          "text": [
            "100%|██████████| 15/15 [00:08<00:00,  1.71it/s, IOU=0.657, Train_F1_Loss=0.712, Train_Loss=0.0241]\n",
            "100%|██████████| 15/15 [00:06<00:00,  2.28it/s, IOU=0.593, VAL_F1_Loss=0.618, Val_Loss=0.0221]\n"
          ]
        },
        {
          "name": "stdout",
          "output_type": "stream",
          "text": [
            "###### Epoch:  27 _ 0.0  ######\n"
          ]
        },
        {
          "name": "stderr",
          "output_type": "stream",
          "text": [
            "100%|██████████| 15/15 [00:08<00:00,  1.78it/s, IOU=0.659, Train_F1_Loss=0.757, Train_Loss=0.025] \n",
            "100%|██████████| 15/15 [00:06<00:00,  2.35it/s, IOU=0.592, VAL_F1_Loss=0.709, Val_Loss=0.0183]\n"
          ]
        },
        {
          "name": "stdout",
          "output_type": "stream",
          "text": [
            "###### Epoch:  28 _ 0.0  ######\n"
          ]
        },
        {
          "name": "stderr",
          "output_type": "stream",
          "text": [
            "100%|██████████| 15/15 [00:08<00:00,  1.78it/s, IOU=0.773, Train_F1_Loss=0.822, Train_Loss=0.0193]\n",
            "100%|██████████| 15/15 [00:06<00:00,  2.34it/s, IOU=0.564, VAL_F1_Loss=0.678, Val_Loss=0.0307]\n"
          ]
        },
        {
          "name": "stdout",
          "output_type": "stream",
          "text": [
            "###### Epoch:  29 _ 0.0  ######\n"
          ]
        },
        {
          "name": "stderr",
          "output_type": "stream",
          "text": [
            "100%|██████████| 15/15 [00:08<00:00,  1.80it/s, IOU=0.657, Train_F1_Loss=0.646, Train_Loss=0.0295]\n",
            "100%|██████████| 15/15 [00:06<00:00,  2.31it/s, IOU=0.656, VAL_F1_Loss=0.65, Val_Loss=0.0239] \n"
          ]
        },
        {
          "name": "stdout",
          "output_type": "stream",
          "text": [
            "###### Epoch:  30 _ 0.0  ######\n"
          ]
        },
        {
          "name": "stderr",
          "output_type": "stream",
          "text": [
            "100%|██████████| 15/15 [00:08<00:00,  1.79it/s, IOU=0.751, Train_F1_Loss=0.694, Train_Loss=0.02]  \n",
            "100%|██████████| 15/15 [00:06<00:00,  2.37it/s, IOU=0.696, VAL_F1_Loss=0.737, Val_Loss=0.015] \n"
          ]
        },
        {
          "name": "stdout",
          "output_type": "stream",
          "text": [
            "###### Epoch:  31 _ 0.0  ######\n"
          ]
        },
        {
          "name": "stderr",
          "output_type": "stream",
          "text": [
            "100%|██████████| 15/15 [00:08<00:00,  1.80it/s, IOU=0.775, Train_F1_Loss=0.849, Train_Loss=0.0231]\n",
            "100%|██████████| 15/15 [00:06<00:00,  2.20it/s, IOU=0.568, VAL_F1_Loss=0.743, Val_Loss=0.0237]\n"
          ]
        },
        {
          "name": "stdout",
          "output_type": "stream",
          "text": [
            "###### Epoch:  32 _ 0.0  ######\n"
          ]
        },
        {
          "name": "stderr",
          "output_type": "stream",
          "text": [
            "100%|██████████| 15/15 [00:08<00:00,  1.72it/s, IOU=0.623, Train_F1_Loss=0.681, Train_Loss=0.0202]\n",
            "100%|██████████| 15/15 [00:06<00:00,  2.35it/s, IOU=0.592, VAL_F1_Loss=0.677, Val_Loss=0.0226]\n"
          ]
        },
        {
          "name": "stdout",
          "output_type": "stream",
          "text": [
            "###### Epoch:  33 _ 0.0  ######\n"
          ]
        },
        {
          "name": "stderr",
          "output_type": "stream",
          "text": [
            "100%|██████████| 15/15 [00:08<00:00,  1.78it/s, IOU=0.675, Train_F1_Loss=0.809, Train_Loss=0.0241]\n",
            "100%|██████████| 15/15 [00:06<00:00,  2.36it/s, IOU=0.648, VAL_F1_Loss=0.752, Val_Loss=0.022] \n"
          ]
        },
        {
          "name": "stdout",
          "output_type": "stream",
          "text": [
            "###### Epoch:  34 _ 0.0  ######\n"
          ]
        },
        {
          "name": "stderr",
          "output_type": "stream",
          "text": [
            "100%|██████████| 15/15 [00:08<00:00,  1.78it/s, IOU=0.628, Train_F1_Loss=0.661, Train_Loss=0.0279]\n",
            "100%|██████████| 15/15 [00:06<00:00,  2.35it/s, IOU=0.612, VAL_F1_Loss=0.693, Val_Loss=0.0209]\n"
          ]
        },
        {
          "name": "stdout",
          "output_type": "stream",
          "text": [
            "###### Epoch:  35 _ 0.0  ######\n"
          ]
        },
        {
          "name": "stderr",
          "output_type": "stream",
          "text": [
            "100%|██████████| 15/15 [00:08<00:00,  1.78it/s, IOU=0.702, Train_F1_Loss=0.717, Train_Loss=0.019] \n",
            "100%|██████████| 15/15 [00:06<00:00,  2.33it/s, IOU=0.555, VAL_F1_Loss=0.682, Val_Loss=0.0207]\n"
          ]
        },
        {
          "name": "stdout",
          "output_type": "stream",
          "text": [
            "###### Epoch:  36 _ 0.0  ######\n"
          ]
        },
        {
          "name": "stderr",
          "output_type": "stream",
          "text": [
            "100%|██████████| 15/15 [00:08<00:00,  1.78it/s, IOU=0.581, Train_F1_Loss=0.808, Train_Loss=0.0197]\n",
            "100%|██████████| 15/15 [00:06<00:00,  2.30it/s, IOU=0.649, VAL_F1_Loss=0.73, Val_Loss=0.0201] \n"
          ]
        },
        {
          "name": "stdout",
          "output_type": "stream",
          "text": [
            "###### Epoch:  37 _ 0.0  ######\n"
          ]
        },
        {
          "name": "stderr",
          "output_type": "stream",
          "text": [
            "100%|██████████| 15/15 [00:08<00:00,  1.77it/s, IOU=0.746, Train_F1_Loss=0.867, Train_Loss=0.0185]\n",
            "100%|██████████| 15/15 [00:06<00:00,  2.27it/s, IOU=0.615, VAL_F1_Loss=0.785, Val_Loss=0.0195]\n"
          ]
        },
        {
          "name": "stdout",
          "output_type": "stream",
          "text": [
            "###### Epoch:  38 _ 0.0  ######\n"
          ]
        },
        {
          "name": "stderr",
          "output_type": "stream",
          "text": [
            "100%|██████████| 15/15 [00:08<00:00,  1.77it/s, IOU=0.631, Train_F1_Loss=0.679, Train_Loss=0.0232]\n",
            "100%|██████████| 15/15 [00:06<00:00,  2.29it/s, IOU=0.641, VAL_F1_Loss=0.664, Val_Loss=0.0223]\n"
          ]
        },
        {
          "name": "stdout",
          "output_type": "stream",
          "text": [
            "###### Epoch:  39 _ 0.0  ######\n"
          ]
        },
        {
          "name": "stderr",
          "output_type": "stream",
          "text": [
            "100%|██████████| 15/15 [00:08<00:00,  1.77it/s, IOU=0.729, Train_F1_Loss=0.768, Train_Loss=0.0164]\n",
            "100%|██████████| 15/15 [00:06<00:00,  2.31it/s, IOU=0.614, VAL_F1_Loss=0.706, Val_Loss=0.028] \n"
          ]
        },
        {
          "name": "stdout",
          "output_type": "stream",
          "text": [
            "###### Epoch:  40 _ 0.0  ######\n"
          ]
        },
        {
          "name": "stderr",
          "output_type": "stream",
          "text": [
            "100%|██████████| 15/15 [00:08<00:00,  1.77it/s, IOU=0.687, Train_F1_Loss=0.741, Train_Loss=0.0215]\n",
            "100%|██████████| 15/15 [00:06<00:00,  2.30it/s, IOU=0.546, VAL_F1_Loss=0.684, Val_Loss=0.0224]\n"
          ]
        },
        {
          "name": "stdout",
          "output_type": "stream",
          "text": [
            "###### Epoch:  41 _ 0.0  ######\n"
          ]
        },
        {
          "name": "stderr",
          "output_type": "stream",
          "text": [
            "100%|██████████| 15/15 [00:08<00:00,  1.76it/s, IOU=0.634, Train_F1_Loss=0.771, Train_Loss=0.0217]\n",
            "100%|██████████| 15/15 [00:06<00:00,  2.23it/s, IOU=0.589, VAL_F1_Loss=0.649, Val_Loss=0.0235]\n"
          ]
        },
        {
          "name": "stdout",
          "output_type": "stream",
          "text": [
            "###### Epoch:  42 _ 0.0  ######\n"
          ]
        },
        {
          "name": "stderr",
          "output_type": "stream",
          "text": [
            "100%|██████████| 15/15 [00:08<00:00,  1.72it/s, IOU=0.752, Train_F1_Loss=0.74, Train_Loss=0.026]  \n",
            "100%|██████████| 15/15 [00:06<00:00,  2.24it/s, IOU=0.584, VAL_F1_Loss=0.711, Val_Loss=0.0256]\n"
          ]
        },
        {
          "name": "stdout",
          "output_type": "stream",
          "text": [
            "###### Epoch:  43 _ 0.0  ######\n"
          ]
        },
        {
          "name": "stderr",
          "output_type": "stream",
          "text": [
            "100%|██████████| 15/15 [00:08<00:00,  1.71it/s, IOU=0.713, Train_F1_Loss=0.718, Train_Loss=0.027] \n",
            "100%|██████████| 15/15 [00:06<00:00,  2.25it/s, IOU=0.537, VAL_F1_Loss=0.632, Val_Loss=0.0206]\n"
          ]
        },
        {
          "name": "stdout",
          "output_type": "stream",
          "text": [
            "###### Epoch:  44 _ 0.0  ######\n"
          ]
        },
        {
          "name": "stderr",
          "output_type": "stream",
          "text": [
            "100%|██████████| 15/15 [00:08<00:00,  1.75it/s, IOU=0.722, Train_F1_Loss=0.766, Train_Loss=0.016] \n",
            "100%|██████████| 15/15 [00:06<00:00,  2.27it/s, IOU=0.596, VAL_F1_Loss=0.777, Val_Loss=0.0222]\n"
          ]
        },
        {
          "name": "stdout",
          "output_type": "stream",
          "text": [
            "###### Epoch:  45 _ 0.0  ######\n"
          ]
        },
        {
          "name": "stderr",
          "output_type": "stream",
          "text": [
            "100%|██████████| 15/15 [00:08<00:00,  1.72it/s, IOU=0.71, Train_F1_Loss=0.689, Train_Loss=0.0225] \n",
            "100%|██████████| 15/15 [00:06<00:00,  2.30it/s, IOU=0.605, VAL_F1_Loss=0.688, Val_Loss=0.0219]\n"
          ]
        },
        {
          "name": "stdout",
          "output_type": "stream",
          "text": [
            "###### Epoch:  46 _ 0.0  ######\n"
          ]
        },
        {
          "name": "stderr",
          "output_type": "stream",
          "text": [
            "100%|██████████| 15/15 [00:08<00:00,  1.77it/s, IOU=0.742, Train_F1_Loss=0.77, Train_Loss=0.0235] \n",
            "100%|██████████| 15/15 [00:06<00:00,  2.31it/s, IOU=0.642, VAL_F1_Loss=0.685, Val_Loss=0.0285]\n"
          ]
        },
        {
          "name": "stdout",
          "output_type": "stream",
          "text": [
            "###### Epoch:  47 _ 0.0  ######\n"
          ]
        },
        {
          "name": "stderr",
          "output_type": "stream",
          "text": [
            "100%|██████████| 15/15 [00:08<00:00,  1.78it/s, IOU=0.69, Train_F1_Loss=0.675, Train_Loss=0.0328] \n",
            "100%|██████████| 15/15 [00:06<00:00,  2.29it/s, IOU=0.62, VAL_F1_Loss=0.723, Val_Loss=0.0153] \n"
          ]
        },
        {
          "name": "stdout",
          "output_type": "stream",
          "text": [
            "###### Epoch:  48 _ 0.0  ######\n"
          ]
        },
        {
          "name": "stderr",
          "output_type": "stream",
          "text": [
            "100%|██████████| 15/15 [00:08<00:00,  1.73it/s, IOU=0.655, Train_F1_Loss=0.717, Train_Loss=0.0263]\n",
            "100%|██████████| 15/15 [00:06<00:00,  2.31it/s, IOU=0.514, VAL_F1_Loss=0.614, Val_Loss=0.0275]\n"
          ]
        },
        {
          "name": "stdout",
          "output_type": "stream",
          "text": [
            "###### Epoch:  49 _ 0.0  ######\n"
          ]
        },
        {
          "name": "stderr",
          "output_type": "stream",
          "text": [
            "100%|██████████| 15/15 [00:08<00:00,  1.78it/s, IOU=0.809, Train_F1_Loss=0.821, Train_Loss=0.0277]\n",
            "100%|██████████| 15/15 [00:06<00:00,  2.31it/s, IOU=0.575, VAL_F1_Loss=0.739, Val_Loss=0.0239]\n"
          ]
        },
        {
          "name": "stdout",
          "output_type": "stream",
          "text": [
            "###### Epoch:  50 _ 0.0  ######\n"
          ]
        },
        {
          "name": "stderr",
          "output_type": "stream",
          "text": [
            "100%|██████████| 15/15 [00:08<00:00,  1.77it/s, IOU=0.636, Train_F1_Loss=0.612, Train_Loss=0.0224]\n",
            "100%|██████████| 15/15 [00:06<00:00,  2.31it/s, IOU=0.521, VAL_F1_Loss=0.686, Val_Loss=0.0202]\n"
          ]
        },
        {
          "name": "stdout",
          "output_type": "stream",
          "text": [
            "###### Epoch:  51 _ 0.0  ######\n"
          ]
        },
        {
          "name": "stderr",
          "output_type": "stream",
          "text": [
            "100%|██████████| 15/15 [00:08<00:00,  1.76it/s, IOU=0.513, Train_F1_Loss=0.627, Train_Loss=0.034] \n",
            "100%|██████████| 15/15 [00:06<00:00,  2.32it/s, IOU=0.581, VAL_F1_Loss=0.812, Val_Loss=0.0228]\n"
          ]
        },
        {
          "name": "stdout",
          "output_type": "stream",
          "text": [
            "###### Epoch:  52 _ 0.0  ######\n"
          ]
        },
        {
          "name": "stderr",
          "output_type": "stream",
          "text": [
            "100%|██████████| 15/15 [00:08<00:00,  1.78it/s, IOU=0.739, Train_F1_Loss=0.666, Train_Loss=0.0183]\n",
            "100%|██████████| 15/15 [00:06<00:00,  2.30it/s, IOU=0.617, VAL_F1_Loss=0.772, Val_Loss=0.0211]\n"
          ]
        },
        {
          "name": "stdout",
          "output_type": "stream",
          "text": [
            "###### Epoch:  53 _ 0.0  ######\n"
          ]
        },
        {
          "name": "stderr",
          "output_type": "stream",
          "text": [
            "100%|██████████| 15/15 [00:08<00:00,  1.75it/s, IOU=0.664, Train_F1_Loss=0.757, Train_Loss=0.0227]\n",
            "100%|██████████| 15/15 [00:06<00:00,  2.31it/s, IOU=0.531, VAL_F1_Loss=0.585, Val_Loss=0.0263]\n"
          ]
        },
        {
          "name": "stdout",
          "output_type": "stream",
          "text": [
            "###### Epoch:  54 _ 0.0  ######\n"
          ]
        },
        {
          "name": "stderr",
          "output_type": "stream",
          "text": [
            "100%|██████████| 15/15 [00:08<00:00,  1.77it/s, IOU=0.607, Train_F1_Loss=0.786, Train_Loss=0.0192]\n",
            "100%|██████████| 15/15 [00:06<00:00,  2.32it/s, IOU=0.57, VAL_F1_Loss=0.736, Val_Loss=0.0176] \n"
          ]
        },
        {
          "name": "stdout",
          "output_type": "stream",
          "text": [
            "###### Epoch:  55 _ 0.0  ######\n"
          ]
        },
        {
          "name": "stderr",
          "output_type": "stream",
          "text": [
            "100%|██████████| 15/15 [00:08<00:00,  1.77it/s, IOU=0.672, Train_F1_Loss=0.64, Train_Loss=0.0409] \n",
            "100%|██████████| 15/15 [00:06<00:00,  2.30it/s, IOU=0.62, VAL_F1_Loss=0.829, Val_Loss=0.0143] \n"
          ]
        },
        {
          "name": "stdout",
          "output_type": "stream",
          "text": [
            "###### Epoch:  56 _ 0.0  ######\n"
          ]
        },
        {
          "name": "stderr",
          "output_type": "stream",
          "text": [
            "100%|██████████| 15/15 [00:08<00:00,  1.77it/s, IOU=0.668, Train_F1_Loss=0.832, Train_Loss=0.0158]\n",
            "100%|██████████| 15/15 [00:06<00:00,  2.31it/s, IOU=0.63, VAL_F1_Loss=0.701, Val_Loss=0.0163] \n"
          ]
        },
        {
          "name": "stdout",
          "output_type": "stream",
          "text": [
            "###### Epoch:  57 _ 0.0  ######\n"
          ]
        },
        {
          "name": "stderr",
          "output_type": "stream",
          "text": [
            "100%|██████████| 15/15 [00:08<00:00,  1.78it/s, IOU=0.58, Train_F1_Loss=0.679, Train_Loss=0.0223] \n",
            "100%|██████████| 15/15 [00:06<00:00,  2.33it/s, IOU=0.688, VAL_F1_Loss=0.889, Val_Loss=0.0114]\n"
          ]
        },
        {
          "name": "stdout",
          "output_type": "stream",
          "text": [
            "###### Epoch:  58 _ 0.0  ######\n"
          ]
        },
        {
          "name": "stderr",
          "output_type": "stream",
          "text": [
            "100%|██████████| 15/15 [00:08<00:00,  1.78it/s, IOU=0.717, Train_F1_Loss=0.628, Train_Loss=0.0186]\n",
            "100%|██████████| 15/15 [00:06<00:00,  2.32it/s, IOU=0.584, VAL_F1_Loss=0.743, Val_Loss=0.0222]\n"
          ]
        },
        {
          "name": "stdout",
          "output_type": "stream",
          "text": [
            "###### Epoch:  59 _ 0.0  ######\n"
          ]
        },
        {
          "name": "stderr",
          "output_type": "stream",
          "text": [
            "100%|██████████| 15/15 [00:08<00:00,  1.78it/s, IOU=0.655, Train_F1_Loss=0.793, Train_Loss=0.0211]\n",
            "100%|██████████| 15/15 [00:06<00:00,  2.32it/s, IOU=0.669, VAL_F1_Loss=0.661, Val_Loss=0.0197]\n"
          ]
        },
        {
          "name": "stdout",
          "output_type": "stream",
          "text": [
            "###### Epoch:  60 _ 0.0  ######\n"
          ]
        },
        {
          "name": "stderr",
          "output_type": "stream",
          "text": [
            "100%|██████████| 15/15 [00:08<00:00,  1.79it/s, IOU=0.683, Train_F1_Loss=0.691, Train_Loss=0.0199]\n",
            "100%|██████████| 15/15 [00:06<00:00,  2.33it/s, IOU=0.605, VAL_F1_Loss=0.753, Val_Loss=0.021] \n"
          ]
        },
        {
          "name": "stdout",
          "output_type": "stream",
          "text": [
            "###### Epoch:  61 _ 0.0  ######\n"
          ]
        },
        {
          "name": "stderr",
          "output_type": "stream",
          "text": [
            "100%|██████████| 15/15 [00:08<00:00,  1.78it/s, IOU=0.674, Train_F1_Loss=0.8, Train_Loss=0.0218]  \n",
            "100%|██████████| 15/15 [00:06<00:00,  2.35it/s, IOU=0.567, VAL_F1_Loss=0.794, Val_Loss=0.015] \n"
          ]
        },
        {
          "name": "stdout",
          "output_type": "stream",
          "text": [
            "###### Epoch:  62 _ 0.0  ######\n"
          ]
        },
        {
          "name": "stderr",
          "output_type": "stream",
          "text": [
            "100%|██████████| 15/15 [00:08<00:00,  1.79it/s, IOU=0.661, Train_F1_Loss=0.643, Train_Loss=0.027] \n",
            "100%|██████████| 15/15 [00:06<00:00,  2.27it/s, IOU=0.591, VAL_F1_Loss=0.731, Val_Loss=0.0236]\n"
          ]
        },
        {
          "name": "stdout",
          "output_type": "stream",
          "text": [
            "###### Epoch:  63 _ 0.0  ######\n"
          ]
        },
        {
          "name": "stderr",
          "output_type": "stream",
          "text": [
            "100%|██████████| 15/15 [00:08<00:00,  1.78it/s, IOU=0.857, Train_F1_Loss=0.864, Train_Loss=0.0106]\n",
            "100%|██████████| 15/15 [00:06<00:00,  2.34it/s, IOU=0.619, VAL_F1_Loss=0.625, Val_Loss=0.0261]\n"
          ]
        },
        {
          "name": "stdout",
          "output_type": "stream",
          "text": [
            "###### Epoch:  64 _ 0.0  ######\n"
          ]
        },
        {
          "name": "stderr",
          "output_type": "stream",
          "text": [
            "100%|██████████| 15/15 [00:08<00:00,  1.79it/s, IOU=0.771, Train_F1_Loss=0.851, Train_Loss=0.0262]\n",
            "100%|██████████| 15/15 [00:06<00:00,  2.31it/s, IOU=0.72, VAL_F1_Loss=0.862, Val_Loss=0.014]  \n"
          ]
        },
        {
          "name": "stdout",
          "output_type": "stream",
          "text": [
            "###### Epoch:  65 _ 0.0  ######\n"
          ]
        },
        {
          "name": "stderr",
          "output_type": "stream",
          "text": [
            "100%|██████████| 15/15 [00:08<00:00,  1.79it/s, IOU=0.685, Train_F1_Loss=0.814, Train_Loss=0.0243]\n",
            "100%|██████████| 15/15 [00:06<00:00,  2.32it/s, IOU=0.57, VAL_F1_Loss=0.692, Val_Loss=0.0297] \n"
          ]
        },
        {
          "name": "stdout",
          "output_type": "stream",
          "text": [
            "###### Epoch:  66 _ 0.0  ######\n"
          ]
        },
        {
          "name": "stderr",
          "output_type": "stream",
          "text": [
            "100%|██████████| 15/15 [00:08<00:00,  1.79it/s, IOU=0.77, Train_F1_Loss=0.812, Train_Loss=0.0312] \n",
            "100%|██████████| 15/15 [00:06<00:00,  2.33it/s, IOU=0.615, VAL_F1_Loss=0.704, Val_Loss=0.0216]\n"
          ]
        },
        {
          "name": "stdout",
          "output_type": "stream",
          "text": [
            "###### Epoch:  67 _ 0.0  ######\n"
          ]
        },
        {
          "name": "stderr",
          "output_type": "stream",
          "text": [
            "100%|██████████| 15/15 [00:08<00:00,  1.78it/s, IOU=0.672, Train_F1_Loss=0.765, Train_Loss=0.0212]\n",
            "100%|██████████| 15/15 [00:06<00:00,  2.34it/s, IOU=0.596, VAL_F1_Loss=0.676, Val_Loss=0.0147]\n"
          ]
        },
        {
          "name": "stdout",
          "output_type": "stream",
          "text": [
            "###### Epoch:  68 _ 0.0  ######\n"
          ]
        },
        {
          "name": "stderr",
          "output_type": "stream",
          "text": [
            "100%|██████████| 15/15 [00:08<00:00,  1.78it/s, IOU=0.682, Train_F1_Loss=0.78, Train_Loss=0.0196] \n",
            "100%|██████████| 15/15 [00:06<00:00,  2.33it/s, IOU=0.671, VAL_F1_Loss=0.817, Val_Loss=0.0142]\n"
          ]
        },
        {
          "name": "stdout",
          "output_type": "stream",
          "text": [
            "###### Epoch:  69 _ 0.0  ######\n"
          ]
        },
        {
          "name": "stderr",
          "output_type": "stream",
          "text": [
            "100%|██████████| 15/15 [00:08<00:00,  1.78it/s, IOU=0.746, Train_F1_Loss=0.754, Train_Loss=0.0262]\n",
            "100%|██████████| 15/15 [00:06<00:00,  2.30it/s, IOU=0.436, VAL_F1_Loss=0.548, Val_Loss=0.0307]\n"
          ]
        },
        {
          "name": "stdout",
          "output_type": "stream",
          "text": [
            "###### Epoch:  70 _ 0.0  ######\n"
          ]
        },
        {
          "name": "stderr",
          "output_type": "stream",
          "text": [
            "100%|██████████| 15/15 [00:08<00:00,  1.77it/s, IOU=0.689, Train_F1_Loss=0.798, Train_Loss=0.0244]\n",
            "100%|██████████| 15/15 [00:06<00:00,  2.27it/s, IOU=0.525, VAL_F1_Loss=0.667, Val_Loss=0.0269]\n"
          ]
        },
        {
          "name": "stdout",
          "output_type": "stream",
          "text": [
            "###### Epoch:  71 _ 0.0  ######\n"
          ]
        },
        {
          "name": "stderr",
          "output_type": "stream",
          "text": [
            "100%|██████████| 15/15 [00:08<00:00,  1.78it/s, IOU=0.674, Train_F1_Loss=0.77, Train_Loss=0.0208] \n",
            "100%|██████████| 15/15 [00:06<00:00,  2.32it/s, IOU=0.623, VAL_F1_Loss=0.68, Val_Loss=0.0197] \n"
          ]
        },
        {
          "name": "stdout",
          "output_type": "stream",
          "text": [
            "###### Epoch:  72 _ 0.0  ######\n"
          ]
        },
        {
          "name": "stderr",
          "output_type": "stream",
          "text": [
            "100%|██████████| 15/15 [00:08<00:00,  1.78it/s, IOU=0.646, Train_F1_Loss=0.742, Train_Loss=0.0209]\n",
            "100%|██████████| 15/15 [00:06<00:00,  2.31it/s, IOU=0.587, VAL_F1_Loss=0.678, Val_Loss=0.0216]\n"
          ]
        },
        {
          "name": "stdout",
          "output_type": "stream",
          "text": [
            "###### Epoch:  73 _ 0.0  ######\n"
          ]
        },
        {
          "name": "stderr",
          "output_type": "stream",
          "text": [
            "100%|██████████| 15/15 [00:08<00:00,  1.78it/s, IOU=0.734, Train_F1_Loss=0.661, Train_Loss=0.0174]\n",
            "100%|██████████| 15/15 [00:06<00:00,  2.34it/s, IOU=0.675, VAL_F1_Loss=0.775, Val_Loss=0.0115]\n"
          ]
        },
        {
          "name": "stdout",
          "output_type": "stream",
          "text": [
            "###### Epoch:  74 _ 0.0  ######\n"
          ]
        },
        {
          "name": "stderr",
          "output_type": "stream",
          "text": [
            "100%|██████████| 15/15 [00:08<00:00,  1.80it/s, IOU=0.723, Train_F1_Loss=0.788, Train_Loss=0.0262]\n",
            "100%|██████████| 15/15 [00:06<00:00,  2.34it/s, IOU=0.479, VAL_F1_Loss=0.59, Val_Loss=0.033]  \n"
          ]
        },
        {
          "name": "stdout",
          "output_type": "stream",
          "text": [
            "###### Epoch:  75 _ 0.0  ######\n"
          ]
        },
        {
          "name": "stderr",
          "output_type": "stream",
          "text": [
            "100%|██████████| 15/15 [00:08<00:00,  1.80it/s, IOU=0.666, Train_F1_Loss=0.719, Train_Loss=0.019] \n",
            "100%|██████████| 15/15 [00:06<00:00,  2.35it/s, IOU=0.636, VAL_F1_Loss=0.861, Val_Loss=0.0134]\n"
          ]
        },
        {
          "name": "stdout",
          "output_type": "stream",
          "text": [
            "###### Epoch:  76 _ 0.0  ######\n"
          ]
        },
        {
          "name": "stderr",
          "output_type": "stream",
          "text": [
            "100%|██████████| 15/15 [00:08<00:00,  1.80it/s, IOU=0.711, Train_F1_Loss=0.701, Train_Loss=0.0338]\n",
            "100%|██████████| 15/15 [00:06<00:00,  2.35it/s, IOU=0.616, VAL_F1_Loss=0.746, Val_Loss=0.0221]\n"
          ]
        },
        {
          "name": "stdout",
          "output_type": "stream",
          "text": [
            "###### Epoch:  77 _ 0.0  ######\n"
          ]
        },
        {
          "name": "stderr",
          "output_type": "stream",
          "text": [
            "100%|██████████| 15/15 [00:08<00:00,  1.80it/s, IOU=0.732, Train_F1_Loss=0.648, Train_Loss=0.02]  \n",
            "100%|██████████| 15/15 [00:06<00:00,  2.34it/s, IOU=0.575, VAL_F1_Loss=0.758, Val_Loss=0.0201]\n"
          ]
        },
        {
          "name": "stdout",
          "output_type": "stream",
          "text": [
            "###### Epoch:  78 _ 0.0  ######\n"
          ]
        },
        {
          "name": "stderr",
          "output_type": "stream",
          "text": [
            "100%|██████████| 15/15 [00:08<00:00,  1.80it/s, IOU=0.728, Train_F1_Loss=0.788, Train_Loss=0.0208]\n",
            "100%|██████████| 15/15 [00:06<00:00,  2.35it/s, IOU=0.607, VAL_F1_Loss=0.717, Val_Loss=0.0243]\n"
          ]
        },
        {
          "name": "stdout",
          "output_type": "stream",
          "text": [
            "###### Epoch:  79 _ 0.0  ######\n"
          ]
        },
        {
          "name": "stderr",
          "output_type": "stream",
          "text": [
            "100%|██████████| 15/15 [00:08<00:00,  1.80it/s, IOU=0.716, Train_F1_Loss=0.798, Train_Loss=0.0222]\n",
            "100%|██████████| 15/15 [00:06<00:00,  2.33it/s, IOU=0.652, VAL_F1_Loss=0.803, Val_Loss=0.0167]\n"
          ]
        },
        {
          "name": "stdout",
          "output_type": "stream",
          "text": [
            "###### Epoch:  80 _ 0.0  ######\n"
          ]
        },
        {
          "name": "stderr",
          "output_type": "stream",
          "text": [
            "100%|██████████| 15/15 [00:08<00:00,  1.81it/s, IOU=0.693, Train_F1_Loss=0.759, Train_Loss=0.0175]\n",
            "100%|██████████| 15/15 [00:06<00:00,  2.34it/s, IOU=0.541, VAL_F1_Loss=0.777, Val_Loss=0.0201]\n"
          ]
        },
        {
          "name": "stdout",
          "output_type": "stream",
          "text": [
            "###### Epoch:  81 _ 0.0  ######\n"
          ]
        },
        {
          "name": "stderr",
          "output_type": "stream",
          "text": [
            "100%|██████████| 15/15 [00:08<00:00,  1.80it/s, IOU=0.726, Train_F1_Loss=0.763, Train_Loss=0.0233]\n",
            "100%|██████████| 15/15 [00:06<00:00,  2.35it/s, IOU=0.629, VAL_F1_Loss=0.776, Val_Loss=0.0157]\n"
          ]
        },
        {
          "name": "stdout",
          "output_type": "stream",
          "text": [
            "###### Epoch:  82 _ 0.0  ######\n"
          ]
        },
        {
          "name": "stderr",
          "output_type": "stream",
          "text": [
            "100%|██████████| 15/15 [00:08<00:00,  1.80it/s, IOU=0.711, Train_F1_Loss=0.692, Train_Loss=0.0212]\n",
            "100%|██████████| 15/15 [00:06<00:00,  2.34it/s, IOU=0.62, VAL_F1_Loss=0.654, Val_Loss=0.0264] \n"
          ]
        },
        {
          "name": "stdout",
          "output_type": "stream",
          "text": [
            "###### Epoch:  83 _ 0.0  ######\n"
          ]
        },
        {
          "name": "stderr",
          "output_type": "stream",
          "text": [
            "100%|██████████| 15/15 [00:08<00:00,  1.79it/s, IOU=0.635, Train_F1_Loss=0.72, Train_Loss=0.029]  \n",
            "100%|██████████| 15/15 [00:06<00:00,  2.33it/s, IOU=0.732, VAL_F1_Loss=0.914, Val_Loss=0.0094]\n"
          ]
        },
        {
          "name": "stdout",
          "output_type": "stream",
          "text": [
            "###### Epoch:  84 _ 0.0  ######\n"
          ]
        },
        {
          "name": "stderr",
          "output_type": "stream",
          "text": [
            "100%|██████████| 15/15 [00:08<00:00,  1.80it/s, IOU=0.678, Train_F1_Loss=0.796, Train_Loss=0.0215]\n",
            "100%|██████████| 15/15 [00:06<00:00,  2.34it/s, IOU=0.669, VAL_F1_Loss=0.743, Val_Loss=0.0166]\n"
          ]
        },
        {
          "name": "stdout",
          "output_type": "stream",
          "text": [
            "###### Epoch:  85 _ 0.0  ######\n"
          ]
        },
        {
          "name": "stderr",
          "output_type": "stream",
          "text": [
            "100%|██████████| 15/15 [00:08<00:00,  1.80it/s, IOU=0.575, Train_F1_Loss=0.803, Train_Loss=0.0159]\n",
            "100%|██████████| 15/15 [00:09<00:00,  1.52it/s, IOU=0.688, VAL_F1_Loss=0.836, Val_Loss=0.0184]\n"
          ]
        },
        {
          "name": "stdout",
          "output_type": "stream",
          "text": [
            "###### Epoch:  86 _ 0.0  ######\n"
          ]
        },
        {
          "name": "stderr",
          "output_type": "stream",
          "text": [
            "100%|██████████| 15/15 [00:08<00:00,  1.80it/s, IOU=0.694, Train_F1_Loss=0.854, Train_Loss=0.0205]\n",
            "100%|██████████| 15/15 [00:06<00:00,  2.33it/s, IOU=0.605, VAL_F1_Loss=0.818, Val_Loss=0.0156]\n"
          ]
        },
        {
          "name": "stdout",
          "output_type": "stream",
          "text": [
            "###### Epoch:  87 _ 0.0  ######\n"
          ]
        },
        {
          "name": "stderr",
          "output_type": "stream",
          "text": [
            "100%|██████████| 15/15 [00:08<00:00,  1.79it/s, IOU=0.678, Train_F1_Loss=0.688, Train_Loss=0.0235]\n",
            "100%|██████████| 15/15 [00:06<00:00,  2.34it/s, IOU=0.595, VAL_F1_Loss=0.659, Val_Loss=0.0254]\n"
          ]
        },
        {
          "name": "stdout",
          "output_type": "stream",
          "text": [
            "###### Epoch:  88 _ 0.0  ######\n"
          ]
        },
        {
          "name": "stderr",
          "output_type": "stream",
          "text": [
            "100%|██████████| 15/15 [00:08<00:00,  1.80it/s, IOU=0.718, Train_F1_Loss=0.792, Train_Loss=0.0148]\n",
            "100%|██████████| 15/15 [00:06<00:00,  2.35it/s, IOU=0.677, VAL_F1_Loss=0.804, Val_Loss=0.0177]\n"
          ]
        },
        {
          "name": "stdout",
          "output_type": "stream",
          "text": [
            "###### Epoch:  89 _ 0.0  ######\n"
          ]
        },
        {
          "name": "stderr",
          "output_type": "stream",
          "text": [
            "100%|██████████| 15/15 [00:08<00:00,  1.80it/s, IOU=0.665, Train_F1_Loss=0.693, Train_Loss=0.0272]\n",
            "100%|██████████| 15/15 [00:06<00:00,  2.35it/s, IOU=0.608, VAL_F1_Loss=0.793, Val_Loss=0.018] \n"
          ]
        },
        {
          "name": "stdout",
          "output_type": "stream",
          "text": [
            "###### Epoch:  90 _ 0.0  ######\n"
          ]
        },
        {
          "name": "stderr",
          "output_type": "stream",
          "text": [
            "100%|██████████| 15/15 [00:08<00:00,  1.81it/s, IOU=0.714, Train_F1_Loss=0.799, Train_Loss=0.0151]\n",
            "100%|██████████| 15/15 [00:06<00:00,  2.31it/s, IOU=0.6, VAL_F1_Loss=0.728, Val_Loss=0.0141]  \n"
          ]
        },
        {
          "name": "stdout",
          "output_type": "stream",
          "text": [
            "###### Epoch:  91 _ 0.0  ######\n"
          ]
        },
        {
          "name": "stderr",
          "output_type": "stream",
          "text": [
            "100%|██████████| 15/15 [00:08<00:00,  1.80it/s, IOU=0.715, Train_F1_Loss=0.834, Train_Loss=0.0153]\n",
            "100%|██████████| 15/15 [00:06<00:00,  2.33it/s, IOU=0.551, VAL_F1_Loss=0.687, Val_Loss=0.0237]\n"
          ]
        },
        {
          "name": "stdout",
          "output_type": "stream",
          "text": [
            "###### Epoch:  92 _ 0.0  ######\n"
          ]
        },
        {
          "name": "stderr",
          "output_type": "stream",
          "text": [
            "100%|██████████| 15/15 [00:08<00:00,  1.78it/s, IOU=0.591, Train_F1_Loss=0.7, Train_Loss=0.0305]  \n",
            "100%|██████████| 15/15 [00:06<00:00,  2.35it/s, IOU=0.519, VAL_F1_Loss=0.654, Val_Loss=0.0223]\n"
          ]
        },
        {
          "name": "stdout",
          "output_type": "stream",
          "text": [
            "###### Epoch:  93 _ 0.0  ######\n"
          ]
        },
        {
          "name": "stderr",
          "output_type": "stream",
          "text": [
            "100%|██████████| 15/15 [00:08<00:00,  1.80it/s, IOU=0.668, Train_F1_Loss=0.74, Train_Loss=0.0169] \n",
            "100%|██████████| 15/15 [00:06<00:00,  2.36it/s, IOU=0.514, VAL_F1_Loss=0.74, Val_Loss=0.0225] \n"
          ]
        },
        {
          "name": "stdout",
          "output_type": "stream",
          "text": [
            "###### Epoch:  94 _ 0.0  ######\n"
          ]
        },
        {
          "name": "stderr",
          "output_type": "stream",
          "text": [
            "100%|██████████| 15/15 [00:08<00:00,  1.80it/s, IOU=0.618, Train_F1_Loss=0.583, Train_Loss=0.0201]\n",
            "100%|██████████| 15/15 [00:06<00:00,  2.36it/s, IOU=0.625, VAL_F1_Loss=0.748, Val_Loss=0.0158]\n"
          ]
        },
        {
          "name": "stdout",
          "output_type": "stream",
          "text": [
            "###### Epoch:  95 _ 0.0  ######\n"
          ]
        },
        {
          "name": "stderr",
          "output_type": "stream",
          "text": [
            "100%|██████████| 15/15 [00:08<00:00,  1.81it/s, IOU=0.683, Train_F1_Loss=0.854, Train_Loss=0.0215]\n",
            "100%|██████████| 15/15 [00:06<00:00,  2.35it/s, IOU=0.598, VAL_F1_Loss=0.779, Val_Loss=0.0238]\n"
          ]
        },
        {
          "name": "stdout",
          "output_type": "stream",
          "text": [
            "###### Epoch:  96 _ 0.0  ######\n"
          ]
        },
        {
          "name": "stderr",
          "output_type": "stream",
          "text": [
            "100%|██████████| 15/15 [00:08<00:00,  1.81it/s, IOU=0.634, Train_F1_Loss=0.689, Train_Loss=0.0215]\n",
            "100%|██████████| 15/15 [00:06<00:00,  2.34it/s, IOU=0.541, VAL_F1_Loss=0.574, Val_Loss=0.0256]\n"
          ]
        },
        {
          "name": "stdout",
          "output_type": "stream",
          "text": [
            "###### Epoch:  97 _ 0.0  ######\n"
          ]
        },
        {
          "name": "stderr",
          "output_type": "stream",
          "text": [
            "100%|██████████| 15/15 [00:08<00:00,  1.81it/s, IOU=0.682, Train_F1_Loss=0.744, Train_Loss=0.0156]\n",
            "100%|██████████| 15/15 [00:06<00:00,  2.36it/s, IOU=0.539, VAL_F1_Loss=0.703, Val_Loss=0.0177]\n"
          ]
        },
        {
          "name": "stdout",
          "output_type": "stream",
          "text": [
            "###### Epoch:  98 _ 0.0  ######\n"
          ]
        },
        {
          "name": "stderr",
          "output_type": "stream",
          "text": [
            "100%|██████████| 15/15 [00:08<00:00,  1.80it/s, IOU=0.688, Train_F1_Loss=0.759, Train_Loss=0.0228]\n",
            "100%|██████████| 15/15 [00:06<00:00,  2.35it/s, IOU=0.508, VAL_F1_Loss=0.612, Val_Loss=0.028] \n"
          ]
        },
        {
          "name": "stdout",
          "output_type": "stream",
          "text": [
            "###### Epoch:  99 _ 0.0  ######\n"
          ]
        },
        {
          "name": "stderr",
          "output_type": "stream",
          "text": [
            "100%|██████████| 15/15 [00:08<00:00,  1.80it/s, IOU=0.742, Train_F1_Loss=0.813, Train_Loss=0.0172]\n",
            "100%|██████████| 15/15 [00:06<00:00,  2.34it/s, IOU=0.582, VAL_F1_Loss=0.665, Val_Loss=0.0245]\n"
          ]
        },
        {
          "name": "stdout",
          "output_type": "stream",
          "text": [
            "###### Epoch:  100 _ 0.0  ######\n"
          ]
        },
        {
          "name": "stderr",
          "output_type": "stream",
          "text": [
            "100%|██████████| 15/15 [00:08<00:00,  1.80it/s, IOU=0.708, Train_F1_Loss=0.785, Train_Loss=0.0224]\n",
            "100%|██████████| 15/15 [00:06<00:00,  2.35it/s, IOU=0.682, VAL_F1_Loss=0.797, Val_Loss=0.0161]\n"
          ]
        },
        {
          "name": "stdout",
          "output_type": "stream",
          "text": [
            "###### Epoch:  101 _ 0.0  ######\n"
          ]
        },
        {
          "name": "stderr",
          "output_type": "stream",
          "text": [
            "100%|██████████| 15/15 [00:08<00:00,  1.79it/s, IOU=0.658, Train_F1_Loss=0.695, Train_Loss=0.0242]\n",
            "100%|██████████| 15/15 [00:06<00:00,  2.34it/s, IOU=0.619, VAL_F1_Loss=0.702, Val_Loss=0.0191]\n"
          ]
        },
        {
          "name": "stdout",
          "output_type": "stream",
          "text": [
            "###### Epoch:  102 _ 0.0  ######\n"
          ]
        },
        {
          "name": "stderr",
          "output_type": "stream",
          "text": [
            "100%|██████████| 15/15 [00:08<00:00,  1.79it/s, IOU=0.668, Train_F1_Loss=0.695, Train_Loss=0.0196]\n",
            "100%|██████████| 15/15 [00:06<00:00,  2.36it/s, IOU=0.702, VAL_F1_Loss=0.734, Val_Loss=0.00913]\n"
          ]
        },
        {
          "name": "stdout",
          "output_type": "stream",
          "text": [
            "###### Epoch:  103 _ 0.0  ######\n"
          ]
        },
        {
          "name": "stderr",
          "output_type": "stream",
          "text": [
            "100%|██████████| 15/15 [00:08<00:00,  1.78it/s, IOU=0.668, Train_F1_Loss=0.653, Train_Loss=0.0287]\n",
            "100%|██████████| 15/15 [00:08<00:00,  1.78it/s, IOU=0.701, VAL_F1_Loss=0.81, Val_Loss=0.0168] \n"
          ]
        },
        {
          "name": "stdout",
          "output_type": "stream",
          "text": [
            "###### Epoch:  104 _ 0.0  ######\n"
          ]
        },
        {
          "name": "stderr",
          "output_type": "stream",
          "text": [
            "100%|██████████| 15/15 [00:11<00:00,  1.28it/s, IOU=0.604, Train_F1_Loss=0.7, Train_Loss=0.024]   \n",
            "100%|██████████| 15/15 [00:07<00:00,  1.94it/s, IOU=0.609, VAL_F1_Loss=0.681, Val_Loss=0.0212]\n"
          ]
        },
        {
          "name": "stdout",
          "output_type": "stream",
          "text": [
            "###### Epoch:  105 _ 0.0  ######\n"
          ]
        },
        {
          "name": "stderr",
          "output_type": "stream",
          "text": [
            "100%|██████████| 15/15 [00:08<00:00,  1.79it/s, IOU=0.732, Train_F1_Loss=0.685, Train_Loss=0.0214]\n",
            "100%|██████████| 15/15 [00:06<00:00,  2.29it/s, IOU=0.605, VAL_F1_Loss=0.747, Val_Loss=0.0239]\n"
          ]
        },
        {
          "name": "stdout",
          "output_type": "stream",
          "text": [
            "###### Epoch:  106 _ 0.0  ######\n"
          ]
        },
        {
          "name": "stderr",
          "output_type": "stream",
          "text": [
            "100%|██████████| 15/15 [00:08<00:00,  1.78it/s, IOU=0.713, Train_F1_Loss=0.843, Train_Loss=0.0104]\n",
            "100%|██████████| 15/15 [00:07<00:00,  2.12it/s, IOU=0.637, VAL_F1_Loss=0.73, Val_Loss=0.0178] \n"
          ]
        },
        {
          "name": "stdout",
          "output_type": "stream",
          "text": [
            "###### Epoch:  107 _ 0.0  ######\n"
          ]
        },
        {
          "name": "stderr",
          "output_type": "stream",
          "text": [
            "100%|██████████| 15/15 [00:08<00:00,  1.76it/s, IOU=0.703, Train_F1_Loss=0.684, Train_Loss=0.0161]\n",
            "100%|██████████| 15/15 [00:06<00:00,  2.25it/s, IOU=0.578, VAL_F1_Loss=0.626, Val_Loss=0.0234]\n"
          ]
        },
        {
          "name": "stdout",
          "output_type": "stream",
          "text": [
            "###### Epoch:  108 _ 0.0  ######\n"
          ]
        },
        {
          "name": "stderr",
          "output_type": "stream",
          "text": [
            "100%|██████████| 15/15 [00:08<00:00,  1.79it/s, IOU=0.766, Train_F1_Loss=0.916, Train_Loss=0.0112]\n",
            "100%|██████████| 15/15 [00:06<00:00,  2.34it/s, IOU=0.602, VAL_F1_Loss=0.704, Val_Loss=0.0223]\n"
          ]
        },
        {
          "name": "stdout",
          "output_type": "stream",
          "text": [
            "###### Epoch:  109 _ 0.0  ######\n"
          ]
        },
        {
          "name": "stderr",
          "output_type": "stream",
          "text": [
            "100%|██████████| 15/15 [00:08<00:00,  1.80it/s, IOU=0.754, Train_F1_Loss=0.799, Train_Loss=0.0221]\n",
            "100%|██████████| 15/15 [00:06<00:00,  2.36it/s, IOU=0.566, VAL_F1_Loss=0.769, Val_Loss=0.0217]\n"
          ]
        },
        {
          "name": "stdout",
          "output_type": "stream",
          "text": [
            "###### Epoch:  110 _ 0.0  ######\n"
          ]
        },
        {
          "name": "stderr",
          "output_type": "stream",
          "text": [
            "100%|██████████| 15/15 [00:08<00:00,  1.81it/s, IOU=0.725, Train_F1_Loss=0.727, Train_Loss=0.0201]\n",
            "100%|██████████| 15/15 [00:06<00:00,  2.35it/s, IOU=0.478, VAL_F1_Loss=0.584, Val_Loss=0.0286]\n"
          ]
        },
        {
          "name": "stdout",
          "output_type": "stream",
          "text": [
            "###### Epoch:  111 _ 0.0  ######\n"
          ]
        },
        {
          "name": "stderr",
          "output_type": "stream",
          "text": [
            "100%|██████████| 15/15 [00:08<00:00,  1.78it/s, IOU=0.717, Train_F1_Loss=0.786, Train_Loss=0.0194]\n",
            "100%|██████████| 15/15 [00:06<00:00,  2.21it/s, IOU=0.567, VAL_F1_Loss=0.754, Val_Loss=0.0232]\n"
          ]
        },
        {
          "name": "stdout",
          "output_type": "stream",
          "text": [
            "###### Epoch:  112 _ 0.0  ######\n"
          ]
        },
        {
          "name": "stderr",
          "output_type": "stream",
          "text": [
            "100%|██████████| 15/15 [00:08<00:00,  1.79it/s, IOU=0.711, Train_F1_Loss=0.907, Train_Loss=0.0116]\n",
            "100%|██████████| 15/15 [00:06<00:00,  2.24it/s, IOU=0.525, VAL_F1_Loss=0.621, Val_Loss=0.029] \n"
          ]
        },
        {
          "name": "stdout",
          "output_type": "stream",
          "text": [
            "###### Epoch:  113 _ 0.0  ######\n"
          ]
        },
        {
          "name": "stderr",
          "output_type": "stream",
          "text": [
            "100%|██████████| 15/15 [00:08<00:00,  1.82it/s, IOU=0.737, Train_F1_Loss=0.761, Train_Loss=0.0215]\n",
            "100%|██████████| 15/15 [00:06<00:00,  2.30it/s, IOU=0.697, VAL_F1_Loss=0.752, Val_Loss=0.0143]\n"
          ]
        },
        {
          "name": "stdout",
          "output_type": "stream",
          "text": [
            "###### Epoch:  114 _ 0.0  ######\n"
          ]
        },
        {
          "name": "stderr",
          "output_type": "stream",
          "text": [
            "100%|██████████| 15/15 [00:08<00:00,  1.75it/s, IOU=0.631, Train_F1_Loss=0.776, Train_Loss=0.0249]\n",
            "100%|██████████| 15/15 [00:06<00:00,  2.22it/s, IOU=0.572, VAL_F1_Loss=0.745, Val_Loss=0.0195]\n"
          ]
        },
        {
          "name": "stdout",
          "output_type": "stream",
          "text": [
            "###### Epoch:  115 _ 0.0  ######\n"
          ]
        },
        {
          "name": "stderr",
          "output_type": "stream",
          "text": [
            "100%|██████████| 15/15 [00:09<00:00,  1.66it/s, IOU=0.593, Train_F1_Loss=0.57, Train_Loss=0.0206] \n",
            "100%|██████████| 15/15 [00:07<00:00,  1.95it/s, IOU=0.507, VAL_F1_Loss=0.714, Val_Loss=0.0212]\n"
          ]
        },
        {
          "name": "stdout",
          "output_type": "stream",
          "text": [
            "###### Epoch:  116 _ 0.0  ######\n"
          ]
        },
        {
          "name": "stderr",
          "output_type": "stream",
          "text": [
            "100%|██████████| 15/15 [00:09<00:00,  1.65it/s, IOU=0.567, Train_F1_Loss=0.673, Train_Loss=0.0267]\n",
            "100%|██████████| 15/15 [00:08<00:00,  1.70it/s, IOU=0.575, VAL_F1_Loss=0.658, Val_Loss=0.0263]\n"
          ]
        },
        {
          "name": "stdout",
          "output_type": "stream",
          "text": [
            "###### Epoch:  117 _ 0.0  ######\n"
          ]
        },
        {
          "name": "stderr",
          "output_type": "stream",
          "text": [
            "100%|██████████| 15/15 [00:09<00:00,  1.55it/s, IOU=0.66, Train_F1_Loss=0.636, Train_Loss=0.0282] \n",
            "100%|██████████| 15/15 [00:07<00:00,  2.02it/s, IOU=0.59, VAL_F1_Loss=0.632, Val_Loss=0.0252] \n"
          ]
        },
        {
          "name": "stdout",
          "output_type": "stream",
          "text": [
            "###### Epoch:  118 _ 0.0  ######\n"
          ]
        },
        {
          "name": "stderr",
          "output_type": "stream",
          "text": [
            "100%|██████████| 15/15 [00:09<00:00,  1.66it/s, IOU=0.619, Train_F1_Loss=0.75, Train_Loss=0.0265] \n",
            "100%|██████████| 15/15 [00:07<00:00,  2.09it/s, IOU=0.517, VAL_F1_Loss=0.585, Val_Loss=0.026] \n"
          ]
        },
        {
          "name": "stdout",
          "output_type": "stream",
          "text": [
            "###### Epoch:  119 _ 0.0  ######\n"
          ]
        },
        {
          "name": "stderr",
          "output_type": "stream",
          "text": [
            "100%|██████████| 15/15 [00:08<00:00,  1.76it/s, IOU=0.722, Train_F1_Loss=0.857, Train_Loss=0.0161]\n",
            "100%|██████████| 15/15 [00:06<00:00,  2.29it/s, IOU=0.753, VAL_F1_Loss=0.885, Val_Loss=0.0138]\n"
          ]
        },
        {
          "name": "stdout",
          "output_type": "stream",
          "text": [
            "###### Epoch:  120 _ 0.0  ######\n"
          ]
        },
        {
          "name": "stderr",
          "output_type": "stream",
          "text": [
            "100%|██████████| 15/15 [00:08<00:00,  1.76it/s, IOU=0.671, Train_F1_Loss=0.748, Train_Loss=0.0252]\n",
            "100%|██████████| 15/15 [00:06<00:00,  2.28it/s, IOU=0.647, VAL_F1_Loss=0.682, Val_Loss=0.0177]\n"
          ]
        },
        {
          "name": "stdout",
          "output_type": "stream",
          "text": [
            "###### Epoch:  121 _ 0.0  ######\n"
          ]
        },
        {
          "name": "stderr",
          "output_type": "stream",
          "text": [
            "100%|██████████| 15/15 [00:08<00:00,  1.79it/s, IOU=0.6, Train_F1_Loss=0.766, Train_Loss=0.0238]  \n",
            "100%|██████████| 15/15 [00:06<00:00,  2.36it/s, IOU=0.601, VAL_F1_Loss=0.674, Val_Loss=0.0215]\n"
          ]
        },
        {
          "name": "stdout",
          "output_type": "stream",
          "text": [
            "###### Epoch:  122 _ 0.0  ######\n"
          ]
        },
        {
          "name": "stderr",
          "output_type": "stream",
          "text": [
            "100%|██████████| 15/15 [00:08<00:00,  1.81it/s, IOU=0.655, Train_F1_Loss=0.72, Train_Loss=0.0196] \n",
            "100%|██████████| 15/15 [00:06<00:00,  2.35it/s, IOU=0.637, VAL_F1_Loss=0.822, Val_Loss=0.0163]\n"
          ]
        },
        {
          "name": "stdout",
          "output_type": "stream",
          "text": [
            "###### Epoch:  123 _ 0.0  ######\n"
          ]
        },
        {
          "name": "stderr",
          "output_type": "stream",
          "text": [
            "100%|██████████| 15/15 [00:08<00:00,  1.75it/s, IOU=0.664, Train_F1_Loss=0.726, Train_Loss=0.0283]\n",
            "100%|██████████| 15/15 [00:06<00:00,  2.22it/s, IOU=0.615, VAL_F1_Loss=0.696, Val_Loss=0.028] \n"
          ]
        },
        {
          "name": "stdout",
          "output_type": "stream",
          "text": [
            "###### Epoch:  124 _ 0.0  ######\n"
          ]
        },
        {
          "name": "stderr",
          "output_type": "stream",
          "text": [
            "100%|██████████| 15/15 [00:08<00:00,  1.73it/s, IOU=0.71, Train_F1_Loss=0.861, Train_Loss=0.017]  \n",
            "100%|██████████| 15/15 [00:07<00:00,  2.14it/s, IOU=0.681, VAL_F1_Loss=0.73, Val_Loss=0.0235] \n"
          ]
        },
        {
          "name": "stdout",
          "output_type": "stream",
          "text": [
            "###### Epoch:  125 _ 0.0  ######\n"
          ]
        },
        {
          "name": "stderr",
          "output_type": "stream",
          "text": [
            "100%|██████████| 15/15 [00:08<00:00,  1.76it/s, IOU=0.752, Train_F1_Loss=0.818, Train_Loss=0.0199]\n",
            "100%|██████████| 15/15 [00:06<00:00,  2.21it/s, IOU=0.599, VAL_F1_Loss=0.727, Val_Loss=0.0157]\n"
          ]
        },
        {
          "name": "stdout",
          "output_type": "stream",
          "text": [
            "###### Epoch:  126 _ 0.0  ######\n"
          ]
        },
        {
          "name": "stderr",
          "output_type": "stream",
          "text": [
            "100%|██████████| 15/15 [00:08<00:00,  1.81it/s, IOU=0.685, Train_F1_Loss=0.828, Train_Loss=0.0204]\n",
            "100%|██████████| 15/15 [00:06<00:00,  2.37it/s, IOU=0.558, VAL_F1_Loss=0.646, Val_Loss=0.0226]\n"
          ]
        },
        {
          "name": "stdout",
          "output_type": "stream",
          "text": [
            "###### Epoch:  127 _ 0.0  ######\n"
          ]
        },
        {
          "name": "stderr",
          "output_type": "stream",
          "text": [
            "100%|██████████| 15/15 [00:08<00:00,  1.81it/s, IOU=0.707, Train_F1_Loss=0.632, Train_Loss=0.0456]\n",
            "100%|██████████| 15/15 [00:06<00:00,  2.26it/s, IOU=0.616, VAL_F1_Loss=0.599, Val_Loss=0.0184]\n"
          ]
        },
        {
          "name": "stdout",
          "output_type": "stream",
          "text": [
            "###### Epoch:  128 _ 0.0  ######\n"
          ]
        },
        {
          "name": "stderr",
          "output_type": "stream",
          "text": [
            "100%|██████████| 15/15 [00:08<00:00,  1.77it/s, IOU=0.653, Train_F1_Loss=0.645, Train_Loss=0.0313]\n",
            "100%|██████████| 15/15 [00:06<00:00,  2.25it/s, IOU=0.727, VAL_F1_Loss=0.823, Val_Loss=0.0125]\n"
          ]
        },
        {
          "name": "stdout",
          "output_type": "stream",
          "text": [
            "###### Epoch:  129 _ 0.0  ######\n"
          ]
        },
        {
          "name": "stderr",
          "output_type": "stream",
          "text": [
            "100%|██████████| 15/15 [00:08<00:00,  1.77it/s, IOU=0.635, Train_F1_Loss=0.791, Train_Loss=0.016] \n",
            "100%|██████████| 15/15 [00:07<00:00,  2.14it/s, IOU=0.58, VAL_F1_Loss=0.671, Val_Loss=0.0285] \n"
          ]
        },
        {
          "name": "stdout",
          "output_type": "stream",
          "text": [
            "###### Epoch:  130 _ 0.0  ######\n"
          ]
        },
        {
          "name": "stderr",
          "output_type": "stream",
          "text": [
            "100%|██████████| 15/15 [00:08<00:00,  1.73it/s, IOU=0.762, Train_F1_Loss=0.82, Train_Loss=0.0292] \n",
            "100%|██████████| 15/15 [00:06<00:00,  2.24it/s, IOU=0.639, VAL_F1_Loss=0.695, Val_Loss=0.0202]\n"
          ]
        },
        {
          "name": "stdout",
          "output_type": "stream",
          "text": [
            "###### Epoch:  131 _ 0.0  ######\n"
          ]
        },
        {
          "name": "stderr",
          "output_type": "stream",
          "text": [
            "100%|██████████| 15/15 [00:08<00:00,  1.76it/s, IOU=0.682, Train_F1_Loss=0.826, Train_Loss=0.0221]\n",
            "100%|██████████| 15/15 [00:06<00:00,  2.21it/s, IOU=0.676, VAL_F1_Loss=0.679, Val_Loss=0.0223]\n"
          ]
        },
        {
          "name": "stdout",
          "output_type": "stream",
          "text": [
            "###### Epoch:  132 _ 0.0  ######\n"
          ]
        },
        {
          "name": "stderr",
          "output_type": "stream",
          "text": [
            "100%|██████████| 15/15 [00:08<00:00,  1.73it/s, IOU=0.759, Train_F1_Loss=0.736, Train_Loss=0.0193]\n",
            "100%|██████████| 15/15 [00:07<00:00,  2.11it/s, IOU=0.518, VAL_F1_Loss=0.631, Val_Loss=0.034] \n"
          ]
        },
        {
          "name": "stdout",
          "output_type": "stream",
          "text": [
            "###### Epoch:  133 _ 0.0  ######\n"
          ]
        },
        {
          "name": "stderr",
          "output_type": "stream",
          "text": [
            "100%|██████████| 15/15 [00:08<00:00,  1.76it/s, IOU=0.642, Train_F1_Loss=0.778, Train_Loss=0.0213]\n",
            "100%|██████████| 15/15 [00:06<00:00,  2.31it/s, IOU=0.628, VAL_F1_Loss=0.789, Val_Loss=0.018] \n"
          ]
        },
        {
          "name": "stdout",
          "output_type": "stream",
          "text": [
            "###### Epoch:  134 _ 0.0  ######\n"
          ]
        },
        {
          "name": "stderr",
          "output_type": "stream",
          "text": [
            "100%|██████████| 15/15 [00:08<00:00,  1.79it/s, IOU=0.688, Train_F1_Loss=0.774, Train_Loss=0.0268]\n",
            "100%|██████████| 15/15 [00:06<00:00,  2.34it/s, IOU=0.629, VAL_F1_Loss=0.729, Val_Loss=0.0215]\n"
          ]
        },
        {
          "name": "stdout",
          "output_type": "stream",
          "text": [
            "###### Epoch:  135 _ 0.0  ######\n"
          ]
        },
        {
          "name": "stderr",
          "output_type": "stream",
          "text": [
            "100%|██████████| 15/15 [00:08<00:00,  1.80it/s, IOU=0.724, Train_F1_Loss=0.72, Train_Loss=0.0188] \n",
            "100%|██████████| 15/15 [00:06<00:00,  2.33it/s, IOU=0.635, VAL_F1_Loss=0.759, Val_Loss=0.0194]\n"
          ]
        },
        {
          "name": "stdout",
          "output_type": "stream",
          "text": [
            "###### Epoch:  136 _ 0.0  ######\n"
          ]
        },
        {
          "name": "stderr",
          "output_type": "stream",
          "text": [
            "100%|██████████| 15/15 [00:08<00:00,  1.80it/s, IOU=0.644, Train_F1_Loss=0.779, Train_Loss=0.0324]\n",
            "100%|██████████| 15/15 [00:06<00:00,  2.34it/s, IOU=0.461, VAL_F1_Loss=0.603, Val_Loss=0.0217]\n"
          ]
        },
        {
          "name": "stdout",
          "output_type": "stream",
          "text": [
            "###### Epoch:  137 _ 0.0  ######\n"
          ]
        },
        {
          "name": "stderr",
          "output_type": "stream",
          "text": [
            "100%|██████████| 15/15 [00:08<00:00,  1.81it/s, IOU=0.716, Train_F1_Loss=0.837, Train_Loss=0.0186]\n",
            "100%|██████████| 15/15 [00:06<00:00,  2.26it/s, IOU=0.735, VAL_F1_Loss=0.738, Val_Loss=0.0154]\n"
          ]
        },
        {
          "name": "stdout",
          "output_type": "stream",
          "text": [
            "###### Epoch:  138 _ 0.0  ######\n"
          ]
        },
        {
          "name": "stderr",
          "output_type": "stream",
          "text": [
            "100%|██████████| 15/15 [00:08<00:00,  1.81it/s, IOU=0.674, Train_F1_Loss=0.802, Train_Loss=0.025] \n",
            "100%|██████████| 15/15 [00:06<00:00,  2.35it/s, IOU=0.74, VAL_F1_Loss=0.827, Val_Loss=0.0151] \n"
          ]
        },
        {
          "name": "stdout",
          "output_type": "stream",
          "text": [
            "###### Epoch:  139 _ 0.0  ######\n"
          ]
        },
        {
          "name": "stderr",
          "output_type": "stream",
          "text": [
            "100%|██████████| 15/15 [00:08<00:00,  1.80it/s, IOU=0.66, Train_F1_Loss=0.703, Train_Loss=0.0195] \n",
            "100%|██████████| 15/15 [00:06<00:00,  2.34it/s, IOU=0.596, VAL_F1_Loss=0.688, Val_Loss=0.0256]\n"
          ]
        },
        {
          "name": "stdout",
          "output_type": "stream",
          "text": [
            "###### Epoch:  140 _ 0.0  ######\n"
          ]
        },
        {
          "name": "stderr",
          "output_type": "stream",
          "text": [
            "100%|██████████| 15/15 [00:08<00:00,  1.80it/s, IOU=0.701, Train_F1_Loss=0.734, Train_Loss=0.0276]\n",
            "100%|██████████| 15/15 [00:06<00:00,  2.35it/s, IOU=0.494, VAL_F1_Loss=0.637, Val_Loss=0.0282]\n"
          ]
        },
        {
          "name": "stdout",
          "output_type": "stream",
          "text": [
            "###### Epoch:  141 _ 0.0  ######\n"
          ]
        },
        {
          "name": "stderr",
          "output_type": "stream",
          "text": [
            "100%|██████████| 15/15 [00:08<00:00,  1.80it/s, IOU=0.716, Train_F1_Loss=0.752, Train_Loss=0.022] \n",
            "100%|██████████| 15/15 [00:06<00:00,  2.35it/s, IOU=0.581, VAL_F1_Loss=0.637, Val_Loss=0.0214]\n"
          ]
        },
        {
          "name": "stdout",
          "output_type": "stream",
          "text": [
            "###### Epoch:  142 _ 0.0  ######\n"
          ]
        },
        {
          "name": "stderr",
          "output_type": "stream",
          "text": [
            "100%|██████████| 15/15 [00:08<00:00,  1.80it/s, IOU=0.719, Train_F1_Loss=0.888, Train_Loss=0.014] \n",
            "100%|██████████| 15/15 [00:06<00:00,  2.34it/s, IOU=0.66, VAL_F1_Loss=0.751, Val_Loss=0.026]  \n"
          ]
        },
        {
          "name": "stdout",
          "output_type": "stream",
          "text": [
            "###### Epoch:  143 _ 0.0  ######\n"
          ]
        },
        {
          "name": "stderr",
          "output_type": "stream",
          "text": [
            "100%|██████████| 15/15 [00:08<00:00,  1.80it/s, IOU=0.714, Train_F1_Loss=0.759, Train_Loss=0.0209]\n",
            "100%|██████████| 15/15 [00:06<00:00,  2.35it/s, IOU=0.684, VAL_F1_Loss=0.884, Val_Loss=0.0113]\n"
          ]
        },
        {
          "name": "stdout",
          "output_type": "stream",
          "text": [
            "###### Epoch:  144 _ 0.0  ######\n"
          ]
        },
        {
          "name": "stderr",
          "output_type": "stream",
          "text": [
            "100%|██████████| 15/15 [00:08<00:00,  1.79it/s, IOU=0.761, Train_F1_Loss=0.746, Train_Loss=0.0325]\n",
            "100%|██████████| 15/15 [00:06<00:00,  2.32it/s, IOU=0.585, VAL_F1_Loss=0.723, Val_Loss=0.0161]\n"
          ]
        },
        {
          "name": "stdout",
          "output_type": "stream",
          "text": [
            "###### Epoch:  145 _ 0.0  ######\n"
          ]
        },
        {
          "name": "stderr",
          "output_type": "stream",
          "text": [
            "100%|██████████| 15/15 [00:08<00:00,  1.81it/s, IOU=0.643, Train_F1_Loss=0.794, Train_Loss=0.0221]\n",
            "100%|██████████| 15/15 [00:06<00:00,  2.32it/s, IOU=0.501, VAL_F1_Loss=0.691, Val_Loss=0.0305]\n"
          ]
        },
        {
          "name": "stdout",
          "output_type": "stream",
          "text": [
            "###### Epoch:  146 _ 0.0  ######\n"
          ]
        },
        {
          "name": "stderr",
          "output_type": "stream",
          "text": [
            "100%|██████████| 15/15 [00:08<00:00,  1.79it/s, IOU=0.557, Train_F1_Loss=0.678, Train_Loss=0.0175]\n",
            "100%|██████████| 15/15 [00:06<00:00,  2.32it/s, IOU=0.512, VAL_F1_Loss=0.573, Val_Loss=0.0308]\n"
          ]
        },
        {
          "name": "stdout",
          "output_type": "stream",
          "text": [
            "###### Epoch:  147 _ 0.0  ######\n"
          ]
        },
        {
          "name": "stderr",
          "output_type": "stream",
          "text": [
            "100%|██████████| 15/15 [00:08<00:00,  1.80it/s, IOU=0.637, Train_F1_Loss=0.6, Train_Loss=0.0261]  \n",
            "100%|██████████| 15/15 [00:06<00:00,  2.29it/s, IOU=0.614, VAL_F1_Loss=0.631, Val_Loss=0.0251]\n"
          ]
        },
        {
          "name": "stdout",
          "output_type": "stream",
          "text": [
            "###### Epoch:  148 _ 0.0  ######\n"
          ]
        },
        {
          "name": "stderr",
          "output_type": "stream",
          "text": [
            "100%|██████████| 15/15 [00:08<00:00,  1.76it/s, IOU=0.642, Train_F1_Loss=0.713, Train_Loss=0.0209]\n",
            "100%|██████████| 15/15 [00:06<00:00,  2.31it/s, IOU=0.635, VAL_F1_Loss=0.789, Val_Loss=0.0189]\n"
          ]
        },
        {
          "name": "stdout",
          "output_type": "stream",
          "text": [
            "###### Epoch:  149 _ 0.0  ######\n"
          ]
        },
        {
          "name": "stderr",
          "output_type": "stream",
          "text": [
            "100%|██████████| 15/15 [00:08<00:00,  1.78it/s, IOU=0.503, Train_F1_Loss=0.541, Train_Loss=0.0223]\n",
            "100%|██████████| 15/15 [00:06<00:00,  2.30it/s, IOU=0.56, VAL_F1_Loss=0.678, Val_Loss=0.0267] \n"
          ]
        },
        {
          "name": "stdout",
          "output_type": "stream",
          "text": [
            "###### Epoch:  150 _ 0.0  ######\n"
          ]
        },
        {
          "name": "stderr",
          "output_type": "stream",
          "text": [
            "100%|██████████| 15/15 [00:08<00:00,  1.76it/s, IOU=0.682, Train_F1_Loss=0.694, Train_Loss=0.0284]\n",
            "100%|██████████| 15/15 [00:06<00:00,  2.34it/s, IOU=0.595, VAL_F1_Loss=0.682, Val_Loss=0.0249]\n"
          ]
        },
        {
          "name": "stdout",
          "output_type": "stream",
          "text": [
            "###### Epoch:  151 _ 0.0  ######\n"
          ]
        },
        {
          "name": "stderr",
          "output_type": "stream",
          "text": [
            "100%|██████████| 15/15 [00:08<00:00,  1.79it/s, IOU=0.695, Train_F1_Loss=0.749, Train_Loss=0.025] \n",
            "100%|██████████| 15/15 [00:06<00:00,  2.33it/s, IOU=0.682, VAL_F1_Loss=0.775, Val_Loss=0.0106]\n"
          ]
        },
        {
          "name": "stdout",
          "output_type": "stream",
          "text": [
            "###### Epoch:  152 _ 0.0  ######\n"
          ]
        },
        {
          "name": "stderr",
          "output_type": "stream",
          "text": [
            "100%|██████████| 15/15 [00:08<00:00,  1.79it/s, IOU=0.592, Train_F1_Loss=0.743, Train_Loss=0.0286]\n",
            "100%|██████████| 15/15 [00:06<00:00,  2.34it/s, IOU=0.597, VAL_F1_Loss=0.584, Val_Loss=0.0228]\n"
          ]
        },
        {
          "name": "stdout",
          "output_type": "stream",
          "text": [
            "###### Epoch:  153 _ 0.0  ######\n"
          ]
        },
        {
          "name": "stderr",
          "output_type": "stream",
          "text": [
            "100%|██████████| 15/15 [00:08<00:00,  1.81it/s, IOU=0.698, Train_F1_Loss=0.773, Train_Loss=0.0228]\n",
            "100%|██████████| 15/15 [00:06<00:00,  2.34it/s, IOU=0.698, VAL_F1_Loss=0.837, Val_Loss=0.019] \n"
          ]
        },
        {
          "name": "stdout",
          "output_type": "stream",
          "text": [
            "###### Epoch:  154 _ 0.0  ######\n"
          ]
        },
        {
          "name": "stderr",
          "output_type": "stream",
          "text": [
            "100%|██████████| 15/15 [00:08<00:00,  1.80it/s, IOU=0.685, Train_F1_Loss=0.722, Train_Loss=0.018] \n",
            "100%|██████████| 15/15 [00:06<00:00,  2.34it/s, IOU=0.605, VAL_F1_Loss=0.625, Val_Loss=0.0207]\n"
          ]
        },
        {
          "name": "stdout",
          "output_type": "stream",
          "text": [
            "###### Epoch:  155 _ 0.0  ######\n"
          ]
        },
        {
          "name": "stderr",
          "output_type": "stream",
          "text": [
            "100%|██████████| 15/15 [00:08<00:00,  1.80it/s, IOU=0.659, Train_F1_Loss=0.646, Train_Loss=0.025] \n",
            "100%|██████████| 15/15 [00:06<00:00,  2.34it/s, IOU=0.55, VAL_F1_Loss=0.687, Val_Loss=0.0217] \n"
          ]
        },
        {
          "name": "stdout",
          "output_type": "stream",
          "text": [
            "###### Epoch:  156 _ 0.0  ######\n"
          ]
        },
        {
          "name": "stderr",
          "output_type": "stream",
          "text": [
            "100%|██████████| 15/15 [00:08<00:00,  1.80it/s, IOU=0.697, Train_F1_Loss=0.806, Train_Loss=0.0177]\n",
            "100%|██████████| 15/15 [00:06<00:00,  2.35it/s, IOU=0.597, VAL_F1_Loss=0.772, Val_Loss=0.02]  \n"
          ]
        },
        {
          "name": "stdout",
          "output_type": "stream",
          "text": [
            "###### Epoch:  157 _ 0.0  ######\n"
          ]
        },
        {
          "name": "stderr",
          "output_type": "stream",
          "text": [
            "100%|██████████| 15/15 [00:08<00:00,  1.80it/s, IOU=0.656, Train_F1_Loss=0.782, Train_Loss=0.0221]\n",
            "100%|██████████| 15/15 [00:06<00:00,  2.34it/s, IOU=0.581, VAL_F1_Loss=0.785, Val_Loss=0.0204]\n"
          ]
        },
        {
          "name": "stdout",
          "output_type": "stream",
          "text": [
            "###### Epoch:  158 _ 0.0  ######\n"
          ]
        },
        {
          "name": "stderr",
          "output_type": "stream",
          "text": [
            "100%|██████████| 15/15 [00:08<00:00,  1.80it/s, IOU=0.72, Train_F1_Loss=0.796, Train_Loss=0.0244] \n",
            "100%|██████████| 15/15 [00:06<00:00,  2.29it/s, IOU=0.601, VAL_F1_Loss=0.792, Val_Loss=0.0208]\n"
          ]
        },
        {
          "name": "stdout",
          "output_type": "stream",
          "text": [
            "###### Epoch:  159 _ 0.0  ######\n"
          ]
        },
        {
          "name": "stderr",
          "output_type": "stream",
          "text": [
            "100%|██████████| 15/15 [00:08<00:00,  1.80it/s, IOU=0.649, Train_F1_Loss=0.7, Train_Loss=0.0191]  \n",
            "100%|██████████| 15/15 [00:06<00:00,  2.30it/s, IOU=0.635, VAL_F1_Loss=0.729, Val_Loss=0.0157]\n"
          ]
        },
        {
          "name": "stdout",
          "output_type": "stream",
          "text": [
            "###### Epoch:  160 _ 0.0  ######\n"
          ]
        },
        {
          "name": "stderr",
          "output_type": "stream",
          "text": [
            "100%|██████████| 15/15 [00:08<00:00,  1.80it/s, IOU=0.646, Train_F1_Loss=0.685, Train_Loss=0.0213]\n",
            "100%|██████████| 15/15 [00:06<00:00,  2.35it/s, IOU=0.614, VAL_F1_Loss=0.718, Val_Loss=0.0173]\n"
          ]
        },
        {
          "name": "stdout",
          "output_type": "stream",
          "text": [
            "###### Epoch:  161 _ 0.0  ######\n"
          ]
        },
        {
          "name": "stderr",
          "output_type": "stream",
          "text": [
            "100%|██████████| 15/15 [00:08<00:00,  1.80it/s, IOU=0.668, Train_F1_Loss=0.821, Train_Loss=0.018] \n",
            "100%|██████████| 15/15 [00:06<00:00,  2.34it/s, IOU=0.613, VAL_F1_Loss=0.615, Val_Loss=0.0178]\n"
          ]
        },
        {
          "name": "stdout",
          "output_type": "stream",
          "text": [
            "###### Epoch:  162 _ 0.0  ######\n"
          ]
        },
        {
          "name": "stderr",
          "output_type": "stream",
          "text": [
            "100%|██████████| 15/15 [00:08<00:00,  1.80it/s, IOU=0.791, Train_F1_Loss=0.77, Train_Loss=0.0188] \n",
            "100%|██████████| 15/15 [00:06<00:00,  2.33it/s, IOU=0.612, VAL_F1_Loss=0.757, Val_Loss=0.0287]\n"
          ]
        },
        {
          "name": "stdout",
          "output_type": "stream",
          "text": [
            "###### Epoch:  163 _ 0.0  ######\n"
          ]
        },
        {
          "name": "stderr",
          "output_type": "stream",
          "text": [
            "100%|██████████| 15/15 [00:08<00:00,  1.79it/s, IOU=0.672, Train_F1_Loss=0.685, Train_Loss=0.0234]\n",
            "100%|██████████| 15/15 [00:06<00:00,  2.34it/s, IOU=0.547, VAL_F1_Loss=0.681, Val_Loss=0.0208]\n"
          ]
        },
        {
          "name": "stdout",
          "output_type": "stream",
          "text": [
            "###### Epoch:  164 _ 0.0  ######\n"
          ]
        },
        {
          "name": "stderr",
          "output_type": "stream",
          "text": [
            "100%|██████████| 15/15 [00:08<00:00,  1.81it/s, IOU=0.669, Train_F1_Loss=0.759, Train_Loss=0.0204]\n",
            "100%|██████████| 15/15 [00:06<00:00,  2.33it/s, IOU=0.512, VAL_F1_Loss=0.613, Val_Loss=0.0268]\n"
          ]
        },
        {
          "name": "stdout",
          "output_type": "stream",
          "text": [
            "###### Epoch:  165 _ 0.0  ######\n"
          ]
        },
        {
          "name": "stderr",
          "output_type": "stream",
          "text": [
            "100%|██████████| 15/15 [00:08<00:00,  1.79it/s, IOU=0.73, Train_F1_Loss=0.779, Train_Loss=0.02]   \n",
            "100%|██████████| 15/15 [00:06<00:00,  2.33it/s, IOU=0.68, VAL_F1_Loss=0.741, Val_Loss=0.0143] \n"
          ]
        },
        {
          "name": "stdout",
          "output_type": "stream",
          "text": [
            "###### Epoch:  166 _ 0.0  ######\n"
          ]
        },
        {
          "name": "stderr",
          "output_type": "stream",
          "text": [
            "100%|██████████| 15/15 [00:08<00:00,  1.80it/s, IOU=0.67, Train_F1_Loss=0.784, Train_Loss=0.0246] \n",
            "100%|██████████| 15/15 [00:06<00:00,  2.31it/s, IOU=0.657, VAL_F1_Loss=0.77, Val_Loss=0.0197] \n"
          ]
        },
        {
          "name": "stdout",
          "output_type": "stream",
          "text": [
            "###### Epoch:  167 _ 0.0  ######\n"
          ]
        },
        {
          "name": "stderr",
          "output_type": "stream",
          "text": [
            "100%|██████████| 15/15 [00:08<00:00,  1.79it/s, IOU=0.745, Train_F1_Loss=0.913, Train_Loss=0.0108]\n",
            "100%|██████████| 15/15 [00:06<00:00,  2.33it/s, IOU=0.587, VAL_F1_Loss=0.614, Val_Loss=0.0191]\n"
          ]
        },
        {
          "name": "stdout",
          "output_type": "stream",
          "text": [
            "###### Epoch:  168 _ 0.0  ######\n"
          ]
        },
        {
          "name": "stderr",
          "output_type": "stream",
          "text": [
            "100%|██████████| 15/15 [00:08<00:00,  1.73it/s, IOU=0.723, Train_F1_Loss=0.806, Train_Loss=0.0148]\n",
            "100%|██████████| 15/15 [00:06<00:00,  2.34it/s, IOU=0.744, VAL_F1_Loss=0.848, Val_Loss=0.0117]\n"
          ]
        },
        {
          "name": "stdout",
          "output_type": "stream",
          "text": [
            "###### Epoch:  169 _ 0.0  ######\n"
          ]
        },
        {
          "name": "stderr",
          "output_type": "stream",
          "text": [
            "100%|██████████| 15/15 [00:08<00:00,  1.80it/s, IOU=0.619, Train_F1_Loss=0.721, Train_Loss=0.0186]\n",
            "100%|██████████| 15/15 [00:06<00:00,  2.35it/s, IOU=0.671, VAL_F1_Loss=0.868, Val_Loss=0.0139]\n"
          ]
        },
        {
          "name": "stdout",
          "output_type": "stream",
          "text": [
            "###### Epoch:  170 _ 0.0  ######\n"
          ]
        },
        {
          "name": "stderr",
          "output_type": "stream",
          "text": [
            "100%|██████████| 15/15 [00:08<00:00,  1.81it/s, IOU=0.67, Train_F1_Loss=0.779, Train_Loss=0.0191] \n",
            "100%|██████████| 15/15 [00:06<00:00,  2.35it/s, IOU=0.624, VAL_F1_Loss=0.733, Val_Loss=0.0167]\n"
          ]
        },
        {
          "name": "stdout",
          "output_type": "stream",
          "text": [
            "###### Epoch:  171 _ 0.0  ######\n"
          ]
        },
        {
          "name": "stderr",
          "output_type": "stream",
          "text": [
            "100%|██████████| 15/15 [00:08<00:00,  1.80it/s, IOU=0.681, Train_F1_Loss=0.709, Train_Loss=0.0152]\n",
            "100%|██████████| 15/15 [00:06<00:00,  2.35it/s, IOU=0.637, VAL_F1_Loss=0.671, Val_Loss=0.0194]\n"
          ]
        },
        {
          "name": "stdout",
          "output_type": "stream",
          "text": [
            "###### Epoch:  172 _ 0.0  ######\n"
          ]
        },
        {
          "name": "stderr",
          "output_type": "stream",
          "text": [
            "100%|██████████| 15/15 [00:08<00:00,  1.80it/s, IOU=0.629, Train_F1_Loss=0.647, Train_Loss=0.0256]\n",
            "100%|██████████| 15/15 [00:06<00:00,  2.34it/s, IOU=0.598, VAL_F1_Loss=0.736, Val_Loss=0.0238]\n"
          ]
        },
        {
          "name": "stdout",
          "output_type": "stream",
          "text": [
            "###### Epoch:  173 _ 0.0  ######\n"
          ]
        },
        {
          "name": "stderr",
          "output_type": "stream",
          "text": [
            "100%|██████████| 15/15 [00:08<00:00,  1.81it/s, IOU=0.647, Train_F1_Loss=0.873, Train_Loss=0.0141]\n",
            "100%|██████████| 15/15 [00:06<00:00,  2.33it/s, IOU=0.599, VAL_F1_Loss=0.81, Val_Loss=0.0154] \n"
          ]
        },
        {
          "name": "stdout",
          "output_type": "stream",
          "text": [
            "###### Epoch:  174 _ 0.0  ######\n"
          ]
        },
        {
          "name": "stderr",
          "output_type": "stream",
          "text": [
            "100%|██████████| 15/15 [00:08<00:00,  1.80it/s, IOU=0.602, Train_F1_Loss=0.65, Train_Loss=0.019]  \n",
            "100%|██████████| 15/15 [00:06<00:00,  2.31it/s, IOU=0.564, VAL_F1_Loss=0.646, Val_Loss=0.0262]\n"
          ]
        },
        {
          "name": "stdout",
          "output_type": "stream",
          "text": [
            "###### Epoch:  175 _ 0.0  ######\n"
          ]
        },
        {
          "name": "stderr",
          "output_type": "stream",
          "text": [
            "100%|██████████| 15/15 [00:08<00:00,  1.81it/s, IOU=0.616, Train_F1_Loss=0.731, Train_Loss=0.024] \n",
            "100%|██████████| 15/15 [00:06<00:00,  2.31it/s, IOU=0.572, VAL_F1_Loss=0.745, Val_Loss=0.0235]\n"
          ]
        },
        {
          "name": "stdout",
          "output_type": "stream",
          "text": [
            "###### Epoch:  176 _ 0.0  ######\n"
          ]
        },
        {
          "name": "stderr",
          "output_type": "stream",
          "text": [
            "100%|██████████| 15/15 [00:08<00:00,  1.79it/s, IOU=0.753, Train_F1_Loss=0.835, Train_Loss=0.0208]\n",
            "100%|██████████| 15/15 [00:06<00:00,  2.31it/s, IOU=0.687, VAL_F1_Loss=0.794, Val_Loss=0.0141]\n"
          ]
        },
        {
          "name": "stdout",
          "output_type": "stream",
          "text": [
            "###### Epoch:  177 _ 0.0  ######\n"
          ]
        },
        {
          "name": "stderr",
          "output_type": "stream",
          "text": [
            "100%|██████████| 15/15 [00:08<00:00,  1.80it/s, IOU=0.718, Train_F1_Loss=0.875, Train_Loss=0.012] \n",
            "100%|██████████| 15/15 [00:06<00:00,  2.32it/s, IOU=0.682, VAL_F1_Loss=0.813, Val_Loss=0.0124]\n"
          ]
        },
        {
          "name": "stdout",
          "output_type": "stream",
          "text": [
            "###### Epoch:  178 _ 0.0  ######\n"
          ]
        },
        {
          "name": "stderr",
          "output_type": "stream",
          "text": [
            "100%|██████████| 15/15 [00:08<00:00,  1.81it/s, IOU=0.668, Train_F1_Loss=0.818, Train_Loss=0.0193]\n",
            "100%|██████████| 15/15 [00:06<00:00,  2.33it/s, IOU=0.693, VAL_F1_Loss=0.839, Val_Loss=0.015] \n"
          ]
        },
        {
          "name": "stdout",
          "output_type": "stream",
          "text": [
            "###### Epoch:  179 _ 0.0  ######\n"
          ]
        },
        {
          "name": "stderr",
          "output_type": "stream",
          "text": [
            "100%|██████████| 15/15 [00:08<00:00,  1.80it/s, IOU=0.715, Train_F1_Loss=0.806, Train_Loss=0.0208]\n",
            "100%|██████████| 15/15 [00:06<00:00,  2.32it/s, IOU=0.534, VAL_F1_Loss=0.716, Val_Loss=0.0245]\n"
          ]
        },
        {
          "name": "stdout",
          "output_type": "stream",
          "text": [
            "###### Epoch:  180 _ 0.0  ######\n"
          ]
        },
        {
          "name": "stderr",
          "output_type": "stream",
          "text": [
            "100%|██████████| 15/15 [00:08<00:00,  1.81it/s, IOU=0.787, Train_F1_Loss=0.757, Train_Loss=0.0215]\n",
            "100%|██████████| 15/15 [00:06<00:00,  2.30it/s, IOU=0.613, VAL_F1_Loss=0.703, Val_Loss=0.0169]\n"
          ]
        },
        {
          "name": "stdout",
          "output_type": "stream",
          "text": [
            "###### Epoch:  181 _ 0.0  ######\n"
          ]
        },
        {
          "name": "stderr",
          "output_type": "stream",
          "text": [
            "100%|██████████| 15/15 [00:08<00:00,  1.79it/s, IOU=0.691, Train_F1_Loss=0.795, Train_Loss=0.0268]\n",
            "100%|██████████| 15/15 [00:09<00:00,  1.53it/s, IOU=0.598, VAL_F1_Loss=0.755, Val_Loss=0.0213]\n"
          ]
        },
        {
          "name": "stdout",
          "output_type": "stream",
          "text": [
            "###### Epoch:  182 _ 0.0  ######\n"
          ]
        },
        {
          "name": "stderr",
          "output_type": "stream",
          "text": [
            "100%|██████████| 15/15 [00:08<00:00,  1.80it/s, IOU=0.745, Train_F1_Loss=0.819, Train_Loss=0.021] \n",
            "100%|██████████| 15/15 [00:06<00:00,  2.36it/s, IOU=0.598, VAL_F1_Loss=0.641, Val_Loss=0.0252]\n"
          ]
        },
        {
          "name": "stdout",
          "output_type": "stream",
          "text": [
            "###### Epoch:  183 _ 0.0  ######\n"
          ]
        },
        {
          "name": "stderr",
          "output_type": "stream",
          "text": [
            "100%|██████████| 15/15 [00:08<00:00,  1.80it/s, IOU=0.792, Train_F1_Loss=0.874, Train_Loss=0.0174]\n",
            "100%|██████████| 15/15 [00:06<00:00,  2.32it/s, IOU=0.651, VAL_F1_Loss=0.801, Val_Loss=0.0164]\n"
          ]
        },
        {
          "name": "stdout",
          "output_type": "stream",
          "text": [
            "###### Epoch:  184 _ 0.0  ######\n"
          ]
        },
        {
          "name": "stderr",
          "output_type": "stream",
          "text": [
            "100%|██████████| 15/15 [00:08<00:00,  1.79it/s, IOU=0.651, Train_F1_Loss=0.756, Train_Loss=0.0216]\n",
            "100%|██████████| 15/15 [00:06<00:00,  2.29it/s, IOU=0.619, VAL_F1_Loss=0.77, Val_Loss=0.0135] \n"
          ]
        },
        {
          "name": "stdout",
          "output_type": "stream",
          "text": [
            "###### Epoch:  185 _ 0.0  ######\n"
          ]
        },
        {
          "name": "stderr",
          "output_type": "stream",
          "text": [
            "100%|██████████| 15/15 [00:08<00:00,  1.81it/s, IOU=0.656, Train_F1_Loss=0.743, Train_Loss=0.0186]\n",
            "100%|██████████| 15/15 [00:06<00:00,  2.34it/s, IOU=0.506, VAL_F1_Loss=0.695, Val_Loss=0.0309]\n"
          ]
        },
        {
          "name": "stdout",
          "output_type": "stream",
          "text": [
            "###### Epoch:  186 _ 0.0  ######\n"
          ]
        },
        {
          "name": "stderr",
          "output_type": "stream",
          "text": [
            "100%|██████████| 15/15 [00:08<00:00,  1.81it/s, IOU=0.656, Train_F1_Loss=0.662, Train_Loss=0.0243]\n",
            "100%|██████████| 15/15 [00:06<00:00,  2.36it/s, IOU=0.631, VAL_F1_Loss=0.727, Val_Loss=0.0192]\n"
          ]
        },
        {
          "name": "stdout",
          "output_type": "stream",
          "text": [
            "###### Epoch:  187 _ 0.0  ######\n"
          ]
        },
        {
          "name": "stderr",
          "output_type": "stream",
          "text": [
            "100%|██████████| 15/15 [00:08<00:00,  1.80it/s, IOU=0.715, Train_F1_Loss=0.854, Train_Loss=0.0151]\n",
            "100%|██████████| 15/15 [00:06<00:00,  2.30it/s, IOU=0.581, VAL_F1_Loss=0.739, Val_Loss=0.0202]\n"
          ]
        },
        {
          "name": "stdout",
          "output_type": "stream",
          "text": [
            "###### Epoch:  188 _ 0.0  ######\n"
          ]
        },
        {
          "name": "stderr",
          "output_type": "stream",
          "text": [
            "100%|██████████| 15/15 [00:08<00:00,  1.79it/s, IOU=0.726, Train_F1_Loss=0.742, Train_Loss=0.0163]\n",
            "100%|██████████| 15/15 [00:06<00:00,  2.31it/s, IOU=0.496, VAL_F1_Loss=0.522, Val_Loss=0.0323]\n"
          ]
        },
        {
          "name": "stdout",
          "output_type": "stream",
          "text": [
            "###### Epoch:  189 _ 0.0  ######\n"
          ]
        },
        {
          "name": "stderr",
          "output_type": "stream",
          "text": [
            "100%|██████████| 15/15 [00:08<00:00,  1.80it/s, IOU=0.639, Train_F1_Loss=0.693, Train_Loss=0.0182]\n",
            "100%|██████████| 15/15 [00:06<00:00,  2.31it/s, IOU=0.587, VAL_F1_Loss=0.666, Val_Loss=0.0243]\n"
          ]
        },
        {
          "name": "stdout",
          "output_type": "stream",
          "text": [
            "###### Epoch:  190 _ 0.0  ######\n"
          ]
        },
        {
          "name": "stderr",
          "output_type": "stream",
          "text": [
            "100%|██████████| 15/15 [00:08<00:00,  1.81it/s, IOU=0.605, Train_F1_Loss=0.653, Train_Loss=0.0239]\n",
            "100%|██████████| 15/15 [00:06<00:00,  2.30it/s, IOU=0.596, VAL_F1_Loss=0.765, Val_Loss=0.0203]\n"
          ]
        },
        {
          "name": "stdout",
          "output_type": "stream",
          "text": [
            "###### Epoch:  191 _ 0.0  ######\n"
          ]
        },
        {
          "name": "stderr",
          "output_type": "stream",
          "text": [
            "100%|██████████| 15/15 [00:08<00:00,  1.81it/s, IOU=0.687, Train_F1_Loss=0.749, Train_Loss=0.0254]\n",
            "100%|██████████| 15/15 [00:06<00:00,  2.34it/s, IOU=0.649, VAL_F1_Loss=0.692, Val_Loss=0.0109]\n"
          ]
        },
        {
          "name": "stdout",
          "output_type": "stream",
          "text": [
            "###### Epoch:  192 _ 0.0  ######\n"
          ]
        },
        {
          "name": "stderr",
          "output_type": "stream",
          "text": [
            "100%|██████████| 15/15 [00:08<00:00,  1.80it/s, IOU=0.673, Train_F1_Loss=0.707, Train_Loss=0.0162]\n",
            "100%|██████████| 15/15 [00:06<00:00,  2.35it/s, IOU=0.555, VAL_F1_Loss=0.599, Val_Loss=0.0226]\n"
          ]
        },
        {
          "name": "stdout",
          "output_type": "stream",
          "text": [
            "###### Epoch:  193 _ 0.0  ######\n"
          ]
        },
        {
          "name": "stderr",
          "output_type": "stream",
          "text": [
            "100%|██████████| 15/15 [00:08<00:00,  1.81it/s, IOU=0.644, Train_F1_Loss=0.632, Train_Loss=0.0201]\n",
            "100%|██████████| 15/15 [00:06<00:00,  2.34it/s, IOU=0.677, VAL_F1_Loss=0.813, Val_Loss=0.0184]\n"
          ]
        },
        {
          "name": "stdout",
          "output_type": "stream",
          "text": [
            "###### Epoch:  194 _ 0.0  ######\n"
          ]
        },
        {
          "name": "stderr",
          "output_type": "stream",
          "text": [
            "100%|██████████| 15/15 [00:08<00:00,  1.81it/s, IOU=0.822, Train_F1_Loss=0.914, Train_Loss=0.0141]\n",
            "100%|██████████| 15/15 [00:06<00:00,  2.34it/s, IOU=0.562, VAL_F1_Loss=0.644, Val_Loss=0.0247]\n"
          ]
        },
        {
          "name": "stdout",
          "output_type": "stream",
          "text": [
            "###### Epoch:  195 _ 0.0  ######\n"
          ]
        },
        {
          "name": "stderr",
          "output_type": "stream",
          "text": [
            "100%|██████████| 15/15 [00:08<00:00,  1.80it/s, IOU=0.81, Train_F1_Loss=0.833, Train_Loss=0.0195] \n",
            "100%|██████████| 15/15 [00:06<00:00,  2.33it/s, IOU=0.644, VAL_F1_Loss=0.804, Val_Loss=0.0166]\n"
          ]
        },
        {
          "name": "stdout",
          "output_type": "stream",
          "text": [
            "###### Epoch:  196 _ 0.0  ######\n"
          ]
        },
        {
          "name": "stderr",
          "output_type": "stream",
          "text": [
            "100%|██████████| 15/15 [00:08<00:00,  1.80it/s, IOU=0.743, Train_F1_Loss=0.898, Train_Loss=0.0158]\n",
            "100%|██████████| 15/15 [00:06<00:00,  2.34it/s, IOU=0.59, VAL_F1_Loss=0.642, Val_Loss=0.0313] \n"
          ]
        },
        {
          "name": "stdout",
          "output_type": "stream",
          "text": [
            "###### Epoch:  197 _ 0.0  ######\n"
          ]
        },
        {
          "name": "stderr",
          "output_type": "stream",
          "text": [
            "100%|██████████| 15/15 [00:08<00:00,  1.80it/s, IOU=0.703, Train_F1_Loss=0.707, Train_Loss=0.0262]\n",
            "100%|██████████| 15/15 [00:06<00:00,  2.33it/s, IOU=0.58, VAL_F1_Loss=0.673, Val_Loss=0.0274] \n"
          ]
        },
        {
          "name": "stdout",
          "output_type": "stream",
          "text": [
            "###### Epoch:  198 _ 0.0  ######\n"
          ]
        },
        {
          "name": "stderr",
          "output_type": "stream",
          "text": [
            "100%|██████████| 15/15 [00:08<00:00,  1.79it/s, IOU=0.616, Train_F1_Loss=0.621, Train_Loss=0.0324]\n",
            "100%|██████████| 15/15 [00:06<00:00,  2.33it/s, IOU=0.621, VAL_F1_Loss=0.716, Val_Loss=0.0187]\n"
          ]
        },
        {
          "name": "stdout",
          "output_type": "stream",
          "text": [
            "###### Epoch:  199 _ 0.0  ######\n"
          ]
        },
        {
          "name": "stderr",
          "output_type": "stream",
          "text": [
            "100%|██████████| 15/15 [00:08<00:00,  1.80it/s, IOU=0.77, Train_F1_Loss=0.724, Train_Loss=0.0195] \n",
            "100%|██████████| 15/15 [00:06<00:00,  2.32it/s, IOU=0.626, VAL_F1_Loss=0.687, Val_Loss=0.0228]\n"
          ]
        },
        {
          "name": "stdout",
          "output_type": "stream",
          "text": [
            "###### Epoch:  200 _ 0.0  ######\n"
          ]
        },
        {
          "name": "stderr",
          "output_type": "stream",
          "text": [
            "100%|██████████| 15/15 [00:08<00:00,  1.80it/s, IOU=0.768, Train_F1_Loss=0.821, Train_Loss=0.0183]\n",
            "100%|██████████| 15/15 [00:06<00:00,  2.34it/s, IOU=0.498, VAL_F1_Loss=0.637, Val_Loss=0.0319]\n"
          ]
        },
        {
          "name": "stdout",
          "output_type": "stream",
          "text": [
            "###### Epoch:  201 _ 0.0  ######\n"
          ]
        },
        {
          "name": "stderr",
          "output_type": "stream",
          "text": [
            "100%|██████████| 15/15 [00:08<00:00,  1.80it/s, IOU=0.743, Train_F1_Loss=0.821, Train_Loss=0.0269]\n",
            "100%|██████████| 15/15 [00:06<00:00,  2.26it/s, IOU=0.59, VAL_F1_Loss=0.689, Val_Loss=0.0168] \n"
          ]
        },
        {
          "name": "stdout",
          "output_type": "stream",
          "text": [
            "###### Epoch:  202 _ 0.0  ######\n"
          ]
        },
        {
          "name": "stderr",
          "output_type": "stream",
          "text": [
            "100%|██████████| 15/15 [00:08<00:00,  1.81it/s, IOU=0.634, Train_F1_Loss=0.68, Train_Loss=0.0283] \n",
            "100%|██████████| 15/15 [00:06<00:00,  2.34it/s, IOU=0.663, VAL_F1_Loss=0.809, Val_Loss=0.0189]\n"
          ]
        },
        {
          "name": "stdout",
          "output_type": "stream",
          "text": [
            "###### Epoch:  203 _ 0.0  ######\n"
          ]
        },
        {
          "name": "stderr",
          "output_type": "stream",
          "text": [
            "100%|██████████| 15/15 [00:08<00:00,  1.81it/s, IOU=0.734, Train_F1_Loss=0.819, Train_Loss=0.0197]\n",
            "100%|██████████| 15/15 [00:06<00:00,  2.34it/s, IOU=0.662, VAL_F1_Loss=0.842, Val_Loss=0.0129]\n"
          ]
        },
        {
          "name": "stdout",
          "output_type": "stream",
          "text": [
            "###### Epoch:  204 _ 0.0  ######\n"
          ]
        },
        {
          "name": "stderr",
          "output_type": "stream",
          "text": [
            "100%|██████████| 15/15 [00:08<00:00,  1.80it/s, IOU=0.607, Train_F1_Loss=0.746, Train_Loss=0.0242]\n",
            "100%|██████████| 15/15 [00:06<00:00,  2.34it/s, IOU=0.657, VAL_F1_Loss=0.745, Val_Loss=0.0184]\n"
          ]
        },
        {
          "name": "stdout",
          "output_type": "stream",
          "text": [
            "###### Epoch:  205 _ 0.0  ######\n"
          ]
        },
        {
          "name": "stderr",
          "output_type": "stream",
          "text": [
            "100%|██████████| 15/15 [00:08<00:00,  1.80it/s, IOU=0.681, Train_F1_Loss=0.695, Train_Loss=0.0208]\n",
            "100%|██████████| 15/15 [00:06<00:00,  2.35it/s, IOU=0.639, VAL_F1_Loss=0.883, Val_Loss=0.0134]\n"
          ]
        },
        {
          "name": "stdout",
          "output_type": "stream",
          "text": [
            "###### Epoch:  206 _ 0.0  ######\n"
          ]
        },
        {
          "name": "stderr",
          "output_type": "stream",
          "text": [
            "100%|██████████| 15/15 [00:08<00:00,  1.80it/s, IOU=0.748, Train_F1_Loss=0.71, Train_Loss=0.0336] \n",
            "100%|██████████| 15/15 [00:06<00:00,  2.35it/s, IOU=0.645, VAL_F1_Loss=0.758, Val_Loss=0.0216]\n"
          ]
        },
        {
          "name": "stdout",
          "output_type": "stream",
          "text": [
            "###### Epoch:  207 _ 0.0  ######\n"
          ]
        },
        {
          "name": "stderr",
          "output_type": "stream",
          "text": [
            "100%|██████████| 15/15 [00:08<00:00,  1.80it/s, IOU=0.764, Train_F1_Loss=0.791, Train_Loss=0.0179]\n",
            "100%|██████████| 15/15 [00:06<00:00,  2.35it/s, IOU=0.538, VAL_F1_Loss=0.637, Val_Loss=0.0241]\n"
          ]
        },
        {
          "name": "stdout",
          "output_type": "stream",
          "text": [
            "###### Epoch:  208 _ 0.0  ######\n"
          ]
        },
        {
          "name": "stderr",
          "output_type": "stream",
          "text": [
            "100%|██████████| 15/15 [00:08<00:00,  1.80it/s, IOU=0.588, Train_F1_Loss=0.727, Train_Loss=0.0297]\n",
            "100%|██████████| 15/15 [00:06<00:00,  2.34it/s, IOU=0.515, VAL_F1_Loss=0.676, Val_Loss=0.0236]\n"
          ]
        },
        {
          "name": "stdout",
          "output_type": "stream",
          "text": [
            "###### Epoch:  209 _ 0.0  ######\n"
          ]
        },
        {
          "name": "stderr",
          "output_type": "stream",
          "text": [
            "100%|██████████| 15/15 [00:08<00:00,  1.80it/s, IOU=0.717, Train_F1_Loss=0.793, Train_Loss=0.0154]\n",
            "100%|██████████| 15/15 [00:09<00:00,  1.61it/s, IOU=0.567, VAL_F1_Loss=0.624, Val_Loss=0.0247]\n"
          ]
        },
        {
          "name": "stdout",
          "output_type": "stream",
          "text": [
            "###### Epoch:  210 _ 0.0  ######\n"
          ]
        },
        {
          "name": "stderr",
          "output_type": "stream",
          "text": [
            "100%|██████████| 15/15 [00:08<00:00,  1.81it/s, IOU=0.67, Train_F1_Loss=0.865, Train_Loss=0.0153] \n",
            "100%|██████████| 15/15 [00:06<00:00,  2.33it/s, IOU=0.588, VAL_F1_Loss=0.683, Val_Loss=0.0227]\n"
          ]
        },
        {
          "name": "stdout",
          "output_type": "stream",
          "text": [
            "###### Epoch:  211 _ 0.0  ######\n"
          ]
        },
        {
          "name": "stderr",
          "output_type": "stream",
          "text": [
            "100%|██████████| 15/15 [00:08<00:00,  1.78it/s, IOU=0.739, Train_F1_Loss=0.778, Train_Loss=0.0172]\n",
            "100%|██████████| 15/15 [00:06<00:00,  2.33it/s, IOU=0.539, VAL_F1_Loss=0.744, Val_Loss=0.0252]\n"
          ]
        },
        {
          "name": "stdout",
          "output_type": "stream",
          "text": [
            "###### Epoch:  212 _ 0.0  ######\n"
          ]
        },
        {
          "name": "stderr",
          "output_type": "stream",
          "text": [
            "100%|██████████| 15/15 [00:08<00:00,  1.80it/s, IOU=0.814, Train_F1_Loss=0.835, Train_Loss=0.0189]\n",
            "100%|██████████| 15/15 [00:06<00:00,  2.34it/s, IOU=0.62, VAL_F1_Loss=0.745, Val_Loss=0.0145] \n"
          ]
        },
        {
          "name": "stdout",
          "output_type": "stream",
          "text": [
            "###### Epoch:  213 _ 0.0  ######\n"
          ]
        },
        {
          "name": "stderr",
          "output_type": "stream",
          "text": [
            "100%|██████████| 15/15 [00:08<00:00,  1.80it/s, IOU=0.628, Train_F1_Loss=0.691, Train_Loss=0.0246]\n",
            "100%|██████████| 15/15 [00:06<00:00,  2.33it/s, IOU=0.699, VAL_F1_Loss=0.817, Val_Loss=0.0149]\n"
          ]
        },
        {
          "name": "stdout",
          "output_type": "stream",
          "text": [
            "###### Epoch:  214 _ 0.0  ######\n"
          ]
        },
        {
          "name": "stderr",
          "output_type": "stream",
          "text": [
            "100%|██████████| 15/15 [00:08<00:00,  1.79it/s, IOU=0.753, Train_F1_Loss=0.854, Train_Loss=0.0177]\n",
            "100%|██████████| 15/15 [00:06<00:00,  2.34it/s, IOU=0.593, VAL_F1_Loss=0.76, Val_Loss=0.0178] \n"
          ]
        },
        {
          "name": "stdout",
          "output_type": "stream",
          "text": [
            "###### Epoch:  215 _ 0.0  ######\n"
          ]
        },
        {
          "name": "stderr",
          "output_type": "stream",
          "text": [
            "100%|██████████| 15/15 [00:08<00:00,  1.80it/s, IOU=0.691, Train_F1_Loss=0.733, Train_Loss=0.0232]\n",
            "100%|██████████| 15/15 [00:06<00:00,  2.33it/s, IOU=0.522, VAL_F1_Loss=0.649, Val_Loss=0.0234]\n"
          ]
        },
        {
          "name": "stdout",
          "output_type": "stream",
          "text": [
            "###### Epoch:  216 _ 0.0  ######\n"
          ]
        },
        {
          "name": "stderr",
          "output_type": "stream",
          "text": [
            "100%|██████████| 15/15 [00:08<00:00,  1.80it/s, IOU=0.644, Train_F1_Loss=0.746, Train_Loss=0.033] \n",
            "100%|██████████| 15/15 [00:06<00:00,  2.33it/s, IOU=0.601, VAL_F1_Loss=0.729, Val_Loss=0.0211]\n"
          ]
        },
        {
          "name": "stdout",
          "output_type": "stream",
          "text": [
            "###### Epoch:  217 _ 0.0  ######\n"
          ]
        },
        {
          "name": "stderr",
          "output_type": "stream",
          "text": [
            "100%|██████████| 15/15 [00:08<00:00,  1.81it/s, IOU=0.666, Train_F1_Loss=0.83, Train_Loss=0.0203] \n",
            "100%|██████████| 15/15 [00:06<00:00,  2.33it/s, IOU=0.563, VAL_F1_Loss=0.802, Val_Loss=0.0177]\n"
          ]
        },
        {
          "name": "stdout",
          "output_type": "stream",
          "text": [
            "###### Epoch:  218 _ 0.0  ######\n"
          ]
        },
        {
          "name": "stderr",
          "output_type": "stream",
          "text": [
            "100%|██████████| 15/15 [00:08<00:00,  1.81it/s, IOU=0.612, Train_F1_Loss=0.694, Train_Loss=0.0316]\n",
            "100%|██████████| 15/15 [00:06<00:00,  2.35it/s, IOU=0.622, VAL_F1_Loss=0.689, Val_Loss=0.0266]\n"
          ]
        },
        {
          "name": "stdout",
          "output_type": "stream",
          "text": [
            "###### Epoch:  219 _ 0.0  ######\n"
          ]
        },
        {
          "name": "stderr",
          "output_type": "stream",
          "text": [
            "100%|██████████| 15/15 [00:08<00:00,  1.81it/s, IOU=0.696, Train_F1_Loss=0.736, Train_Loss=0.0183]\n",
            "100%|██████████| 15/15 [00:06<00:00,  2.33it/s, IOU=0.655, VAL_F1_Loss=0.761, Val_Loss=0.0256]\n"
          ]
        },
        {
          "name": "stdout",
          "output_type": "stream",
          "text": [
            "###### Epoch:  220 _ 0.0  ######\n"
          ]
        },
        {
          "name": "stderr",
          "output_type": "stream",
          "text": [
            "100%|██████████| 15/15 [00:08<00:00,  1.80it/s, IOU=0.654, Train_F1_Loss=0.711, Train_Loss=0.0297]\n",
            "100%|██████████| 15/15 [00:06<00:00,  2.35it/s, IOU=0.493, VAL_F1_Loss=0.606, Val_Loss=0.0185]\n"
          ]
        },
        {
          "name": "stdout",
          "output_type": "stream",
          "text": [
            "###### Epoch:  221 _ 0.0  ######\n"
          ]
        },
        {
          "name": "stderr",
          "output_type": "stream",
          "text": [
            "100%|██████████| 15/15 [00:08<00:00,  1.81it/s, IOU=0.706, Train_F1_Loss=0.797, Train_Loss=0.0241]\n",
            "100%|██████████| 15/15 [00:06<00:00,  2.32it/s, IOU=0.554, VAL_F1_Loss=0.695, Val_Loss=0.0304]\n"
          ]
        },
        {
          "name": "stdout",
          "output_type": "stream",
          "text": [
            "###### Epoch:  222 _ 0.0  ######\n"
          ]
        },
        {
          "name": "stderr",
          "output_type": "stream",
          "text": [
            "100%|██████████| 15/15 [00:08<00:00,  1.80it/s, IOU=0.739, Train_F1_Loss=0.771, Train_Loss=0.0246]\n",
            "100%|██████████| 15/15 [00:06<00:00,  2.27it/s, IOU=0.636, VAL_F1_Loss=0.729, Val_Loss=0.0154]\n"
          ]
        },
        {
          "name": "stdout",
          "output_type": "stream",
          "text": [
            "###### Epoch:  223 _ 0.0  ######\n"
          ]
        },
        {
          "name": "stderr",
          "output_type": "stream",
          "text": [
            "100%|██████████| 15/15 [00:08<00:00,  1.73it/s, IOU=0.58, Train_F1_Loss=0.587, Train_Loss=0.0299] \n",
            "100%|██████████| 15/15 [00:06<00:00,  2.21it/s, IOU=0.635, VAL_F1_Loss=0.767, Val_Loss=0.0164]\n"
          ]
        },
        {
          "name": "stdout",
          "output_type": "stream",
          "text": [
            "###### Epoch:  224 _ 0.0  ######\n"
          ]
        },
        {
          "name": "stderr",
          "output_type": "stream",
          "text": [
            "100%|██████████| 15/15 [00:08<00:00,  1.81it/s, IOU=0.616, Train_F1_Loss=0.691, Train_Loss=0.0195] \n",
            "100%|██████████| 15/15 [00:06<00:00,  2.32it/s, IOU=0.569, VAL_F1_Loss=0.702, Val_Loss=0.0254]\n"
          ]
        },
        {
          "name": "stdout",
          "output_type": "stream",
          "text": [
            "###### Epoch:  225 _ 0.0  ######\n"
          ]
        },
        {
          "name": "stderr",
          "output_type": "stream",
          "text": [
            "100%|██████████| 15/15 [00:08<00:00,  1.79it/s, IOU=0.637, Train_F1_Loss=0.751, Train_Loss=0.0236]\n",
            "100%|██████████| 15/15 [00:06<00:00,  2.33it/s, IOU=0.657, VAL_F1_Loss=0.667, Val_Loss=0.0201]\n"
          ]
        },
        {
          "name": "stdout",
          "output_type": "stream",
          "text": [
            "###### Epoch:  226 _ 0.0  ######\n"
          ]
        },
        {
          "name": "stderr",
          "output_type": "stream",
          "text": [
            "100%|██████████| 15/15 [00:08<00:00,  1.80it/s, IOU=0.753, Train_F1_Loss=0.884, Train_Loss=0.0156]\n",
            "100%|██████████| 15/15 [00:06<00:00,  2.33it/s, IOU=0.566, VAL_F1_Loss=0.693, Val_Loss=0.0333]\n"
          ]
        },
        {
          "name": "stdout",
          "output_type": "stream",
          "text": [
            "###### Epoch:  227 _ 0.0  ######\n"
          ]
        },
        {
          "name": "stderr",
          "output_type": "stream",
          "text": [
            "100%|██████████| 15/15 [00:08<00:00,  1.79it/s, IOU=0.758, Train_F1_Loss=0.68, Train_Loss=0.017]  \n",
            "100%|██████████| 15/15 [00:06<00:00,  2.34it/s, IOU=0.641, VAL_F1_Loss=0.853, Val_Loss=0.014] \n"
          ]
        },
        {
          "name": "stdout",
          "output_type": "stream",
          "text": [
            "###### Epoch:  228 _ 0.0  ######\n"
          ]
        },
        {
          "name": "stderr",
          "output_type": "stream",
          "text": [
            "100%|██████████| 15/15 [00:08<00:00,  1.80it/s, IOU=0.601, Train_F1_Loss=0.652, Train_Loss=0.0373]\n",
            "100%|██████████| 15/15 [00:06<00:00,  2.33it/s, IOU=0.61, VAL_F1_Loss=0.66, Val_Loss=0.0183]  \n"
          ]
        },
        {
          "name": "stdout",
          "output_type": "stream",
          "text": [
            "###### Epoch:  229 _ 0.0  ######\n"
          ]
        },
        {
          "name": "stderr",
          "output_type": "stream",
          "text": [
            "100%|██████████| 15/15 [00:08<00:00,  1.80it/s, IOU=0.614, Train_F1_Loss=0.721, Train_Loss=0.0277]\n",
            "100%|██████████| 15/15 [00:06<00:00,  2.34it/s, IOU=0.592, VAL_F1_Loss=0.757, Val_Loss=0.0174]\n"
          ]
        },
        {
          "name": "stdout",
          "output_type": "stream",
          "text": [
            "###### Epoch:  230 _ 0.0  ######\n"
          ]
        },
        {
          "name": "stderr",
          "output_type": "stream",
          "text": [
            "100%|██████████| 15/15 [00:08<00:00,  1.79it/s, IOU=0.717, Train_F1_Loss=0.864, Train_Loss=0.0161]\n",
            "100%|██████████| 15/15 [00:06<00:00,  2.33it/s, IOU=0.569, VAL_F1_Loss=0.7, Val_Loss=0.0283]  \n"
          ]
        },
        {
          "name": "stdout",
          "output_type": "stream",
          "text": [
            "###### Epoch:  231 _ 0.0  ######\n"
          ]
        },
        {
          "name": "stderr",
          "output_type": "stream",
          "text": [
            "100%|██████████| 15/15 [00:08<00:00,  1.79it/s, IOU=0.626, Train_F1_Loss=0.669, Train_Loss=0.0253]\n",
            "100%|██████████| 15/15 [00:06<00:00,  2.34it/s, IOU=0.603, VAL_F1_Loss=0.793, Val_Loss=0.0199]\n"
          ]
        },
        {
          "name": "stdout",
          "output_type": "stream",
          "text": [
            "###### Epoch:  232 _ 0.0  ######\n"
          ]
        },
        {
          "name": "stderr",
          "output_type": "stream",
          "text": [
            "100%|██████████| 15/15 [00:08<00:00,  1.80it/s, IOU=0.651, Train_F1_Loss=0.585, Train_Loss=0.0229]\n",
            "100%|██████████| 15/15 [00:06<00:00,  2.31it/s, IOU=0.602, VAL_F1_Loss=0.765, Val_Loss=0.0222]\n"
          ]
        },
        {
          "name": "stdout",
          "output_type": "stream",
          "text": [
            "###### Epoch:  233 _ 0.0  ######\n"
          ]
        },
        {
          "name": "stderr",
          "output_type": "stream",
          "text": [
            "100%|██████████| 15/15 [00:08<00:00,  1.80it/s, IOU=0.695, Train_F1_Loss=0.789, Train_Loss=0.0223]\n",
            "100%|██████████| 15/15 [00:06<00:00,  2.35it/s, IOU=0.707, VAL_F1_Loss=0.7, Val_Loss=0.0171]  \n"
          ]
        },
        {
          "name": "stdout",
          "output_type": "stream",
          "text": [
            "###### Epoch:  234 _ 0.0  ######\n"
          ]
        },
        {
          "name": "stderr",
          "output_type": "stream",
          "text": [
            "100%|██████████| 15/15 [00:08<00:00,  1.82it/s, IOU=0.656, Train_F1_Loss=0.81, Train_Loss=0.0183] \n",
            "100%|██████████| 15/15 [00:06<00:00,  2.36it/s, IOU=0.551, VAL_F1_Loss=0.643, Val_Loss=0.021] \n"
          ]
        },
        {
          "name": "stdout",
          "output_type": "stream",
          "text": [
            "###### Epoch:  235 _ 0.0  ######\n"
          ]
        },
        {
          "name": "stderr",
          "output_type": "stream",
          "text": [
            "100%|██████████| 15/15 [00:08<00:00,  1.80it/s, IOU=0.686, Train_F1_Loss=0.802, Train_Loss=0.0171]\n",
            "100%|██████████| 15/15 [00:06<00:00,  2.35it/s, IOU=0.569, VAL_F1_Loss=0.793, Val_Loss=0.0189]\n"
          ]
        },
        {
          "name": "stdout",
          "output_type": "stream",
          "text": [
            "###### Epoch:  236 _ 0.0  ######\n"
          ]
        },
        {
          "name": "stderr",
          "output_type": "stream",
          "text": [
            "100%|██████████| 15/15 [00:08<00:00,  1.80it/s, IOU=0.685, Train_F1_Loss=0.74, Train_Loss=0.0194] \n",
            "100%|██████████| 15/15 [00:06<00:00,  2.34it/s, IOU=0.584, VAL_F1_Loss=0.717, Val_Loss=0.0232]\n"
          ]
        },
        {
          "name": "stdout",
          "output_type": "stream",
          "text": [
            "###### Epoch:  237 _ 0.0  ######\n"
          ]
        },
        {
          "name": "stderr",
          "output_type": "stream",
          "text": [
            "100%|██████████| 15/15 [00:08<00:00,  1.80it/s, IOU=0.647, Train_F1_Loss=0.838, Train_Loss=0.0168]\n",
            "100%|██████████| 15/15 [00:06<00:00,  2.35it/s, IOU=0.582, VAL_F1_Loss=0.663, Val_Loss=0.0182]\n"
          ]
        },
        {
          "name": "stdout",
          "output_type": "stream",
          "text": [
            "###### Epoch:  238 _ 0.0  ######\n"
          ]
        },
        {
          "name": "stderr",
          "output_type": "stream",
          "text": [
            "100%|██████████| 15/15 [00:08<00:00,  1.80it/s, IOU=0.801, Train_F1_Loss=0.772, Train_Loss=0.0191]\n",
            "100%|██████████| 15/15 [00:10<00:00,  1.49it/s, IOU=0.671, VAL_F1_Loss=0.809, Val_Loss=0.0202]\n"
          ]
        },
        {
          "name": "stdout",
          "output_type": "stream",
          "text": [
            "###### Epoch:  239 _ 0.0  ######\n"
          ]
        },
        {
          "name": "stderr",
          "output_type": "stream",
          "text": [
            "100%|██████████| 15/15 [00:08<00:00,  1.79it/s, IOU=0.678, Train_F1_Loss=0.837, Train_Loss=0.0142]\n",
            "100%|██████████| 15/15 [00:06<00:00,  2.31it/s, IOU=0.554, VAL_F1_Loss=0.842, Val_Loss=0.0139]\n"
          ]
        },
        {
          "name": "stdout",
          "output_type": "stream",
          "text": [
            "###### Epoch:  240 _ 0.0  ######\n"
          ]
        },
        {
          "name": "stderr",
          "output_type": "stream",
          "text": [
            "100%|██████████| 15/15 [00:08<00:00,  1.80it/s, IOU=0.751, Train_F1_Loss=0.814, Train_Loss=0.0243]\n",
            "100%|██████████| 15/15 [00:06<00:00,  2.31it/s, IOU=0.556, VAL_F1_Loss=0.609, Val_Loss=0.0233]\n"
          ]
        },
        {
          "name": "stdout",
          "output_type": "stream",
          "text": [
            "###### Epoch:  241 _ 0.0  ######\n"
          ]
        },
        {
          "name": "stderr",
          "output_type": "stream",
          "text": [
            "100%|██████████| 15/15 [00:08<00:00,  1.79it/s, IOU=0.672, Train_F1_Loss=0.809, Train_Loss=0.017] \n",
            "100%|██████████| 15/15 [00:06<00:00,  2.35it/s, IOU=0.607, VAL_F1_Loss=0.763, Val_Loss=0.02]  \n"
          ]
        },
        {
          "name": "stdout",
          "output_type": "stream",
          "text": [
            "###### Epoch:  242 _ 0.0  ######\n"
          ]
        },
        {
          "name": "stderr",
          "output_type": "stream",
          "text": [
            "100%|██████████| 15/15 [00:08<00:00,  1.81it/s, IOU=0.821, Train_F1_Loss=0.861, Train_Loss=0.0216]\n",
            "100%|██████████| 15/15 [00:06<00:00,  2.35it/s, IOU=0.588, VAL_F1_Loss=0.627, Val_Loss=0.0147]\n"
          ]
        },
        {
          "name": "stdout",
          "output_type": "stream",
          "text": [
            "###### Epoch:  243 _ 0.0  ######\n"
          ]
        },
        {
          "name": "stderr",
          "output_type": "stream",
          "text": [
            "100%|██████████| 15/15 [00:08<00:00,  1.80it/s, IOU=0.664, Train_F1_Loss=0.751, Train_Loss=0.0247]\n",
            "100%|██████████| 15/15 [00:06<00:00,  2.35it/s, IOU=0.653, VAL_F1_Loss=0.783, Val_Loss=0.0151]\n"
          ]
        },
        {
          "name": "stdout",
          "output_type": "stream",
          "text": [
            "###### Epoch:  244 _ 0.0  ######\n"
          ]
        },
        {
          "name": "stderr",
          "output_type": "stream",
          "text": [
            "100%|██████████| 15/15 [00:08<00:00,  1.80it/s, IOU=0.636, Train_F1_Loss=0.637, Train_Loss=0.0244]\n",
            "100%|██████████| 15/15 [00:06<00:00,  2.34it/s, IOU=0.612, VAL_F1_Loss=0.836, Val_Loss=0.0126]\n"
          ]
        },
        {
          "name": "stdout",
          "output_type": "stream",
          "text": [
            "###### Epoch:  245 _ 0.0  ######\n"
          ]
        },
        {
          "name": "stderr",
          "output_type": "stream",
          "text": [
            "100%|██████████| 15/15 [00:08<00:00,  1.80it/s, IOU=0.688, Train_F1_Loss=0.781, Train_Loss=0.0218]\n",
            "100%|██████████| 15/15 [00:06<00:00,  2.31it/s, IOU=0.598, VAL_F1_Loss=0.63, Val_Loss=0.0266]  \n"
          ]
        },
        {
          "name": "stdout",
          "output_type": "stream",
          "text": [
            "###### Epoch:  246 _ 0.0  ######\n"
          ]
        },
        {
          "name": "stderr",
          "output_type": "stream",
          "text": [
            "100%|██████████| 15/15 [00:08<00:00,  1.80it/s, IOU=0.753, Train_F1_Loss=0.818, Train_Loss=0.0166] \n",
            "100%|██████████| 15/15 [00:06<00:00,  2.34it/s, IOU=0.586, VAL_F1_Loss=0.692, Val_Loss=0.0183]\n"
          ]
        },
        {
          "name": "stdout",
          "output_type": "stream",
          "text": [
            "###### Epoch:  247 _ 0.0  ######\n"
          ]
        },
        {
          "name": "stderr",
          "output_type": "stream",
          "text": [
            "100%|██████████| 15/15 [00:08<00:00,  1.80it/s, IOU=0.733, Train_F1_Loss=0.825, Train_Loss=0.0167]\n",
            "100%|██████████| 15/15 [00:06<00:00,  2.34it/s, IOU=0.573, VAL_F1_Loss=0.631, Val_Loss=0.0215]\n"
          ]
        },
        {
          "name": "stdout",
          "output_type": "stream",
          "text": [
            "###### Epoch:  248 _ 0.0  ######\n"
          ]
        },
        {
          "name": "stderr",
          "output_type": "stream",
          "text": [
            "100%|██████████| 15/15 [00:08<00:00,  1.80it/s, IOU=0.603, Train_F1_Loss=0.708, Train_Loss=0.0221]\n",
            "100%|██████████| 15/15 [00:06<00:00,  2.30it/s, IOU=0.564, VAL_F1_Loss=0.728, Val_Loss=0.0227]\n"
          ]
        },
        {
          "name": "stdout",
          "output_type": "stream",
          "text": [
            "###### Epoch:  249 _ 0.0  ######\n"
          ]
        },
        {
          "name": "stderr",
          "output_type": "stream",
          "text": [
            "100%|██████████| 15/15 [00:08<00:00,  1.80it/s, IOU=0.688, Train_F1_Loss=0.792, Train_Loss=0.0239]\n",
            "100%|██████████| 15/15 [00:06<00:00,  2.33it/s, IOU=0.511, VAL_F1_Loss=0.612, Val_Loss=0.0253]\n"
          ]
        },
        {
          "name": "stdout",
          "output_type": "stream",
          "text": [
            "###### Epoch:  250 _ 0.0  ######\n"
          ]
        },
        {
          "name": "stderr",
          "output_type": "stream",
          "text": [
            "100%|██████████| 15/15 [00:08<00:00,  1.81it/s, IOU=0.719, Train_F1_Loss=0.785, Train_Loss=0.018] \n",
            "100%|██████████| 15/15 [00:06<00:00,  2.36it/s, IOU=0.67, VAL_F1_Loss=0.744, Val_Loss=0.0183] \n"
          ]
        },
        {
          "name": "stdout",
          "output_type": "stream",
          "text": [
            "###### Epoch:  251 _ 0.0  ######\n"
          ]
        },
        {
          "name": "stderr",
          "output_type": "stream",
          "text": [
            "100%|██████████| 15/15 [00:08<00:00,  1.81it/s, IOU=0.656, Train_F1_Loss=0.671, Train_Loss=0.0286]\n",
            "100%|██████████| 15/15 [00:06<00:00,  2.32it/s, IOU=0.675, VAL_F1_Loss=0.792, Val_Loss=0.0176]\n"
          ]
        },
        {
          "name": "stdout",
          "output_type": "stream",
          "text": [
            "###### Epoch:  252 _ 0.0  ######\n"
          ]
        },
        {
          "name": "stderr",
          "output_type": "stream",
          "text": [
            "100%|██████████| 15/15 [00:08<00:00,  1.80it/s, IOU=0.662, Train_F1_Loss=0.701, Train_Loss=0.0188]\n",
            "100%|██████████| 15/15 [00:06<00:00,  2.31it/s, IOU=0.642, VAL_F1_Loss=0.75, Val_Loss=0.0214] \n"
          ]
        },
        {
          "name": "stdout",
          "output_type": "stream",
          "text": [
            "###### Epoch:  253 _ 0.0  ######\n"
          ]
        },
        {
          "name": "stderr",
          "output_type": "stream",
          "text": [
            "100%|██████████| 15/15 [00:08<00:00,  1.80it/s, IOU=0.758, Train_F1_Loss=0.698, Train_Loss=0.019] \n",
            "100%|██████████| 15/15 [00:06<00:00,  2.35it/s, IOU=0.602, VAL_F1_Loss=0.696, Val_Loss=0.0216]\n"
          ]
        },
        {
          "name": "stdout",
          "output_type": "stream",
          "text": [
            "###### Epoch:  254 _ 0.0  ######\n"
          ]
        },
        {
          "name": "stderr",
          "output_type": "stream",
          "text": [
            "100%|██████████| 15/15 [00:08<00:00,  1.81it/s, IOU=0.647, Train_F1_Loss=0.695, Train_Loss=0.0348]\n",
            "100%|██████████| 15/15 [00:06<00:00,  2.33it/s, IOU=0.587, VAL_F1_Loss=0.835, Val_Loss=0.0156]\n"
          ]
        },
        {
          "name": "stdout",
          "output_type": "stream",
          "text": [
            "###### Epoch:  255 _ 0.0  ######\n"
          ]
        },
        {
          "name": "stderr",
          "output_type": "stream",
          "text": [
            "100%|██████████| 15/15 [00:08<00:00,  1.80it/s, IOU=0.809, Train_F1_Loss=0.818, Train_Loss=0.0282]\n",
            "100%|██████████| 15/15 [00:06<00:00,  2.31it/s, IOU=0.569, VAL_F1_Loss=0.777, Val_Loss=0.0194]\n"
          ]
        },
        {
          "name": "stdout",
          "output_type": "stream",
          "text": [
            "###### Epoch:  256 _ 0.0  ######\n"
          ]
        },
        {
          "name": "stderr",
          "output_type": "stream",
          "text": [
            "100%|██████████| 15/15 [00:08<00:00,  1.81it/s, IOU=0.832, Train_F1_Loss=0.853, Train_Loss=0.0334]\n",
            "100%|██████████| 15/15 [00:06<00:00,  2.35it/s, IOU=0.563, VAL_F1_Loss=0.644, Val_Loss=0.0223]\n"
          ]
        },
        {
          "name": "stdout",
          "output_type": "stream",
          "text": [
            "###### Epoch:  257 _ 0.0  ######\n"
          ]
        },
        {
          "name": "stderr",
          "output_type": "stream",
          "text": [
            "100%|██████████| 15/15 [00:08<00:00,  1.81it/s, IOU=0.661, Train_F1_Loss=0.745, Train_Loss=0.0299]\n",
            "100%|██████████| 15/15 [00:06<00:00,  2.34it/s, IOU=0.663, VAL_F1_Loss=0.843, Val_Loss=0.0172]\n"
          ]
        },
        {
          "name": "stdout",
          "output_type": "stream",
          "text": [
            "###### Epoch:  258 _ 0.0  ######\n"
          ]
        },
        {
          "name": "stderr",
          "output_type": "stream",
          "text": [
            "100%|██████████| 15/15 [00:08<00:00,  1.81it/s, IOU=0.595, Train_F1_Loss=0.644, Train_Loss=0.0211]\n",
            "100%|██████████| 15/15 [00:06<00:00,  2.32it/s, IOU=0.549, VAL_F1_Loss=0.772, Val_Loss=0.0203]\n"
          ]
        },
        {
          "name": "stdout",
          "output_type": "stream",
          "text": [
            "###### Epoch:  259 _ 0.0  ######\n"
          ]
        },
        {
          "name": "stderr",
          "output_type": "stream",
          "text": [
            "100%|██████████| 15/15 [00:08<00:00,  1.80it/s, IOU=0.562, Train_F1_Loss=0.576, Train_Loss=0.0298]\n",
            "100%|██████████| 15/15 [00:06<00:00,  2.30it/s, IOU=0.601, VAL_F1_Loss=0.792, Val_Loss=0.0188]\n"
          ]
        },
        {
          "name": "stdout",
          "output_type": "stream",
          "text": [
            "###### Epoch:  260 _ 0.0  ######\n"
          ]
        },
        {
          "name": "stderr",
          "output_type": "stream",
          "text": [
            "100%|██████████| 15/15 [00:08<00:00,  1.80it/s, IOU=0.567, Train_F1_Loss=0.627, Train_Loss=0.0237]\n",
            "100%|██████████| 15/15 [00:06<00:00,  2.33it/s, IOU=0.678, VAL_F1_Loss=0.829, Val_Loss=0.018] \n"
          ]
        },
        {
          "name": "stdout",
          "output_type": "stream",
          "text": [
            "###### Epoch:  261 _ 0.0  ######\n"
          ]
        },
        {
          "name": "stderr",
          "output_type": "stream",
          "text": [
            "100%|██████████| 15/15 [00:08<00:00,  1.79it/s, IOU=0.581, Train_F1_Loss=0.61, Train_Loss=0.0244] \n",
            "100%|██████████| 15/15 [00:06<00:00,  2.28it/s, IOU=0.626, VAL_F1_Loss=0.765, Val_Loss=0.0216]\n"
          ]
        },
        {
          "name": "stdout",
          "output_type": "stream",
          "text": [
            "###### Epoch:  262 _ 0.0  ######\n"
          ]
        },
        {
          "name": "stderr",
          "output_type": "stream",
          "text": [
            "100%|██████████| 15/15 [00:08<00:00,  1.79it/s, IOU=0.561, Train_F1_Loss=0.777, Train_Loss=0.0167]\n",
            "100%|██████████| 15/15 [00:06<00:00,  2.31it/s, IOU=0.605, VAL_F1_Loss=0.702, Val_Loss=0.0229]\n"
          ]
        },
        {
          "name": "stdout",
          "output_type": "stream",
          "text": [
            "###### Epoch:  263 _ 0.0  ######\n"
          ]
        },
        {
          "name": "stderr",
          "output_type": "stream",
          "text": [
            "100%|██████████| 15/15 [00:08<00:00,  1.80it/s, IOU=0.539, Train_F1_Loss=0.758, Train_Loss=0.0245]\n",
            "100%|██████████| 15/15 [00:06<00:00,  2.30it/s, IOU=0.586, VAL_F1_Loss=0.684, Val_Loss=0.0169]\n"
          ]
        },
        {
          "name": "stdout",
          "output_type": "stream",
          "text": [
            "###### Epoch:  264 _ 0.0  ######\n"
          ]
        },
        {
          "name": "stderr",
          "output_type": "stream",
          "text": [
            "100%|██████████| 15/15 [00:08<00:00,  1.80it/s, IOU=0.688, Train_F1_Loss=0.649, Train_Loss=0.0164]\n",
            "100%|██████████| 15/15 [00:06<00:00,  2.29it/s, IOU=0.638, VAL_F1_Loss=0.669, Val_Loss=0.0197]\n"
          ]
        },
        {
          "name": "stdout",
          "output_type": "stream",
          "text": [
            "###### Epoch:  265 _ 0.0  ######\n"
          ]
        },
        {
          "name": "stderr",
          "output_type": "stream",
          "text": [
            "100%|██████████| 15/15 [00:08<00:00,  1.80it/s, IOU=0.709, Train_F1_Loss=0.799, Train_Loss=0.0236]\n",
            "100%|██████████| 15/15 [00:09<00:00,  1.58it/s, IOU=0.642, VAL_F1_Loss=0.786, Val_Loss=0.0212]\n"
          ]
        },
        {
          "name": "stdout",
          "output_type": "stream",
          "text": [
            "###### Epoch:  266 _ 0.0  ######\n"
          ]
        },
        {
          "name": "stderr",
          "output_type": "stream",
          "text": [
            "100%|██████████| 15/15 [00:08<00:00,  1.79it/s, IOU=0.807, Train_F1_Loss=0.86, Train_Loss=0.0191] \n",
            "100%|██████████| 15/15 [00:06<00:00,  2.27it/s, IOU=0.699, VAL_F1_Loss=0.887, Val_Loss=0.0116]\n"
          ]
        },
        {
          "name": "stdout",
          "output_type": "stream",
          "text": [
            "###### Epoch:  267 _ 0.0  ######\n"
          ]
        },
        {
          "name": "stderr",
          "output_type": "stream",
          "text": [
            "100%|██████████| 15/15 [00:08<00:00,  1.79it/s, IOU=0.607, Train_F1_Loss=0.625, Train_Loss=0.0326]\n",
            "100%|██████████| 15/15 [00:06<00:00,  2.28it/s, IOU=0.741, VAL_F1_Loss=0.845, Val_Loss=0.0131]\n"
          ]
        },
        {
          "name": "stdout",
          "output_type": "stream",
          "text": [
            "###### Epoch:  268 _ 0.0  ######\n"
          ]
        },
        {
          "name": "stderr",
          "output_type": "stream",
          "text": [
            "100%|██████████| 15/15 [00:08<00:00,  1.80it/s, IOU=0.633, Train_F1_Loss=0.663, Train_Loss=0.0255]\n",
            "100%|██████████| 15/15 [00:06<00:00,  2.27it/s, IOU=0.644, VAL_F1_Loss=0.722, Val_Loss=0.0247]\n"
          ]
        },
        {
          "name": "stdout",
          "output_type": "stream",
          "text": [
            "###### Epoch:  269 _ 0.0  ######\n"
          ]
        },
        {
          "name": "stderr",
          "output_type": "stream",
          "text": [
            "100%|██████████| 15/15 [00:08<00:00,  1.79it/s, IOU=0.763, Train_F1_Loss=0.829, Train_Loss=0.0215]\n",
            "100%|██████████| 15/15 [00:06<00:00,  2.31it/s, IOU=0.554, VAL_F1_Loss=0.667, Val_Loss=0.0262]\n"
          ]
        },
        {
          "name": "stdout",
          "output_type": "stream",
          "text": [
            "###### Epoch:  270 _ 0.0  ######\n"
          ]
        },
        {
          "name": "stderr",
          "output_type": "stream",
          "text": [
            "100%|██████████| 15/15 [00:08<00:00,  1.80it/s, IOU=0.601, Train_F1_Loss=0.778, Train_Loss=0.025] \n",
            "100%|██████████| 15/15 [00:06<00:00,  2.32it/s, IOU=0.575, VAL_F1_Loss=0.635, Val_Loss=0.0167]\n"
          ]
        },
        {
          "name": "stdout",
          "output_type": "stream",
          "text": [
            "###### Epoch:  271 _ 0.0  ######\n"
          ]
        },
        {
          "name": "stderr",
          "output_type": "stream",
          "text": [
            "100%|██████████| 15/15 [00:08<00:00,  1.80it/s, IOU=0.659, Train_F1_Loss=0.669, Train_Loss=0.023] \n",
            "100%|██████████| 15/15 [00:06<00:00,  2.29it/s, IOU=0.729, VAL_F1_Loss=0.853, Val_Loss=0.0157]\n"
          ]
        },
        {
          "name": "stdout",
          "output_type": "stream",
          "text": [
            "###### Epoch:  272 _ 0.0  ######\n"
          ]
        },
        {
          "name": "stderr",
          "output_type": "stream",
          "text": [
            "100%|██████████| 15/15 [00:08<00:00,  1.80it/s, IOU=0.584, Train_F1_Loss=0.647, Train_Loss=0.0307]\n",
            "100%|██████████| 15/15 [00:06<00:00,  2.32it/s, IOU=0.544, VAL_F1_Loss=0.681, Val_Loss=0.0221]\n"
          ]
        },
        {
          "name": "stdout",
          "output_type": "stream",
          "text": [
            "###### Epoch:  273 _ 0.0  ######\n"
          ]
        },
        {
          "name": "stderr",
          "output_type": "stream",
          "text": [
            "100%|██████████| 15/15 [00:08<00:00,  1.81it/s, IOU=0.583, Train_F1_Loss=0.654, Train_Loss=0.0342]\n",
            "100%|██████████| 15/15 [00:06<00:00,  2.30it/s, IOU=0.545, VAL_F1_Loss=0.829, Val_Loss=0.0185]\n"
          ]
        },
        {
          "name": "stdout",
          "output_type": "stream",
          "text": [
            "###### Epoch:  274 _ 0.0  ######\n"
          ]
        },
        {
          "name": "stderr",
          "output_type": "stream",
          "text": [
            "100%|██████████| 15/15 [00:08<00:00,  1.79it/s, IOU=0.638, Train_F1_Loss=0.639, Train_Loss=0.0283]\n",
            "100%|██████████| 15/15 [00:06<00:00,  2.32it/s, IOU=0.591, VAL_F1_Loss=0.734, Val_Loss=0.0216]\n"
          ]
        },
        {
          "name": "stdout",
          "output_type": "stream",
          "text": [
            "###### Epoch:  275 _ 0.0  ######\n"
          ]
        },
        {
          "name": "stderr",
          "output_type": "stream",
          "text": [
            "100%|██████████| 15/15 [00:08<00:00,  1.80it/s, IOU=0.602, Train_F1_Loss=0.689, Train_Loss=0.0213]\n",
            "100%|██████████| 15/15 [00:06<00:00,  2.26it/s, IOU=0.561, VAL_F1_Loss=0.707, Val_Loss=0.0197]\n"
          ]
        },
        {
          "name": "stdout",
          "output_type": "stream",
          "text": [
            "###### Epoch:  276 _ 0.0  ######\n"
          ]
        },
        {
          "name": "stderr",
          "output_type": "stream",
          "text": [
            "100%|██████████| 15/15 [00:08<00:00,  1.79it/s, IOU=0.702, Train_F1_Loss=0.711, Train_Loss=0.0254]\n",
            "100%|██████████| 15/15 [00:06<00:00,  2.26it/s, IOU=0.744, VAL_F1_Loss=0.77, Val_Loss=0.0123] \n"
          ]
        },
        {
          "name": "stdout",
          "output_type": "stream",
          "text": [
            "###### Epoch:  277 _ 0.0  ######\n"
          ]
        },
        {
          "name": "stderr",
          "output_type": "stream",
          "text": [
            "100%|██████████| 15/15 [00:08<00:00,  1.79it/s, IOU=0.602, Train_F1_Loss=0.702, Train_Loss=0.0207]\n",
            "100%|██████████| 15/15 [00:06<00:00,  2.27it/s, IOU=0.412, VAL_F1_Loss=0.657, Val_Loss=0.0317]\n"
          ]
        },
        {
          "name": "stdout",
          "output_type": "stream",
          "text": [
            "###### Epoch:  278 _ 0.0  ######\n"
          ]
        },
        {
          "name": "stderr",
          "output_type": "stream",
          "text": [
            "100%|██████████| 15/15 [00:08<00:00,  1.79it/s, IOU=0.729, Train_F1_Loss=0.842, Train_Loss=0.0237]\n",
            "100%|██████████| 15/15 [00:06<00:00,  2.30it/s, IOU=0.474, VAL_F1_Loss=0.602, Val_Loss=0.0337]\n"
          ]
        },
        {
          "name": "stdout",
          "output_type": "stream",
          "text": [
            "###### Epoch:  279 _ 0.0  ######\n"
          ]
        },
        {
          "name": "stderr",
          "output_type": "stream",
          "text": [
            "100%|██████████| 15/15 [00:08<00:00,  1.80it/s, IOU=0.635, Train_F1_Loss=0.712, Train_Loss=0.0265]\n",
            "100%|██████████| 15/15 [00:06<00:00,  2.26it/s, IOU=0.635, VAL_F1_Loss=0.736, Val_Loss=0.0185]\n"
          ]
        },
        {
          "name": "stdout",
          "output_type": "stream",
          "text": [
            "###### Epoch:  280 _ 0.0  ######\n"
          ]
        },
        {
          "name": "stderr",
          "output_type": "stream",
          "text": [
            "100%|██████████| 15/15 [00:08<00:00,  1.80it/s, IOU=0.682, Train_F1_Loss=0.705, Train_Loss=0.0162]\n",
            "100%|██████████| 15/15 [00:06<00:00,  2.26it/s, IOU=0.724, VAL_F1_Loss=0.713, Val_Loss=0.0146]\n"
          ]
        },
        {
          "name": "stdout",
          "output_type": "stream",
          "text": [
            "###### Epoch:  281 _ 0.0  ######\n"
          ]
        },
        {
          "name": "stderr",
          "output_type": "stream",
          "text": [
            "100%|██████████| 15/15 [00:08<00:00,  1.74it/s, IOU=0.563, Train_F1_Loss=0.707, Train_Loss=0.0272]\n",
            "100%|██████████| 15/15 [00:06<00:00,  2.31it/s, IOU=0.621, VAL_F1_Loss=0.764, Val_Loss=0.0228]\n"
          ]
        },
        {
          "name": "stdout",
          "output_type": "stream",
          "text": [
            "###### Epoch:  282 _ 0.0  ######\n"
          ]
        },
        {
          "name": "stderr",
          "output_type": "stream",
          "text": [
            "100%|██████████| 15/15 [00:08<00:00,  1.81it/s, IOU=0.64, Train_F1_Loss=0.736, Train_Loss=0.0196] \n",
            "100%|██████████| 15/15 [00:06<00:00,  2.33it/s, IOU=0.625, VAL_F1_Loss=0.785, Val_Loss=0.0175]\n"
          ]
        },
        {
          "name": "stdout",
          "output_type": "stream",
          "text": [
            "###### Epoch:  283 _ 0.0  ######\n"
          ]
        },
        {
          "name": "stderr",
          "output_type": "stream",
          "text": [
            "100%|██████████| 15/15 [00:08<00:00,  1.80it/s, IOU=0.786, Train_F1_Loss=0.775, Train_Loss=0.0283]\n",
            "100%|██████████| 15/15 [00:06<00:00,  2.27it/s, IOU=0.695, VAL_F1_Loss=0.793, Val_Loss=0.0133]\n"
          ]
        },
        {
          "name": "stdout",
          "output_type": "stream",
          "text": [
            "###### Epoch:  284 _ 0.0  ######\n"
          ]
        },
        {
          "name": "stderr",
          "output_type": "stream",
          "text": [
            "100%|██████████| 15/15 [00:08<00:00,  1.79it/s, IOU=0.664, Train_F1_Loss=0.792, Train_Loss=0.0262]\n",
            "100%|██████████| 15/15 [00:06<00:00,  2.26it/s, IOU=0.686, VAL_F1_Loss=0.838, Val_Loss=0.0197]\n"
          ]
        },
        {
          "name": "stdout",
          "output_type": "stream",
          "text": [
            "###### Epoch:  285 _ 0.0  ######\n"
          ]
        },
        {
          "name": "stderr",
          "output_type": "stream",
          "text": [
            "100%|██████████| 15/15 [00:08<00:00,  1.79it/s, IOU=0.638, Train_F1_Loss=0.749, Train_Loss=0.0133]\n",
            "100%|██████████| 15/15 [00:06<00:00,  2.29it/s, IOU=0.591, VAL_F1_Loss=0.637, Val_Loss=0.0211]\n"
          ]
        },
        {
          "name": "stdout",
          "output_type": "stream",
          "text": [
            "###### Epoch:  286 _ 0.0  ######\n"
          ]
        },
        {
          "name": "stderr",
          "output_type": "stream",
          "text": [
            "100%|██████████| 15/15 [00:08<00:00,  1.79it/s, IOU=0.769, Train_F1_Loss=0.854, Train_Loss=0.0219]\n",
            "100%|██████████| 15/15 [00:06<00:00,  2.30it/s, IOU=0.649, VAL_F1_Loss=0.854, Val_Loss=0.0136]\n"
          ]
        },
        {
          "name": "stdout",
          "output_type": "stream",
          "text": [
            "###### Epoch:  287 _ 0.0  ######\n"
          ]
        },
        {
          "name": "stderr",
          "output_type": "stream",
          "text": [
            "100%|██████████| 15/15 [00:08<00:00,  1.80it/s, IOU=0.586, Train_F1_Loss=0.783, Train_Loss=0.0174]\n",
            "100%|██████████| 15/15 [00:06<00:00,  2.29it/s, IOU=0.599, VAL_F1_Loss=0.703, Val_Loss=0.0256]\n"
          ]
        },
        {
          "name": "stdout",
          "output_type": "stream",
          "text": [
            "###### Epoch:  288 _ 0.0  ######\n"
          ]
        },
        {
          "name": "stderr",
          "output_type": "stream",
          "text": [
            "100%|██████████| 15/15 [00:08<00:00,  1.80it/s, IOU=0.525, Train_F1_Loss=0.648, Train_Loss=0.0229]\n",
            "100%|██████████| 15/15 [00:06<00:00,  2.30it/s, IOU=0.608, VAL_F1_Loss=0.729, Val_Loss=0.0215]\n"
          ]
        },
        {
          "name": "stdout",
          "output_type": "stream",
          "text": [
            "###### Epoch:  289 _ 0.0  ######\n"
          ]
        },
        {
          "name": "stderr",
          "output_type": "stream",
          "text": [
            "100%|██████████| 15/15 [00:08<00:00,  1.80it/s, IOU=0.7, Train_F1_Loss=0.796, Train_Loss=0.0254]  \n",
            "100%|██████████| 15/15 [00:06<00:00,  2.27it/s, IOU=0.602, VAL_F1_Loss=0.698, Val_Loss=0.0214]\n"
          ]
        },
        {
          "name": "stdout",
          "output_type": "stream",
          "text": [
            "###### Epoch:  290 _ 0.0  ######\n"
          ]
        },
        {
          "name": "stderr",
          "output_type": "stream",
          "text": [
            "100%|██████████| 15/15 [00:08<00:00,  1.79it/s, IOU=0.64, Train_F1_Loss=0.679, Train_Loss=0.0233] \n",
            "100%|██████████| 15/15 [00:06<00:00,  2.30it/s, IOU=0.617, VAL_F1_Loss=0.742, Val_Loss=0.0215]\n"
          ]
        },
        {
          "name": "stdout",
          "output_type": "stream",
          "text": [
            "###### Epoch:  291 _ 0.0  ######\n"
          ]
        },
        {
          "name": "stderr",
          "output_type": "stream",
          "text": [
            "100%|██████████| 15/15 [00:08<00:00,  1.78it/s, IOU=0.736, Train_F1_Loss=0.848, Train_Loss=0.0161]\n",
            "100%|██████████| 15/15 [00:06<00:00,  2.31it/s, IOU=0.548, VAL_F1_Loss=0.652, Val_Loss=0.0166]\n"
          ]
        },
        {
          "name": "stdout",
          "output_type": "stream",
          "text": [
            "###### Epoch:  292 _ 0.0  ######\n"
          ]
        },
        {
          "name": "stderr",
          "output_type": "stream",
          "text": [
            "100%|██████████| 15/15 [00:08<00:00,  1.79it/s, IOU=0.729, Train_F1_Loss=0.781, Train_Loss=0.0205]\n",
            "100%|██████████| 15/15 [00:06<00:00,  2.28it/s, IOU=0.529, VAL_F1_Loss=0.709, Val_Loss=0.0227]\n"
          ]
        },
        {
          "name": "stdout",
          "output_type": "stream",
          "text": [
            "###### Epoch:  293 _ 0.0  ######\n"
          ]
        },
        {
          "name": "stderr",
          "output_type": "stream",
          "text": [
            "100%|██████████| 15/15 [00:08<00:00,  1.80it/s, IOU=0.583, Train_F1_Loss=0.76, Train_Loss=0.025]  \n",
            "100%|██████████| 15/15 [00:09<00:00,  1.59it/s, IOU=0.679, VAL_F1_Loss=0.805, Val_Loss=0.0159]\n"
          ]
        },
        {
          "name": "stdout",
          "output_type": "stream",
          "text": [
            "###### Epoch:  294 _ 0.0  ######\n"
          ]
        },
        {
          "name": "stderr",
          "output_type": "stream",
          "text": [
            "100%|██████████| 15/15 [00:08<00:00,  1.78it/s, IOU=0.762, Train_F1_Loss=0.768, Train_Loss=0.0168]\n",
            "100%|██████████| 15/15 [00:06<00:00,  2.23it/s, IOU=0.62, VAL_F1_Loss=0.767, Val_Loss=0.0204] \n"
          ]
        },
        {
          "name": "stdout",
          "output_type": "stream",
          "text": [
            "###### Epoch:  295 _ 0.0  ######\n"
          ]
        },
        {
          "name": "stderr",
          "output_type": "stream",
          "text": [
            "100%|██████████| 15/15 [00:08<00:00,  1.79it/s, IOU=0.66, Train_F1_Loss=0.749, Train_Loss=0.0227] \n",
            "100%|██████████| 15/15 [00:06<00:00,  2.27it/s, IOU=0.536, VAL_F1_Loss=0.739, Val_Loss=0.0253]\n"
          ]
        },
        {
          "name": "stdout",
          "output_type": "stream",
          "text": [
            "###### Epoch:  296 _ 0.0  ######\n"
          ]
        },
        {
          "name": "stderr",
          "output_type": "stream",
          "text": [
            "100%|██████████| 15/15 [00:08<00:00,  1.80it/s, IOU=0.686, Train_F1_Loss=0.829, Train_Loss=0.0197]\n",
            "100%|██████████| 15/15 [00:06<00:00,  2.25it/s, IOU=0.661, VAL_F1_Loss=0.718, Val_Loss=0.0194]\n"
          ]
        },
        {
          "name": "stdout",
          "output_type": "stream",
          "text": [
            "###### Epoch:  297 _ 0.0  ######\n"
          ]
        },
        {
          "name": "stderr",
          "output_type": "stream",
          "text": [
            "100%|██████████| 15/15 [00:08<00:00,  1.80it/s, IOU=0.634, Train_F1_Loss=0.804, Train_Loss=0.018] \n",
            "100%|██████████| 15/15 [00:06<00:00,  2.27it/s, IOU=0.67, VAL_F1_Loss=0.707, Val_Loss=0.0169] \n"
          ]
        },
        {
          "name": "stdout",
          "output_type": "stream",
          "text": [
            "###### Epoch:  298 _ 0.0  ######\n"
          ]
        },
        {
          "name": "stderr",
          "output_type": "stream",
          "text": [
            "100%|██████████| 15/15 [00:08<00:00,  1.80it/s, IOU=0.703, Train_F1_Loss=0.667, Train_Loss=0.0199]\n",
            "100%|██████████| 15/15 [00:06<00:00,  2.30it/s, IOU=0.614, VAL_F1_Loss=0.807, Val_Loss=0.0175]\n"
          ]
        },
        {
          "name": "stdout",
          "output_type": "stream",
          "text": [
            "###### Epoch:  299 _ 0.0  ######\n"
          ]
        },
        {
          "name": "stderr",
          "output_type": "stream",
          "text": [
            "100%|██████████| 15/15 [00:08<00:00,  1.80it/s, IOU=0.656, Train_F1_Loss=0.74, Train_Loss=0.0201] \n",
            "100%|██████████| 15/15 [00:06<00:00,  2.28it/s, IOU=0.561, VAL_F1_Loss=0.617, Val_Loss=0.0188]\n"
          ]
        },
        {
          "name": "stdout",
          "output_type": "stream",
          "text": [
            "###### Epoch:  300 _ 0.0  ######\n"
          ]
        },
        {
          "name": "stderr",
          "output_type": "stream",
          "text": [
            "100%|██████████| 15/15 [00:08<00:00,  1.80it/s, IOU=0.755, Train_F1_Loss=0.79, Train_Loss=0.0198] \n",
            "100%|██████████| 15/15 [00:06<00:00,  2.33it/s, IOU=0.574, VAL_F1_Loss=0.627, Val_Loss=0.0289]\n"
          ]
        },
        {
          "name": "stdout",
          "output_type": "stream",
          "text": [
            "###### Epoch:  301 _ 0.0  ######\n"
          ]
        },
        {
          "name": "stderr",
          "output_type": "stream",
          "text": [
            "100%|██████████| 15/15 [00:08<00:00,  1.80it/s, IOU=0.755, Train_F1_Loss=0.892, Train_Loss=0.0172]\n",
            "100%|██████████| 15/15 [00:06<00:00,  2.29it/s, IOU=0.503, VAL_F1_Loss=0.707, Val_Loss=0.0273]\n"
          ]
        },
        {
          "name": "stdout",
          "output_type": "stream",
          "text": [
            "###### Epoch:  302 _ 0.0  ######\n"
          ]
        },
        {
          "name": "stderr",
          "output_type": "stream",
          "text": [
            "100%|██████████| 15/15 [00:08<00:00,  1.80it/s, IOU=0.584, Train_F1_Loss=0.638, Train_Loss=0.0258]\n",
            "100%|██████████| 15/15 [00:06<00:00,  2.32it/s, IOU=0.617, VAL_F1_Loss=0.734, Val_Loss=0.0208]\n"
          ]
        },
        {
          "name": "stdout",
          "output_type": "stream",
          "text": [
            "###### Epoch:  303 _ 0.0  ######\n"
          ]
        },
        {
          "name": "stderr",
          "output_type": "stream",
          "text": [
            "100%|██████████| 15/15 [00:08<00:00,  1.80it/s, IOU=0.588, Train_F1_Loss=0.63, Train_Loss=0.0279] \n",
            "100%|██████████| 15/15 [00:06<00:00,  2.31it/s, IOU=0.579, VAL_F1_Loss=0.768, Val_Loss=0.021] \n"
          ]
        },
        {
          "name": "stdout",
          "output_type": "stream",
          "text": [
            "###### Epoch:  304 _ 0.0  ######\n"
          ]
        },
        {
          "name": "stderr",
          "output_type": "stream",
          "text": [
            "100%|██████████| 15/15 [00:08<00:00,  1.79it/s, IOU=0.699, Train_F1_Loss=0.752, Train_Loss=0.0247]\n",
            "100%|██████████| 15/15 [00:06<00:00,  2.30it/s, IOU=0.599, VAL_F1_Loss=0.788, Val_Loss=0.0196]\n"
          ]
        },
        {
          "name": "stdout",
          "output_type": "stream",
          "text": [
            "###### Epoch:  305 _ 0.0  ######\n"
          ]
        },
        {
          "name": "stderr",
          "output_type": "stream",
          "text": [
            "100%|██████████| 15/15 [00:08<00:00,  1.80it/s, IOU=0.717, Train_F1_Loss=0.843, Train_Loss=0.0166]\n",
            "100%|██████████| 15/15 [00:06<00:00,  2.29it/s, IOU=0.481, VAL_F1_Loss=0.638, Val_Loss=0.0272]\n"
          ]
        },
        {
          "name": "stdout",
          "output_type": "stream",
          "text": [
            "###### Epoch:  306 _ 0.0  ######\n"
          ]
        },
        {
          "name": "stderr",
          "output_type": "stream",
          "text": [
            "100%|██████████| 15/15 [00:08<00:00,  1.80it/s, IOU=0.558, Train_F1_Loss=0.659, Train_Loss=0.0228]\n",
            "100%|██████████| 15/15 [00:06<00:00,  2.31it/s, IOU=0.55, VAL_F1_Loss=0.628, Val_Loss=0.0344] \n"
          ]
        },
        {
          "name": "stdout",
          "output_type": "stream",
          "text": [
            "###### Epoch:  307 _ 0.0  ######\n"
          ]
        },
        {
          "name": "stderr",
          "output_type": "stream",
          "text": [
            "100%|██████████| 15/15 [00:08<00:00,  1.81it/s, IOU=0.642, Train_F1_Loss=0.645, Train_Loss=0.0186]\n",
            "100%|██████████| 15/15 [00:06<00:00,  2.30it/s, IOU=0.566, VAL_F1_Loss=0.654, Val_Loss=0.0208]\n"
          ]
        },
        {
          "name": "stdout",
          "output_type": "stream",
          "text": [
            "###### Epoch:  308 _ 0.0  ######\n"
          ]
        },
        {
          "name": "stderr",
          "output_type": "stream",
          "text": [
            "100%|██████████| 15/15 [00:08<00:00,  1.77it/s, IOU=0.589, Train_F1_Loss=0.689, Train_Loss=0.0264]\n",
            "100%|██████████| 15/15 [00:06<00:00,  2.31it/s, IOU=0.587, VAL_F1_Loss=0.686, Val_Loss=0.028] \n"
          ]
        },
        {
          "name": "stdout",
          "output_type": "stream",
          "text": [
            "###### Epoch:  309 _ 0.0  ######\n"
          ]
        },
        {
          "name": "stderr",
          "output_type": "stream",
          "text": [
            "100%|██████████| 15/15 [00:08<00:00,  1.80it/s, IOU=0.74, Train_F1_Loss=0.782, Train_Loss=0.0274] \n",
            "100%|██████████| 15/15 [00:06<00:00,  2.28it/s, IOU=0.634, VAL_F1_Loss=0.687, Val_Loss=0.0214]\n"
          ]
        },
        {
          "name": "stdout",
          "output_type": "stream",
          "text": [
            "###### Epoch:  310 _ 0.0  ######\n"
          ]
        },
        {
          "name": "stderr",
          "output_type": "stream",
          "text": [
            "100%|██████████| 15/15 [00:08<00:00,  1.79it/s, IOU=0.628, Train_F1_Loss=0.808, Train_Loss=0.0202]\n",
            "100%|██████████| 15/15 [00:06<00:00,  2.28it/s, IOU=0.554, VAL_F1_Loss=0.752, Val_Loss=0.0207]\n"
          ]
        },
        {
          "name": "stdout",
          "output_type": "stream",
          "text": [
            "###### Epoch:  311 _ 0.0  ######\n"
          ]
        },
        {
          "name": "stderr",
          "output_type": "stream",
          "text": [
            "100%|██████████| 15/15 [00:08<00:00,  1.80it/s, IOU=0.63, Train_F1_Loss=0.739, Train_Loss=0.0255] \n",
            "100%|██████████| 15/15 [00:06<00:00,  2.29it/s, IOU=0.614, VAL_F1_Loss=0.815, Val_Loss=0.0228]\n"
          ]
        },
        {
          "name": "stdout",
          "output_type": "stream",
          "text": [
            "###### Epoch:  312 _ 0.0  ######\n"
          ]
        },
        {
          "name": "stderr",
          "output_type": "stream",
          "text": [
            "100%|██████████| 15/15 [00:08<00:00,  1.79it/s, IOU=0.632, Train_F1_Loss=0.589, Train_Loss=0.0228]\n",
            "100%|██████████| 15/15 [00:06<00:00,  2.27it/s, IOU=0.63, VAL_F1_Loss=0.701, Val_Loss=0.0217] \n"
          ]
        },
        {
          "name": "stdout",
          "output_type": "stream",
          "text": [
            "###### Epoch:  313 _ 0.0  ######\n"
          ]
        },
        {
          "name": "stderr",
          "output_type": "stream",
          "text": [
            "100%|██████████| 15/15 [00:08<00:00,  1.80it/s, IOU=0.711, Train_F1_Loss=0.797, Train_Loss=0.0259]\n",
            "100%|██████████| 15/15 [00:06<00:00,  2.27it/s, IOU=0.577, VAL_F1_Loss=0.707, Val_Loss=0.0211]\n"
          ]
        },
        {
          "name": "stdout",
          "output_type": "stream",
          "text": [
            "###### Epoch:  314 _ 0.0  ######\n"
          ]
        },
        {
          "name": "stderr",
          "output_type": "stream",
          "text": [
            "100%|██████████| 15/15 [00:08<00:00,  1.80it/s, IOU=0.649, Train_F1_Loss=0.651, Train_Loss=0.0275]\n",
            "100%|██████████| 15/15 [00:06<00:00,  2.30it/s, IOU=0.549, VAL_F1_Loss=0.74, Val_Loss=0.0216] \n"
          ]
        },
        {
          "name": "stdout",
          "output_type": "stream",
          "text": [
            "###### Epoch:  315 _ 0.0  ######\n"
          ]
        },
        {
          "name": "stderr",
          "output_type": "stream",
          "text": [
            "100%|██████████| 15/15 [00:08<00:00,  1.79it/s, IOU=0.744, Train_F1_Loss=0.774, Train_Loss=0.0265]\n",
            "100%|██████████| 15/15 [00:06<00:00,  2.31it/s, IOU=0.516, VAL_F1_Loss=0.701, Val_Loss=0.0247]\n"
          ]
        },
        {
          "name": "stdout",
          "output_type": "stream",
          "text": [
            "###### Epoch:  316 _ 0.0  ######\n"
          ]
        },
        {
          "name": "stderr",
          "output_type": "stream",
          "text": [
            "100%|██████████| 15/15 [00:08<00:00,  1.80it/s, IOU=0.679, Train_F1_Loss=0.807, Train_Loss=0.0209]\n",
            "100%|██████████| 15/15 [00:06<00:00,  2.33it/s, IOU=0.554, VAL_F1_Loss=0.738, Val_Loss=0.0201]\n"
          ]
        },
        {
          "name": "stdout",
          "output_type": "stream",
          "text": [
            "###### Epoch:  317 _ 0.0  ######\n"
          ]
        },
        {
          "name": "stderr",
          "output_type": "stream",
          "text": [
            "100%|██████████| 15/15 [00:08<00:00,  1.79it/s, IOU=0.706, Train_F1_Loss=0.881, Train_Loss=0.0137]\n",
            "100%|██████████| 15/15 [00:06<00:00,  2.33it/s, IOU=0.534, VAL_F1_Loss=0.696, Val_Loss=0.0229]\n"
          ]
        },
        {
          "name": "stdout",
          "output_type": "stream",
          "text": [
            "###### Epoch:  318 _ 0.0  ######\n"
          ]
        },
        {
          "name": "stderr",
          "output_type": "stream",
          "text": [
            "100%|██████████| 15/15 [00:08<00:00,  1.80it/s, IOU=0.712, Train_F1_Loss=0.774, Train_Loss=0.0158]\n",
            "100%|██████████| 15/15 [00:06<00:00,  2.31it/s, IOU=0.627, VAL_F1_Loss=0.759, Val_Loss=0.0134]\n"
          ]
        },
        {
          "name": "stdout",
          "output_type": "stream",
          "text": [
            "###### Epoch:  319 _ 0.0  ######\n"
          ]
        },
        {
          "name": "stderr",
          "output_type": "stream",
          "text": [
            "100%|██████████| 15/15 [00:08<00:00,  1.80it/s, IOU=0.796, Train_F1_Loss=0.776, Train_Loss=0.0203]\n",
            "100%|██████████| 15/15 [00:06<00:00,  2.32it/s, IOU=0.603, VAL_F1_Loss=0.81, Val_Loss=0.02]   \n"
          ]
        },
        {
          "name": "stdout",
          "output_type": "stream",
          "text": [
            "###### Epoch:  320 _ 0.0  ######\n"
          ]
        },
        {
          "name": "stderr",
          "output_type": "stream",
          "text": [
            "100%|██████████| 15/15 [00:08<00:00,  1.81it/s, IOU=0.67, Train_F1_Loss=0.747, Train_Loss=0.0154] \n",
            "100%|██████████| 15/15 [00:06<00:00,  2.35it/s, IOU=0.672, VAL_F1_Loss=0.857, Val_Loss=0.0145]\n"
          ]
        },
        {
          "name": "stdout",
          "output_type": "stream",
          "text": [
            "###### Epoch:  321 _ 0.0  ######\n"
          ]
        },
        {
          "name": "stderr",
          "output_type": "stream",
          "text": [
            "100%|██████████| 15/15 [00:08<00:00,  1.79it/s, IOU=0.673, Train_F1_Loss=0.715, Train_Loss=0.0296]\n",
            "100%|██████████| 15/15 [00:09<00:00,  1.52it/s, IOU=0.714, VAL_F1_Loss=0.774, Val_Loss=0.0122]\n"
          ]
        },
        {
          "name": "stdout",
          "output_type": "stream",
          "text": [
            "###### Epoch:  322 _ 0.0  ######\n"
          ]
        },
        {
          "name": "stderr",
          "output_type": "stream",
          "text": [
            "100%|██████████| 15/15 [00:08<00:00,  1.78it/s, IOU=0.57, Train_F1_Loss=0.621, Train_Loss=0.0224] \n",
            "100%|██████████| 15/15 [00:06<00:00,  2.31it/s, IOU=0.554, VAL_F1_Loss=0.635, Val_Loss=0.0229]\n"
          ]
        },
        {
          "name": "stdout",
          "output_type": "stream",
          "text": [
            "###### Epoch:  323 _ 0.0  ######\n"
          ]
        },
        {
          "name": "stderr",
          "output_type": "stream",
          "text": [
            "100%|██████████| 15/15 [00:08<00:00,  1.79it/s, IOU=0.727, Train_F1_Loss=0.688, Train_Loss=0.0201]\n",
            "100%|██████████| 15/15 [00:06<00:00,  2.25it/s, IOU=0.654, VAL_F1_Loss=0.787, Val_Loss=0.0207]\n"
          ]
        },
        {
          "name": "stdout",
          "output_type": "stream",
          "text": [
            "###### Epoch:  324 _ 0.0  ######\n"
          ]
        },
        {
          "name": "stderr",
          "output_type": "stream",
          "text": [
            "100%|██████████| 15/15 [00:08<00:00,  1.79it/s, IOU=0.717, Train_F1_Loss=0.697, Train_Loss=0.0293]\n",
            "100%|██████████| 15/15 [00:06<00:00,  2.34it/s, IOU=0.592, VAL_F1_Loss=0.766, Val_Loss=0.0204]\n"
          ]
        },
        {
          "name": "stdout",
          "output_type": "stream",
          "text": [
            "###### Epoch:  325 _ 0.0  ######\n"
          ]
        },
        {
          "name": "stderr",
          "output_type": "stream",
          "text": [
            "100%|██████████| 15/15 [00:08<00:00,  1.80it/s, IOU=0.721, Train_F1_Loss=0.801, Train_Loss=0.0198]\n",
            "100%|██████████| 15/15 [00:06<00:00,  2.30it/s, IOU=0.601, VAL_F1_Loss=0.759, Val_Loss=0.0223]\n"
          ]
        },
        {
          "name": "stdout",
          "output_type": "stream",
          "text": [
            "###### Epoch:  326 _ 0.0  ######\n"
          ]
        },
        {
          "name": "stderr",
          "output_type": "stream",
          "text": [
            "100%|██████████| 15/15 [00:08<00:00,  1.81it/s, IOU=0.676, Train_F1_Loss=0.852, Train_Loss=0.0161]\n",
            "100%|██████████| 15/15 [00:06<00:00,  2.29it/s, IOU=0.624, VAL_F1_Loss=0.743, Val_Loss=0.0196]\n"
          ]
        },
        {
          "name": "stdout",
          "output_type": "stream",
          "text": [
            "###### Epoch:  327 _ 0.0  ######\n"
          ]
        },
        {
          "name": "stderr",
          "output_type": "stream",
          "text": [
            "100%|██████████| 15/15 [00:08<00:00,  1.79it/s, IOU=0.737, Train_F1_Loss=0.811, Train_Loss=0.0193]\n",
            "100%|██████████| 15/15 [00:06<00:00,  2.28it/s, IOU=0.58, VAL_F1_Loss=0.747, Val_Loss=0.0243] \n"
          ]
        },
        {
          "name": "stdout",
          "output_type": "stream",
          "text": [
            "###### Epoch:  328 _ 0.0  ######\n"
          ]
        },
        {
          "name": "stderr",
          "output_type": "stream",
          "text": [
            "100%|██████████| 15/15 [00:08<00:00,  1.80it/s, IOU=0.623, Train_F1_Loss=0.669, Train_Loss=0.0291]\n",
            "100%|██████████| 15/15 [00:06<00:00,  2.28it/s, IOU=0.76, VAL_F1_Loss=0.839, Val_Loss=0.0111] \n"
          ]
        },
        {
          "name": "stdout",
          "output_type": "stream",
          "text": [
            "###### Epoch:  329 _ 0.0  ######\n"
          ]
        },
        {
          "name": "stderr",
          "output_type": "stream",
          "text": [
            "100%|██████████| 15/15 [00:08<00:00,  1.80it/s, IOU=0.745, Train_F1_Loss=0.859, Train_Loss=0.0238]\n",
            "100%|██████████| 15/15 [00:06<00:00,  2.32it/s, IOU=0.635, VAL_F1_Loss=0.659, Val_Loss=0.0112]\n"
          ]
        },
        {
          "name": "stdout",
          "output_type": "stream",
          "text": [
            "###### Epoch:  330 _ 0.0  ######\n"
          ]
        },
        {
          "name": "stderr",
          "output_type": "stream",
          "text": [
            "100%|██████████| 15/15 [00:08<00:00,  1.80it/s, IOU=0.739, Train_F1_Loss=0.715, Train_Loss=0.0242]\n",
            "100%|██████████| 15/15 [00:06<00:00,  2.19it/s, IOU=0.724, VAL_F1_Loss=0.846, Val_Loss=0.018] \n"
          ]
        },
        {
          "name": "stdout",
          "output_type": "stream",
          "text": [
            "###### Epoch:  331 _ 0.0  ######\n"
          ]
        },
        {
          "name": "stderr",
          "output_type": "stream",
          "text": [
            "100%|██████████| 15/15 [00:08<00:00,  1.80it/s, IOU=0.69, Train_F1_Loss=0.795, Train_Loss=0.02]   \n",
            "100%|██████████| 15/15 [00:06<00:00,  2.24it/s, IOU=0.513, VAL_F1_Loss=0.653, Val_Loss=0.0262]\n"
          ]
        },
        {
          "name": "stdout",
          "output_type": "stream",
          "text": [
            "###### Epoch:  332 _ 0.0  ######\n"
          ]
        },
        {
          "name": "stderr",
          "output_type": "stream",
          "text": [
            "100%|██████████| 15/15 [00:08<00:00,  1.79it/s, IOU=0.707, Train_F1_Loss=0.885, Train_Loss=0.0156]\n",
            "100%|██████████| 15/15 [00:06<00:00,  2.32it/s, IOU=0.701, VAL_F1_Loss=0.849, Val_Loss=0.00972]\n"
          ]
        },
        {
          "name": "stdout",
          "output_type": "stream",
          "text": [
            "###### Epoch:  333 _ 0.0  ######\n"
          ]
        },
        {
          "name": "stderr",
          "output_type": "stream",
          "text": [
            "100%|██████████| 15/15 [00:08<00:00,  1.80it/s, IOU=0.664, Train_F1_Loss=0.617, Train_Loss=0.0218]\n",
            "100%|██████████| 15/15 [00:06<00:00,  2.34it/s, IOU=0.556, VAL_F1_Loss=0.781, Val_Loss=0.0194]\n"
          ]
        },
        {
          "name": "stdout",
          "output_type": "stream",
          "text": [
            "###### Epoch:  334 _ 0.0  ######\n"
          ]
        },
        {
          "name": "stderr",
          "output_type": "stream",
          "text": [
            "100%|██████████| 15/15 [00:08<00:00,  1.80it/s, IOU=0.665, Train_F1_Loss=0.832, Train_Loss=0.0199]\n",
            "100%|██████████| 15/15 [00:06<00:00,  2.32it/s, IOU=0.47, VAL_F1_Loss=0.607, Val_Loss=0.0258] \n"
          ]
        },
        {
          "name": "stdout",
          "output_type": "stream",
          "text": [
            "###### Epoch:  335 _ 0.0  ######\n"
          ]
        },
        {
          "name": "stderr",
          "output_type": "stream",
          "text": [
            "100%|██████████| 15/15 [00:08<00:00,  1.81it/s, IOU=0.707, Train_F1_Loss=0.726, Train_Loss=0.0318]\n",
            "100%|██████████| 15/15 [00:06<00:00,  2.32it/s, IOU=0.684, VAL_F1_Loss=0.717, Val_Loss=0.0123]\n"
          ]
        },
        {
          "name": "stdout",
          "output_type": "stream",
          "text": [
            "###### Epoch:  336 _ 0.0  ######\n"
          ]
        },
        {
          "name": "stderr",
          "output_type": "stream",
          "text": [
            "100%|██████████| 15/15 [00:08<00:00,  1.80it/s, IOU=0.816, Train_F1_Loss=0.832, Train_Loss=0.0212]\n",
            "100%|██████████| 15/15 [00:06<00:00,  2.31it/s, IOU=0.534, VAL_F1_Loss=0.65, Val_Loss=0.0259] \n"
          ]
        },
        {
          "name": "stdout",
          "output_type": "stream",
          "text": [
            "###### Epoch:  337 _ 0.0  ######\n"
          ]
        },
        {
          "name": "stderr",
          "output_type": "stream",
          "text": [
            "100%|██████████| 15/15 [00:08<00:00,  1.79it/s, IOU=0.657, Train_F1_Loss=0.854, Train_Loss=0.0179]\n",
            "100%|██████████| 15/15 [00:06<00:00,  2.34it/s, IOU=0.631, VAL_F1_Loss=0.822, Val_Loss=0.0182]\n"
          ]
        },
        {
          "name": "stdout",
          "output_type": "stream",
          "text": [
            "###### Epoch:  338 _ 0.0  ######\n"
          ]
        },
        {
          "name": "stderr",
          "output_type": "stream",
          "text": [
            "100%|██████████| 15/15 [00:08<00:00,  1.80it/s, IOU=0.734, Train_F1_Loss=0.773, Train_Loss=0.0154]\n",
            "100%|██████████| 15/15 [00:06<00:00,  2.32it/s, IOU=0.605, VAL_F1_Loss=0.755, Val_Loss=0.0157]\n"
          ]
        },
        {
          "name": "stdout",
          "output_type": "stream",
          "text": [
            "###### Epoch:  339 _ 0.0  ######\n"
          ]
        },
        {
          "name": "stderr",
          "output_type": "stream",
          "text": [
            "100%|██████████| 15/15 [00:08<00:00,  1.81it/s, IOU=0.656, Train_F1_Loss=0.693, Train_Loss=0.0307]\n",
            "100%|██████████| 15/15 [00:06<00:00,  2.27it/s, IOU=0.596, VAL_F1_Loss=0.783, Val_Loss=0.0199]\n"
          ]
        },
        {
          "name": "stdout",
          "output_type": "stream",
          "text": [
            "###### Epoch:  340 _ 0.0  ######\n"
          ]
        },
        {
          "name": "stderr",
          "output_type": "stream",
          "text": [
            "100%|██████████| 15/15 [00:08<00:00,  1.80it/s, IOU=0.641, Train_F1_Loss=0.798, Train_Loss=0.019] \n",
            "100%|██████████| 15/15 [00:06<00:00,  2.32it/s, IOU=0.642, VAL_F1_Loss=0.874, Val_Loss=0.0123]\n"
          ]
        },
        {
          "name": "stdout",
          "output_type": "stream",
          "text": [
            "###### Epoch:  341 _ 0.0  ######\n"
          ]
        },
        {
          "name": "stderr",
          "output_type": "stream",
          "text": [
            "100%|██████████| 15/15 [00:08<00:00,  1.79it/s, IOU=0.675, Train_F1_Loss=0.73, Train_Loss=0.0209] \n",
            "100%|██████████| 15/15 [00:06<00:00,  2.29it/s, IOU=0.685, VAL_F1_Loss=0.831, Val_Loss=0.0171]\n"
          ]
        },
        {
          "name": "stdout",
          "output_type": "stream",
          "text": [
            "###### Epoch:  342 _ 0.0  ######\n"
          ]
        },
        {
          "name": "stderr",
          "output_type": "stream",
          "text": [
            "100%|██████████| 15/15 [00:08<00:00,  1.79it/s, IOU=0.639, Train_F1_Loss=0.795, Train_Loss=0.0252]\n",
            "100%|██████████| 15/15 [00:06<00:00,  2.31it/s, IOU=0.612, VAL_F1_Loss=0.805, Val_Loss=0.0215]\n"
          ]
        },
        {
          "name": "stdout",
          "output_type": "stream",
          "text": [
            "###### Epoch:  343 _ 0.0  ######\n"
          ]
        },
        {
          "name": "stderr",
          "output_type": "stream",
          "text": [
            "100%|██████████| 15/15 [00:08<00:00,  1.79it/s, IOU=0.607, Train_F1_Loss=0.658, Train_Loss=0.0241]\n",
            "100%|██████████| 15/15 [00:06<00:00,  2.31it/s, IOU=0.625, VAL_F1_Loss=0.707, Val_Loss=0.0255]\n"
          ]
        },
        {
          "name": "stdout",
          "output_type": "stream",
          "text": [
            "###### Epoch:  344 _ 0.0  ######\n"
          ]
        },
        {
          "name": "stderr",
          "output_type": "stream",
          "text": [
            "100%|██████████| 15/15 [00:08<00:00,  1.79it/s, IOU=0.711, Train_F1_Loss=0.791, Train_Loss=0.0159]\n",
            "100%|██████████| 15/15 [00:06<00:00,  2.23it/s, IOU=0.65, VAL_F1_Loss=0.862, Val_Loss=0.0126] \n"
          ]
        },
        {
          "name": "stdout",
          "output_type": "stream",
          "text": [
            "###### Epoch:  345 _ 0.0  ######\n"
          ]
        },
        {
          "name": "stderr",
          "output_type": "stream",
          "text": [
            "100%|██████████| 15/15 [00:08<00:00,  1.79it/s, IOU=0.747, Train_F1_Loss=0.831, Train_Loss=0.0202]\n",
            "100%|██████████| 15/15 [00:06<00:00,  2.27it/s, IOU=0.566, VAL_F1_Loss=0.768, Val_Loss=0.0233]\n"
          ]
        },
        {
          "name": "stdout",
          "output_type": "stream",
          "text": [
            "###### Epoch:  346 _ 0.0  ######\n"
          ]
        },
        {
          "name": "stderr",
          "output_type": "stream",
          "text": [
            "100%|██████████| 15/15 [00:08<00:00,  1.79it/s, IOU=0.657, Train_F1_Loss=0.737, Train_Loss=0.0254]\n",
            "100%|██████████| 15/15 [00:06<00:00,  2.27it/s, IOU=0.547, VAL_F1_Loss=0.617, Val_Loss=0.034] \n"
          ]
        },
        {
          "name": "stdout",
          "output_type": "stream",
          "text": [
            "###### Epoch:  347 _ 0.0  ######\n"
          ]
        },
        {
          "name": "stderr",
          "output_type": "stream",
          "text": [
            "100%|██████████| 15/15 [00:08<00:00,  1.80it/s, IOU=0.708, Train_F1_Loss=0.778, Train_Loss=0.0226]\n",
            "100%|██████████| 15/15 [00:06<00:00,  2.33it/s, IOU=0.627, VAL_F1_Loss=0.704, Val_Loss=0.0173]\n"
          ]
        },
        {
          "name": "stdout",
          "output_type": "stream",
          "text": [
            "###### Epoch:  348 _ 0.0  ######\n"
          ]
        },
        {
          "name": "stderr",
          "output_type": "stream",
          "text": [
            "100%|██████████| 15/15 [00:08<00:00,  1.79it/s, IOU=0.705, Train_F1_Loss=0.761, Train_Loss=0.016] \n",
            "100%|██████████| 15/15 [00:06<00:00,  2.30it/s, IOU=0.53, VAL_F1_Loss=0.664, Val_Loss=0.0235] \n"
          ]
        },
        {
          "name": "stdout",
          "output_type": "stream",
          "text": [
            "###### Epoch:  349 _ 0.0  ######\n"
          ]
        },
        {
          "name": "stderr",
          "output_type": "stream",
          "text": [
            "100%|██████████| 15/15 [00:08<00:00,  1.79it/s, IOU=0.729, Train_F1_Loss=0.687, Train_Loss=0.0271]\n",
            "100%|██████████| 15/15 [00:06<00:00,  2.30it/s, IOU=0.606, VAL_F1_Loss=0.671, Val_Loss=0.0241]\n"
          ]
        },
        {
          "name": "stdout",
          "output_type": "stream",
          "text": [
            "###### Epoch:  350 _ 0.0  ######\n"
          ]
        },
        {
          "name": "stderr",
          "output_type": "stream",
          "text": [
            "100%|██████████| 15/15 [00:08<00:00,  1.79it/s, IOU=0.68, Train_F1_Loss=0.731, Train_Loss=0.0151] \n",
            "100%|██████████| 15/15 [00:06<00:00,  2.33it/s, IOU=0.598, VAL_F1_Loss=0.698, Val_Loss=0.0234]\n"
          ]
        },
        {
          "name": "stdout",
          "output_type": "stream",
          "text": [
            "###### Epoch:  351 _ 0.0  ######\n"
          ]
        },
        {
          "name": "stderr",
          "output_type": "stream",
          "text": [
            "100%|██████████| 15/15 [00:08<00:00,  1.80it/s, IOU=0.705, Train_F1_Loss=0.624, Train_Loss=0.0341]\n",
            "100%|██████████| 15/15 [00:06<00:00,  2.34it/s, IOU=0.668, VAL_F1_Loss=0.801, Val_Loss=0.0194]\n"
          ]
        },
        {
          "name": "stdout",
          "output_type": "stream",
          "text": [
            "###### Epoch:  352 _ 0.0  ######\n"
          ]
        },
        {
          "name": "stderr",
          "output_type": "stream",
          "text": [
            "100%|██████████| 15/15 [00:08<00:00,  1.79it/s, IOU=0.551, Train_F1_Loss=0.59, Train_Loss=0.0236] \n",
            "100%|██████████| 15/15 [00:06<00:00,  2.31it/s, IOU=0.614, VAL_F1_Loss=0.647, Val_Loss=0.0247]\n"
          ]
        },
        {
          "name": "stdout",
          "output_type": "stream",
          "text": [
            "###### Epoch:  353 _ 0.0  ######\n"
          ]
        },
        {
          "name": "stderr",
          "output_type": "stream",
          "text": [
            "100%|██████████| 15/15 [00:08<00:00,  1.80it/s, IOU=0.673, Train_F1_Loss=0.694, Train_Loss=0.0201]\n",
            "100%|██████████| 15/15 [00:06<00:00,  2.29it/s, IOU=0.571, VAL_F1_Loss=0.745, Val_Loss=0.0206]\n"
          ]
        },
        {
          "name": "stdout",
          "output_type": "stream",
          "text": [
            "###### Epoch:  354 _ 0.0  ######\n"
          ]
        },
        {
          "name": "stderr",
          "output_type": "stream",
          "text": [
            "100%|██████████| 15/15 [00:08<00:00,  1.80it/s, IOU=0.735, Train_F1_Loss=0.84, Train_Loss=0.0224] \n",
            "100%|██████████| 15/15 [00:10<00:00,  1.45it/s, IOU=0.59, VAL_F1_Loss=0.71, Val_Loss=0.0179]  \n"
          ]
        },
        {
          "name": "stdout",
          "output_type": "stream",
          "text": [
            "###### Epoch:  355 _ 0.0  ######\n"
          ]
        },
        {
          "name": "stderr",
          "output_type": "stream",
          "text": [
            "100%|██████████| 15/15 [00:08<00:00,  1.77it/s, IOU=0.675, Train_F1_Loss=0.733, Train_Loss=0.0191]\n",
            "100%|██████████| 15/15 [00:06<00:00,  2.24it/s, IOU=0.616, VAL_F1_Loss=0.75, Val_Loss=0.0219] \n"
          ]
        },
        {
          "name": "stdout",
          "output_type": "stream",
          "text": [
            "###### Epoch:  356 _ 0.0  ######\n"
          ]
        },
        {
          "name": "stderr",
          "output_type": "stream",
          "text": [
            "100%|██████████| 15/15 [00:08<00:00,  1.78it/s, IOU=0.701, Train_F1_Loss=0.815, Train_Loss=0.0251]\n",
            "100%|██████████| 15/15 [00:06<00:00,  2.24it/s, IOU=0.591, VAL_F1_Loss=0.771, Val_Loss=0.0196]\n"
          ]
        },
        {
          "name": "stdout",
          "output_type": "stream",
          "text": [
            "###### Epoch:  357 _ 0.0  ######\n"
          ]
        },
        {
          "name": "stderr",
          "output_type": "stream",
          "text": [
            "100%|██████████| 15/15 [00:08<00:00,  1.79it/s, IOU=0.648, Train_F1_Loss=0.809, Train_Loss=0.0241]\n",
            "100%|██████████| 15/15 [00:06<00:00,  2.26it/s, IOU=0.713, VAL_F1_Loss=0.807, Val_Loss=0.0103]\n"
          ]
        },
        {
          "name": "stdout",
          "output_type": "stream",
          "text": [
            "###### Epoch:  358 _ 0.0  ######\n"
          ]
        },
        {
          "name": "stderr",
          "output_type": "stream",
          "text": [
            "100%|██████████| 15/15 [00:08<00:00,  1.78it/s, IOU=0.787, Train_F1_Loss=0.91, Train_Loss=0.0182] \n",
            "100%|██████████| 15/15 [00:06<00:00,  2.29it/s, IOU=0.573, VAL_F1_Loss=0.745, Val_Loss=0.0251]\n"
          ]
        },
        {
          "name": "stdout",
          "output_type": "stream",
          "text": [
            "###### Epoch:  359 _ 0.0  ######\n"
          ]
        },
        {
          "name": "stderr",
          "output_type": "stream",
          "text": [
            "100%|██████████| 15/15 [00:08<00:00,  1.79it/s, IOU=0.709, Train_F1_Loss=0.816, Train_Loss=0.0236]\n",
            "100%|██████████| 15/15 [00:06<00:00,  2.25it/s, IOU=0.6, VAL_F1_Loss=0.769, Val_Loss=0.0197]  \n"
          ]
        },
        {
          "name": "stdout",
          "output_type": "stream",
          "text": [
            "###### Epoch:  360 _ 0.0  ######\n"
          ]
        },
        {
          "name": "stderr",
          "output_type": "stream",
          "text": [
            "100%|██████████| 15/15 [00:08<00:00,  1.79it/s, IOU=0.618, Train_F1_Loss=0.641, Train_Loss=0.0183]\n",
            "100%|██████████| 15/15 [00:06<00:00,  2.25it/s, IOU=0.662, VAL_F1_Loss=0.743, Val_Loss=0.0177]\n"
          ]
        },
        {
          "name": "stdout",
          "output_type": "stream",
          "text": [
            "###### Epoch:  361 _ 0.0  ######\n"
          ]
        },
        {
          "name": "stderr",
          "output_type": "stream",
          "text": [
            "100%|██████████| 15/15 [00:08<00:00,  1.80it/s, IOU=0.653, Train_F1_Loss=0.794, Train_Loss=0.0139]\n",
            "100%|██████████| 15/15 [00:06<00:00,  2.34it/s, IOU=0.622, VAL_F1_Loss=0.675, Val_Loss=0.0155]\n"
          ]
        },
        {
          "name": "stdout",
          "output_type": "stream",
          "text": [
            "###### Epoch:  362 _ 0.0  ######\n"
          ]
        },
        {
          "name": "stderr",
          "output_type": "stream",
          "text": [
            "100%|██████████| 15/15 [00:08<00:00,  1.80it/s, IOU=0.711, Train_F1_Loss=0.755, Train_Loss=0.0281]\n",
            "100%|██████████| 15/15 [00:06<00:00,  2.30it/s, IOU=0.612, VAL_F1_Loss=0.745, Val_Loss=0.0185]\n"
          ]
        },
        {
          "name": "stdout",
          "output_type": "stream",
          "text": [
            "###### Epoch:  363 _ 0.0  ######\n"
          ]
        },
        {
          "name": "stderr",
          "output_type": "stream",
          "text": [
            "100%|██████████| 15/15 [00:08<00:00,  1.78it/s, IOU=0.632, Train_F1_Loss=0.686, Train_Loss=0.0199]\n",
            "100%|██████████| 15/15 [00:06<00:00,  2.29it/s, IOU=0.52, VAL_F1_Loss=0.611, Val_Loss=0.0215] \n"
          ]
        },
        {
          "name": "stdout",
          "output_type": "stream",
          "text": [
            "###### Epoch:  364 _ 0.0  ######\n"
          ]
        },
        {
          "name": "stderr",
          "output_type": "stream",
          "text": [
            "100%|██████████| 15/15 [00:08<00:00,  1.79it/s, IOU=0.657, Train_F1_Loss=0.719, Train_Loss=0.027] \n",
            "100%|██████████| 15/15 [00:06<00:00,  2.30it/s, IOU=0.619, VAL_F1_Loss=0.735, Val_Loss=0.0197]\n"
          ]
        },
        {
          "name": "stdout",
          "output_type": "stream",
          "text": [
            "###### Epoch:  365 _ 0.0  ######\n"
          ]
        },
        {
          "name": "stderr",
          "output_type": "stream",
          "text": [
            "100%|██████████| 15/15 [00:08<00:00,  1.79it/s, IOU=0.587, Train_F1_Loss=0.721, Train_Loss=0.0253]\n",
            "100%|██████████| 15/15 [00:06<00:00,  2.29it/s, IOU=0.601, VAL_F1_Loss=0.745, Val_Loss=0.021] \n"
          ]
        },
        {
          "name": "stdout",
          "output_type": "stream",
          "text": [
            "###### Epoch:  366 _ 0.0  ######\n"
          ]
        },
        {
          "name": "stderr",
          "output_type": "stream",
          "text": [
            "100%|██████████| 15/15 [00:08<00:00,  1.80it/s, IOU=0.738, Train_F1_Loss=0.772, Train_Loss=0.0143]\n",
            "100%|██████████| 15/15 [00:06<00:00,  2.30it/s, IOU=0.565, VAL_F1_Loss=0.802, Val_Loss=0.0167]\n"
          ]
        },
        {
          "name": "stdout",
          "output_type": "stream",
          "text": [
            "###### Epoch:  367 _ 0.0  ######\n"
          ]
        },
        {
          "name": "stderr",
          "output_type": "stream",
          "text": [
            "100%|██████████| 15/15 [00:08<00:00,  1.79it/s, IOU=0.619, Train_F1_Loss=0.701, Train_Loss=0.0242]\n",
            "100%|██████████| 15/15 [00:06<00:00,  2.31it/s, IOU=0.628, VAL_F1_Loss=0.832, Val_Loss=0.0162]\n"
          ]
        },
        {
          "name": "stdout",
          "output_type": "stream",
          "text": [
            "###### Epoch:  368 _ 0.0  ######\n"
          ]
        },
        {
          "name": "stderr",
          "output_type": "stream",
          "text": [
            "100%|██████████| 15/15 [00:08<00:00,  1.79it/s, IOU=0.645, Train_F1_Loss=0.695, Train_Loss=0.0166]\n",
            "100%|██████████| 15/15 [00:06<00:00,  2.33it/s, IOU=0.624, VAL_F1_Loss=0.819, Val_Loss=0.0159]\n"
          ]
        },
        {
          "name": "stdout",
          "output_type": "stream",
          "text": [
            "###### Epoch:  369 _ 0.0  ######\n"
          ]
        },
        {
          "name": "stderr",
          "output_type": "stream",
          "text": [
            "100%|██████████| 15/15 [00:08<00:00,  1.79it/s, IOU=0.678, Train_F1_Loss=0.703, Train_Loss=0.0242]\n",
            "100%|██████████| 15/15 [00:06<00:00,  2.27it/s, IOU=0.587, VAL_F1_Loss=0.753, Val_Loss=0.0206]\n"
          ]
        },
        {
          "name": "stdout",
          "output_type": "stream",
          "text": [
            "###### Epoch:  370 _ 0.0  ######\n"
          ]
        },
        {
          "name": "stderr",
          "output_type": "stream",
          "text": [
            "100%|██████████| 15/15 [00:08<00:00,  1.80it/s, IOU=0.666, Train_F1_Loss=0.753, Train_Loss=0.0181]\n",
            "100%|██████████| 15/15 [00:06<00:00,  2.30it/s, IOU=0.667, VAL_F1_Loss=0.796, Val_Loss=0.0164]\n"
          ]
        },
        {
          "name": "stdout",
          "output_type": "stream",
          "text": [
            "###### Epoch:  371 _ 0.0  ######\n"
          ]
        },
        {
          "name": "stderr",
          "output_type": "stream",
          "text": [
            "100%|██████████| 15/15 [00:08<00:00,  1.79it/s, IOU=0.688, Train_F1_Loss=0.731, Train_Loss=0.0273]\n",
            "100%|██████████| 15/15 [00:06<00:00,  2.27it/s, IOU=0.596, VAL_F1_Loss=0.698, Val_Loss=0.0135]\n"
          ]
        },
        {
          "name": "stdout",
          "output_type": "stream",
          "text": [
            "###### Epoch:  372 _ 0.0  ######\n"
          ]
        },
        {
          "name": "stderr",
          "output_type": "stream",
          "text": [
            "100%|██████████| 15/15 [00:08<00:00,  1.79it/s, IOU=0.762, Train_F1_Loss=0.774, Train_Loss=0.0203]\n",
            "100%|██████████| 15/15 [00:06<00:00,  2.28it/s, IOU=0.646, VAL_F1_Loss=0.8, Val_Loss=0.0208]  \n"
          ]
        },
        {
          "name": "stdout",
          "output_type": "stream",
          "text": [
            "###### Epoch:  373 _ 0.0  ######\n"
          ]
        },
        {
          "name": "stderr",
          "output_type": "stream",
          "text": [
            "100%|██████████| 15/15 [00:08<00:00,  1.78it/s, IOU=0.747, Train_F1_Loss=0.827, Train_Loss=0.0173]\n",
            "100%|██████████| 15/15 [00:06<00:00,  2.29it/s, IOU=0.524, VAL_F1_Loss=0.66, Val_Loss=0.03]   \n"
          ]
        },
        {
          "name": "stdout",
          "output_type": "stream",
          "text": [
            "###### Epoch:  374 _ 0.0  ######\n"
          ]
        },
        {
          "name": "stderr",
          "output_type": "stream",
          "text": [
            "100%|██████████| 15/15 [00:08<00:00,  1.79it/s, IOU=0.711, Train_F1_Loss=0.689, Train_Loss=0.0286]\n",
            "100%|██████████| 15/15 [00:06<00:00,  2.25it/s, IOU=0.546, VAL_F1_Loss=0.683, Val_Loss=0.0294]\n"
          ]
        },
        {
          "name": "stdout",
          "output_type": "stream",
          "text": [
            "###### Epoch:  375 _ 0.0  ######\n"
          ]
        },
        {
          "name": "stderr",
          "output_type": "stream",
          "text": [
            "100%|██████████| 15/15 [00:08<00:00,  1.78it/s, IOU=0.788, Train_F1_Loss=0.878, Train_Loss=0.0148]\n",
            "100%|██████████| 15/15 [00:06<00:00,  2.31it/s, IOU=0.639, VAL_F1_Loss=0.791, Val_Loss=0.017] \n"
          ]
        },
        {
          "name": "stdout",
          "output_type": "stream",
          "text": [
            "###### Epoch:  376 _ 0.0  ######\n"
          ]
        },
        {
          "name": "stderr",
          "output_type": "stream",
          "text": [
            "100%|██████████| 15/15 [00:08<00:00,  1.80it/s, IOU=0.696, Train_F1_Loss=0.86, Train_Loss=0.0211] \n",
            "100%|██████████| 15/15 [00:06<00:00,  2.28it/s, IOU=0.578, VAL_F1_Loss=0.717, Val_Loss=0.0152]\n"
          ]
        },
        {
          "name": "stdout",
          "output_type": "stream",
          "text": [
            "###### Epoch:  377 _ 0.0  ######\n"
          ]
        },
        {
          "name": "stderr",
          "output_type": "stream",
          "text": [
            "100%|██████████| 15/15 [00:08<00:00,  1.80it/s, IOU=0.862, Train_F1_Loss=0.806, Train_Loss=0.0422]\n",
            "100%|██████████| 15/15 [00:06<00:00,  2.30it/s, IOU=0.51, VAL_F1_Loss=0.635, Val_Loss=0.0258] \n"
          ]
        },
        {
          "name": "stdout",
          "output_type": "stream",
          "text": [
            "###### Epoch:  378 _ 0.0  ######\n"
          ]
        },
        {
          "name": "stderr",
          "output_type": "stream",
          "text": [
            "100%|██████████| 15/15 [00:08<00:00,  1.80it/s, IOU=0.729, Train_F1_Loss=0.838, Train_Loss=0.0216]\n",
            "100%|██████████| 15/15 [00:06<00:00,  2.34it/s, IOU=0.626, VAL_F1_Loss=0.791, Val_Loss=0.02]  \n"
          ]
        },
        {
          "name": "stdout",
          "output_type": "stream",
          "text": [
            "###### Epoch:  379 _ 0.0  ######\n"
          ]
        },
        {
          "name": "stderr",
          "output_type": "stream",
          "text": [
            "100%|██████████| 15/15 [00:08<00:00,  1.79it/s, IOU=0.673, Train_F1_Loss=0.649, Train_Loss=0.0223]\n",
            "100%|██████████| 15/15 [00:06<00:00,  2.30it/s, IOU=0.537, VAL_F1_Loss=0.634, Val_Loss=0.0297]\n"
          ]
        },
        {
          "name": "stdout",
          "output_type": "stream",
          "text": [
            "###### Epoch:  380 _ 0.0  ######\n"
          ]
        },
        {
          "name": "stderr",
          "output_type": "stream",
          "text": [
            "100%|██████████| 15/15 [00:08<00:00,  1.79it/s, IOU=0.59, Train_F1_Loss=0.734, Train_Loss=0.0163] \n",
            "100%|██████████| 15/15 [00:06<00:00,  2.28it/s, IOU=0.664, VAL_F1_Loss=0.848, Val_Loss=0.0145]\n"
          ]
        },
        {
          "name": "stdout",
          "output_type": "stream",
          "text": [
            "###### Epoch:  381 _ 0.0  ######\n"
          ]
        },
        {
          "name": "stderr",
          "output_type": "stream",
          "text": [
            "100%|██████████| 15/15 [00:08<00:00,  1.80it/s, IOU=0.653, Train_F1_Loss=0.716, Train_Loss=0.0254]\n",
            "100%|██████████| 15/15 [00:06<00:00,  2.29it/s, IOU=0.627, VAL_F1_Loss=0.679, Val_Loss=0.0231]\n"
          ]
        },
        {
          "name": "stdout",
          "output_type": "stream",
          "text": [
            "###### Epoch:  382 _ 0.0  ######\n"
          ]
        },
        {
          "name": "stderr",
          "output_type": "stream",
          "text": [
            "100%|██████████| 15/15 [00:08<00:00,  1.80it/s, IOU=0.625, Train_F1_Loss=0.883, Train_Loss=0.0131]\n",
            "100%|██████████| 15/15 [00:06<00:00,  2.29it/s, IOU=0.611, VAL_F1_Loss=0.694, Val_Loss=0.0191]\n"
          ]
        },
        {
          "name": "stdout",
          "output_type": "stream",
          "text": [
            "###### Epoch:  383 _ 0.0  ######\n"
          ]
        },
        {
          "name": "stderr",
          "output_type": "stream",
          "text": [
            "100%|██████████| 15/15 [00:08<00:00,  1.80it/s, IOU=0.772, Train_F1_Loss=0.869, Train_Loss=0.0191]\n",
            "100%|██████████| 15/15 [00:06<00:00,  2.31it/s, IOU=0.604, VAL_F1_Loss=0.835, Val_Loss=0.0161]\n"
          ]
        },
        {
          "name": "stdout",
          "output_type": "stream",
          "text": [
            "###### Epoch:  384 _ 0.0  ######\n"
          ]
        },
        {
          "name": "stderr",
          "output_type": "stream",
          "text": [
            "100%|██████████| 15/15 [00:08<00:00,  1.80it/s, IOU=0.67, Train_F1_Loss=0.73, Train_Loss=0.0205]  \n",
            "100%|██████████| 15/15 [00:06<00:00,  2.30it/s, IOU=0.578, VAL_F1_Loss=0.79, Val_Loss=0.0157] \n"
          ]
        },
        {
          "name": "stdout",
          "output_type": "stream",
          "text": [
            "###### Epoch:  385 _ 0.0  ######\n"
          ]
        },
        {
          "name": "stderr",
          "output_type": "stream",
          "text": [
            "100%|██████████| 15/15 [00:08<00:00,  1.80it/s, IOU=0.636, Train_F1_Loss=0.725, Train_Loss=0.0247]\n",
            "100%|██████████| 15/15 [00:06<00:00,  2.31it/s, IOU=0.627, VAL_F1_Loss=0.672, Val_Loss=0.0232]\n"
          ]
        },
        {
          "name": "stdout",
          "output_type": "stream",
          "text": [
            "###### Epoch:  386 _ 0.0  ######\n"
          ]
        },
        {
          "name": "stderr",
          "output_type": "stream",
          "text": [
            "100%|██████████| 15/15 [00:08<00:00,  1.71it/s, IOU=0.625, Train_F1_Loss=0.655, Train_Loss=0.0222]\n",
            "100%|██████████| 15/15 [00:06<00:00,  2.30it/s, IOU=0.573, VAL_F1_Loss=0.616, Val_Loss=0.0214]\n"
          ]
        },
        {
          "name": "stdout",
          "output_type": "stream",
          "text": [
            "###### Epoch:  387 _ 0.0  ######\n"
          ]
        },
        {
          "name": "stderr",
          "output_type": "stream",
          "text": [
            "100%|██████████| 15/15 [00:08<00:00,  1.80it/s, IOU=0.749, Train_F1_Loss=0.713, Train_Loss=0.0279]\n",
            "100%|██████████| 15/15 [00:08<00:00,  1.69it/s, IOU=0.584, VAL_F1_Loss=0.639, Val_Loss=0.0224]\n"
          ]
        },
        {
          "name": "stdout",
          "output_type": "stream",
          "text": [
            "###### Epoch:  388 _ 0.0  ######\n"
          ]
        },
        {
          "name": "stderr",
          "output_type": "stream",
          "text": [
            "100%|██████████| 15/15 [00:08<00:00,  1.77it/s, IOU=0.66, Train_F1_Loss=0.613, Train_Loss=0.0269] \n",
            "100%|██████████| 15/15 [00:06<00:00,  2.21it/s, IOU=0.505, VAL_F1_Loss=0.643, Val_Loss=0.0197]\n"
          ]
        },
        {
          "name": "stdout",
          "output_type": "stream",
          "text": [
            "###### Epoch:  389 _ 0.0  ######\n"
          ]
        },
        {
          "name": "stderr",
          "output_type": "stream",
          "text": [
            "100%|██████████| 15/15 [00:08<00:00,  1.79it/s, IOU=0.606, Train_F1_Loss=0.696, Train_Loss=0.028] \n",
            "100%|██████████| 15/15 [00:06<00:00,  2.26it/s, IOU=0.644, VAL_F1_Loss=0.832, Val_Loss=0.0145]\n"
          ]
        },
        {
          "name": "stdout",
          "output_type": "stream",
          "text": [
            "###### Epoch:  390 _ 0.0  ######\n"
          ]
        },
        {
          "name": "stderr",
          "output_type": "stream",
          "text": [
            "100%|██████████| 15/15 [00:08<00:00,  1.78it/s, IOU=0.708, Train_F1_Loss=0.865, Train_Loss=0.0129]\n",
            "100%|██████████| 15/15 [00:06<00:00,  2.25it/s, IOU=0.57, VAL_F1_Loss=0.74, Val_Loss=0.0228]  \n"
          ]
        },
        {
          "name": "stdout",
          "output_type": "stream",
          "text": [
            "###### Epoch:  391 _ 0.0  ######\n"
          ]
        },
        {
          "name": "stderr",
          "output_type": "stream",
          "text": [
            "100%|██████████| 15/15 [00:08<00:00,  1.79it/s, IOU=0.782, Train_F1_Loss=0.779, Train_Loss=0.0283]\n",
            "100%|██████████| 15/15 [00:06<00:00,  2.20it/s, IOU=0.598, VAL_F1_Loss=0.817, Val_Loss=0.0168]\n"
          ]
        },
        {
          "name": "stdout",
          "output_type": "stream",
          "text": [
            "###### Epoch:  392 _ 0.0  ######\n"
          ]
        },
        {
          "name": "stderr",
          "output_type": "stream",
          "text": [
            "100%|██████████| 15/15 [00:08<00:00,  1.79it/s, IOU=0.739, Train_F1_Loss=0.719, Train_Loss=0.0234]\n",
            "100%|██████████| 15/15 [00:06<00:00,  2.28it/s, IOU=0.692, VAL_F1_Loss=0.763, Val_Loss=0.023] \n"
          ]
        },
        {
          "name": "stdout",
          "output_type": "stream",
          "text": [
            "###### Epoch:  393 _ 0.0  ######\n"
          ]
        },
        {
          "name": "stderr",
          "output_type": "stream",
          "text": [
            "100%|██████████| 15/15 [00:08<00:00,  1.77it/s, IOU=0.6, Train_F1_Loss=0.598, Train_Loss=0.0378]  \n",
            "100%|██████████| 15/15 [00:06<00:00,  2.28it/s, IOU=0.654, VAL_F1_Loss=0.735, Val_Loss=0.0235]\n"
          ]
        },
        {
          "name": "stdout",
          "output_type": "stream",
          "text": [
            "###### Epoch:  394 _ 0.0  ######\n"
          ]
        },
        {
          "name": "stderr",
          "output_type": "stream",
          "text": [
            "100%|██████████| 15/15 [00:08<00:00,  1.77it/s, IOU=0.539, Train_F1_Loss=0.723, Train_Loss=0.027] \n",
            "100%|██████████| 15/15 [00:06<00:00,  2.26it/s, IOU=0.612, VAL_F1_Loss=0.815, Val_Loss=0.0147]\n"
          ]
        },
        {
          "name": "stdout",
          "output_type": "stream",
          "text": [
            "###### Epoch:  395 _ 0.0  ######\n"
          ]
        },
        {
          "name": "stderr",
          "output_type": "stream",
          "text": [
            "100%|██████████| 15/15 [00:08<00:00,  1.79it/s, IOU=0.681, Train_F1_Loss=0.828, Train_Loss=0.0177]\n",
            "100%|██████████| 15/15 [00:06<00:00,  2.24it/s, IOU=0.635, VAL_F1_Loss=0.638, Val_Loss=0.0225]\n"
          ]
        },
        {
          "name": "stdout",
          "output_type": "stream",
          "text": [
            "###### Epoch:  396 _ 0.0  ######\n"
          ]
        },
        {
          "name": "stderr",
          "output_type": "stream",
          "text": [
            "100%|██████████| 15/15 [00:08<00:00,  1.80it/s, IOU=0.764, Train_F1_Loss=0.732, Train_Loss=0.012] \n",
            "100%|██████████| 15/15 [00:06<00:00,  2.28it/s, IOU=0.578, VAL_F1_Loss=0.61, Val_Loss=0.019]  \n"
          ]
        },
        {
          "name": "stdout",
          "output_type": "stream",
          "text": [
            "###### Epoch:  397 _ 0.0  ######\n"
          ]
        },
        {
          "name": "stderr",
          "output_type": "stream",
          "text": [
            "100%|██████████| 15/15 [00:08<00:00,  1.79it/s, IOU=0.713, Train_F1_Loss=0.815, Train_Loss=0.0166]\n",
            "100%|██████████| 15/15 [00:06<00:00,  2.31it/s, IOU=0.633, VAL_F1_Loss=0.761, Val_Loss=0.0117]\n"
          ]
        },
        {
          "name": "stdout",
          "output_type": "stream",
          "text": [
            "###### Epoch:  398 _ 0.0  ######\n"
          ]
        },
        {
          "name": "stderr",
          "output_type": "stream",
          "text": [
            "100%|██████████| 15/15 [00:08<00:00,  1.79it/s, IOU=0.74, Train_F1_Loss=0.73, Train_Loss=0.0191]  \n",
            "100%|██████████| 15/15 [00:06<00:00,  2.27it/s, IOU=0.623, VAL_F1_Loss=0.836, Val_Loss=0.0172]\n"
          ]
        },
        {
          "name": "stdout",
          "output_type": "stream",
          "text": [
            "###### Epoch:  399 _ 0.0  ######\n"
          ]
        },
        {
          "name": "stderr",
          "output_type": "stream",
          "text": [
            "100%|██████████| 15/15 [00:08<00:00,  1.79it/s, IOU=0.695, Train_F1_Loss=0.819, Train_Loss=0.0244]\n",
            "100%|██████████| 15/15 [00:06<00:00,  2.26it/s, IOU=0.662, VAL_F1_Loss=0.809, Val_Loss=0.017] \n"
          ]
        },
        {
          "name": "stdout",
          "output_type": "stream",
          "text": [
            "###### Epoch:  400 _ 0.0  ######\n"
          ]
        },
        {
          "name": "stderr",
          "output_type": "stream",
          "text": [
            "100%|██████████| 15/15 [00:08<00:00,  1.80it/s, IOU=0.614, Train_F1_Loss=0.595, Train_Loss=0.0257]\n",
            "100%|██████████| 15/15 [00:06<00:00,  2.31it/s, IOU=0.535, VAL_F1_Loss=0.739, Val_Loss=0.0229]\n"
          ]
        },
        {
          "name": "stdout",
          "output_type": "stream",
          "text": [
            "###### Epoch:  401 _ 0.0  ######\n"
          ]
        },
        {
          "name": "stderr",
          "output_type": "stream",
          "text": [
            "100%|██████████| 15/15 [00:08<00:00,  1.79it/s, IOU=0.715, Train_F1_Loss=0.764, Train_Loss=0.0228]\n",
            "100%|██████████| 15/15 [00:06<00:00,  2.26it/s, IOU=0.715, VAL_F1_Loss=0.872, Val_Loss=0.0107]\n"
          ]
        },
        {
          "name": "stdout",
          "output_type": "stream",
          "text": [
            "###### Epoch:  402 _ 0.0  ######\n"
          ]
        },
        {
          "name": "stderr",
          "output_type": "stream",
          "text": [
            "100%|██████████| 15/15 [00:08<00:00,  1.80it/s, IOU=0.547, Train_F1_Loss=0.728, Train_Loss=0.0218]\n",
            "100%|██████████| 15/15 [00:06<00:00,  2.28it/s, IOU=0.674, VAL_F1_Loss=0.817, Val_Loss=0.017] \n"
          ]
        },
        {
          "name": "stdout",
          "output_type": "stream",
          "text": [
            "###### Epoch:  403 _ 0.0  ######\n"
          ]
        },
        {
          "name": "stderr",
          "output_type": "stream",
          "text": [
            "100%|██████████| 15/15 [00:08<00:00,  1.79it/s, IOU=0.674, Train_F1_Loss=0.671, Train_Loss=0.0245]\n",
            "100%|██████████| 15/15 [00:06<00:00,  2.31it/s, IOU=0.499, VAL_F1_Loss=0.565, Val_Loss=0.0225]\n"
          ]
        },
        {
          "name": "stdout",
          "output_type": "stream",
          "text": [
            "###### Epoch:  404 _ 0.0  ######\n"
          ]
        },
        {
          "name": "stderr",
          "output_type": "stream",
          "text": [
            "100%|██████████| 15/15 [00:08<00:00,  1.79it/s, IOU=0.62, Train_F1_Loss=0.863, Train_Loss=0.0126] \n",
            "100%|██████████| 15/15 [00:06<00:00,  2.30it/s, IOU=0.446, VAL_F1_Loss=0.582, Val_Loss=0.0313]\n"
          ]
        },
        {
          "name": "stdout",
          "output_type": "stream",
          "text": [
            "###### Epoch:  405 _ 0.0  ######\n"
          ]
        },
        {
          "name": "stderr",
          "output_type": "stream",
          "text": [
            "100%|██████████| 15/15 [00:08<00:00,  1.79it/s, IOU=0.779, Train_F1_Loss=0.792, Train_Loss=0.0216]\n",
            "100%|██████████| 15/15 [00:06<00:00,  2.30it/s, IOU=0.58, VAL_F1_Loss=0.793, Val_Loss=0.0176] \n"
          ]
        },
        {
          "name": "stdout",
          "output_type": "stream",
          "text": [
            "###### Epoch:  406 _ 0.0  ######\n"
          ]
        },
        {
          "name": "stderr",
          "output_type": "stream",
          "text": [
            "100%|██████████| 15/15 [00:08<00:00,  1.78it/s, IOU=0.722, Train_F1_Loss=0.741, Train_Loss=0.0175]\n",
            "100%|██████████| 15/15 [00:06<00:00,  2.31it/s, IOU=0.586, VAL_F1_Loss=0.619, Val_Loss=0.0129]\n"
          ]
        },
        {
          "name": "stdout",
          "output_type": "stream",
          "text": [
            "###### Epoch:  407 _ 0.0  ######\n"
          ]
        },
        {
          "name": "stderr",
          "output_type": "stream",
          "text": [
            "100%|██████████| 15/15 [00:08<00:00,  1.79it/s, IOU=0.707, Train_F1_Loss=0.763, Train_Loss=0.0252]\n",
            "100%|██████████| 15/15 [00:06<00:00,  2.31it/s, IOU=0.524, VAL_F1_Loss=0.653, Val_Loss=0.0233]\n"
          ]
        },
        {
          "name": "stdout",
          "output_type": "stream",
          "text": [
            "###### Epoch:  408 _ 0.0  ######\n"
          ]
        },
        {
          "name": "stderr",
          "output_type": "stream",
          "text": [
            "100%|██████████| 15/15 [00:08<00:00,  1.79it/s, IOU=0.576, Train_F1_Loss=0.762, Train_Loss=0.0211]\n",
            "100%|██████████| 15/15 [00:06<00:00,  2.29it/s, IOU=0.577, VAL_F1_Loss=0.774, Val_Loss=0.0171]\n"
          ]
        },
        {
          "name": "stdout",
          "output_type": "stream",
          "text": [
            "###### Epoch:  409 _ 0.0  ######\n"
          ]
        },
        {
          "name": "stderr",
          "output_type": "stream",
          "text": [
            "100%|██████████| 15/15 [00:08<00:00,  1.79it/s, IOU=0.642, Train_F1_Loss=0.707, Train_Loss=0.0323]\n",
            "100%|██████████| 15/15 [00:06<00:00,  2.34it/s, IOU=0.655, VAL_F1_Loss=0.737, Val_Loss=0.0122]\n"
          ]
        },
        {
          "name": "stdout",
          "output_type": "stream",
          "text": [
            "###### Epoch:  410 _ 0.0  ######\n"
          ]
        },
        {
          "name": "stderr",
          "output_type": "stream",
          "text": [
            "100%|██████████| 15/15 [00:08<00:00,  1.80it/s, IOU=0.719, Train_F1_Loss=0.725, Train_Loss=0.0185]\n",
            "100%|██████████| 15/15 [00:06<00:00,  2.33it/s, IOU=0.588, VAL_F1_Loss=0.691, Val_Loss=0.0177]\n"
          ]
        },
        {
          "name": "stdout",
          "output_type": "stream",
          "text": [
            "###### Epoch:  411 _ 0.0  ######\n"
          ]
        },
        {
          "name": "stderr",
          "output_type": "stream",
          "text": [
            "100%|██████████| 15/15 [00:08<00:00,  1.78it/s, IOU=0.652, Train_F1_Loss=0.8, Train_Loss=0.0178]  \n",
            "100%|██████████| 15/15 [00:06<00:00,  2.30it/s, IOU=0.61, VAL_F1_Loss=0.688, Val_Loss=0.0191] \n"
          ]
        },
        {
          "name": "stdout",
          "output_type": "stream",
          "text": [
            "###### Epoch:  412 _ 0.0  ######\n"
          ]
        },
        {
          "name": "stderr",
          "output_type": "stream",
          "text": [
            "100%|██████████| 15/15 [00:08<00:00,  1.78it/s, IOU=0.665, Train_F1_Loss=0.662, Train_Loss=0.0385]\n",
            "100%|██████████| 15/15 [00:06<00:00,  2.30it/s, IOU=0.585, VAL_F1_Loss=0.705, Val_Loss=0.0191]\n"
          ]
        },
        {
          "name": "stdout",
          "output_type": "stream",
          "text": [
            "###### Epoch:  413 _ 0.0  ######\n"
          ]
        },
        {
          "name": "stderr",
          "output_type": "stream",
          "text": [
            "100%|██████████| 15/15 [00:08<00:00,  1.79it/s, IOU=0.727, Train_F1_Loss=0.727, Train_Loss=0.019] \n",
            "100%|██████████| 15/15 [00:06<00:00,  2.32it/s, IOU=0.702, VAL_F1_Loss=0.778, Val_Loss=0.0175]\n"
          ]
        },
        {
          "name": "stdout",
          "output_type": "stream",
          "text": [
            "###### Epoch:  414 _ 0.0  ######\n"
          ]
        },
        {
          "name": "stderr",
          "output_type": "stream",
          "text": [
            "100%|██████████| 15/15 [00:08<00:00,  1.79it/s, IOU=0.711, Train_F1_Loss=0.661, Train_Loss=0.0155]\n",
            "100%|██████████| 15/15 [00:06<00:00,  2.33it/s, IOU=0.536, VAL_F1_Loss=0.699, Val_Loss=0.0258]\n"
          ]
        },
        {
          "name": "stdout",
          "output_type": "stream",
          "text": [
            "###### Epoch:  415 _ 0.0  ######\n"
          ]
        },
        {
          "name": "stderr",
          "output_type": "stream",
          "text": [
            "100%|██████████| 15/15 [00:08<00:00,  1.78it/s, IOU=0.626, Train_F1_Loss=0.744, Train_Loss=0.0226]\n",
            "100%|██████████| 15/15 [00:06<00:00,  2.32it/s, IOU=0.582, VAL_F1_Loss=0.585, Val_Loss=0.0203]\n"
          ]
        },
        {
          "name": "stdout",
          "output_type": "stream",
          "text": [
            "###### Epoch:  416 _ 0.0  ######\n"
          ]
        },
        {
          "name": "stderr",
          "output_type": "stream",
          "text": [
            "100%|██████████| 15/15 [00:08<00:00,  1.80it/s, IOU=0.652, Train_F1_Loss=0.62, Train_Loss=0.0289] \n",
            "100%|██████████| 15/15 [00:06<00:00,  2.31it/s, IOU=0.653, VAL_F1_Loss=0.701, Val_Loss=0.0241]\n"
          ]
        },
        {
          "name": "stdout",
          "output_type": "stream",
          "text": [
            "###### Epoch:  417 _ 0.0  ######\n"
          ]
        },
        {
          "name": "stderr",
          "output_type": "stream",
          "text": [
            "100%|██████████| 15/15 [00:08<00:00,  1.79it/s, IOU=0.688, Train_F1_Loss=0.73, Train_Loss=0.0218]  \n",
            "100%|██████████| 15/15 [00:06<00:00,  2.31it/s, IOU=0.685, VAL_F1_Loss=0.687, Val_Loss=0.0163]\n"
          ]
        },
        {
          "name": "stdout",
          "output_type": "stream",
          "text": [
            "###### Epoch:  418 _ 0.0  ######\n"
          ]
        },
        {
          "name": "stderr",
          "output_type": "stream",
          "text": [
            "100%|██████████| 15/15 [00:08<00:00,  1.79it/s, IOU=0.725, Train_F1_Loss=0.767, Train_Loss=0.0179]\n",
            "100%|██████████| 15/15 [00:06<00:00,  2.32it/s, IOU=0.655, VAL_F1_Loss=0.813, Val_Loss=0.0139]\n"
          ]
        },
        {
          "name": "stdout",
          "output_type": "stream",
          "text": [
            "###### Epoch:  419 _ 0.0  ######\n"
          ]
        },
        {
          "name": "stderr",
          "output_type": "stream",
          "text": [
            "100%|██████████| 15/15 [00:08<00:00,  1.77it/s, IOU=0.632, Train_F1_Loss=0.704, Train_Loss=0.033] \n",
            "100%|██████████| 15/15 [00:06<00:00,  2.30it/s, IOU=0.589, VAL_F1_Loss=0.677, Val_Loss=0.0217]\n"
          ]
        },
        {
          "name": "stdout",
          "output_type": "stream",
          "text": [
            "###### Epoch:  420 _ 0.0  ######\n"
          ]
        },
        {
          "name": "stderr",
          "output_type": "stream",
          "text": [
            "100%|██████████| 15/15 [00:08<00:00,  1.77it/s, IOU=0.672, Train_F1_Loss=0.677, Train_Loss=0.0266]\n",
            "100%|██████████| 15/15 [00:09<00:00,  1.58it/s, IOU=0.604, VAL_F1_Loss=0.737, Val_Loss=0.0157]\n"
          ]
        },
        {
          "name": "stdout",
          "output_type": "stream",
          "text": [
            "###### Epoch:  421 _ 0.0  ######\n"
          ]
        },
        {
          "name": "stderr",
          "output_type": "stream",
          "text": [
            "100%|██████████| 15/15 [00:08<00:00,  1.76it/s, IOU=0.724, Train_F1_Loss=0.839, Train_Loss=0.0191]\n",
            "100%|██████████| 15/15 [00:06<00:00,  2.27it/s, IOU=0.579, VAL_F1_Loss=0.746, Val_Loss=0.0183]\n"
          ]
        },
        {
          "name": "stdout",
          "output_type": "stream",
          "text": [
            "###### Epoch:  422 _ 0.0  ######\n"
          ]
        },
        {
          "name": "stderr",
          "output_type": "stream",
          "text": [
            "100%|██████████| 15/15 [00:08<00:00,  1.77it/s, IOU=0.615, Train_F1_Loss=0.788, Train_Loss=0.019] \n",
            "100%|██████████| 15/15 [00:06<00:00,  2.29it/s, IOU=0.515, VAL_F1_Loss=0.654, Val_Loss=0.0278]\n"
          ]
        },
        {
          "name": "stdout",
          "output_type": "stream",
          "text": [
            "###### Epoch:  423 _ 0.0  ######\n"
          ]
        },
        {
          "name": "stderr",
          "output_type": "stream",
          "text": [
            "100%|██████████| 15/15 [00:08<00:00,  1.78it/s, IOU=0.605, Train_F1_Loss=0.598, Train_Loss=0.0264]\n",
            "100%|██████████| 15/15 [00:06<00:00,  2.29it/s, IOU=0.654, VAL_F1_Loss=0.708, Val_Loss=0.0163]\n"
          ]
        },
        {
          "name": "stdout",
          "output_type": "stream",
          "text": [
            "###### Epoch:  424 _ 0.0  ######\n"
          ]
        },
        {
          "name": "stderr",
          "output_type": "stream",
          "text": [
            "100%|██████████| 15/15 [00:08<00:00,  1.77it/s, IOU=0.638, Train_F1_Loss=0.718, Train_Loss=0.0205]\n",
            "100%|██████████| 15/15 [00:06<00:00,  2.30it/s, IOU=0.559, VAL_F1_Loss=0.743, Val_Loss=0.0249]\n"
          ]
        },
        {
          "name": "stdout",
          "output_type": "stream",
          "text": [
            "###### Epoch:  425 _ 0.0  ######\n"
          ]
        },
        {
          "name": "stderr",
          "output_type": "stream",
          "text": [
            "100%|██████████| 15/15 [00:08<00:00,  1.78it/s, IOU=0.702, Train_F1_Loss=0.785, Train_Loss=0.0241]\n",
            "100%|██████████| 15/15 [00:06<00:00,  2.30it/s, IOU=0.564, VAL_F1_Loss=0.689, Val_Loss=0.0228]\n"
          ]
        },
        {
          "name": "stdout",
          "output_type": "stream",
          "text": [
            "###### Epoch:  426 _ 0.0  ######\n"
          ]
        },
        {
          "name": "stderr",
          "output_type": "stream",
          "text": [
            "100%|██████████| 15/15 [00:08<00:00,  1.78it/s, IOU=0.715, Train_F1_Loss=0.755, Train_Loss=0.0207]\n",
            "100%|██████████| 15/15 [00:06<00:00,  2.32it/s, IOU=0.655, VAL_F1_Loss=0.73, Val_Loss=0.0196] \n"
          ]
        },
        {
          "name": "stdout",
          "output_type": "stream",
          "text": [
            "###### Epoch:  427 _ 0.0  ######\n"
          ]
        },
        {
          "name": "stderr",
          "output_type": "stream",
          "text": [
            "100%|██████████| 15/15 [00:08<00:00,  1.79it/s, IOU=0.708, Train_F1_Loss=0.794, Train_Loss=0.0202]\n",
            "100%|██████████| 15/15 [00:06<00:00,  2.29it/s, IOU=0.666, VAL_F1_Loss=0.814, Val_Loss=0.0164]\n"
          ]
        },
        {
          "name": "stdout",
          "output_type": "stream",
          "text": [
            "###### Epoch:  428 _ 0.0  ######\n"
          ]
        },
        {
          "name": "stderr",
          "output_type": "stream",
          "text": [
            "100%|██████████| 15/15 [00:08<00:00,  1.77it/s, IOU=0.641, Train_F1_Loss=0.672, Train_Loss=0.0203]\n",
            "100%|██████████| 15/15 [00:06<00:00,  2.31it/s, IOU=0.617, VAL_F1_Loss=0.774, Val_Loss=0.0198]\n"
          ]
        },
        {
          "name": "stdout",
          "output_type": "stream",
          "text": [
            "###### Epoch:  429 _ 0.0  ######\n"
          ]
        },
        {
          "name": "stderr",
          "output_type": "stream",
          "text": [
            "100%|██████████| 15/15 [00:08<00:00,  1.78it/s, IOU=0.669, Train_F1_Loss=0.663, Train_Loss=0.0152]\n",
            "100%|██████████| 15/15 [00:06<00:00,  2.32it/s, IOU=0.531, VAL_F1_Loss=0.594, Val_Loss=0.0197]\n"
          ]
        },
        {
          "name": "stdout",
          "output_type": "stream",
          "text": [
            "###### Epoch:  430 _ 0.0  ######\n"
          ]
        },
        {
          "name": "stderr",
          "output_type": "stream",
          "text": [
            "100%|██████████| 15/15 [00:08<00:00,  1.78it/s, IOU=0.552, Train_F1_Loss=0.578, Train_Loss=0.0285]\n",
            "100%|██████████| 15/15 [00:06<00:00,  2.32it/s, IOU=0.656, VAL_F1_Loss=0.86, Val_Loss=0.0162] \n"
          ]
        },
        {
          "name": "stdout",
          "output_type": "stream",
          "text": [
            "###### Epoch:  431 _ 0.0  ######\n"
          ]
        },
        {
          "name": "stderr",
          "output_type": "stream",
          "text": [
            "100%|██████████| 15/15 [00:08<00:00,  1.77it/s, IOU=0.693, Train_F1_Loss=0.685, Train_Loss=0.0189]\n",
            "100%|██████████| 15/15 [00:06<00:00,  2.31it/s, IOU=0.776, VAL_F1_Loss=0.798, Val_Loss=0.0125]\n"
          ]
        },
        {
          "name": "stdout",
          "output_type": "stream",
          "text": [
            "###### Epoch:  432 _ 0.0  ######\n"
          ]
        },
        {
          "name": "stderr",
          "output_type": "stream",
          "text": [
            "100%|██████████| 15/15 [00:08<00:00,  1.78it/s, IOU=0.646, Train_F1_Loss=0.735, Train_Loss=0.0186]\n",
            "100%|██████████| 15/15 [00:06<00:00,  2.30it/s, IOU=0.562, VAL_F1_Loss=0.57, Val_Loss=0.0169] \n"
          ]
        },
        {
          "name": "stdout",
          "output_type": "stream",
          "text": [
            "###### Epoch:  433 _ 0.0  ######\n"
          ]
        },
        {
          "name": "stderr",
          "output_type": "stream",
          "text": [
            "100%|██████████| 15/15 [00:08<00:00,  1.78it/s, IOU=0.639, Train_F1_Loss=0.735, Train_Loss=0.0234]\n",
            "100%|██████████| 15/15 [00:06<00:00,  2.29it/s, IOU=0.567, VAL_F1_Loss=0.648, Val_Loss=0.0219]\n"
          ]
        },
        {
          "name": "stdout",
          "output_type": "stream",
          "text": [
            "###### Epoch:  434 _ 0.0  ######\n"
          ]
        },
        {
          "name": "stderr",
          "output_type": "stream",
          "text": [
            "100%|██████████| 15/15 [00:08<00:00,  1.78it/s, IOU=0.674, Train_F1_Loss=0.685, Train_Loss=0.0208]\n",
            "100%|██████████| 15/15 [00:06<00:00,  2.30it/s, IOU=0.557, VAL_F1_Loss=0.689, Val_Loss=0.0262]\n"
          ]
        },
        {
          "name": "stdout",
          "output_type": "stream",
          "text": [
            "###### Epoch:  435 _ 0.0  ######\n"
          ]
        },
        {
          "name": "stderr",
          "output_type": "stream",
          "text": [
            "100%|██████████| 15/15 [00:08<00:00,  1.77it/s, IOU=0.686, Train_F1_Loss=0.793, Train_Loss=0.0149]\n",
            "100%|██████████| 15/15 [00:06<00:00,  2.28it/s, IOU=0.58, VAL_F1_Loss=0.77, Val_Loss=0.0185]  \n"
          ]
        },
        {
          "name": "stdout",
          "output_type": "stream",
          "text": [
            "###### Epoch:  436 _ 0.0  ######\n"
          ]
        },
        {
          "name": "stderr",
          "output_type": "stream",
          "text": [
            "100%|██████████| 15/15 [00:08<00:00,  1.76it/s, IOU=0.5, Train_F1_Loss=0.584, Train_Loss=0.0294]  \n",
            "100%|██████████| 15/15 [00:06<00:00,  2.29it/s, IOU=0.54, VAL_F1_Loss=0.703, Val_Loss=0.0245] \n"
          ]
        },
        {
          "name": "stdout",
          "output_type": "stream",
          "text": [
            "###### Epoch:  437 _ 0.0  ######\n"
          ]
        },
        {
          "name": "stderr",
          "output_type": "stream",
          "text": [
            "100%|██████████| 15/15 [00:08<00:00,  1.77it/s, IOU=0.568, Train_F1_Loss=0.695, Train_Loss=0.0225]\n",
            "100%|██████████| 15/15 [00:06<00:00,  2.28it/s, IOU=0.572, VAL_F1_Loss=0.795, Val_Loss=0.0213]\n"
          ]
        },
        {
          "name": "stdout",
          "output_type": "stream",
          "text": [
            "###### Epoch:  438 _ 0.0  ######\n"
          ]
        },
        {
          "name": "stderr",
          "output_type": "stream",
          "text": [
            "100%|██████████| 15/15 [00:08<00:00,  1.77it/s, IOU=0.71, Train_F1_Loss=0.744, Train_Loss=0.0234] \n",
            "100%|██████████| 15/15 [00:06<00:00,  2.29it/s, IOU=0.588, VAL_F1_Loss=0.673, Val_Loss=0.0276]\n"
          ]
        },
        {
          "name": "stdout",
          "output_type": "stream",
          "text": [
            "###### Epoch:  439 _ 0.0  ######\n"
          ]
        },
        {
          "name": "stderr",
          "output_type": "stream",
          "text": [
            "100%|██████████| 15/15 [00:08<00:00,  1.77it/s, IOU=0.727, Train_F1_Loss=0.746, Train_Loss=0.0149]\n",
            "100%|██████████| 15/15 [00:06<00:00,  2.28it/s, IOU=0.62, VAL_F1_Loss=0.792, Val_Loss=0.0188] \n"
          ]
        },
        {
          "name": "stdout",
          "output_type": "stream",
          "text": [
            "###### Epoch:  440 _ 0.0  ######\n"
          ]
        },
        {
          "name": "stderr",
          "output_type": "stream",
          "text": [
            "100%|██████████| 15/15 [00:08<00:00,  1.76it/s, IOU=0.763, Train_F1_Loss=0.647, Train_Loss=0.0321]\n",
            "100%|██████████| 15/15 [00:06<00:00,  2.28it/s, IOU=0.553, VAL_F1_Loss=0.727, Val_Loss=0.0188]\n"
          ]
        },
        {
          "name": "stdout",
          "output_type": "stream",
          "text": [
            "###### Epoch:  441 _ 0.0  ######\n"
          ]
        },
        {
          "name": "stderr",
          "output_type": "stream",
          "text": [
            "100%|██████████| 15/15 [00:08<00:00,  1.78it/s, IOU=0.706, Train_F1_Loss=0.893, Train_Loss=0.013] \n",
            "100%|██████████| 15/15 [00:06<00:00,  2.30it/s, IOU=0.578, VAL_F1_Loss=0.732, Val_Loss=0.0223]\n"
          ]
        },
        {
          "name": "stdout",
          "output_type": "stream",
          "text": [
            "###### Epoch:  442 _ 0.0  ######\n"
          ]
        },
        {
          "name": "stderr",
          "output_type": "stream",
          "text": [
            "100%|██████████| 15/15 [00:08<00:00,  1.77it/s, IOU=0.601, Train_F1_Loss=0.661, Train_Loss=0.0201]\n",
            "100%|██████████| 15/15 [00:06<00:00,  2.28it/s, IOU=0.546, VAL_F1_Loss=0.668, Val_Loss=0.0343]\n"
          ]
        },
        {
          "name": "stdout",
          "output_type": "stream",
          "text": [
            "###### Epoch:  443 _ 0.0  ######\n"
          ]
        },
        {
          "name": "stderr",
          "output_type": "stream",
          "text": [
            "100%|██████████| 15/15 [00:09<00:00,  1.67it/s, IOU=0.672, Train_F1_Loss=0.719, Train_Loss=0.031] \n",
            "100%|██████████| 15/15 [00:07<00:00,  2.08it/s, IOU=0.584, VAL_F1_Loss=0.77, Val_Loss=0.0215] \n"
          ]
        },
        {
          "name": "stdout",
          "output_type": "stream",
          "text": [
            "###### Epoch:  444 _ 0.0  ######\n"
          ]
        },
        {
          "name": "stderr",
          "output_type": "stream",
          "text": [
            "100%|██████████| 15/15 [00:09<00:00,  1.64it/s, IOU=0.68, Train_F1_Loss=0.776, Train_Loss=0.0144] \n",
            "100%|██████████| 15/15 [00:07<00:00,  2.12it/s, IOU=0.563, VAL_F1_Loss=0.731, Val_Loss=0.0212]\n"
          ]
        },
        {
          "name": "stdout",
          "output_type": "stream",
          "text": [
            "###### Epoch:  445 _ 0.0  ######\n"
          ]
        },
        {
          "name": "stderr",
          "output_type": "stream",
          "text": [
            "100%|██████████| 15/15 [00:09<00:00,  1.66it/s, IOU=0.75, Train_F1_Loss=0.847, Train_Loss=0.0132] \n",
            "100%|██████████| 15/15 [00:07<00:00,  2.12it/s, IOU=0.602, VAL_F1_Loss=0.85, Val_Loss=0.0167] \n"
          ]
        },
        {
          "name": "stdout",
          "output_type": "stream",
          "text": [
            "###### Epoch:  446 _ 0.0  ######\n"
          ]
        },
        {
          "name": "stderr",
          "output_type": "stream",
          "text": [
            "100%|██████████| 15/15 [00:09<00:00,  1.66it/s, IOU=0.583, Train_F1_Loss=0.708, Train_Loss=0.0305]\n",
            "100%|██████████| 15/15 [00:07<00:00,  2.10it/s, IOU=0.548, VAL_F1_Loss=0.768, Val_Loss=0.018] \n"
          ]
        },
        {
          "name": "stdout",
          "output_type": "stream",
          "text": [
            "###### Epoch:  447 _ 0.0  ######\n"
          ]
        },
        {
          "name": "stderr",
          "output_type": "stream",
          "text": [
            "100%|██████████| 15/15 [00:08<00:00,  1.69it/s, IOU=0.654, Train_F1_Loss=0.634, Train_Loss=0.0314]\n",
            "100%|██████████| 15/15 [00:06<00:00,  2.20it/s, IOU=0.618, VAL_F1_Loss=0.787, Val_Loss=0.0168]\n"
          ]
        },
        {
          "name": "stdout",
          "output_type": "stream",
          "text": [
            "###### Epoch:  448 _ 0.0  ######\n"
          ]
        },
        {
          "name": "stderr",
          "output_type": "stream",
          "text": [
            "100%|██████████| 15/15 [00:08<00:00,  1.69it/s, IOU=0.611, Train_F1_Loss=0.674, Train_Loss=0.025] \n",
            "100%|██████████| 15/15 [00:07<00:00,  2.07it/s, IOU=0.535, VAL_F1_Loss=0.639, Val_Loss=0.0247]\n"
          ]
        },
        {
          "name": "stdout",
          "output_type": "stream",
          "text": [
            "###### Epoch:  449 _ 0.0  ######\n"
          ]
        },
        {
          "name": "stderr",
          "output_type": "stream",
          "text": [
            "100%|██████████| 15/15 [00:08<00:00,  1.71it/s, IOU=0.716, Train_F1_Loss=0.71, Train_Loss=0.0186] \n",
            "100%|██████████| 15/15 [00:06<00:00,  2.20it/s, IOU=0.612, VAL_F1_Loss=0.65, Val_Loss=0.0256] \n"
          ]
        },
        {
          "name": "stdout",
          "output_type": "stream",
          "text": [
            "###### Epoch:  450 _ 0.0  ######\n"
          ]
        },
        {
          "name": "stderr",
          "output_type": "stream",
          "text": [
            "100%|██████████| 15/15 [00:08<00:00,  1.71it/s, IOU=0.732, Train_F1_Loss=0.831, Train_Loss=0.0206]\n",
            "100%|██████████| 15/15 [00:06<00:00,  2.17it/s, IOU=0.501, VAL_F1_Loss=0.65, Val_Loss=0.0189] \n"
          ]
        },
        {
          "name": "stdout",
          "output_type": "stream",
          "text": [
            "###### Epoch:  451 _ 0.0  ######\n"
          ]
        },
        {
          "name": "stderr",
          "output_type": "stream",
          "text": [
            "100%|██████████| 15/15 [00:08<00:00,  1.68it/s, IOU=0.697, Train_F1_Loss=0.812, Train_Loss=0.0161]\n",
            "100%|██████████| 15/15 [00:06<00:00,  2.21it/s, IOU=0.61, VAL_F1_Loss=0.786, Val_Loss=0.0201] \n"
          ]
        },
        {
          "name": "stdout",
          "output_type": "stream",
          "text": [
            "###### Epoch:  452 _ 0.0  ######\n"
          ]
        },
        {
          "name": "stderr",
          "output_type": "stream",
          "text": [
            "100%|██████████| 15/15 [00:08<00:00,  1.71it/s, IOU=0.844, Train_F1_Loss=0.916, Train_Loss=0.021] \n",
            "100%|██████████| 15/15 [00:06<00:00,  2.20it/s, IOU=0.652, VAL_F1_Loss=0.621, Val_Loss=0.0249]\n"
          ]
        },
        {
          "name": "stdout",
          "output_type": "stream",
          "text": [
            "###### Epoch:  453 _ 0.0  ######\n"
          ]
        },
        {
          "name": "stderr",
          "output_type": "stream",
          "text": [
            "100%|██████████| 15/15 [00:08<00:00,  1.71it/s, IOU=0.694, Train_F1_Loss=0.745, Train_Loss=0.0266]\n",
            "100%|██████████| 15/15 [00:06<00:00,  2.21it/s, IOU=0.709, VAL_F1_Loss=0.678, Val_Loss=0.0162]\n"
          ]
        },
        {
          "name": "stdout",
          "output_type": "stream",
          "text": [
            "###### Epoch:  454 _ 0.0  ######\n"
          ]
        },
        {
          "name": "stderr",
          "output_type": "stream",
          "text": [
            "100%|██████████| 15/15 [00:08<00:00,  1.75it/s, IOU=0.705, Train_F1_Loss=0.704, Train_Loss=0.0231]\n",
            "100%|██████████| 15/15 [00:06<00:00,  2.25it/s, IOU=0.619, VAL_F1_Loss=0.827, Val_Loss=0.0178]\n"
          ]
        },
        {
          "name": "stdout",
          "output_type": "stream",
          "text": [
            "###### Epoch:  455 _ 0.0  ######\n"
          ]
        },
        {
          "name": "stderr",
          "output_type": "stream",
          "text": [
            "100%|██████████| 15/15 [00:08<00:00,  1.77it/s, IOU=0.592, Train_F1_Loss=0.752, Train_Loss=0.0254]\n",
            "100%|██████████| 15/15 [00:06<00:00,  2.28it/s, IOU=0.583, VAL_F1_Loss=0.721, Val_Loss=0.0198]\n"
          ]
        },
        {
          "name": "stdout",
          "output_type": "stream",
          "text": [
            "###### Epoch:  456 _ 0.0  ######\n"
          ]
        },
        {
          "name": "stderr",
          "output_type": "stream",
          "text": [
            "100%|██████████| 15/15 [00:08<00:00,  1.77it/s, IOU=0.662, Train_F1_Loss=0.68, Train_Loss=0.0203] \n",
            "100%|██████████| 15/15 [00:06<00:00,  2.27it/s, IOU=0.516, VAL_F1_Loss=0.736, Val_Loss=0.0213]\n"
          ]
        },
        {
          "name": "stdout",
          "output_type": "stream",
          "text": [
            "###### Epoch:  457 _ 0.0  ######\n"
          ]
        },
        {
          "name": "stderr",
          "output_type": "stream",
          "text": [
            "100%|██████████| 15/15 [00:08<00:00,  1.78it/s, IOU=0.714, Train_F1_Loss=0.908, Train_Loss=0.0149]\n",
            "100%|██████████| 15/15 [00:06<00:00,  2.28it/s, IOU=0.496, VAL_F1_Loss=0.586, Val_Loss=0.0315]\n"
          ]
        },
        {
          "name": "stdout",
          "output_type": "stream",
          "text": [
            "###### Epoch:  458 _ 0.0  ######\n"
          ]
        },
        {
          "name": "stderr",
          "output_type": "stream",
          "text": [
            "100%|██████████| 15/15 [00:08<00:00,  1.77it/s, IOU=0.69, Train_F1_Loss=0.762, Train_Loss=0.0244] \n",
            "100%|██████████| 15/15 [00:06<00:00,  2.28it/s, IOU=0.594, VAL_F1_Loss=0.65, Val_Loss=0.0274] \n"
          ]
        },
        {
          "name": "stdout",
          "output_type": "stream",
          "text": [
            "###### Epoch:  459 _ 0.0  ######\n"
          ]
        },
        {
          "name": "stderr",
          "output_type": "stream",
          "text": [
            "100%|██████████| 15/15 [00:08<00:00,  1.76it/s, IOU=0.722, Train_F1_Loss=0.818, Train_Loss=0.0194]\n",
            "100%|██████████| 15/15 [00:10<00:00,  1.44it/s, IOU=0.523, VAL_F1_Loss=0.615, Val_Loss=0.0323]\n"
          ]
        },
        {
          "name": "stdout",
          "output_type": "stream",
          "text": [
            "###### Epoch:  460 _ 0.0  ######\n"
          ]
        },
        {
          "name": "stderr",
          "output_type": "stream",
          "text": [
            "100%|██████████| 15/15 [00:08<00:00,  1.77it/s, IOU=0.794, Train_F1_Loss=0.816, Train_Loss=0.0112]\n",
            "100%|██████████| 15/15 [00:06<00:00,  2.26it/s, IOU=0.57, VAL_F1_Loss=0.744, Val_Loss=0.0215] \n"
          ]
        },
        {
          "name": "stdout",
          "output_type": "stream",
          "text": [
            "###### Epoch:  461 _ 0.0  ######\n"
          ]
        },
        {
          "name": "stderr",
          "output_type": "stream",
          "text": [
            "100%|██████████| 15/15 [00:08<00:00,  1.77it/s, IOU=0.599, Train_F1_Loss=0.625, Train_Loss=0.0369]\n",
            "100%|██████████| 15/15 [00:06<00:00,  2.28it/s, IOU=0.669, VAL_F1_Loss=0.74, Val_Loss=0.0162] \n"
          ]
        },
        {
          "name": "stdout",
          "output_type": "stream",
          "text": [
            "###### Epoch:  462 _ 0.0  ######\n"
          ]
        },
        {
          "name": "stderr",
          "output_type": "stream",
          "text": [
            "100%|██████████| 15/15 [00:08<00:00,  1.76it/s, IOU=0.639, Train_F1_Loss=0.784, Train_Loss=0.021] \n",
            "100%|██████████| 15/15 [00:06<00:00,  2.28it/s, IOU=0.657, VAL_F1_Loss=0.832, Val_Loss=0.0116]\n"
          ]
        },
        {
          "name": "stdout",
          "output_type": "stream",
          "text": [
            "###### Epoch:  463 _ 0.0  ######\n"
          ]
        },
        {
          "name": "stderr",
          "output_type": "stream",
          "text": [
            "100%|██████████| 15/15 [00:08<00:00,  1.76it/s, IOU=0.715, Train_F1_Loss=0.816, Train_Loss=0.0165]\n",
            "100%|██████████| 15/15 [00:06<00:00,  2.27it/s, IOU=0.638, VAL_F1_Loss=0.759, Val_Loss=0.0229]\n"
          ]
        },
        {
          "name": "stdout",
          "output_type": "stream",
          "text": [
            "###### Epoch:  464 _ 0.0  ######\n"
          ]
        },
        {
          "name": "stderr",
          "output_type": "stream",
          "text": [
            "100%|██████████| 15/15 [00:08<00:00,  1.76it/s, IOU=0.734, Train_F1_Loss=0.801, Train_Loss=0.0222]\n",
            "100%|██████████| 15/15 [00:06<00:00,  2.25it/s, IOU=0.638, VAL_F1_Loss=0.691, Val_Loss=0.0197]\n"
          ]
        },
        {
          "name": "stdout",
          "output_type": "stream",
          "text": [
            "###### Epoch:  465 _ 0.0  ######\n"
          ]
        },
        {
          "name": "stderr",
          "output_type": "stream",
          "text": [
            "100%|██████████| 15/15 [00:08<00:00,  1.75it/s, IOU=0.624, Train_F1_Loss=0.684, Train_Loss=0.0191]\n",
            "100%|██████████| 15/15 [00:06<00:00,  2.28it/s, IOU=0.671, VAL_F1_Loss=0.771, Val_Loss=0.0164]\n"
          ]
        },
        {
          "name": "stdout",
          "output_type": "stream",
          "text": [
            "###### Epoch:  466 _ 0.0  ######\n"
          ]
        },
        {
          "name": "stderr",
          "output_type": "stream",
          "text": [
            "100%|██████████| 15/15 [00:08<00:00,  1.75it/s, IOU=0.685, Train_F1_Loss=0.821, Train_Loss=0.0191]\n",
            "100%|██████████| 15/15 [00:06<00:00,  2.24it/s, IOU=0.533, VAL_F1_Loss=0.675, Val_Loss=0.0286]\n"
          ]
        },
        {
          "name": "stdout",
          "output_type": "stream",
          "text": [
            "###### Epoch:  467 _ 0.0  ######\n"
          ]
        },
        {
          "name": "stderr",
          "output_type": "stream",
          "text": [
            "100%|██████████| 15/15 [00:08<00:00,  1.76it/s, IOU=0.672, Train_F1_Loss=0.717, Train_Loss=0.0261]\n",
            "100%|██████████| 15/15 [00:06<00:00,  2.26it/s, IOU=0.634, VAL_F1_Loss=0.741, Val_Loss=0.0146]\n"
          ]
        },
        {
          "name": "stdout",
          "output_type": "stream",
          "text": [
            "###### Epoch:  468 _ 0.0  ######\n"
          ]
        },
        {
          "name": "stderr",
          "output_type": "stream",
          "text": [
            "100%|██████████| 15/15 [00:08<00:00,  1.75it/s, IOU=0.723, Train_F1_Loss=0.843, Train_Loss=0.0241]\n",
            "100%|██████████| 15/15 [00:06<00:00,  2.25it/s, IOU=0.602, VAL_F1_Loss=0.695, Val_Loss=0.0237]\n"
          ]
        },
        {
          "name": "stdout",
          "output_type": "stream",
          "text": [
            "###### Epoch:  469 _ 0.0  ######\n"
          ]
        },
        {
          "name": "stderr",
          "output_type": "stream",
          "text": [
            "100%|██████████| 15/15 [00:08<00:00,  1.75it/s, IOU=0.594, Train_F1_Loss=0.658, Train_Loss=0.0322]\n",
            "100%|██████████| 15/15 [00:06<00:00,  2.15it/s, IOU=0.645, VAL_F1_Loss=0.716, Val_Loss=0.0163]\n"
          ]
        },
        {
          "name": "stdout",
          "output_type": "stream",
          "text": [
            "###### Epoch:  470 _ 0.0  ######\n"
          ]
        },
        {
          "name": "stderr",
          "output_type": "stream",
          "text": [
            "100%|██████████| 15/15 [00:11<00:00,  1.31it/s, IOU=0.649, Train_F1_Loss=0.695, Train_Loss=0.0281]\n",
            "100%|██████████| 15/15 [00:07<00:00,  2.02it/s, IOU=0.607, VAL_F1_Loss=0.692, Val_Loss=0.0224]\n"
          ]
        },
        {
          "name": "stdout",
          "output_type": "stream",
          "text": [
            "###### Epoch:  471 _ 0.0  ######\n"
          ]
        },
        {
          "name": "stderr",
          "output_type": "stream",
          "text": [
            "100%|██████████| 15/15 [00:08<00:00,  1.78it/s, IOU=0.558, Train_F1_Loss=0.765, Train_Loss=0.0175]\n",
            "100%|██████████| 15/15 [00:07<00:00,  2.10it/s, IOU=0.585, VAL_F1_Loss=0.685, Val_Loss=0.0208]\n"
          ]
        },
        {
          "name": "stdout",
          "output_type": "stream",
          "text": [
            "###### Epoch:  472 _ 0.0  ######\n"
          ]
        },
        {
          "name": "stderr",
          "output_type": "stream",
          "text": [
            "100%|██████████| 15/15 [00:08<00:00,  1.79it/s, IOU=0.683, Train_F1_Loss=0.762, Train_Loss=0.0199]\n",
            "100%|██████████| 15/15 [00:07<00:00,  2.11it/s, IOU=0.618, VAL_F1_Loss=0.719, Val_Loss=0.0206]\n"
          ]
        },
        {
          "name": "stdout",
          "output_type": "stream",
          "text": [
            "###### Epoch:  473 _ 0.0  ######\n"
          ]
        },
        {
          "name": "stderr",
          "output_type": "stream",
          "text": [
            "100%|██████████| 15/15 [00:08<00:00,  1.79it/s, IOU=0.679, Train_F1_Loss=0.701, Train_Loss=0.026] \n",
            "100%|██████████| 15/15 [00:06<00:00,  2.17it/s, IOU=0.641, VAL_F1_Loss=0.814, Val_Loss=0.0149]\n"
          ]
        },
        {
          "name": "stdout",
          "output_type": "stream",
          "text": [
            "###### Epoch:  474 _ 0.0  ######\n"
          ]
        },
        {
          "name": "stderr",
          "output_type": "stream",
          "text": [
            "100%|██████████| 15/15 [00:08<00:00,  1.69it/s, IOU=0.603, Train_F1_Loss=0.736, Train_Loss=0.0294]\n",
            "100%|██████████| 15/15 [00:07<00:00,  2.07it/s, IOU=0.557, VAL_F1_Loss=0.624, Val_Loss=0.0252]\n"
          ]
        },
        {
          "name": "stdout",
          "output_type": "stream",
          "text": [
            "###### Epoch:  475 _ 0.0  ######\n"
          ]
        },
        {
          "name": "stderr",
          "output_type": "stream",
          "text": [
            "  7%|▋         | 1/15 [00:00<00:10,  1.34it/s, IOU=0.636, Train_F1_Loss=0.714, Train_Loss=0.0225]\n"
          ]
        },
        {
          "ename": "KeyboardInterrupt",
          "evalue": "",
          "output_type": "error",
          "traceback": [
            "\u001b[1;31m---------------------------------------------------------------------------\u001b[0m",
            "\u001b[1;31mKeyboardInterrupt\u001b[0m                         Traceback (most recent call last)",
            "Cell \u001b[1;32mIn[11], line 110\u001b[0m\n\u001b[0;32m    107\u001b[0m acc \u001b[38;5;241m=\u001b[39m \u001b[38;5;241m0\u001b[39m\n\u001b[0;32m    108\u001b[0m segmentation_model\u001b[38;5;241m.\u001b[39mtrain()\n\u001b[1;32m--> 110\u001b[0m \u001b[38;5;28;01mfor\u001b[39;00m i, (images, labels, seg) \u001b[38;5;129;01min\u001b[39;00m \u001b[38;5;28menumerate\u001b[39m(pbar):\n\u001b[0;32m    113\u001b[0m   optimizer\u001b[38;5;241m.\u001b[39mzero_grad()\n\u001b[0;32m    115\u001b[0m   outputs \u001b[38;5;241m=\u001b[39m segmentation_model(images)\u001b[38;5;66;03m#(images, output_seg)#(output_final)\u001b[39;00m\n",
            "File \u001b[1;32m~\\anaconda3\\envs\\DDD\\lib\\site-packages\\tqdm\\std.py:1178\u001b[0m, in \u001b[0;36mtqdm.__iter__\u001b[1;34m(self)\u001b[0m\n\u001b[0;32m   1175\u001b[0m time \u001b[38;5;241m=\u001b[39m \u001b[38;5;28mself\u001b[39m\u001b[38;5;241m.\u001b[39m_time\n\u001b[0;32m   1177\u001b[0m \u001b[38;5;28;01mtry\u001b[39;00m:\n\u001b[1;32m-> 1178\u001b[0m     \u001b[38;5;28;01mfor\u001b[39;00m obj \u001b[38;5;129;01min\u001b[39;00m iterable:\n\u001b[0;32m   1179\u001b[0m         \u001b[38;5;28;01myield\u001b[39;00m obj\n\u001b[0;32m   1180\u001b[0m         \u001b[38;5;66;03m# Update and possibly print the progressbar.\u001b[39;00m\n\u001b[0;32m   1181\u001b[0m         \u001b[38;5;66;03m# Note: does not call self.update(1) for speed optimisation.\u001b[39;00m\n",
            "File \u001b[1;32m~\\anaconda3\\envs\\DDD\\lib\\site-packages\\torch\\utils\\data\\dataloader.py:630\u001b[0m, in \u001b[0;36m_BaseDataLoaderIter.__next__\u001b[1;34m(self)\u001b[0m\n\u001b[0;32m    627\u001b[0m \u001b[38;5;28;01mif\u001b[39;00m \u001b[38;5;28mself\u001b[39m\u001b[38;5;241m.\u001b[39m_sampler_iter \u001b[38;5;129;01mis\u001b[39;00m \u001b[38;5;28;01mNone\u001b[39;00m:\n\u001b[0;32m    628\u001b[0m     \u001b[38;5;66;03m# TODO(https://github.com/pytorch/pytorch/issues/76750)\u001b[39;00m\n\u001b[0;32m    629\u001b[0m     \u001b[38;5;28mself\u001b[39m\u001b[38;5;241m.\u001b[39m_reset()  \u001b[38;5;66;03m# type: ignore[call-arg]\u001b[39;00m\n\u001b[1;32m--> 630\u001b[0m data \u001b[38;5;241m=\u001b[39m \u001b[38;5;28;43mself\u001b[39;49m\u001b[38;5;241;43m.\u001b[39;49m\u001b[43m_next_data\u001b[49m\u001b[43m(\u001b[49m\u001b[43m)\u001b[49m\n\u001b[0;32m    631\u001b[0m \u001b[38;5;28mself\u001b[39m\u001b[38;5;241m.\u001b[39m_num_yielded \u001b[38;5;241m+\u001b[39m\u001b[38;5;241m=\u001b[39m \u001b[38;5;241m1\u001b[39m\n\u001b[0;32m    632\u001b[0m \u001b[38;5;28;01mif\u001b[39;00m \u001b[38;5;28mself\u001b[39m\u001b[38;5;241m.\u001b[39m_dataset_kind \u001b[38;5;241m==\u001b[39m _DatasetKind\u001b[38;5;241m.\u001b[39mIterable \u001b[38;5;129;01mand\u001b[39;00m \\\n\u001b[0;32m    633\u001b[0m         \u001b[38;5;28mself\u001b[39m\u001b[38;5;241m.\u001b[39m_IterableDataset_len_called \u001b[38;5;129;01mis\u001b[39;00m \u001b[38;5;129;01mnot\u001b[39;00m \u001b[38;5;28;01mNone\u001b[39;00m \u001b[38;5;129;01mand\u001b[39;00m \\\n\u001b[0;32m    634\u001b[0m         \u001b[38;5;28mself\u001b[39m\u001b[38;5;241m.\u001b[39m_num_yielded \u001b[38;5;241m>\u001b[39m \u001b[38;5;28mself\u001b[39m\u001b[38;5;241m.\u001b[39m_IterableDataset_len_called:\n",
            "File \u001b[1;32m~\\anaconda3\\envs\\DDD\\lib\\site-packages\\torch\\utils\\data\\dataloader.py:674\u001b[0m, in \u001b[0;36m_SingleProcessDataLoaderIter._next_data\u001b[1;34m(self)\u001b[0m\n\u001b[0;32m    672\u001b[0m \u001b[38;5;28;01mdef\u001b[39;00m \u001b[38;5;21m_next_data\u001b[39m(\u001b[38;5;28mself\u001b[39m):\n\u001b[0;32m    673\u001b[0m     index \u001b[38;5;241m=\u001b[39m \u001b[38;5;28mself\u001b[39m\u001b[38;5;241m.\u001b[39m_next_index()  \u001b[38;5;66;03m# may raise StopIteration\u001b[39;00m\n\u001b[1;32m--> 674\u001b[0m     data \u001b[38;5;241m=\u001b[39m \u001b[38;5;28;43mself\u001b[39;49m\u001b[38;5;241;43m.\u001b[39;49m\u001b[43m_dataset_fetcher\u001b[49m\u001b[38;5;241;43m.\u001b[39;49m\u001b[43mfetch\u001b[49m\u001b[43m(\u001b[49m\u001b[43mindex\u001b[49m\u001b[43m)\u001b[49m  \u001b[38;5;66;03m# may raise StopIteration\u001b[39;00m\n\u001b[0;32m    675\u001b[0m     \u001b[38;5;28;01mif\u001b[39;00m \u001b[38;5;28mself\u001b[39m\u001b[38;5;241m.\u001b[39m_pin_memory:\n\u001b[0;32m    676\u001b[0m         data \u001b[38;5;241m=\u001b[39m _utils\u001b[38;5;241m.\u001b[39mpin_memory\u001b[38;5;241m.\u001b[39mpin_memory(data, \u001b[38;5;28mself\u001b[39m\u001b[38;5;241m.\u001b[39m_pin_memory_device)\n",
            "File \u001b[1;32m~\\anaconda3\\envs\\DDD\\lib\\site-packages\\torch\\utils\\data\\_utils\\fetch.py:51\u001b[0m, in \u001b[0;36m_MapDatasetFetcher.fetch\u001b[1;34m(self, possibly_batched_index)\u001b[0m\n\u001b[0;32m     49\u001b[0m         data \u001b[38;5;241m=\u001b[39m \u001b[38;5;28mself\u001b[39m\u001b[38;5;241m.\u001b[39mdataset\u001b[38;5;241m.\u001b[39m__getitems__(possibly_batched_index)\n\u001b[0;32m     50\u001b[0m     \u001b[38;5;28;01melse\u001b[39;00m:\n\u001b[1;32m---> 51\u001b[0m         data \u001b[38;5;241m=\u001b[39m [\u001b[38;5;28mself\u001b[39m\u001b[38;5;241m.\u001b[39mdataset[idx] \u001b[38;5;28;01mfor\u001b[39;00m idx \u001b[38;5;129;01min\u001b[39;00m possibly_batched_index]\n\u001b[0;32m     52\u001b[0m \u001b[38;5;28;01melse\u001b[39;00m:\n\u001b[0;32m     53\u001b[0m     data \u001b[38;5;241m=\u001b[39m \u001b[38;5;28mself\u001b[39m\u001b[38;5;241m.\u001b[39mdataset[possibly_batched_index]\n",
            "File \u001b[1;32m~\\anaconda3\\envs\\DDD\\lib\\site-packages\\torch\\utils\\data\\_utils\\fetch.py:51\u001b[0m, in \u001b[0;36m<listcomp>\u001b[1;34m(.0)\u001b[0m\n\u001b[0;32m     49\u001b[0m         data \u001b[38;5;241m=\u001b[39m \u001b[38;5;28mself\u001b[39m\u001b[38;5;241m.\u001b[39mdataset\u001b[38;5;241m.\u001b[39m__getitems__(possibly_batched_index)\n\u001b[0;32m     50\u001b[0m     \u001b[38;5;28;01melse\u001b[39;00m:\n\u001b[1;32m---> 51\u001b[0m         data \u001b[38;5;241m=\u001b[39m [\u001b[38;5;28;43mself\u001b[39;49m\u001b[38;5;241;43m.\u001b[39;49m\u001b[43mdataset\u001b[49m\u001b[43m[\u001b[49m\u001b[43midx\u001b[49m\u001b[43m]\u001b[49m \u001b[38;5;28;01mfor\u001b[39;00m idx \u001b[38;5;129;01min\u001b[39;00m possibly_batched_index]\n\u001b[0;32m     52\u001b[0m \u001b[38;5;28;01melse\u001b[39;00m:\n\u001b[0;32m     53\u001b[0m     data \u001b[38;5;241m=\u001b[39m \u001b[38;5;28mself\u001b[39m\u001b[38;5;241m.\u001b[39mdataset[possibly_batched_index]\n",
            "Cell \u001b[1;32mIn[5], line 40\u001b[0m, in \u001b[0;36mForestDataset.__getitem__\u001b[1;34m(self, idx)\u001b[0m\n\u001b[0;32m     38\u001b[0m \u001b[38;5;66;03m## Load the image and auxiliary\u001b[39;00m\n\u001b[0;32m     39\u001b[0m image \u001b[38;5;241m=\u001b[39m Image\u001b[38;5;241m.\u001b[39mopen(\u001b[38;5;124mf\u001b[39m\u001b[38;5;124m'\u001b[39m\u001b[38;5;132;01m{\u001b[39;00m\u001b[38;5;28mself\u001b[39m\u001b[38;5;241m.\u001b[39mroot_dir\u001b[38;5;132;01m}\u001b[39;00m\u001b[38;5;124m/\u001b[39m\u001b[38;5;132;01m{\u001b[39;00mfolder\u001b[38;5;132;01m}\u001b[39;00m\u001b[38;5;124m/images/visible/composite.png\u001b[39m\u001b[38;5;124m'\u001b[39m)\u001b[38;5;66;03m#io.imread(f'{self.root_dir}/{folder}/images/visible/composite.png')\u001b[39;00m\n\u001b[1;32m---> 40\u001b[0m image \u001b[38;5;241m=\u001b[39m \u001b[38;5;28;43mself\u001b[39;49m\u001b[38;5;241;43m.\u001b[39;49m\u001b[43mtransform\u001b[49m\u001b[43m(\u001b[49m\u001b[43mimage\u001b[49m\u001b[43m)\u001b[49m\n\u001b[0;32m     41\u001b[0m \u001b[38;5;66;03m#slope = np.load(f'{self.root_dir}/{folder}/auxiliary/slope.npy')\u001b[39;00m\n\u001b[0;32m     42\u001b[0m \n\u001b[0;32m     43\u001b[0m \u001b[38;5;66;03m## Get the segmentation map\u001b[39;00m\n\u001b[0;32m     44\u001b[0m \u001b[38;5;28;01mwith\u001b[39;00m \u001b[38;5;28mopen\u001b[39m(\u001b[38;5;124mf\u001b[39m\u001b[38;5;124m'\u001b[39m\u001b[38;5;132;01m{\u001b[39;00m\u001b[38;5;28mself\u001b[39m\u001b[38;5;241m.\u001b[39mroot_dir\u001b[38;5;132;01m}\u001b[39;00m\u001b[38;5;124m/\u001b[39m\u001b[38;5;132;01m{\u001b[39;00mfolder\u001b[38;5;132;01m}\u001b[39;00m\u001b[38;5;124m/forest_loss_region.pkl\u001b[39m\u001b[38;5;124m'\u001b[39m, \u001b[38;5;124m'\u001b[39m\u001b[38;5;124mrb\u001b[39m\u001b[38;5;124m'\u001b[39m) \u001b[38;5;28;01mas\u001b[39;00m f:\n",
            "File \u001b[1;32m~\\anaconda3\\envs\\DDD\\lib\\site-packages\\torchvision\\transforms\\transforms.py:95\u001b[0m, in \u001b[0;36mCompose.__call__\u001b[1;34m(self, img)\u001b[0m\n\u001b[0;32m     93\u001b[0m \u001b[38;5;28;01mdef\u001b[39;00m \u001b[38;5;21m__call__\u001b[39m(\u001b[38;5;28mself\u001b[39m, img):\n\u001b[0;32m     94\u001b[0m     \u001b[38;5;28;01mfor\u001b[39;00m t \u001b[38;5;129;01min\u001b[39;00m \u001b[38;5;28mself\u001b[39m\u001b[38;5;241m.\u001b[39mtransforms:\n\u001b[1;32m---> 95\u001b[0m         img \u001b[38;5;241m=\u001b[39m \u001b[43mt\u001b[49m\u001b[43m(\u001b[49m\u001b[43mimg\u001b[49m\u001b[43m)\u001b[49m\n\u001b[0;32m     96\u001b[0m     \u001b[38;5;28;01mreturn\u001b[39;00m img\n",
            "File \u001b[1;32m~\\anaconda3\\envs\\DDD\\lib\\site-packages\\torch\\nn\\modules\\module.py:1518\u001b[0m, in \u001b[0;36mModule._wrapped_call_impl\u001b[1;34m(self, *args, **kwargs)\u001b[0m\n\u001b[0;32m   1516\u001b[0m     \u001b[38;5;28;01mreturn\u001b[39;00m \u001b[38;5;28mself\u001b[39m\u001b[38;5;241m.\u001b[39m_compiled_call_impl(\u001b[38;5;241m*\u001b[39margs, \u001b[38;5;241m*\u001b[39m\u001b[38;5;241m*\u001b[39mkwargs)  \u001b[38;5;66;03m# type: ignore[misc]\u001b[39;00m\n\u001b[0;32m   1517\u001b[0m \u001b[38;5;28;01melse\u001b[39;00m:\n\u001b[1;32m-> 1518\u001b[0m     \u001b[38;5;28;01mreturn\u001b[39;00m \u001b[38;5;28mself\u001b[39m\u001b[38;5;241m.\u001b[39m_call_impl(\u001b[38;5;241m*\u001b[39margs, \u001b[38;5;241m*\u001b[39m\u001b[38;5;241m*\u001b[39mkwargs)\n",
            "File \u001b[1;32m~\\anaconda3\\envs\\DDD\\lib\\site-packages\\torch\\nn\\modules\\module.py:1527\u001b[0m, in \u001b[0;36mModule._call_impl\u001b[1;34m(self, *args, **kwargs)\u001b[0m\n\u001b[0;32m   1522\u001b[0m \u001b[38;5;66;03m# If we don't have any hooks, we want to skip the rest of the logic in\u001b[39;00m\n\u001b[0;32m   1523\u001b[0m \u001b[38;5;66;03m# this function, and just call forward.\u001b[39;00m\n\u001b[0;32m   1524\u001b[0m \u001b[38;5;28;01mif\u001b[39;00m \u001b[38;5;129;01mnot\u001b[39;00m (\u001b[38;5;28mself\u001b[39m\u001b[38;5;241m.\u001b[39m_backward_hooks \u001b[38;5;129;01mor\u001b[39;00m \u001b[38;5;28mself\u001b[39m\u001b[38;5;241m.\u001b[39m_backward_pre_hooks \u001b[38;5;129;01mor\u001b[39;00m \u001b[38;5;28mself\u001b[39m\u001b[38;5;241m.\u001b[39m_forward_hooks \u001b[38;5;129;01mor\u001b[39;00m \u001b[38;5;28mself\u001b[39m\u001b[38;5;241m.\u001b[39m_forward_pre_hooks\n\u001b[0;32m   1525\u001b[0m         \u001b[38;5;129;01mor\u001b[39;00m _global_backward_pre_hooks \u001b[38;5;129;01mor\u001b[39;00m _global_backward_hooks\n\u001b[0;32m   1526\u001b[0m         \u001b[38;5;129;01mor\u001b[39;00m _global_forward_hooks \u001b[38;5;129;01mor\u001b[39;00m _global_forward_pre_hooks):\n\u001b[1;32m-> 1527\u001b[0m     \u001b[38;5;28;01mreturn\u001b[39;00m forward_call(\u001b[38;5;241m*\u001b[39margs, \u001b[38;5;241m*\u001b[39m\u001b[38;5;241m*\u001b[39mkwargs)\n\u001b[0;32m   1529\u001b[0m \u001b[38;5;28;01mtry\u001b[39;00m:\n\u001b[0;32m   1530\u001b[0m     result \u001b[38;5;241m=\u001b[39m \u001b[38;5;28;01mNone\u001b[39;00m\n",
            "File \u001b[1;32m~\\anaconda3\\envs\\DDD\\lib\\site-packages\\torchvision\\transforms\\transforms.py:361\u001b[0m, in \u001b[0;36mResize.forward\u001b[1;34m(self, img)\u001b[0m\n\u001b[0;32m    353\u001b[0m \u001b[38;5;28;01mdef\u001b[39;00m \u001b[38;5;21mforward\u001b[39m(\u001b[38;5;28mself\u001b[39m, img):\n\u001b[0;32m    354\u001b[0m \u001b[38;5;250m    \u001b[39m\u001b[38;5;124;03m\"\"\"\u001b[39;00m\n\u001b[0;32m    355\u001b[0m \u001b[38;5;124;03m    Args:\u001b[39;00m\n\u001b[0;32m    356\u001b[0m \u001b[38;5;124;03m        img (PIL Image or Tensor): Image to be scaled.\u001b[39;00m\n\u001b[1;32m   (...)\u001b[0m\n\u001b[0;32m    359\u001b[0m \u001b[38;5;124;03m        PIL Image or Tensor: Rescaled image.\u001b[39;00m\n\u001b[0;32m    360\u001b[0m \u001b[38;5;124;03m    \"\"\"\u001b[39;00m\n\u001b[1;32m--> 361\u001b[0m     \u001b[38;5;28;01mreturn\u001b[39;00m \u001b[43mF\u001b[49m\u001b[38;5;241;43m.\u001b[39;49m\u001b[43mresize\u001b[49m\u001b[43m(\u001b[49m\u001b[43mimg\u001b[49m\u001b[43m,\u001b[49m\u001b[43m \u001b[49m\u001b[38;5;28;43mself\u001b[39;49m\u001b[38;5;241;43m.\u001b[39;49m\u001b[43msize\u001b[49m\u001b[43m,\u001b[49m\u001b[43m \u001b[49m\u001b[38;5;28;43mself\u001b[39;49m\u001b[38;5;241;43m.\u001b[39;49m\u001b[43minterpolation\u001b[49m\u001b[43m,\u001b[49m\u001b[43m \u001b[49m\u001b[38;5;28;43mself\u001b[39;49m\u001b[38;5;241;43m.\u001b[39;49m\u001b[43mmax_size\u001b[49m\u001b[43m,\u001b[49m\u001b[43m \u001b[49m\u001b[38;5;28;43mself\u001b[39;49m\u001b[38;5;241;43m.\u001b[39;49m\u001b[43mantialias\u001b[49m\u001b[43m)\u001b[49m\n",
            "File \u001b[1;32m~\\anaconda3\\envs\\DDD\\lib\\site-packages\\torchvision\\transforms\\functional.py:490\u001b[0m, in \u001b[0;36mresize\u001b[1;34m(img, size, interpolation, max_size, antialias)\u001b[0m\n\u001b[0;32m    488\u001b[0m         warnings\u001b[38;5;241m.\u001b[39mwarn(\u001b[38;5;124m\"\u001b[39m\u001b[38;5;124mAnti-alias option is always applied for PIL Image input. Argument antialias is ignored.\u001b[39m\u001b[38;5;124m\"\u001b[39m)\n\u001b[0;32m    489\u001b[0m     pil_interpolation \u001b[38;5;241m=\u001b[39m pil_modes_mapping[interpolation]\n\u001b[1;32m--> 490\u001b[0m     \u001b[38;5;28;01mreturn\u001b[39;00m \u001b[43mF_pil\u001b[49m\u001b[38;5;241;43m.\u001b[39;49m\u001b[43mresize\u001b[49m\u001b[43m(\u001b[49m\u001b[43mimg\u001b[49m\u001b[43m,\u001b[49m\u001b[43m \u001b[49m\u001b[43msize\u001b[49m\u001b[38;5;241;43m=\u001b[39;49m\u001b[43moutput_size\u001b[49m\u001b[43m,\u001b[49m\u001b[43m \u001b[49m\u001b[43minterpolation\u001b[49m\u001b[38;5;241;43m=\u001b[39;49m\u001b[43mpil_interpolation\u001b[49m\u001b[43m)\u001b[49m\n\u001b[0;32m    492\u001b[0m \u001b[38;5;28;01mreturn\u001b[39;00m F_t\u001b[38;5;241m.\u001b[39mresize(img, size\u001b[38;5;241m=\u001b[39moutput_size, interpolation\u001b[38;5;241m=\u001b[39minterpolation\u001b[38;5;241m.\u001b[39mvalue, antialias\u001b[38;5;241m=\u001b[39mantialias)\n",
            "File \u001b[1;32m~\\anaconda3\\envs\\DDD\\lib\\site-packages\\torchvision\\transforms\\_functional_pil.py:250\u001b[0m, in \u001b[0;36mresize\u001b[1;34m(img, size, interpolation)\u001b[0m\n\u001b[0;32m    247\u001b[0m \u001b[38;5;28;01mif\u001b[39;00m \u001b[38;5;129;01mnot\u001b[39;00m (\u001b[38;5;28misinstance\u001b[39m(size, \u001b[38;5;28mlist\u001b[39m) \u001b[38;5;129;01mand\u001b[39;00m \u001b[38;5;28mlen\u001b[39m(size) \u001b[38;5;241m==\u001b[39m \u001b[38;5;241m2\u001b[39m):\n\u001b[0;32m    248\u001b[0m     \u001b[38;5;28;01mraise\u001b[39;00m \u001b[38;5;167;01mTypeError\u001b[39;00m(\u001b[38;5;124mf\u001b[39m\u001b[38;5;124m\"\u001b[39m\u001b[38;5;124mGot inappropriate size arg: \u001b[39m\u001b[38;5;132;01m{\u001b[39;00msize\u001b[38;5;132;01m}\u001b[39;00m\u001b[38;5;124m\"\u001b[39m)\n\u001b[1;32m--> 250\u001b[0m \u001b[38;5;28;01mreturn\u001b[39;00m \u001b[43mimg\u001b[49m\u001b[38;5;241;43m.\u001b[39;49m\u001b[43mresize\u001b[49m\u001b[43m(\u001b[49m\u001b[38;5;28;43mtuple\u001b[39;49m\u001b[43m(\u001b[49m\u001b[43msize\u001b[49m\u001b[43m[\u001b[49m\u001b[43m:\u001b[49m\u001b[43m:\u001b[49m\u001b[38;5;241;43m-\u001b[39;49m\u001b[38;5;241;43m1\u001b[39;49m\u001b[43m]\u001b[49m\u001b[43m)\u001b[49m\u001b[43m,\u001b[49m\u001b[43m \u001b[49m\u001b[43minterpolation\u001b[49m\u001b[43m)\u001b[49m\n",
            "File \u001b[1;32m~\\anaconda3\\envs\\DDD\\lib\\site-packages\\PIL\\Image.py:2157\u001b[0m, in \u001b[0;36mImage.resize\u001b[1;34m(self, size, resample, box, reducing_gap)\u001b[0m\n\u001b[0;32m   2153\u001b[0m     \u001b[38;5;28;01mraise\u001b[39;00m \u001b[38;5;167;01mValueError\u001b[39;00m(msg)\n\u001b[0;32m   2155\u001b[0m size \u001b[38;5;241m=\u001b[39m \u001b[38;5;28mtuple\u001b[39m(size)\n\u001b[1;32m-> 2157\u001b[0m \u001b[38;5;28;43mself\u001b[39;49m\u001b[38;5;241;43m.\u001b[39;49m\u001b[43mload\u001b[49m\u001b[43m(\u001b[49m\u001b[43m)\u001b[49m\n\u001b[0;32m   2158\u001b[0m \u001b[38;5;28;01mif\u001b[39;00m box \u001b[38;5;129;01mis\u001b[39;00m \u001b[38;5;28;01mNone\u001b[39;00m:\n\u001b[0;32m   2159\u001b[0m     box \u001b[38;5;241m=\u001b[39m (\u001b[38;5;241m0\u001b[39m, \u001b[38;5;241m0\u001b[39m) \u001b[38;5;241m+\u001b[39m \u001b[38;5;28mself\u001b[39m\u001b[38;5;241m.\u001b[39msize\n",
            "File \u001b[1;32m~\\anaconda3\\envs\\DDD\\lib\\site-packages\\PIL\\ImageFile.py:269\u001b[0m, in \u001b[0;36mImageFile.load\u001b[1;34m(self)\u001b[0m\n\u001b[0;32m    266\u001b[0m         \u001b[38;5;28;01mraise\u001b[39;00m \u001b[38;5;167;01mOSError\u001b[39;00m(msg)\n\u001b[0;32m    268\u001b[0m b \u001b[38;5;241m=\u001b[39m b \u001b[38;5;241m+\u001b[39m s\n\u001b[1;32m--> 269\u001b[0m n, err_code \u001b[38;5;241m=\u001b[39m \u001b[43mdecoder\u001b[49m\u001b[38;5;241;43m.\u001b[39;49m\u001b[43mdecode\u001b[49m\u001b[43m(\u001b[49m\u001b[43mb\u001b[49m\u001b[43m)\u001b[49m\n\u001b[0;32m    270\u001b[0m \u001b[38;5;28;01mif\u001b[39;00m n \u001b[38;5;241m<\u001b[39m \u001b[38;5;241m0\u001b[39m:\n\u001b[0;32m    271\u001b[0m     \u001b[38;5;28;01mbreak\u001b[39;00m\n",
            "\u001b[1;31mKeyboardInterrupt\u001b[0m: "
          ]
        }
      ],
      "source": [
        "# For Segmentation\n",
        "\n",
        "from sklearn.metrics import f1_score\n",
        "\n",
        "import timm\n",
        "import torch\n",
        "import torch.nn as nn\n",
        "\n",
        "# 定义分割模型\n",
        "class SegmentationModel(nn.Module):\n",
        "    def __init__(self, model_name, num_classes):\n",
        "        super(SegmentationModel, self).__init__()\n",
        "        # 创建timm模型\n",
        "        model = timm.create_model(model_name, pretrained=True)\n",
        "\n",
        "        # 去除最后的全局平均池化层和全连接层\n",
        "        self.backbone = nn.Sequential(*list(model.children())[:-2])\n",
        "\n",
        "        # 获取num_features\n",
        "        num_features = model.layer4[2].conv3.out_channels\n",
        "\n",
        "        self.segmentation_head = nn.Sequential(\n",
        "            nn.ConvTranspose2d(num_features, 512, kernel_size=7, padding=3, output_padding=0, stride=4),\n",
        "            nn.ReLU(inplace=True),\n",
        "            nn.ConvTranspose2d(512, 256, kernel_size=8, padding=1, output_padding=0, stride=2),\n",
        "            nn.ReLU(inplace=True),\n",
        "            nn.ConvTranspose2d(256, 128, kernel_size=8, padding=1, output_padding=0, stride=2),\n",
        "            nn.ReLU(inplace=True),\n",
        "            nn.ConvTranspose2d(128, num_classes, kernel_size=8, padding=3, output_padding=0, stride=2)\n",
        "        )\n",
        "\n",
        "    def forward(self, x):\n",
        "        x = self.backbone(x)\n",
        "        x = self.segmentation_head(x)\n",
        "        return x\n",
        "\n",
        "# 指定模型名称和类别数\n",
        "model_name = 'resnet50'  # 选择适合你任务的模型，可以根据需要更改\n",
        "num_classes = 2  # 类别数为2\n",
        "\n",
        "# 创建分割模型\n",
        "segmentation_model = SegmentationModel(model_name, num_classes).to(device)\n",
        "\n",
        "os.environ['CUDA_LAUNCH_BLOCKING'] = '1'\n",
        "\n",
        "#configuration = Mask2FormerConfig()\n",
        "# load Mask2Former fine-tuned on COCO panoptic segmentation\n",
        "#processor = AutoImageProcessor.from_pretrained(\"facebook/mask2former-swin-base-coco-panoptic\")\n",
        "#Feature_Extraction_Model = Mask2FormerForUniversalSegmentation(configuration).from_pretrained(\"facebook/mask2former-swin-base-coco-panoptic\").to(device)\n",
        "#Feature_Extraction_Model.eval()\n",
        "\n",
        "BATCH_SIZE = 32\n",
        "DEVICE = device = torch.device('cuda' if torch.cuda.is_available() else 'cpu')\n",
        "\n",
        "train_dataset = ForestDataset(csv_file_to_df=train_df, transform=transform)\n",
        "val_dataset = ForestDataset(csv_file_to_df=val_df, transform=transform)\n",
        "test_dataset = ForestDataset(csv_file_to_df=test_df, transform=transform)\n",
        "trainloader = torch.utils.data.DataLoader(train_dataset, batch_size=BATCH_SIZE,shuffle=True)\n",
        "valloader = torch.utils.data.DataLoader(val_dataset, batch_size=BATCH_SIZE,shuffle=True)\n",
        "testloader = torch.utils.data.DataLoader(test_dataset, batch_size=BATCH_SIZE,shuffle=False)\n",
        "dataloaders = {'train': trainloader, 'val':valloader}\n",
        "\n",
        "\n",
        "\n",
        "number_of_epochs = 10000\n",
        "\n",
        "best_val_loss = float('inf')\n",
        "\n",
        "runs = \"Unet_Version\"\n",
        "\n",
        "#ckpt_path = os.path.join(\"Model_Ckpts\",runs+f\"ckpt_2.pt\")\n",
        "\n",
        "ckpt_for_tr = r\"C:\\Users\\haoti\\PycharmProjects\\EECS_6998_E11\\Model_Ckpts\\Unet_Versionckpt_test_for_seg_new_2_tr.pth\" #os.path.join(\"Model_Ckpts\",runs+f\"ckpt_3_less_lr_model_optimizer_scheduler_checkpoint_tr.pth\")\n",
        "\n",
        "checkpoint = torch.load(ckpt_for_tr)\n",
        "\n",
        "#cls_model.load_state_dict(checkpoint['model_state_dict'])\n",
        "\n",
        "#cls_model.train()\n",
        "\n",
        "#model_vit.load_state_dict(checkpoint['model_state_dict'])\n",
        "\n",
        "segmentation_model.load_state_dict(checkpoint['model_state_dict'])\n",
        "\n",
        "\n",
        "optimizer = torch.optim.Adam(segmentation_model.parameters(), lr=1e-3)#, weight_decay=1e-5)\n",
        "\n",
        "criterion = nn.MSELoss() #nn.CrossEntropyLoss()#BCEDiceLoss(eps=1e-7, activation=None)#nn.CrossEntropyLoss()\n",
        "\n",
        "optimizer.load_state_dict(checkpoint['optimizer_state_dict'])\n",
        "\n",
        "scheduler = torch.optim.lr_scheduler.MultiStepLR(optimizer, milestones=[100,200,300,500], gamma=0.1)\n",
        "\n",
        "scheduler.load_state_dict(checkpoint['scheduler_state_dict'])\n",
        "\n",
        "#scheduler = torch.optim.lr_scheduler.CosineAnnealingLR(optimizer, 51, eta_min=0, last_epoch=-1, verbose=False)\n",
        "\n",
        "\n",
        "#model.eval()\n",
        "\n",
        "#model.load_state_dict(torch.load(ckpt_path))\n",
        "\n",
        "for epoch in range(number_of_epochs):\n",
        "\n",
        "    pbar = tqdm(valloader)\n",
        "    train_loss = 0\n",
        "    acc = 0\n",
        "    segmentation_model.train()\n",
        "\n",
        "    for i, (images, labels, seg) in enumerate(pbar):\n",
        "\n",
        "\n",
        "      optimizer.zero_grad()\n",
        "\n",
        "      outputs = segmentation_model(images)#(images, output_seg)#(output_final)\n",
        "\n",
        "      loss = criterion(seg, outputs)\n",
        "\n",
        "      outputs = torch.nn.functional.softmax(outputs, dim = 1)\n",
        "\n",
        "\n",
        "      tp = f1_loss(seg, outputs) #iou_pytorch(seg, output_final)\n",
        "\n",
        "      iou = iou_pytorch(seg, outputs)\n",
        "\n",
        "      #loss = loss+tp\n",
        "\n",
        "\n",
        "      pbar.set_postfix(Train_Loss=loss.item(), Train_F1_Loss = tp.item(), IOU =iou.item())#, Train_Accuracy = accuracy, Train_F1_Score = f1)#, Train_F1_Loss = tp.item(), IOU =iou.item())\n",
        "\n",
        "      train_loss += loss\n",
        "\n",
        "\n",
        "\n",
        "      loss.backward()\n",
        "\n",
        "      optimizer.step()\n",
        "      '''\n",
        "      if train_loss < best_val_loss:\n",
        "\n",
        "                best_val_loss = train_loss\n",
        "\n",
        "\n",
        "                checkpoint = {\n",
        "                                'model_state_dict': model.state_dict(),\n",
        "                                'optimizer_state_dict': optimizer.state_dict(),\n",
        "                                'scheduler_state_dict': scheduler.state_dict()\n",
        "                                                                                }\n",
        "\n",
        "\n",
        "                torch.save(checkpoint, os.path.join(\"Model_Ckpts\",runs+f\"ckpt_3_less_lr_model_optimizer_scheduler_checkpoint_tr.pth\"))\n",
        "                #torch.save(model.state_dict(), os.path.join(\"Model_Ckpts\",runs+f\"ckpt_3_less_lr.pt\"))\n",
        "      '''\n",
        "\n",
        "    with torch.no_grad():\n",
        "\n",
        "        pbar = tqdm(valloader)\n",
        "        val_loss = 0\n",
        "        val_acc_mean = 0\n",
        "\n",
        "        #cls_model.eval()\n",
        "\n",
        "        segmentation_model.eval()\n",
        "\n",
        "        for i, (images, labels, seg) in enumerate(pbar):\n",
        "\n",
        "\n",
        "            outputs = segmentation_model(images)#(images, output_seg)#(output_final)\n",
        "\n",
        "            loss = criterion(seg, outputs)\n",
        "\n",
        "            outputs = torch.nn.functional.softmax(outputs, dim = 1)\n",
        "\n",
        "            tp = f1_loss(seg, outputs)#iou_pytorch(seg, output_final)\n",
        "\n",
        "            iou = iou_pytorch(seg, outputs)\n",
        "\n",
        "            #loss = loss+tp\n",
        "\n",
        "            pbar.set_postfix(Val_Loss=loss.item(), VAL_F1_Loss = tp.item(), IOU = iou.item())#, Val_Accuracy = accuracy, Val_F1_Score = f1) #, VAL_F1_Loss = tp.item(), IOU = iou.item())\n",
        "\n",
        "            val_loss += loss\n",
        "\n",
        "\n",
        "\n",
        "            if val_loss < best_val_loss:\n",
        "\n",
        "                best_val_loss = val_loss\n",
        "\n",
        "\n",
        "                checkpoint_vit = {\n",
        "                                'model_state_dict': segmentation_model.state_dict(),\n",
        "                                'optimizer_state_dict': optimizer.state_dict(),\n",
        "                                'scheduler_state_dict': scheduler.state_dict()\n",
        "                                                                                }\n",
        "\n",
        "\n",
        "                torch.save(checkpoint_vit, os.path.join(\"Model_Ckpts\",runs+f\"ckpt_test_for_seg_new_2_tr.pth\"))\n",
        "                #torch.save(model.state_dict(), os.path.join(\"Model_Ckpts\",runs+f\"ckpt_3_less_lr.pt\"))\n",
        "\n",
        "\n",
        "\n",
        "        print(\"###### Epoch: \", epoch,\"_\",val_acc_mean/15,\" ######\")\n",
        "        #plt.imshow(torch.argmax(output_final, dim = 1)[0].detach().cpu().numpy())\n",
        "\n",
        "    scheduler.step()\n",
        "\n",
        "\n"
      ],
      "metadata": {
        "ExecuteTime": {
          "end_time": "2023-12-14T20:33:29.640367500Z",
          "start_time": "2023-12-14T18:33:42.727601900Z"
        },
        "id": "iPZGFm04Pd-r",
        "outputId": "f722aae3-9dc8-4605-c516-fb646e9d18b8"
      }
    },
    {
      "cell_type": "code",
      "execution_count": null,
      "outputs": [
        {
          "name": "stderr",
          "output_type": "stream",
          "text": [
            "100%|██████████| 15/15 [00:16<00:00,  1.10s/it, IOU=0.641, VAL_F1_Loss=0.777, Val_Loss=0.0204]\n"
          ]
        }
      ],
      "source": [
        "# For Segmentation\n",
        "\n",
        "from sklearn.metrics import f1_score\n",
        "\n",
        "import timm\n",
        "import torch\n",
        "import torch.nn as nn\n",
        "\n",
        "# 定义分割模型\n",
        "class SegmentationModel(nn.Module):\n",
        "    def __init__(self, model_name, num_classes):\n",
        "        super(SegmentationModel, self).__init__()\n",
        "        # 创建timm模型\n",
        "        model = timm.create_model(model_name, pretrained=True)\n",
        "\n",
        "        # 去除最后的全局平均池化层和全连接层\n",
        "        self.backbone = nn.Sequential(*list(model.children())[:-2])\n",
        "\n",
        "        # 获取num_features\n",
        "        num_features = model.layer4[2].conv3.out_channels\n",
        "\n",
        "        self.segmentation_head = nn.Sequential(\n",
        "            nn.ConvTranspose2d(num_features, 512, kernel_size=7, padding=3, output_padding=0, stride=4),\n",
        "            nn.ReLU(inplace=True),\n",
        "            nn.ConvTranspose2d(512, 256, kernel_size=8, padding=1, output_padding=0, stride=2),\n",
        "            nn.ReLU(inplace=True),\n",
        "            nn.ConvTranspose2d(256, 128, kernel_size=8, padding=1, output_padding=0, stride=2),\n",
        "            nn.ReLU(inplace=True),\n",
        "            nn.ConvTranspose2d(128, num_classes, kernel_size=8, padding=3, output_padding=0, stride=2)\n",
        "        )\n",
        "\n",
        "    def forward(self, x):\n",
        "        x = self.backbone(x)\n",
        "        x = self.segmentation_head(x)\n",
        "        return x\n",
        "\n",
        "# 指定模型名称和类别数\n",
        "model_name = 'resnet50'  # 选择适合你任务的模型，可以根据需要更改\n",
        "num_classes = 2  # 类别数为2\n",
        "\n",
        "# 创建分割模型\n",
        "segmentation_model = SegmentationModel(model_name, num_classes).to(device)\n",
        "\n",
        "os.environ['CUDA_LAUNCH_BLOCKING'] = '1'\n",
        "\n",
        "#configuration = Mask2FormerConfig()\n",
        "# load Mask2Former fine-tuned on COCO panoptic segmentation\n",
        "#processor = AutoImageProcessor.from_pretrained(\"facebook/mask2former-swin-base-coco-panoptic\")\n",
        "#Feature_Extraction_Model = Mask2FormerForUniversalSegmentation(configuration).from_pretrained(\"facebook/mask2former-swin-base-coco-panoptic\").to(device)\n",
        "#Feature_Extraction_Model.eval()\n",
        "\n",
        "BATCH_SIZE = 32\n",
        "DEVICE = device = torch.device('cuda' if torch.cuda.is_available() else 'cpu')\n",
        "\n",
        "train_dataset = ForestDataset(csv_file_to_df=train_df, transform=transform)\n",
        "val_dataset = ForestDataset(csv_file_to_df=val_df, transform=transform)\n",
        "test_dataset = ForestDataset(csv_file_to_df=test_df, transform=transform)\n",
        "trainloader = torch.utils.data.DataLoader(train_dataset, batch_size=BATCH_SIZE,shuffle=True)\n",
        "valloader = torch.utils.data.DataLoader(val_dataset, batch_size=BATCH_SIZE,shuffle=True)\n",
        "testloader = torch.utils.data.DataLoader(test_dataset, batch_size=BATCH_SIZE,shuffle=False)\n",
        "dataloaders = {'train': trainloader, 'val':valloader}\n",
        "\n",
        "\n",
        "\n",
        "number_of_epochs = 10000\n",
        "\n",
        "best_val_loss = float('inf')\n",
        "\n",
        "runs = \"Unet_Version\"\n",
        "\n",
        "#ckpt_path = os.path.join(\"Model_Ckpts\",runs+f\"ckpt_2.pt\")\n",
        "\n",
        "ckpt_for_tr = r\"C:\\Users\\haoti\\PycharmProjects\\EECS_6998_E11\\Model_Ckpts\\Unet_Versionckpt_test_for_seg_new_2_tr.pth\" #os.path.join(\"Model_Ckpts\",runs+f\"ckpt_3_less_lr_model_optimizer_scheduler_checkpoint_tr.pth\")\n",
        "\n",
        "checkpoint = torch.load(ckpt_for_tr)\n",
        "\n",
        "#cls_model.load_state_dict(checkpoint['model_state_dict'])\n",
        "\n",
        "#cls_model.train()\n",
        "\n",
        "#model_vit.load_state_dict(checkpoint['model_state_dict'])\n",
        "\n",
        "segmentation_model.load_state_dict(checkpoint['model_state_dict'])\n",
        "\n",
        "\n",
        "optimizer = torch.optim.Adam(segmentation_model.parameters(), lr=1e-3)#, weight_decay=1e-5)\n",
        "\n",
        "criterion = nn.MSELoss() #nn.CrossEntropyLoss()#BCEDiceLoss(eps=1e-7, activation=None)#nn.CrossEntropyLoss()\n",
        "\n",
        "optimizer.load_state_dict(checkpoint['optimizer_state_dict'])\n",
        "\n",
        "scheduler = torch.optim.lr_scheduler.MultiStepLR(optimizer, milestones=[100,200,300,500], gamma=0.1)\n",
        "\n",
        "scheduler.load_state_dict(checkpoint['scheduler_state_dict'])\n",
        "\n",
        "segmentation_model.eval()\n",
        "\n",
        "with torch.no_grad():\n",
        "\n",
        "        pbar = tqdm(valloader)\n",
        "        val_loss = 0\n",
        "        val_acc_mean = 0\n",
        "\n",
        "        #cls_model.eval()\n",
        "\n",
        "\n",
        "\n",
        "        for i, (images, labels, seg) in enumerate(pbar):\n",
        "            outputs = segmentation_model(images)#(images, output_seg)#(output_final)\n",
        "\n",
        "            loss = criterion(seg, outputs)\n",
        "\n",
        "            outputs = torch.nn.functional.softmax(outputs, dim = 1)\n",
        "\n",
        "            tp = f1_loss(seg, outputs)#iou_pytorch(seg, output_final)\n",
        "\n",
        "            iou = iou_pytorch(seg, outputs)\n",
        "\n",
        "            #loss = loss+tp\n",
        "\n",
        "            pbar.set_postfix(Val_Loss=loss.item(), VAL_F1_Loss = tp.item(), IOU = iou.item())#, Val_Accuracy = accuracy, Val_F1_Score = f1) #, VAL_F1_Loss = tp.item(), IOU = iou.item())\n",
        "\n",
        "            val_loss += loss\n"
      ],
      "metadata": {
        "ExecuteTime": {
          "end_time": "2023-12-14T04:13:07.526830400Z",
          "start_time": "2023-12-14T04:12:48.116037200Z"
        },
        "id": "P3GAgweDPd-s",
        "outputId": "c10bc059-2372-4924-eeb1-da76fee0fbd9"
      }
    },
    {
      "cell_type": "code",
      "execution_count": null,
      "outputs": [
        {
          "name": "stderr",
          "output_type": "stream",
          "text": [
            "C:\\Users\\haoti\\AppData\\Local\\Temp\\ipykernel_31792\\3041199251.py:5: RuntimeWarning: More than 20 figures have been opened. Figures created through the pyplot interface (`matplotlib.pyplot.figure`) are retained until explicitly closed and may consume too much memory. (To control this warning, see the rcParam `figure.max_open_warning`). Consider using `matplotlib.pyplot.close()`.\n",
            "  plt.figure(figsize=(12, 4))\n"
          ]
        },
        {
          "data": {
            "text/plain": "<Figure size 1200x400 with 2 Axes>",
            "image/png": "[encoded data removed]"
          },
          "metadata": {},
          "output_type": "display_data"
        },
        {
          "data": {
            "text/plain": "<Figure size 640x480 with 0 Axes>"
          },
          "metadata": {},
          "output_type": "display_data"
        },
        {
          "data": {
            "text/plain": "<Figure size 1200x400 with 2 Axes>",
            "image/png": "[encoded data removed]"
          },
          "metadata": {},
          "output_type": "display_data"
        },
        {
          "data": {
            "text/plain": "<Figure size 640x480 with 0 Axes>"
          },
          "metadata": {},
          "output_type": "display_data"
        },
        {
          "data": {
            "text/plain": "<Figure size 1200x400 with 2 Axes>",
            "image/png": "[encoded data removed]"
          },
          "metadata": {},
          "output_type": "display_data"
        },
        {
          "data": {
            "text/plain": "<Figure size 640x480 with 0 Axes>"
          },
          "metadata": {},
          "output_type": "display_data"
        },
        {
          "data": {
            "text/plain": "<Figure size 1200x400 with 2 Axes>",
            "image/png": "[encoded data removed]"
          },
          "metadata": {},
          "output_type": "display_data"
        },
        {
          "data": {
            "text/plain": "<Figure size 640x480 with 0 Axes>"
          },
          "metadata": {},
          "output_type": "display_data"
        },
        {
          "data": {
            "text/plain": "<Figure size 1200x400 with 2 Axes>",
            "image/png": "[encoded data removed]"
          },
          "metadata": {},
          "output_type": "display_data"
        },
        {
          "data": {
            "text/plain": "<Figure size 640x480 with 0 Axes>"
          },
          "metadata": {},
          "output_type": "display_data"
        },
        {
          "data": {
            "text/plain": "<Figure size 1200x400 with 2 Axes>",
            "image/png": "[encoded data removed]"
          },
          "metadata": {},
          "output_type": "display_data"
        },
        {
          "data": {
            "text/plain": "<Figure size 640x480 with 0 Axes>"
          },
          "metadata": {},
          "output_type": "display_data"
        },
        {
          "data": {
            "text/plain": "<Figure size 1200x400 with 2 Axes>",
            "image/png": "[encoded data removed]"
          },
          "metadata": {},
          "output_type": "display_data"
        },
        {
          "data": {
            "text/plain": "<Figure size 640x480 with 0 Axes>"
          },
          "metadata": {},
          "output_type": "display_data"
        },
        {
          "data": {
            "text/plain": "<Figure size 1200x400 with 2 Axes>",
            "image/png": "[encoded data removed]"
          },
          "metadata": {},
          "output_type": "display_data"
        },
        {
          "data": {
            "text/plain": "<Figure size 640x480 with 0 Axes>"
          },
          "metadata": {},
          "output_type": "display_data"
        },
        {
          "data": {
            "text/plain": "<Figure size 1200x400 with 2 Axes>",
            "image/png": "[encoded data removed]"
          },
          "metadata": {},
          "output_type": "display_data"
        },
        {
          "data": {
            "text/plain": "<Figure size 640x480 with 0 Axes>"
          },
          "metadata": {},
          "output_type": "display_data"
        },
        {
          "data": {
            "text/plain": "<Figure size 1200x400 with 2 Axes>",
            "image/png": "[encoded data removed]"
          },
          "metadata": {},
          "output_type": "display_data"
        },
        {
          "data": {
            "text/plain": "<Figure size 640x480 with 0 Axes>"
          },
          "metadata": {},
          "output_type": "display_data"
        },
        {
          "data": {
            "text/plain": "<Figure size 1200x400 with 2 Axes>",
            "image/png": "[encoded data removed]"
          },
          "metadata": {},
          "output_type": "display_data"
        },
        {
          "data": {
            "text/plain": "<Figure size 640x480 with 0 Axes>"
          },
          "metadata": {},
          "output_type": "display_data"
        },
        {
          "data": {
            "text/plain": "<Figure size 1200x400 with 2 Axes>",
            "image/png": "[encoded data removed]"
          },
          "metadata": {},
          "output_type": "display_data"
        },
        {
          "data": {
            "text/plain": "<Figure size 640x480 with 0 Axes>"
          },
          "metadata": {},
          "output_type": "display_data"
        },
        {
          "data": {
            "text/plain": "<Figure size 1200x400 with 2 Axes>",
            "image/png": "[encoded data removed]"
          },
          "metadata": {},
          "output_type": "display_data"
        },
        {
          "data": {
            "text/plain": "<Figure size 640x480 with 0 Axes>"
          },
          "metadata": {},
          "output_type": "display_data"
        },
        {
          "data": {
            "text/plain": "<Figure size 1200x400 with 2 Axes>",
            "image/png": "[encoded data removed]"
          },
          "metadata": {},
          "output_type": "display_data"
        },
        {
          "data": {
            "text/plain": "<Figure size 640x480 with 0 Axes>"
          },
          "metadata": {},
          "output_type": "display_data"
        },
        {
          "data": {
            "text/plain": "<Figure size 1200x400 with 2 Axes>",
            "image/png": "[encoded data removed]"
          },
          "metadata": {},
          "output_type": "display_data"
        },
        {
          "data": {
            "text/plain": "<Figure size 640x480 with 0 Axes>"
          },
          "metadata": {},
          "output_type": "display_data"
        },
        {
          "data": {
            "text/plain": "<Figure size 1200x400 with 2 Axes>",
            "image/png": "[encoded data removed]"
          },
          "metadata": {},
          "output_type": "display_data"
        },
        {
          "data": {
            "text/plain": "<Figure size 640x480 with 0 Axes>"
          },
          "metadata": {},
          "output_type": "display_data"
        },
        {
          "data": {
            "text/plain": "<Figure size 1200x400 with 2 Axes>",
            "image/png": "[encoded data removed]"
          },
          "metadata": {},
          "output_type": "display_data"
        },
        {
          "data": {
            "text/plain": "<Figure size 640x480 with 0 Axes>"
          },
          "metadata": {},
          "output_type": "display_data"
        },
        {
          "data": {
            "text/plain": "<Figure size 1200x400 with 2 Axes>",
            "image/png": "[encoded data removed]"
          },
          "metadata": {},
          "output_type": "display_data"
        },
        {
          "data": {
            "text/plain": "<Figure size 640x480 with 0 Axes>"
          },
          "metadata": {},
          "output_type": "display_data"
        },
        {
          "data": {
            "text/plain": "<Figure size 1200x400 with 2 Axes>",
            "image/png": "[encoded data removed]"
          },
          "metadata": {},
          "output_type": "display_data"
        },
        {
          "data": {
            "text/plain": "<Figure size 640x480 with 0 Axes>"
          },
          "metadata": {},
          "output_type": "display_data"
        },
        {
          "data": {
            "text/plain": "<Figure size 1200x400 with 2 Axes>",
            "image/png": "[encoded data removed]"
          },
          "metadata": {},
          "output_type": "display_data"
        },
        {
          "data": {
            "text/plain": "<Figure size 640x480 with 0 Axes>"
          },
          "metadata": {},
          "output_type": "display_data"
        },
        {
          "data": {
            "text/plain": "<Figure size 1200x400 with 2 Axes>",
            "image/png": "[encoded data removed]"
          },
          "metadata": {},
          "output_type": "display_data"
        },
        {
          "data": {
            "text/plain": "<Figure size 640x480 with 0 Axes>"
          },
          "metadata": {},
          "output_type": "display_data"
        },
        {
          "data": {
            "text/plain": "<Figure size 1200x400 with 2 Axes>",
            "image/png": "[encoded data removed]"
          },
          "metadata": {},
          "output_type": "display_data"
        },
        {
          "data": {
            "text/plain": "<Figure size 640x480 with 0 Axes>"
          },
          "metadata": {},
          "output_type": "display_data"
        },
        {
          "data": {
            "text/plain": "<Figure size 1200x400 with 2 Axes>",
            "image/png": "[encoded data removed]"
          },
          "metadata": {},
          "output_type": "display_data"
        },
        {
          "data": {
            "text/plain": "<Figure size 640x480 with 0 Axes>"
          },
          "metadata": {},
          "output_type": "display_data"
        },
        {
          "data": {
            "text/plain": "<Figure size 1200x400 with 2 Axes>",
            "image/png": "[encoded data removed]"
          },
          "metadata": {},
          "output_type": "display_data"
        },
        {
          "data": {
            "text/plain": "<Figure size 640x480 with 0 Axes>"
          },
          "metadata": {},
          "output_type": "display_data"
        },
        {
          "data": {
            "text/plain": "<Figure size 1200x400 with 2 Axes>",
            "image/png": "[encoded data removed]"
          },
          "metadata": {},
          "output_type": "display_data"
        },
        {
          "data": {
            "text/plain": "<Figure size 640x480 with 0 Axes>"
          },
          "metadata": {},
          "output_type": "display_data"
        }
      ],
      "source": [
        "seg_real = torch.argmax(seg, dim = 1)\n",
        "outputs_real = torch.argmax(outputs, dim=1)\n",
        "\n",
        "for i in range(seg_real.shape[0]):\n",
        "    plt.figure(figsize=(12, 4))\n",
        "    plt.subplot(1, 2, 1)\n",
        "    plt.imshow(seg_real[i].detach().cpu().numpy())\n",
        "    plt.subplot(1, 2, 2)\n",
        "    plt.imshow(outputs_real[i].detach().cpu().numpy())\n",
        "\n",
        "    plt.figure()"
      ],
      "metadata": {
        "ExecuteTime": {
          "end_time": "2023-12-14T04:13:38.069372900Z",
          "start_time": "2023-12-14T04:13:33.061467Z"
        },
        "id": "zzhpCHRnPd-t",
        "outputId": "6526b4a1-8feb-4b58-8627-c6dc804ae61c"
      }
    },
    {
      "cell_type": "code",
      "execution_count": null,
      "outputs": [],
      "source": [
        "# For Drivers Classification\n",
        "\n",
        "os.environ['CUDA_LAUNCH_BLOCKING'] = '1'\n",
        "\n",
        "#configuration = Mask2FormerConfig()\n",
        "# load Mask2Former fine-tuned on COCO panoptic segmentation\n",
        "#processor = AutoImageProcessor.from_pretrained(\"facebook/mask2former-swin-base-coco-panoptic\")\n",
        "#Feature_Extraction_Model = Mask2FormerForUniversalSegmentation(configuration).from_pretrained(\"facebook/mask2former-swin-base-coco-panoptic\").to(device)\n",
        "#Feature_Extraction_Model.eval()\n",
        "\n",
        "BATCH_SIZE = 32\n",
        "DEVICE = device = torch.device('cuda' if torch.cuda.is_available() else 'cpu')\n",
        "\n",
        "train_dataset = ForestDataset(csv_file_to_df=train_df, transform=transform)\n",
        "val_dataset = ForestDataset(csv_file_to_df=val_df, transform=transform)\n",
        "test_dataset = ForestDataset(csv_file_to_df=test_df, transform=transform)\n",
        "trainloader = torch.utils.data.DataLoader(train_dataset, batch_size=BATCH_SIZE,shuffle=True)\n",
        "valloader = torch.utils.data.DataLoader(val_dataset, batch_size=BATCH_SIZE,shuffle=False)\n",
        "testloader = torch.utils.data.DataLoader(test_dataset, batch_size=BATCH_SIZE,shuffle=False)\n",
        "dataloaders = {'train': trainloader, 'val':valloader}\n",
        "\n",
        "\n",
        "\n",
        "number_of_epochs = 10000\n",
        "\n",
        "best_val_loss = float('inf')\n",
        "\n",
        "runs = \"Unet_Version\"\n",
        "\n",
        "#ckpt_path = os.path.join(\"Model_Ckpts\",runs+f\"ckpt_2.pt\")\n",
        "\n",
        "ckpt_for_tr = r\"C:\\Users\\haoti\\PycharmProjects\\EECS_6998_E11\\Model_Ckpts\\Unet_Versionckpt_test_less_lr_model_optimizer_scheduler_checkpoint_new.pth\" #os.path.join(\"Model_Ckpts\",runs+f\"ckpt_3_less_lr_model_optimizer_scheduler_checkpoint_tr.pth\")\n",
        "\n",
        "checkpoint = torch.load(ckpt_for_tr)\n",
        "\n",
        "#cls_model.load_state_dict(checkpoint['model_state_dict'])\n",
        "\n",
        "#cls_model.train()\n",
        "\n",
        "#model_vit.load_state_dict(checkpoint['model_state_dict'])\n",
        "\n",
        "\n",
        "\n",
        "optimizer = torch.optim.Adam(model_vit.parameters(), lr=1e-4)#, weight_decay=1e-5)\n",
        "\n",
        "criterion = nn.CrossEntropyLoss()#BCEDiceLoss(eps=1e-7, activation=None)#nn.CrossEntropyLoss()\n",
        "\n",
        "#optimizer.load_state_dict(checkpoint['optimizer_state_dict'])\n",
        "\n",
        "#scheduler = torch.optim.lr_scheduler.MultiStepLR(optimizer, milestones=[100,200,300,500], gamma=0.1)\n",
        "\n",
        "#scheduler = torch.optim.lr_scheduler.CosineAnnealingLR(optimizer, 51, eta_min=0, last_epoch=-1, verbose=False)\n",
        "\n",
        "\n",
        "#model.eval()\n",
        "\n",
        "#model.load_state_dict(torch.load(ckpt_path))\n",
        "\n",
        "for epoch in range(number_of_epochs):\n",
        "\n",
        "    pbar = tqdm(trainloader)\n",
        "    train_loss = 0\n",
        "    acc = 0\n",
        "    model_vit.train()\n",
        "\n",
        "    for i, (images, labels, seg) in enumerate(pbar):\n",
        "\n",
        "\n",
        "      optimizer.zero_grad()\n",
        "\n",
        "      zero_input = torch.empty(seg.shape[0], 1, seg.shape[2], seg.shape[-1])\n",
        "\n",
        "      add_zero = torch.zeros_like(zero_input).to(device)\n",
        "\n",
        "      output_seg = torch.concat((seg, add_zero), dim = 1)\n",
        "\n",
        "      output_final = images + output_seg\n",
        "\n",
        "      outputs = model_vit(images)#(images, output_seg)#(output_final)\n",
        "\n",
        "      loss = criterion(labels, outputs)\n",
        "\n",
        "      #tp = f1_loss(seg, output_final) #iou_pytorch(seg, output_final)\n",
        "\n",
        "      #iou = iou_pytorch(seg, output_final)\n",
        "\n",
        "      #loss = loss+tp\n",
        "\n",
        "      outputs = torch.argmax(outputs,dim=-1).squeeze()\n",
        "      labels = torch.argmax(labels,dim=-1).squeeze()\n",
        "\n",
        "      correct = (outputs == labels).sum().item()\n",
        "\n",
        "\n",
        "      total = labels.size(0)\n",
        "\n",
        "\n",
        "      accuracy = correct / total\n",
        "\n",
        "      pbar.set_postfix(Train_Loss=loss.item(), Train_Accuracy = accuracy)#, Train_F1_Loss = tp.item(), IOU =iou.item())\n",
        "\n",
        "      train_loss += loss\n",
        "\n",
        "\n",
        "\n",
        "      loss.backward()\n",
        "\n",
        "      optimizer.step()\n",
        "      '''\n",
        "      if train_loss < best_val_loss:\n",
        "\n",
        "                best_val_loss = train_loss\n",
        "\n",
        "\n",
        "                checkpoint = {\n",
        "                                'model_state_dict': model.state_dict(),\n",
        "                                'optimizer_state_dict': optimizer.state_dict(),\n",
        "                                'scheduler_state_dict': scheduler.state_dict()\n",
        "                                                                                }\n",
        "\n",
        "\n",
        "                torch.save(checkpoint, os.path.join(\"Model_Ckpts\",runs+f\"ckpt_3_less_lr_model_optimizer_scheduler_checkpoint_tr.pth\"))\n",
        "                #torch.save(model.state_dict(), os.path.join(\"Model_Ckpts\",runs+f\"ckpt_3_less_lr.pt\"))\n",
        "      '''\n",
        "\n",
        "    with torch.no_grad():\n",
        "\n",
        "        pbar = tqdm(valloader)\n",
        "        val_loss = 0\n",
        "        val_acc_mean = 0\n",
        "\n",
        "        #cls_model.eval()\n",
        "\n",
        "        model_vit.eval()\n",
        "\n",
        "        for i, (images, labels, seg) in enumerate(pbar):\n",
        "\n",
        "            zero_input = torch.empty(seg.shape[0], 1, seg.shape[2], seg.shape[-1])\n",
        "\n",
        "            add_zero = torch.zeros_like(zero_input).to(device)\n",
        "\n",
        "            output_seg = torch.concat((seg, add_zero), dim = 1)\n",
        "\n",
        "            output_final = images + output_seg\n",
        "\n",
        "            outputs = model_vit(images)#(images, output_seg)#(output_final)\n",
        "\n",
        "            loss = criterion(labels, outputs)\n",
        "\n",
        "            #tp = f1_loss(seg, output_final)#iou_pytorch(seg, output_final)\n",
        "\n",
        "            #iou = iou_pytorch(seg, output_final)\n",
        "\n",
        "            #loss = loss+tp\n",
        "\n",
        "            outputs = torch.argmax(outputs,dim=-1).squeeze()\n",
        "            labels = torch.argmax(labels,dim=-1).squeeze()\n",
        "\n",
        "            correct = (outputs == labels).sum().item()\n",
        "\n",
        "\n",
        "            total = labels.size(0)\n",
        "\n",
        "\n",
        "\n",
        "            accuracy = correct / total\n",
        "\n",
        "            pbar.set_postfix(Val_Loss=loss.item(), Val_Accuracy = accuracy)#, VAL_F1_Loss = tp.item(), IOU = iou.item())\n",
        "\n",
        "            val_loss += loss\n",
        "\n",
        "            val_acc_mean += accuracy\n",
        "\n",
        "\n",
        "            if val_loss < best_val_loss:\n",
        "\n",
        "                best_val_loss = val_loss\n",
        "\n",
        "\n",
        "                checkpoint_vit = {\n",
        "                                'model_state_dict': model_vit.state_dict(),\n",
        "                                'optimizer_state_dict': optimizer.state_dict(),}\n",
        "                                #'scheduler_state_dict': scheduler.state_dict()\n",
        "                                                                                #}\n",
        "\n",
        "\n",
        "                torch.save(checkpoint_vit, os.path.join(\"Model_Ckpts\",runs+f\"ckpt_test_less_lr_model_optimizer_scheduler_checkpoint_new_seperate.pth\"))\n",
        "                #torch.save(model.state_dict(), os.path.join(\"Model_Ckpts\",runs+f\"ckpt_3_less_lr.pt\"))\n",
        "\n",
        "\n",
        "\n",
        "        print(\"###### Epoch: \", epoch,\"_\",val_acc_mean/15,\" ######\")\n",
        "        #plt.imshow(torch.argmax(output_final, dim = 1)[0].detach().cpu().numpy())\n",
        "\n",
        "    #scheduler.step()\n",
        "\n",
        "\n"
      ],
      "metadata": {
        "id": "h5XphI8xPd-t"
      }
    },
    {
      "cell_type": "code",
      "execution_count": null,
      "outputs": [],
      "source": [
        "# For Drivers Classification\n",
        "\n",
        "os.environ['CUDA_LAUNCH_BLOCKING'] = '1'\n",
        "\n",
        "#configuration = Mask2FormerConfig()\n",
        "# load Mask2Former fine-tuned on COCO panoptic segmentation\n",
        "#processor = AutoImageProcessor.from_pretrained(\"facebook/mask2former-swin-base-coco-panoptic\")\n",
        "#Feature_Extraction_Model = Mask2FormerForUniversalSegmentation(configuration).from_pretrained(\"facebook/mask2former-swin-base-coco-panoptic\").to(device)\n",
        "#Feature_Extraction_Model.eval()\n",
        "\n",
        "BATCH_SIZE = 32\n",
        "DEVICE = device = torch.device('cuda' if torch.cuda.is_available() else 'cpu')\n",
        "\n",
        "train_dataset = ForestDataset(csv_file_to_df=train_df, transform=transform)\n",
        "val_dataset = ForestDataset(csv_file_to_df=val_df, transform=transform)\n",
        "test_dataset = ForestDataset(csv_file_to_df=test_df, transform=transform)\n",
        "trainloader = torch.utils.data.DataLoader(train_dataset, batch_size=BATCH_SIZE,shuffle=True)\n",
        "valloader = torch.utils.data.DataLoader(val_dataset, batch_size=BATCH_SIZE,shuffle=False)\n",
        "testloader = torch.utils.data.DataLoader(test_dataset, batch_size=BATCH_SIZE,shuffle=False)\n",
        "dataloaders = {'train': trainloader, 'val':valloader}\n",
        "\n",
        "\n",
        "\n",
        "number_of_epochs = 10000\n",
        "\n",
        "best_val_loss = float('inf')\n",
        "\n",
        "runs = \"Unet_Version\"\n",
        "\n",
        "#ckpt_path = os.path.join(\"Model_Ckpts\",runs+f\"ckpt_2.pt\")\n",
        "\n",
        "ckpt_for_tr = r\"C:\\Users\\haoti\\PycharmProjects\\EECS_6998_E11\\Model_Ckpts\\Unet_Versionckpt_test_less_lr_model_optimizer_scheduler_checkpoint_new.pth\" #os.path.join(\"Model_Ckpts\",runs+f\"ckpt_3_less_lr_model_optimizer_scheduler_checkpoint_tr.pth\")\n",
        "\n",
        "checkpoint = torch.load(ckpt_for_tr)\n",
        "\n",
        "#cls_model.load_state_dict(checkpoint['model_state_dict'])\n",
        "\n",
        "#cls_model.train()\n",
        "\n",
        "#model_vit.load_state_dict(checkpoint['model_state_dict'])\n",
        "\n",
        "\n",
        "\n",
        "optimizer = torch.optim.Adam(model_vit.parameters(), lr=1e-4)#, weight_decay=1e-5)\n",
        "\n",
        "criterion = nn.CrossEntropyLoss()#BCEDiceLoss(eps=1e-7, activation=None)#nn.CrossEntropyLoss()\n",
        "\n",
        "#optimizer.load_state_dict(checkpoint['optimizer_state_dict'])\n",
        "\n",
        "#scheduler = torch.optim.lr_scheduler.MultiStepLR(optimizer, milestones=[100,200,300,500], gamma=0.1)\n",
        "\n",
        "#scheduler = torch.optim.lr_scheduler.CosineAnnealingLR(optimizer, 51, eta_min=0, last_epoch=-1, verbose=False)\n",
        "\n",
        "\n",
        "#model.eval()\n",
        "\n",
        "#model.load_state_dict(torch.load(ckpt_path))\n",
        "\n",
        "for epoch in range(number_of_epochs):\n",
        "\n",
        "    pbar = tqdm(trainloader)\n",
        "    train_loss = 0\n",
        "    acc = 0\n",
        "    model_vit.train()\n",
        "\n",
        "    for i, (images, labels, seg) in enumerate(pbar):\n",
        "\n",
        "\n",
        "      optimizer.zero_grad()\n",
        "\n",
        "      zero_input = torch.empty(seg.shape[0], 1, seg.shape[2], seg.shape[-1])\n",
        "\n",
        "      add_zero = torch.zeros_like(zero_input).to(device)\n",
        "\n",
        "      output_seg = torch.concat((seg, add_zero), dim = 1)\n",
        "\n",
        "      output_final = images + output_seg\n",
        "\n",
        "      outputs = model_vit(images)#(images, output_seg)#(output_final)\n",
        "\n",
        "      loss = criterion(labels, outputs)\n",
        "\n",
        "      #tp = f1_loss(seg, output_final) #iou_pytorch(seg, output_final)\n",
        "\n",
        "      #iou = iou_pytorch(seg, output_final)\n",
        "\n",
        "      #loss = loss+tp\n",
        "\n",
        "      outputs = torch.argmax(outputs,dim=-1).squeeze()\n",
        "      labels = torch.argmax(labels,dim=-1).squeeze()\n",
        "\n",
        "      correct = (outputs == labels).sum().item()\n",
        "\n",
        "\n",
        "      total = labels.size(0)\n",
        "\n",
        "\n",
        "      accuracy = correct / total\n",
        "\n",
        "      pbar.set_postfix(Train_Loss=loss.item(), Train_Accuracy = accuracy)#, Train_F1_Loss = tp.item(), IOU =iou.item())\n",
        "\n",
        "      train_loss += loss\n",
        "\n",
        "\n",
        "\n",
        "      loss.backward()\n",
        "\n",
        "      optimizer.step()\n",
        "      '''\n",
        "      if train_loss < best_val_loss:\n",
        "\n",
        "                best_val_loss = train_loss\n",
        "\n",
        "\n",
        "                checkpoint = {\n",
        "                                'model_state_dict': model.state_dict(),\n",
        "                                'optimizer_state_dict': optimizer.state_dict(),\n",
        "                                'scheduler_state_dict': scheduler.state_dict()\n",
        "                                                                                }\n",
        "\n",
        "\n",
        "                torch.save(checkpoint, os.path.join(\"Model_Ckpts\",runs+f\"ckpt_3_less_lr_model_optimizer_scheduler_checkpoint_tr.pth\"))\n",
        "                #torch.save(model.state_dict(), os.path.join(\"Model_Ckpts\",runs+f\"ckpt_3_less_lr.pt\"))\n",
        "      '''\n",
        "\n",
        "    with torch.no_grad():\n",
        "\n",
        "        pbar = tqdm(valloader)\n",
        "        val_loss = 0\n",
        "        val_acc_mean = 0\n",
        "\n",
        "        #cls_model.eval()\n",
        "\n",
        "        model_vit.eval()\n",
        "\n",
        "        for i, (images, labels, seg) in enumerate(pbar):\n",
        "\n",
        "            zero_input = torch.empty(seg.shape[0], 1, seg.shape[2], seg.shape[-1])\n",
        "\n",
        "            add_zero = torch.zeros_like(zero_input).to(device)\n",
        "\n",
        "            output_seg = torch.concat((seg, add_zero), dim = 1)\n",
        "\n",
        "            output_final = images + output_seg\n",
        "\n",
        "            outputs = model_vit(images)#(images, output_seg)#(output_final)\n",
        "\n",
        "            loss = criterion(labels, outputs)\n",
        "\n",
        "            #tp = f1_loss(seg, output_final)#iou_pytorch(seg, output_final)\n",
        "\n",
        "            #iou = iou_pytorch(seg, output_final)\n",
        "\n",
        "            #loss = loss+tp\n",
        "\n",
        "            outputs = torch.argmax(outputs,dim=-1).squeeze()\n",
        "            labels = torch.argmax(labels,dim=-1).squeeze()\n",
        "\n",
        "            correct = (outputs == labels).sum().item()\n",
        "\n",
        "\n",
        "            total = labels.size(0)\n",
        "\n",
        "\n",
        "\n",
        "            accuracy = correct / total\n",
        "\n",
        "            pbar.set_postfix(Val_Loss=loss.item(), Val_Accuracy = accuracy)#, VAL_F1_Loss = tp.item(), IOU = iou.item())\n",
        "\n",
        "            val_loss += loss\n",
        "\n",
        "            val_acc_mean += accuracy\n",
        "\n",
        "\n",
        "            if val_loss < best_val_loss:\n",
        "\n",
        "                best_val_loss = val_loss\n",
        "\n",
        "\n",
        "                checkpoint_vit = {\n",
        "                                'model_state_dict': model_vit.state_dict(),\n",
        "                                'optimizer_state_dict': optimizer.state_dict(),}\n",
        "                                #'scheduler_state_dict': scheduler.state_dict()\n",
        "                                                                                #}\n",
        "\n",
        "\n",
        "                torch.save(checkpoint_vit, os.path.join(\"Model_Ckpts\",runs+f\"ckpt_test_less_lr_model_optimizer_scheduler_checkpoint_new_seperate.pth\"))\n",
        "                #torch.save(model.state_dict(), os.path.join(\"Model_Ckpts\",runs+f\"ckpt_3_less_lr.pt\"))\n",
        "\n",
        "\n",
        "\n",
        "        print(\"###### Epoch: \", epoch,\"_\",val_acc_mean/15,\" ######\")\n",
        "        #plt.imshow(torch.argmax(output_final, dim = 1)[0].detach().cpu().numpy())\n",
        "\n",
        "    #scheduler.step()\n",
        "\n",
        "\n"
      ],
      "metadata": {
        "id": "uAUAFZ1sPd-t"
      }
    },
    {
      "cell_type": "code",
      "execution_count": null,
      "outputs": [],
      "source": [
        "# For Drivers Classification\n",
        "\n",
        "os.environ['CUDA_LAUNCH_BLOCKING'] = '1'\n",
        "\n",
        "#configuration = Mask2FormerConfig()\n",
        "# load Mask2Former fine-tuned on COCO panoptic segmentation\n",
        "#processor = AutoImageProcessor.from_pretrained(\"facebook/mask2former-swin-base-coco-panoptic\")\n",
        "#Feature_Extraction_Model = Mask2FormerForUniversalSegmentation(configuration).from_pretrained(\"facebook/mask2former-swin-base-coco-panoptic\").to(device)\n",
        "#Feature_Extraction_Model.eval()\n",
        "\n",
        "pretrained_resnet_18 = timm.create_model('resnet18', pretrained=True)\n",
        "num_ftrs = pretrained_resnet_18.get_classifier().in_features\n",
        "pretrained_resnet_18.fc = nn.Linear(num_ftrs, 4)\n",
        "pretrained_resnet_18 = nn.Sequential(\n",
        "    pretrained_resnet_18,\n",
        "    nn.Softmax(dim=1)  # 在第一维度（列）上应用softmax\n",
        ")\n",
        "\n",
        "pretrained_resnet_18 = pretrained_resnet_18.to(device)\n",
        "\n",
        "BATCH_SIZE = 32\n",
        "DEVICE = device = torch.device('cuda' if torch.cuda.is_available() else 'cpu')\n",
        "\n",
        "train_dataset = ForestDataset(csv_file_to_df=train_df, transform=transform)\n",
        "val_dataset = ForestDataset(csv_file_to_df=val_df, transform=transform)\n",
        "test_dataset = ForestDataset(csv_file_to_df=test_df, transform=transform)\n",
        "trainloader = torch.utils.data.DataLoader(train_dataset, batch_size=BATCH_SIZE,shuffle=True)\n",
        "valloader = torch.utils.data.DataLoader(val_dataset, batch_size=BATCH_SIZE,shuffle=False)\n",
        "testloader = torch.utils.data.DataLoader(test_dataset, batch_size=BATCH_SIZE,shuffle=False)\n",
        "dataloaders = {'train': trainloader, 'val':valloader}\n",
        "\n",
        "\n",
        "\n",
        "#seg_optimizer = torch.optim.Adam(model.parameters(), lr=1e-2)#, weight_decay=1e-5)\n",
        "#seg_criterion = nn.CrossEntropyLoss()#BCEDiceLoss(eps=1e-7, activation=None)#nn.CrossEntropyLoss()\n",
        "#seg_scheduler = torch.optim.lr_scheduler.MultiStepLR(seg_optimizer, milestones=[100,200,300,500], gamma=0.1)\n",
        "\n",
        "\n",
        "\n",
        "\n",
        "number_of_epochs = 10000\n",
        "\n",
        "best_val_loss = float('inf')\n",
        "\n",
        "runs = \"Unet_Version\"\n",
        "\n",
        "#ckpt_path = os.path.join(\"Model_Ckpts\",runs+f\"ckpt_2.pt\")\n",
        "\n",
        "\n",
        "#ckpt_for_tr = r\"C:\\Users\\haoti\\PycharmProjects\\EECS_6998_E11\\Model_Ckpts\\Unet_Versionckpt_test_less_lr_model_optimizer_scheduler_checkpoint_pretrained_resnet_18.pth\" #os.path.join(\"Model_Ckpts\",runs+f\"ckpt_3_less_lr_model_optimizer_scheduler_checkpoint_tr.pth\")\n",
        "\n",
        "#checkpoint = torch.load(ckpt_for_tr)\n",
        "\n",
        "#pretrained_resnet_18.load_state_dict(checkpoint['model_state_dict'])\n",
        "\n",
        "#seg_optimizer.load_state_dict(checkpoint['optimizer_state_dict'])\n",
        "\n",
        "#seg_scheduler.load_state_dict(checkpoint['scheduler_state_dict'])\n",
        "\n",
        "#model.eval()\n",
        "\n",
        "\n",
        "\n",
        "pretrained_resnet_18.train()\n",
        "\n",
        "optimizer = torch.optim.Adam(pretrained_resnet_18.parameters(), lr=1e-3)#, weight_decay=1e-5)\n",
        "\n",
        "criterion = nn.CrossEntropyLoss()#BCEDiceLoss(eps=1e-7, activation=None)#nn.CrossEntropyLoss()\n",
        "\n",
        "#scheduler = torch.optim.lr_scheduler.MultiStepLR(optimizer, milestones=[100,200,300,500], gamma=0.1)\n",
        "\n",
        "#optimizer.load_state_dict(checkpoint['optimizer_state_dict'])\n",
        "\n",
        "#seg_scheduler.load_state_dict(checkpoint['scheduler_state_dict'])\n",
        "\n",
        "\n",
        "#model.eval()\n",
        "\n",
        "#model.load_state_dict(torch.load(ckpt_path))\n",
        "\n",
        "for epoch in range(number_of_epochs):\n",
        "\n",
        "    pbar = tqdm(trainloader)\n",
        "    train_loss = 0\n",
        "    acc = 0\n",
        "    pretrained_resnet_18.train()\n",
        "    for i, (images, labels, seg) in enumerate(pbar):\n",
        "\n",
        "\n",
        "      optimizer.zero_grad()\n",
        "\n",
        "      #model.eval()\n",
        "\n",
        "      #with torch.no_grad():\n",
        "      #output_final = model(images)\n",
        "\n",
        "      outputs = pretrained_resnet_18(images)#(output_final)\n",
        "\n",
        "      loss = criterion(labels.type(torch.float32), outputs.type(torch.float32))\n",
        "\n",
        "      tp = f1_loss(labels, outputs) #iou_pytorch(seg, output_final)\n",
        "\n",
        "      #iou = iou_pytorch(seg, output_final)\n",
        "\n",
        "      #loss = loss+tp\n",
        "\n",
        "      outputs = torch.argmax(outputs,dim=-1).squeeze()\n",
        "      labels = torch.argmax(labels,dim=-1).squeeze()\n",
        "\n",
        "      correct = (outputs == labels).sum().item()\n",
        "\n",
        "\n",
        "      total = labels.size(0)\n",
        "\n",
        "\n",
        "      accuracy = correct / total\n",
        "\n",
        "      pbar.set_postfix(Train_Loss=loss.item(), Train_Accuracy = accuracy, Train_F1_Loss = tp.item())#, IOU =iou.item())\n",
        "\n",
        "      train_loss += loss\n",
        "\n",
        "      loss.backward()\n",
        "\n",
        "      optimizer.step()\n",
        "      '''\n",
        "      if train_loss < best_val_loss:\n",
        "\n",
        "                best_val_loss = train_loss\n",
        "\n",
        "\n",
        "                checkpoint = {\n",
        "                                'model_state_dict': model.state_dict(),\n",
        "                                'optimizer_state_dict': optimizer.state_dict(),\n",
        "                                'scheduler_state_dict': scheduler.state_dict()\n",
        "                                                                                }\n",
        "\n",
        "\n",
        "                torch.save(checkpoint, os.path.join(\"Model_Ckpts\",runs+f\"ckpt_3_less_lr_model_optimizer_scheduler_checkpoint_tr.pth\"))\n",
        "                #torch.save(model.state_dict(), os.path.join(\"Model_Ckpts\",runs+f\"ckpt_3_less_lr.pt\"))\n",
        "      '''\n",
        "\n",
        "    with torch.no_grad():\n",
        "\n",
        "        pbar = tqdm(valloader)\n",
        "        val_loss = 0\n",
        "        val_acc_mean = 0\n",
        "        #model.eval()\n",
        "        pretrained_resnet_18.eval()\n",
        "\n",
        "        for i, (images, labels, seg) in enumerate(pbar):\n",
        "\n",
        "\n",
        "            #with torch.no_grad():\n",
        "            #output_final = model(images)\n",
        "\n",
        "            outputs = pretrained_resnet_18(images)#(output_final)\n",
        "\n",
        "            loss = criterion(labels.type(torch.float32), outputs.type(torch.float32))\n",
        "\n",
        "            tp = f1_loss(labels, outputs)\n",
        "\n",
        "\n",
        "            #tp = f1_loss(seg, output_final)#iou_pytorch(seg, output_final)\n",
        "\n",
        "            #iou = iou_pytorch(seg, output_final)\n",
        "\n",
        "            #loss = loss+tp\n",
        "\n",
        "            outputs = torch.argmax(outputs,dim=-1).squeeze()\n",
        "            labels = torch.argmax(labels,dim=-1).squeeze()\n",
        "\n",
        "            correct = (outputs == labels).sum().item()\n",
        "\n",
        "\n",
        "            total = labels.size(0)\n",
        "\n",
        "\n",
        "\n",
        "            accuracy = correct / total\n",
        "\n",
        "            pbar.set_postfix(Val_Loss=loss.item(), Val_Accuracy = accuracy, VAL_F1_Loss = tp.item())#, IOU = iou.item())\n",
        "\n",
        "            val_loss += loss\n",
        "\n",
        "            val_acc_mean += accuracy\n",
        "\n",
        "\n",
        "            if val_loss < best_val_loss:\n",
        "\n",
        "                best_val_loss = val_loss\n",
        "\n",
        "\n",
        "                checkpoint_vit = {\n",
        "                                'model_state_dict': pretrained_resnet_18.state_dict(),\n",
        "                                'optimizer_state_dict': optimizer.state_dict(),\n",
        "                                #'scheduler_state_dict': scheduler.state_dict()\n",
        "                                                                                }\n",
        "\n",
        "\n",
        "                torch.save(checkpoint_vit, os.path.join(\"Model_Ckpts\",runs+f\"ckpt_test_less_lr_model_optimizer_scheduler_checkpoint_pretrained_resnet_18_2.pth\"))\n",
        "                #torch.save(model.state_dict(), os.path.join(\"Model_Ckpts\",runs+f\"ckpt_3_less_lr.pt\"))\n",
        "\n",
        "\n",
        "\n",
        "        print(\"###### Epoch: \", epoch,\"_\",val_acc_mean/15,\" ######\")\n",
        "        #plt.imshow(torch.argmax(output_final, dim = 1)[0].detach().cpu().numpy())\n",
        "\n",
        "    #scheduler.step()\n",
        "\n",
        "\n"
      ],
      "metadata": {
        "id": "xlDeum8dPd-t"
      }
    },
    {
      "cell_type": "code",
      "execution_count": null,
      "outputs": [],
      "source": [
        "# For Drivers Classification\n",
        "\n",
        "os.environ['CUDA_LAUNCH_BLOCKING'] = '1'\n",
        "\n",
        "#configuration = Mask2FormerConfig()\n",
        "# load Mask2Former fine-tuned on COCO panoptic segmentation\n",
        "#processor = AutoImageProcessor.from_pretrained(\"facebook/mask2former-swin-base-coco-panoptic\")\n",
        "#Feature_Extraction_Model = Mask2FormerForUniversalSegmentation(configuration).from_pretrained(\"facebook/mask2former-swin-base-coco-panoptic\").to(device)\n",
        "#Feature_Extraction_Model.eval()\n",
        "\n",
        "BATCH_SIZE = 768\n",
        "DEVICE = device = torch.device('cuda' if torch.cuda.is_available() else 'cpu')\n",
        "\n",
        "train_dataset = ForestDataset(csv_file_to_df=train_df, transform=transform)\n",
        "val_dataset = ForestDataset(csv_file_to_df=val_df, transform=transform)\n",
        "test_dataset = ForestDataset(csv_file_to_df=test_df, transform=transform)\n",
        "trainloader = torch.utils.data.DataLoader(train_dataset, batch_size=BATCH_SIZE,shuffle=True)\n",
        "valloader = torch.utils.data.DataLoader(val_dataset, batch_size=BATCH_SIZE,shuffle=False)\n",
        "testloader = torch.utils.data.DataLoader(test_dataset, batch_size=BATCH_SIZE,shuffle=False)\n",
        "dataloaders = {'train': trainloader, 'val':valloader}\n",
        "\n",
        "\n",
        "\n",
        "#seg_optimizer = torch.optim.Adam(model.parameters(), lr=1e-2)#, weight_decay=1e-5)\n",
        "#seg_criterion = nn.CrossEntropyLoss()#BCEDiceLoss(eps=1e-7, activation=None)#nn.CrossEntropyLoss()\n",
        "#seg_scheduler = torch.optim.lr_scheduler.MultiStepLR(seg_optimizer, milestones=[100,200,300,500], gamma=0.1)\n",
        "\n",
        "\n",
        "\n",
        "\n",
        "number_of_epochs = 10000\n",
        "\n",
        "best_val_loss = float('inf')\n",
        "\n",
        "runs = \"Unet_Version\"\n",
        "\n",
        "#ckpt_path = os.path.join(\"Model_Ckpts\",runs+f\"ckpt_2.pt\")\n",
        "\n",
        "\n",
        "#ckpt_for_tr = r\"C:\\Users\\haoti\\PycharmProjects\\EECS_6998_E11\\Model_Ckpts\\Unet_Versionckpt_test_less_lr_model_optimizer_scheduler_checkpoint.pth\" #os.path.join(\"Model_Ckpts\",runs+f\"ckpt_3_less_lr_model_optimizer_scheduler_checkpoint_tr.pth\")\n",
        "\n",
        "#checkpoint = torch.load(ckpt_for_tr)\n",
        "\n",
        "#model.load_state_dict(checkpoint['model_state_dict'])\n",
        "\n",
        "#seg_optimizer.load_state_dict(checkpoint['optimizer_state_dict'])\n",
        "\n",
        "#seg_scheduler.load_state_dict(checkpoint['scheduler_state_dict'])\n",
        "\n",
        "#model.eval()\n",
        "\n",
        "\n",
        "\n",
        "model_vit.train()\n",
        "\n",
        "optimizer = torch.optim.Adam(model_vit.parameters(), lr=1e-3)#, weight_decay=1e-5)\n",
        "\n",
        "criterion = nn.CrossEntropyLoss()#BCEDiceLoss(eps=1e-7, activation=None)#nn.CrossEntropyLoss()\n",
        "\n",
        "#scheduler = torch.optim.lr_scheduler.MultiStepLR(optimizer, milestones=[100,200,300,500], gamma=0.1)\n",
        "\n",
        "\n",
        "#model.eval()\n",
        "\n",
        "#model.load_state_dict(torch.load(ckpt_path))\n",
        "\n",
        "for epoch in range(number_of_epochs):\n",
        "\n",
        "    pbar = tqdm(trainloader)\n",
        "    train_loss = 0\n",
        "    acc = 0\n",
        "    model.eval()\n",
        "    model_vit.train()\n",
        "    for i, (images, labels, seg) in enumerate(pbar):\n",
        "\n",
        "\n",
        "      optimizer.zero_grad()\n",
        "\n",
        "      #model.eval()\n",
        "\n",
        "      #with torch.no_grad():\n",
        "      #output_final = model(images)\n",
        "\n",
        "      outputs = model_vit(images)#(output_final)\n",
        "\n",
        "      loss = criterion(labels.type(torch.float32), outputs.type(torch.float32))\n",
        "\n",
        "      #tp = f1_loss(seg, output_final) #iou_pytorch(seg, output_final)\n",
        "\n",
        "      #iou = iou_pytorch(seg, output_final)\n",
        "\n",
        "      #loss = loss+tp\n",
        "\n",
        "      outputs = torch.argmax(outputs,dim=-1).squeeze()\n",
        "      labels = torch.argmax(labels,dim=-1).squeeze()\n",
        "\n",
        "      correct = (outputs == labels).sum().item()\n",
        "\n",
        "\n",
        "      total = labels.size(0)\n",
        "\n",
        "\n",
        "      accuracy = correct / total\n",
        "\n",
        "      pbar.set_postfix(Train_Loss=loss.item(), Train_Accuracy = accuracy)#, Train_F1_Loss = tp.item(), IOU =iou.item())\n",
        "\n",
        "      train_loss += loss\n",
        "\n",
        "      loss.backward()\n",
        "\n",
        "      optimizer.step()\n",
        "      '''\n",
        "      if train_loss < best_val_loss:\n",
        "\n",
        "                best_val_loss = train_loss\n",
        "\n",
        "\n",
        "                checkpoint = {\n",
        "                                'model_state_dict': model.state_dict(),\n",
        "                                'optimizer_state_dict': optimizer.state_dict(),\n",
        "                                'scheduler_state_dict': scheduler.state_dict()\n",
        "                                                                                }\n",
        "\n",
        "\n",
        "                torch.save(checkpoint, os.path.join(\"Model_Ckpts\",runs+f\"ckpt_3_less_lr_model_optimizer_scheduler_checkpoint_tr.pth\"))\n",
        "                #torch.save(model.state_dict(), os.path.join(\"Model_Ckpts\",runs+f\"ckpt_3_less_lr.pt\"))\n",
        "      '''\n",
        "\n",
        "    with torch.no_grad():\n",
        "\n",
        "        pbar = tqdm(valloader)\n",
        "        val_loss = 0\n",
        "        val_acc_mean = 0\n",
        "        #model.eval()\n",
        "        model_vit.eval()\n",
        "\n",
        "        for i, (images, labels, seg) in enumerate(pbar):\n",
        "\n",
        "\n",
        "            #with torch.no_grad():\n",
        "            #output_final = model(images)\n",
        "\n",
        "            outputs = model_vit(images)#(output_final)\n",
        "\n",
        "            loss = criterion(labels.type(torch.float32), outputs.type(torch.float32))\n",
        "\n",
        "\n",
        "            #tp = f1_loss(seg, output_final)#iou_pytorch(seg, output_final)\n",
        "\n",
        "            #iou = iou_pytorch(seg, output_final)\n",
        "\n",
        "            #loss = loss+tp\n",
        "\n",
        "            outputs = torch.argmax(outputs,dim=-1).squeeze()\n",
        "            labels = torch.argmax(labels,dim=-1).squeeze()\n",
        "\n",
        "            correct = (outputs == labels).sum().item()\n",
        "\n",
        "\n",
        "            total = labels.size(0)\n",
        "\n",
        "\n",
        "\n",
        "            accuracy = correct / total\n",
        "\n",
        "            pbar.set_postfix(Val_Loss=loss.item(), Val_Accuracy = accuracy)#, VAL_F1_Loss = tp.item(), IOU = iou.item())\n",
        "\n",
        "            val_loss += loss\n",
        "\n",
        "            val_acc_mean += accuracy\n",
        "\n",
        "\n",
        "            if val_loss < best_val_loss:\n",
        "\n",
        "                best_val_loss = val_loss\n",
        "\n",
        "\n",
        "                checkpoint_vit = {\n",
        "                                'model_state_dict': model_vit.state_dict(),\n",
        "                                'optimizer_state_dict': optimizer.state_dict(),\n",
        "                                #'scheduler_state_dict': scheduler.state_dict()\n",
        "                                                                                }\n",
        "\n",
        "\n",
        "                torch.save(checkpoint_vit, os.path.join(\"Model_Ckpts\",runs+f\"ckpt_test_less_lr_model_optimizer_scheduler_checkpoint_vit_only.pth\"))\n",
        "                #torch.save(model.state_dict(), os.path.join(\"Model_Ckpts\",runs+f\"ckpt_3_less_lr.pt\"))\n",
        "\n",
        "\n",
        "\n",
        "        print(\"###### Epoch: \", epoch,\"_\",val_acc_mean/15,\" ######\")\n",
        "        #plt.imshow(torch.argmax(output_final, dim = 1)[0].detach().cpu().numpy())\n",
        "\n",
        "    #scheduler.step()\n",
        "\n",
        "\n"
      ],
      "metadata": {
        "id": "OxU5FrvaPd-u"
      }
    },
    {
      "cell_type": "code",
      "execution_count": null,
      "outputs": [],
      "source": [
        "#from transformers import Mask2FormerConfig, AutoImageProcessor, Mask2FormerForUniversalSegmentation\n",
        "\n",
        "os.environ['CUDA_LAUNCH_BLOCKING'] = '1'\n",
        "\n",
        "#configuration = Mask2FormerConfig()\n",
        "# load Mask2Former fine-tuned on COCO panoptic segmentation\n",
        "#processor = AutoImageProcessor.from_pretrained(\"facebook/mask2former-swin-base-coco-panoptic\")\n",
        "#Feature_Extraction_Model = Mask2FormerForUniversalSegmentation(configuration).from_pretrained(\"facebook/mask2former-swin-base-coco-panoptic\").to(device)\n",
        "#Feature_Extraction_Model.eval()\n",
        "\n",
        "BATCH_SIZE = 32\n",
        "DEVICE = device = torch.device('cuda' if torch.cuda.is_available() else 'cpu')\n",
        "\n",
        "train_dataset = ForestDataset(csv_file_to_df=train_df, transform=transform)\n",
        "val_dataset = ForestDataset(csv_file_to_df=val_df, transform=transform)\n",
        "test_dataset = ForestDataset(csv_file_to_df=test_df, transform=transform)\n",
        "trainloader = torch.utils.data.DataLoader(train_dataset, batch_size=BATCH_SIZE,shuffle=True)\n",
        "valloader = torch.utils.data.DataLoader(val_dataset, batch_size=BATCH_SIZE,shuffle=False)\n",
        "testloader = torch.utils.data.DataLoader(test_dataset, batch_size=BATCH_SIZE,shuffle=False)\n",
        "dataloaders = {'train': trainloader, 'val':valloader}\n",
        "\n",
        "\n",
        "\n",
        "optimizer = torch.optim.Adam(model.parameters(), lr=1e-2)#, weight_decay=1e-5)\n",
        "criterion = nn.CrossEntropyLoss()#BCEDiceLoss(eps=1e-7, activation=None)#nn.CrossEntropyLoss()\n",
        "scheduler = torch.optim.lr_scheduler.MultiStepLR(optimizer, milestones=[100,200,300,500], gamma=0.1)\n",
        "\n",
        "\n",
        "\n",
        "\n",
        "number_of_epochs = 10000\n",
        "\n",
        "best_val_loss = float('inf')\n",
        "\n",
        "runs = \"Unet_Version\"\n",
        "\n",
        "#ckpt_path = os.path.join(\"Model_Ckpts\",runs+f\"ckpt_2.pt\")\n",
        "\n",
        "ckpt_for_tr = r\"C:\\Users\\haoti\\PycharmProjects\\EECS_6998_E11\\Model_Ckpts\\Unet_Versionckpt_test_less_lr_model_optimizer_scheduler_checkpoint.pth\" #os.path.join(\"Model_Ckpts\",runs+f\"ckpt_3_less_lr_model_optimizer_scheduler_checkpoint_tr.pth\")\n",
        "\n",
        "checkpoint = torch.load(ckpt_for_tr)\n",
        "\n",
        "model.load_state_dict(checkpoint['model_state_dict'])\n",
        "\n",
        "optimizer.load_state_dict(checkpoint['optimizer_state_dict'])\n",
        "\n",
        "scheduler.load_state_dict(checkpoint['scheduler_state_dict'])\n",
        "\n",
        "#model.eval()\n",
        "\n",
        "#model.load_state_dict(torch.load(ckpt_path))\n",
        "\n",
        "for epoch in range(number_of_epochs):\n",
        "\n",
        "    pbar = tqdm(trainloader)\n",
        "    train_loss = 0\n",
        "    model.train()\n",
        "    for i, (images, labels, seg) in enumerate(pbar):\n",
        "\n",
        "\n",
        "      optimizer.zero_grad()\n",
        "\n",
        "      output_final = model(images)\n",
        "\n",
        "      loss = criterion(seg.type(torch.float32), output_final.type(torch.float32))\n",
        "\n",
        "      tp = f1_loss(seg, output_final) #iou_pytorch(seg, output_final)\n",
        "\n",
        "      iou = iou_pytorch(seg, output_final)\n",
        "\n",
        "      loss = loss+tp\n",
        "\n",
        "      pbar.set_postfix(Train_Loss=loss.item(), Train_F1_Loss = tp.item(), IOU =iou.item())\n",
        "\n",
        "      train_loss += loss\n",
        "\n",
        "      loss.backward()\n",
        "\n",
        "      optimizer.step()\n",
        "      '''\n",
        "      if train_loss < best_val_loss:\n",
        "\n",
        "                best_val_loss = train_loss\n",
        "\n",
        "\n",
        "                checkpoint = {\n",
        "                                'model_state_dict': model.state_dict(),\n",
        "                                'optimizer_state_dict': optimizer.state_dict(),\n",
        "                                'scheduler_state_dict': scheduler.state_dict()\n",
        "                                                                                }\n",
        "\n",
        "\n",
        "                torch.save(checkpoint, os.path.join(\"Model_Ckpts\",runs+f\"ckpt_3_less_lr_model_optimizer_scheduler_checkpoint_tr.pth\"))\n",
        "                #torch.save(model.state_dict(), os.path.join(\"Model_Ckpts\",runs+f\"ckpt_3_less_lr.pt\"))\n",
        "      '''\n",
        "\n",
        "    with torch.no_grad():\n",
        "\n",
        "        pbar = tqdm(trainloader)\n",
        "        val_loss = 0\n",
        "        model.eval()\n",
        "        for i, (images, labels, seg) in enumerate(pbar):\n",
        "\n",
        "            output_final = model(images)\n",
        "\n",
        "            loss = criterion(seg.type(torch.float32), output_final.type(torch.float32))\n",
        "\n",
        "            tp = f1_loss(seg, output_final)#iou_pytorch(seg, output_final)\n",
        "\n",
        "            iou = iou_pytorch(seg, output_final)\n",
        "\n",
        "            loss = loss+tp\n",
        "\n",
        "            pbar.set_postfix(Val_Loss=loss.item(), VAL_F1_Loss = tp.item(), IOU = iou.item())\n",
        "\n",
        "            val_loss += loss\n",
        "\n",
        "            '''\n",
        "            if val_loss < best_val_loss:\n",
        "\n",
        "                best_val_loss = val_loss\n",
        "\n",
        "\n",
        "                checkpoint = {\n",
        "                                'model_state_dict': model.state_dict(),\n",
        "                                'optimizer_state_dict': optimizer.state_dict(),\n",
        "                                'scheduler_state_dict': scheduler.state_dict()\n",
        "                                                                                }\n",
        "\n",
        "\n",
        "                torch.save(checkpoint, os.path.join(\"Model_Ckpts\",runs+f\"ckpt_test_less_lr_model_optimizer_scheduler_checkpoint.pth\"))\n",
        "                #torch.save(model.state_dict(), os.path.join(\"Model_Ckpts\",runs+f\"ckpt_3_less_lr.pt\"))\n",
        "            '''\n",
        "\n",
        "        seg_real = torch.argmax(seg, dim = 1)\n",
        "        outputs_real = torch.argmax(output_final, dim=1)\n",
        "\n",
        "        for i in range(seg_real.shape[0]):\n",
        "            plt.figure(figsize=(12, 4))\n",
        "            plt.subplot(1, 2, 1)\n",
        "            plt.imshow(seg_real[i].detach().cpu().numpy())\n",
        "            plt.subplot(1, 2, 2)\n",
        "            plt.imshow(outputs_real[i].detach().cpu().numpy())\n",
        "\n",
        "        print(\"###### Epoch: \", epoch,\"_\",val_loss,\" ######\")\n",
        "        seg_real = torch.argmax(seg, dim = 1)\n",
        "        outputs_real = torch.argmax(output_final, dim=1)\n",
        "\n",
        "        for i in range(seg_real.shape[0]):\n",
        "            plt.figure(figsize=(12, 4))\n",
        "            plt.subplot(1, 2, 1)\n",
        "            plt.imshow(seg_real[i].detach().cpu().numpy())\n",
        "            plt.subplot(1, 2, 2)\n",
        "            plt.imshow(outputs_real[i].detach().cpu().numpy())\n",
        "\n",
        "    plt.figure()\n",
        "\n",
        "    scheduler.step()\n",
        "\n",
        "\n"
      ],
      "metadata": {
        "id": "4jAd4laMPd-u"
      }
    },
    {
      "cell_type": "code",
      "execution_count": null,
      "outputs": [],
      "source": [
        "seg_real = torch.argmax(seg, dim = 1)\n",
        "outputs_real = torch.argmax(output_final, dim=1)\n",
        "\n",
        "for i in range(seg_real.shape[0]):\n",
        "    plt.figure(figsize=(12, 4))\n",
        "    plt.subplot(1, 2, 1)\n",
        "    plt.imshow(seg_real[i].detach().cpu().numpy())\n",
        "    plt.subplot(1, 2, 2)\n",
        "    plt.imshow(outputs_real[i].detach().cpu().numpy())\n",
        "\n",
        "    plt.figure()"
      ],
      "metadata": {
        "id": "2cAn9PqkPd-v"
      }
    }
  ]
}